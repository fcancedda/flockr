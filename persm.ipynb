{
 "cells": [
  {
   "cell_type": "code",
   "execution_count": 4,
   "outputs": [],
   "source": [
    "# basics\n",
    "import numpy as np\n",
    "import pandas as pd\n",
    "from scipy import ndimage\n",
    "\n",
    "# plotting libraries\n",
    "from mpl_toolkits.mplot3d import Axes3D\n",
    "import matplotlib.pyplot as plt\n",
    "import seaborn as sns\n",
    "from gtda.plotting import plot_heatmap, plot_point_cloud, plot_diagram\n",
    "\n",
    "\n",
    "from pathlib import Path\n",
    "import pickle\n",
    "from typing import List\n",
    "from PIL import Image\n",
    "\n",
    "# sample data\n",
    "from sample_data import *\n",
    "from hepml.core import download_dataset\n",
    "from hepml.core import make_point_clouds, load_shapes\n",
    "\n",
    "\n",
    "# tda magic\n",
    "from gtda.homology import VietorisRipsPersistence, CubicalPersistence\n",
    "from gtda.diagrams import PersistenceEntropy\n",
    "from gtda.pipeline import Pipeline\n",
    "\n",
    "# ml tools\n",
    "from sklearn.ensemble import RandomForestClassifier\n",
    "from sklearn.preprocessing import LabelEncoder\n",
    "\n",
    "\n",
    "# import ipympl\n",
    "\n",
    "point_clouds_basic, labels_basic = make_point_clouds(n_samples_per_shape=10, n_points=20, noise=0.5)\n",
    "point_clouds_basic.shape, labels_basic.shape\n",
    "import open3d as o3d\n",
    "from sample_data import sample_torus\n",
    "\n",
    "\n",
    "torus = [sample_torus(20, 18, 0, 0.0) for _ in range(100)]\n",
    "xs, ys = zip(*torus)\n",
    "xs = np.array(xs)\n",
    "ys = np.array(ys)\n",
    "zs = np.random.normal(0, scale =1,size=100)"
   ],
   "metadata": {
    "collapsed": false,
    "pycharm": {
     "name": "#%%\n"
    }
   }
  },
  {
   "cell_type": "code",
   "execution_count": 8,
   "outputs": [
    {
     "name": "stderr",
     "output_type": "stream",
     "text": [
      "/Users/franciscocancedda/PycharmProjects/flockr/venv2/lib/python3.9/site-packages/seaborn/_decorators.py:36: FutureWarning:\n",
      "\n",
      "Pass the following variables as keyword args: x, y, hue. From version 0.12, the only valid positional argument will be `data`, and passing other arguments without an explicit keyword will result in an error or misinterpretation.\n",
      "\n"
     ]
    },
    {
     "data": {
      "text/plain": "<Figure size 432x288 with 1 Axes>",
      "image/png": "[encoded data removed]"
     },
     "metadata": {},
     "output_type": "display_data"
    },
    {
     "data": {
      "application/vnd.plotly.v1+json": {
       "data": [
        {
         "hoverinfo": "none",
         "line": {
          "color": "black",
          "dash": "dash",
          "width": 1
         },
         "mode": "lines",
         "showlegend": false,
         "x": [
          -0.6721259307861328,
          34.27842247009277
         ],
         "y": [
          -0.6721259307861328,
          34.27842247009277
         ],
         "type": "scatter"
        },
        {
         "hoverinfo": "text",
         "hovertext": [
          "(0.0, 0.2304401397705078)",
          "(0.0, 0.27932479977607727)",
          "(0.0, 0.3317314386367798)",
          "(0.0, 0.3678739368915558)",
          "(0.0, 0.47651588916778564)",
          "(0.0, 0.5697210431098938)",
          "(0.0, 0.5976349115371704)",
          "(0.0, 0.6081699728965759)",
          "(0.0, 0.6094645261764526)",
          "(0.0, 0.6524724960327148)",
          "(0.0, 0.6563278436660767)",
          "(0.0, 0.711224377155304)",
          "(0.0, 0.7317882180213928)",
          "(0.0, 0.7446445226669312)",
          "(0.0, 0.7810510993003845)",
          "(0.0, 0.810823380947113)",
          "(0.0, 0.8512612581253052)",
          "(0.0, 0.8863088488578796)",
          "(0.0, 0.8957887887954712)",
          "(0.0, 0.9083758592605591)",
          "(0.0, 0.9125569462776184)",
          "(0.0, 0.9229708313941956)",
          "(0.0, 0.9887925982475281)",
          "(0.0, 1.005976676940918)",
          "(0.0, 1.0144232511520386)",
          "(0.0, 1.0186704397201538)",
          "(0.0, 1.045430302619934)",
          "(0.0, 1.1002171039581299)",
          "(0.0, 1.1080039739608765)",
          "(0.0, 1.2048263549804688)",
          "(0.0, 1.2050492763519287)",
          "(0.0, 1.2379568815231323)",
          "(0.0, 1.2474721670150757)",
          "(0.0, 1.2582941055297852)",
          "(0.0, 1.2739410400390625)",
          "(0.0, 1.288590669631958)",
          "(0.0, 1.2923496961593628)",
          "(0.0, 1.2998194694519043)",
          "(0.0, 1.3044531345367432)",
          "(0.0, 1.3072088956832886)",
          "(0.0, 1.344923496246338)",
          "(0.0, 1.3508713245391846)",
          "(0.0, 1.370262861251831)",
          "(0.0, 1.4003404378890991)",
          "(0.0, 1.451016902923584)",
          "(0.0, 1.4514180421829224)",
          "(0.0, 1.4571027755737305)",
          "(0.0, 1.4583959579467773)",
          "(0.0, 1.4611233472824097)",
          "(0.0, 1.4955780506134033)",
          "(0.0, 1.553470492362976)",
          "(0.0, 1.5688097476959229)",
          "(0.0, 1.5862863063812256)",
          "(0.0, 1.6400195360183716)",
          "(0.0, 1.6453913450241089)",
          "(0.0, 1.7370078563690186)",
          "(0.0, 1.7383679151535034)",
          "(0.0, 1.7510212659835815)",
          "(0.0, 1.7529296875)",
          "(0.0, 1.788866639137268)",
          "(0.0, 1.792448878288269)",
          "(0.0, 1.8976331949234009)",
          "(0.0, 1.9229282140731812)",
          "(0.0, 1.9297478199005127)",
          "(0.0, 1.9815397262573242)",
          "(0.0, 1.9906100034713745)",
          "(0.0, 2.0101451873779297)",
          "(0.0, 2.0219321250915527)",
          "(0.0, 2.025684356689453)",
          "(0.0, 2.040060520172119)",
          "(0.0, 2.0920209884643555)",
          "(0.0, 2.1117336750030518)",
          "(0.0, 2.1230220794677734)",
          "(0.0, 2.1276369094848633)",
          "(0.0, 2.13828706741333)",
          "(0.0, 2.146172046661377)",
          "(0.0, 2.202687978744507)",
          "(0.0, 2.3346776962280273)",
          "(0.0, 2.3477625846862793)",
          "(0.0, 2.4432125091552734)",
          "(0.0, 2.4759230613708496)",
          "(0.0, 2.476931095123291)",
          "(0.0, 2.484501838684082)",
          "(0.0, 2.737846851348877)",
          "(0.0, 2.762941837310791)",
          "(0.0, 2.8321280479431152)",
          "(0.0, 2.8384623527526855)",
          "(0.0, 2.888502597808838)",
          "(0.0, 3.0100455284118652)",
          "(0.0, 3.302467107772827)",
          "(0.0, 3.335681200027466)",
          "(0.0, 3.611578941345215)",
          "(0.0, 3.6870665550231934)",
          "(0.0, 3.7450411319732666)",
          "(0.0, 3.8023219108581543)",
          "(0.0, 3.8868815898895264)",
          "(0.0, 3.9170303344726562)",
          "(0.0, 4.160015106201172)",
          "(0.0, 4.405882358551025)"
         ],
         "mode": "markers",
         "name": "H0",
         "x": [
          0.0,
          0.0,
          0.0,
          0.0,
          0.0,
          0.0,
          0.0,
          0.0,
          0.0,
          0.0,
          0.0,
          0.0,
          0.0,
          0.0,
          0.0,
          0.0,
          0.0,
          0.0,
          0.0,
          0.0,
          0.0,
          0.0,
          0.0,
          0.0,
          0.0,
          0.0,
          0.0,
          0.0,
          0.0,
          0.0,
          0.0,
          0.0,
          0.0,
          0.0,
          0.0,
          0.0,
          0.0,
          0.0,
          0.0,
          0.0,
          0.0,
          0.0,
          0.0,
          0.0,
          0.0,
          0.0,
          0.0,
          0.0,
          0.0,
          0.0,
          0.0,
          0.0,
          0.0,
          0.0,
          0.0,
          0.0,
          0.0,
          0.0,
          0.0,
          0.0,
          0.0,
          0.0,
          0.0,
          0.0,
          0.0,
          0.0,
          0.0,
          0.0,
          0.0,
          0.0,
          0.0,
          0.0,
          0.0,
          0.0,
          0.0,
          0.0,
          0.0,
          0.0,
          0.0,
          0.0,
          0.0,
          0.0,
          0.0,
          0.0,
          0.0,
          0.0,
          0.0,
          0.0,
          0.0,
          0.0,
          0.0,
          0.0,
          0.0,
          0.0,
          0.0,
          0.0,
          0.0,
          0.0,
          0.0
         ],
         "y": [
          0.2304401397705078,
          0.27932479977607727,
          0.3317314386367798,
          0.3678739368915558,
          0.47651588916778564,
          0.5697210431098938,
          0.5976349115371704,
          0.6081699728965759,
          0.6094645261764526,
          0.6524724960327148,
          0.6563278436660767,
          0.711224377155304,
          0.7317882180213928,
          0.7446445226669312,
          0.7810510993003845,
          0.810823380947113,
          0.8512612581253052,
          0.8863088488578796,
          0.8957887887954712,
          0.9083758592605591,
          0.9125569462776184,
          0.9229708313941956,
          0.9887925982475281,
          1.005976676940918,
          1.0144232511520386,
          1.0186704397201538,
          1.045430302619934,
          1.1002171039581299,
          1.1080039739608765,
          1.2048263549804688,
          1.2050492763519287,
          1.2379568815231323,
          1.2474721670150757,
          1.2582941055297852,
          1.2739410400390625,
          1.288590669631958,
          1.2923496961593628,
          1.2998194694519043,
          1.3044531345367432,
          1.3072088956832886,
          1.344923496246338,
          1.3508713245391846,
          1.370262861251831,
          1.4003404378890991,
          1.451016902923584,
          1.4514180421829224,
          1.4571027755737305,
          1.4583959579467773,
          1.4611233472824097,
          1.4955780506134033,
          1.553470492362976,
          1.5688097476959229,
          1.5862863063812256,
          1.6400195360183716,
          1.6453913450241089,
          1.7370078563690186,
          1.7383679151535034,
          1.7510212659835815,
          1.7529296875,
          1.788866639137268,
          1.792448878288269,
          1.8976331949234009,
          1.9229282140731812,
          1.9297478199005127,
          1.9815397262573242,
          1.9906100034713745,
          2.0101451873779297,
          2.0219321250915527,
          2.025684356689453,
          2.040060520172119,
          2.0920209884643555,
          2.1117336750030518,
          2.1230220794677734,
          2.1276369094848633,
          2.13828706741333,
          2.146172046661377,
          2.202687978744507,
          2.3346776962280273,
          2.3477625846862793,
          2.4432125091552734,
          2.4759230613708496,
          2.476931095123291,
          2.484501838684082,
          2.737846851348877,
          2.762941837310791,
          2.8321280479431152,
          2.8384623527526855,
          2.888502597808838,
          3.0100455284118652,
          3.302467107772827,
          3.335681200027466,
          3.611578941345215,
          3.6870665550231934,
          3.7450411319732666,
          3.8023219108581543,
          3.8868815898895264,
          3.9170303344726562,
          4.160015106201172,
          4.405882358551025
         ],
         "type": "scatter"
        },
        {
         "hoverinfo": "text",
         "hovertext": [
          "(5.60312557220459, 31.86174964904785)",
          "(4.530180931091309, 4.713212013244629)",
          "(2.1659770011901855, 2.338810920715332)",
          "(1.4708365201950073, 1.525131106376648)"
         ],
         "mode": "markers",
         "name": "H1",
         "x": [
          5.60312557220459,
          4.530180931091309,
          2.1659770011901855,
          1.4708365201950073
         ],
         "y": [
          31.86174964904785,
          4.713212013244629,
          2.338810920715332,
          1.525131106376648
         ],
         "type": "scatter"
        },
        {
         "hoverinfo": "text",
         "hovertext": [
          "(33.014034271240234, 33.42439270019531)",
          "(32.9040641784668, 33.187259674072266)",
          "(32.41788101196289, 33.35123062133789)",
          "(32.352664947509766, 33.43601989746094)",
          "(32.25750732421875, 33.60629653930664)"
         ],
         "mode": "markers",
         "name": "H2",
         "x": [
          33.014034271240234,
          32.9040641784668,
          32.41788101196289,
          32.352664947509766,
          32.25750732421875
         ],
         "y": [
          33.42439270019531,
          33.187259674072266,
          33.35123062133789,
          33.43601989746094,
          33.60629653930664
         ],
         "type": "scatter"
        }
       ],
       "layout": {
        "template": {
         "data": {
          "bar": [
           {
            "error_x": {
             "color": "#2a3f5f"
            },
            "error_y": {
             "color": "#2a3f5f"
            },
            "marker": {
             "line": {
              "color": "#E5ECF6",
              "width": 0.5
             },
             "pattern": {
              "fillmode": "overlay",
              "size": 10,
              "solidity": 0.2
             }
            },
            "type": "bar"
           }
          ],
          "barpolar": [
           {
            "marker": {
             "line": {
              "color": "#E5ECF6",
              "width": 0.5
             },
             "pattern": {
              "fillmode": "overlay",
              "size": 10,
              "solidity": 0.2
             }
            },
            "type": "barpolar"
           }
          ],
          "carpet": [
           {
            "aaxis": {
             "endlinecolor": "#2a3f5f",
             "gridcolor": "white",
             "linecolor": "white",
             "minorgridcolor": "white",
             "startlinecolor": "#2a3f5f"
            },
            "baxis": {
             "endlinecolor": "#2a3f5f",
             "gridcolor": "white",
             "linecolor": "white",
             "minorgridcolor": "white",
             "startlinecolor": "#2a3f5f"
            },
            "type": "carpet"
           }
          ],
          "choropleth": [
           {
            "colorbar": {
             "outlinewidth": 0,
             "ticks": ""
            },
            "type": "choropleth"
           }
          ],
          "contour": [
           {
            "colorbar": {
             "outlinewidth": 0,
             "ticks": ""
            },
            "colorscale": [
             [
              0.0,
              "#0d0887"
             ],
             [
              0.1111111111111111,
              "#46039f"
             ],
             [
              0.2222222222222222,
              "#7201a8"
             ],
             [
              0.3333333333333333,
              "#9c179e"
             ],
             [
              0.4444444444444444,
              "#bd3786"
             ],
             [
              0.5555555555555556,
              "#d8576b"
             ],
             [
              0.6666666666666666,
              "#ed7953"
             ],
             [
              0.7777777777777778,
              "#fb9f3a"
             ],
             [
              0.8888888888888888,
              "#fdca26"
             ],
             [
              1.0,
              "#f0f921"
             ]
            ],
            "type": "contour"
           }
          ],
          "contourcarpet": [
           {
            "colorbar": {
             "outlinewidth": 0,
             "ticks": ""
            },
            "type": "contourcarpet"
           }
          ],
          "heatmap": [
           {
            "colorbar": {
             "outlinewidth": 0,
             "ticks": ""
            },
            "colorscale": [
             [
              0.0,
              "#0d0887"
             ],
             [
              0.1111111111111111,
              "#46039f"
             ],
             [
              0.2222222222222222,
              "#7201a8"
             ],
             [
              0.3333333333333333,
              "#9c179e"
             ],
             [
              0.4444444444444444,
              "#bd3786"
             ],
             [
              0.5555555555555556,
              "#d8576b"
             ],
             [
              0.6666666666666666,
              "#ed7953"
             ],
             [
              0.7777777777777778,
              "#fb9f3a"
             ],
             [
              0.8888888888888888,
              "#fdca26"
             ],
             [
              1.0,
              "#f0f921"
             ]
            ],
            "type": "heatmap"
           }
          ],
          "heatmapgl": [
           {
            "colorbar": {
             "outlinewidth": 0,
             "ticks": ""
            },
            "colorscale": [
             [
              0.0,
              "#0d0887"
             ],
             [
              0.1111111111111111,
              "#46039f"
             ],
             [
              0.2222222222222222,
              "#7201a8"
             ],
             [
              0.3333333333333333,
              "#9c179e"
             ],
             [
              0.4444444444444444,
              "#bd3786"
             ],
             [
              0.5555555555555556,
              "#d8576b"
             ],
             [
              0.6666666666666666,
              "#ed7953"
             ],
             [
              0.7777777777777778,
              "#fb9f3a"
             ],
             [
              0.8888888888888888,
              "#fdca26"
             ],
             [
              1.0,
              "#f0f921"
             ]
            ],
            "type": "heatmapgl"
           }
          ],
          "histogram": [
           {
            "marker": {
             "pattern": {
              "fillmode": "overlay",
              "size": 10,
              "solidity": 0.2
             }
            },
            "type": "histogram"
           }
          ],
          "histogram2d": [
           {
            "colorbar": {
             "outlinewidth": 0,
             "ticks": ""
            },
            "colorscale": [
             [
              0.0,
              "#0d0887"
             ],
             [
              0.1111111111111111,
              "#46039f"
             ],
             [
              0.2222222222222222,
              "#7201a8"
             ],
             [
              0.3333333333333333,
              "#9c179e"
             ],
             [
              0.4444444444444444,
              "#bd3786"
             ],
             [
              0.5555555555555556,
              "#d8576b"
             ],
             [
              0.6666666666666666,
              "#ed7953"
             ],
             [
              0.7777777777777778,
              "#fb9f3a"
             ],
             [
              0.8888888888888888,
              "#fdca26"
             ],
             [
              1.0,
              "#f0f921"
             ]
            ],
            "type": "histogram2d"
           }
          ],
          "histogram2dcontour": [
           {
            "colorbar": {
             "outlinewidth": 0,
             "ticks": ""
            },
            "colorscale": [
             [
              0.0,
              "#0d0887"
             ],
             [
              0.1111111111111111,
              "#46039f"
             ],
             [
              0.2222222222222222,
              "#7201a8"
             ],
             [
              0.3333333333333333,
              "#9c179e"
             ],
             [
              0.4444444444444444,
              "#bd3786"
             ],
             [
              0.5555555555555556,
              "#d8576b"
             ],
             [
              0.6666666666666666,
              "#ed7953"
             ],
             [
              0.7777777777777778,
              "#fb9f3a"
             ],
             [
              0.8888888888888888,
              "#fdca26"
             ],
             [
              1.0,
              "#f0f921"
             ]
            ],
            "type": "histogram2dcontour"
           }
          ],
          "mesh3d": [
           {
            "colorbar": {
             "outlinewidth": 0,
             "ticks": ""
            },
            "type": "mesh3d"
           }
          ],
          "parcoords": [
           {
            "line": {
             "colorbar": {
              "outlinewidth": 0,
              "ticks": ""
             }
            },
            "type": "parcoords"
           }
          ],
          "pie": [
           {
            "automargin": true,
            "type": "pie"
           }
          ],
          "scatter": [
           {
            "marker": {
             "colorbar": {
              "outlinewidth": 0,
              "ticks": ""
             }
            },
            "type": "scatter"
           }
          ],
          "scatter3d": [
           {
            "line": {
             "colorbar": {
              "outlinewidth": 0,
              "ticks": ""
             }
            },
            "marker": {
             "colorbar": {
              "outlinewidth": 0,
              "ticks": ""
             }
            },
            "type": "scatter3d"
           }
          ],
          "scattercarpet": [
           {
            "marker": {
             "colorbar": {
              "outlinewidth": 0,
              "ticks": ""
             }
            },
            "type": "scattercarpet"
           }
          ],
          "scattergeo": [
           {
            "marker": {
             "colorbar": {
              "outlinewidth": 0,
              "ticks": ""
             }
            },
            "type": "scattergeo"
           }
          ],
          "scattergl": [
           {
            "marker": {
             "colorbar": {
              "outlinewidth": 0,
              "ticks": ""
             }
            },
            "type": "scattergl"
           }
          ],
          "scattermapbox": [
           {
            "marker": {
             "colorbar": {
              "outlinewidth": 0,
              "ticks": ""
             }
            },
            "type": "scattermapbox"
           }
          ],
          "scatterpolar": [
           {
            "marker": {
             "colorbar": {
              "outlinewidth": 0,
              "ticks": ""
             }
            },
            "type": "scatterpolar"
           }
          ],
          "scatterpolargl": [
           {
            "marker": {
             "colorbar": {
              "outlinewidth": 0,
              "ticks": ""
             }
            },
            "type": "scatterpolargl"
           }
          ],
          "scatterternary": [
           {
            "marker": {
             "colorbar": {
              "outlinewidth": 0,
              "ticks": ""
             }
            },
            "type": "scatterternary"
           }
          ],
          "surface": [
           {
            "colorbar": {
             "outlinewidth": 0,
             "ticks": ""
            },
            "colorscale": [
             [
              0.0,
              "#0d0887"
             ],
             [
              0.1111111111111111,
              "#46039f"
             ],
             [
              0.2222222222222222,
              "#7201a8"
             ],
             [
              0.3333333333333333,
              "#9c179e"
             ],
             [
              0.4444444444444444,
              "#bd3786"
             ],
             [
              0.5555555555555556,
              "#d8576b"
             ],
             [
              0.6666666666666666,
              "#ed7953"
             ],
             [
              0.7777777777777778,
              "#fb9f3a"
             ],
             [
              0.8888888888888888,
              "#fdca26"
             ],
             [
              1.0,
              "#f0f921"
             ]
            ],
            "type": "surface"
           }
          ],
          "table": [
           {
            "cells": {
             "fill": {
              "color": "#EBF0F8"
             },
             "line": {
              "color": "white"
             }
            },
            "header": {
             "fill": {
              "color": "#C8D4E3"
             },
             "line": {
              "color": "white"
             }
            },
            "type": "table"
           }
          ]
         },
         "layout": {
          "annotationdefaults": {
           "arrowcolor": "#2a3f5f",
           "arrowhead": 0,
           "arrowwidth": 1
          },
          "autotypenumbers": "strict",
          "coloraxis": {
           "colorbar": {
            "outlinewidth": 0,
            "ticks": ""
           }
          },
          "colorscale": {
           "diverging": [
            [
             0,
             "#8e0152"
            ],
            [
             0.1,
             "#c51b7d"
            ],
            [
             0.2,
             "#de77ae"
            ],
            [
             0.3,
             "#f1b6da"
            ],
            [
             0.4,
             "#fde0ef"
            ],
            [
             0.5,
             "#f7f7f7"
            ],
            [
             0.6,
             "#e6f5d0"
            ],
            [
             0.7,
             "#b8e186"
            ],
            [
             0.8,
             "#7fbc41"
            ],
            [
             0.9,
             "#4d9221"
            ],
            [
             1,
             "#276419"
            ]
           ],
           "sequential": [
            [
             0.0,
             "#0d0887"
            ],
            [
             0.1111111111111111,
             "#46039f"
            ],
            [
             0.2222222222222222,
             "#7201a8"
            ],
            [
             0.3333333333333333,
             "#9c179e"
            ],
            [
             0.4444444444444444,
             "#bd3786"
            ],
            [
             0.5555555555555556,
             "#d8576b"
            ],
            [
             0.6666666666666666,
             "#ed7953"
            ],
            [
             0.7777777777777778,
             "#fb9f3a"
            ],
            [
             0.8888888888888888,
             "#fdca26"
            ],
            [
             1.0,
             "#f0f921"
            ]
           ],
           "sequentialminus": [
            [
             0.0,
             "#0d0887"
            ],
            [
             0.1111111111111111,
             "#46039f"
            ],
            [
             0.2222222222222222,
             "#7201a8"
            ],
            [
             0.3333333333333333,
             "#9c179e"
            ],
            [
             0.4444444444444444,
             "#bd3786"
            ],
            [
             0.5555555555555556,
             "#d8576b"
            ],
            [
             0.6666666666666666,
             "#ed7953"
            ],
            [
             0.7777777777777778,
             "#fb9f3a"
            ],
            [
             0.8888888888888888,
             "#fdca26"
            ],
            [
             1.0,
             "#f0f921"
            ]
           ]
          },
          "colorway": [
           "#636efa",
           "#EF553B",
           "#00cc96",
           "#ab63fa",
           "#FFA15A",
           "#19d3f3",
           "#FF6692",
           "#B6E880",
           "#FF97FF",
           "#FECB52"
          ],
          "font": {
           "color": "#2a3f5f"
          },
          "geo": {
           "bgcolor": "white",
           "lakecolor": "white",
           "landcolor": "#E5ECF6",
           "showlakes": true,
           "showland": true,
           "subunitcolor": "white"
          },
          "hoverlabel": {
           "align": "left"
          },
          "hovermode": "closest",
          "mapbox": {
           "style": "light"
          },
          "paper_bgcolor": "white",
          "plot_bgcolor": "#E5ECF6",
          "polar": {
           "angularaxis": {
            "gridcolor": "white",
            "linecolor": "white",
            "ticks": ""
           },
           "bgcolor": "#E5ECF6",
           "radialaxis": {
            "gridcolor": "white",
            "linecolor": "white",
            "ticks": ""
           }
          },
          "scene": {
           "xaxis": {
            "backgroundcolor": "#E5ECF6",
            "gridcolor": "white",
            "gridwidth": 2,
            "linecolor": "white",
            "showbackground": true,
            "ticks": "",
            "zerolinecolor": "white"
           },
           "yaxis": {
            "backgroundcolor": "#E5ECF6",
            "gridcolor": "white",
            "gridwidth": 2,
            "linecolor": "white",
            "showbackground": true,
            "ticks": "",
            "zerolinecolor": "white"
           },
           "zaxis": {
            "backgroundcolor": "#E5ECF6",
            "gridcolor": "white",
            "gridwidth": 2,
            "linecolor": "white",
            "showbackground": true,
            "ticks": "",
            "zerolinecolor": "white"
           }
          },
          "shapedefaults": {
           "line": {
            "color": "#2a3f5f"
           }
          },
          "ternary": {
           "aaxis": {
            "gridcolor": "white",
            "linecolor": "white",
            "ticks": ""
           },
           "baxis": {
            "gridcolor": "white",
            "linecolor": "white",
            "ticks": ""
           },
           "bgcolor": "#E5ECF6",
           "caxis": {
            "gridcolor": "white",
            "linecolor": "white",
            "ticks": ""
           }
          },
          "title": {
           "x": 0.05
          },
          "xaxis": {
           "automargin": true,
           "gridcolor": "white",
           "linecolor": "white",
           "ticks": "",
           "title": {
            "standoff": 15
           },
           "zerolinecolor": "white",
           "zerolinewidth": 2
          },
          "yaxis": {
           "automargin": true,
           "gridcolor": "white",
           "linecolor": "white",
           "ticks": "",
           "title": {
            "standoff": 15
           },
           "zerolinecolor": "white",
           "zerolinewidth": 2
          }
         }
        },
        "xaxis": {
         "title": {
          "text": "Birth"
         },
         "side": "bottom",
         "type": "linear",
         "range": [
          -0.6721259307861328,
          34.27842247009277
         ],
         "autorange": false,
         "ticks": "outside",
         "showline": true,
         "zeroline": true,
         "linewidth": 1,
         "linecolor": "black",
         "mirror": false,
         "showexponent": "all",
         "exponentformat": "e"
        },
        "yaxis": {
         "title": {
          "text": "Death"
         },
         "side": "left",
         "type": "linear",
         "range": [
          -0.6721259307861328,
          34.27842247009277
         ],
         "autorange": false,
         "scaleanchor": "x",
         "scaleratio": 1,
         "ticks": "outside",
         "showline": true,
         "zeroline": true,
         "linewidth": 1,
         "linecolor": "black",
         "mirror": false,
         "showexponent": "all",
         "exponentformat": "e"
        },
        "width": 500,
        "height": 500,
        "plot_bgcolor": "white"
       },
       "config": {
        "plotlyServerURL": "https://plot.ly"
       }
      },
      "text/html": "<div>                            <div id=\"6fca44ec-9b73-4be9-98ed-b2735df0f6f5\" class=\"plotly-graph-div\" style=\"height:500px; width:500px;\"></div>            <script type=\"text/javascript\">                require([\"plotly\"], function(Plotly) {                    window.PLOTLYENV=window.PLOTLYENV || {};                                    if (document.getElementById(\"6fca44ec-9b73-4be9-98ed-b2735df0f6f5\")) {                    Plotly.newPlot(                        \"6fca44ec-9b73-4be9-98ed-b2735df0f6f5\",                        [{\"hoverinfo\":\"none\",\"line\":{\"color\":\"black\",\"dash\":\"dash\",\"width\":1},\"mode\":\"lines\",\"showlegend\":false,\"x\":[-0.6721259307861328,34.27842247009277],\"y\":[-0.6721259307861328,34.27842247009277],\"type\":\"scatter\"},{\"hoverinfo\":\"text\",\"hovertext\":[\"(0.0, 0.2304401397705078)\",\"(0.0, 0.27932479977607727)\",\"(0.0, 0.3317314386367798)\",\"(0.0, 0.3678739368915558)\",\"(0.0, 0.47651588916778564)\",\"(0.0, 0.5697210431098938)\",\"(0.0, 0.5976349115371704)\",\"(0.0, 0.6081699728965759)\",\"(0.0, 0.6094645261764526)\",\"(0.0, 0.6524724960327148)\",\"(0.0, 0.6563278436660767)\",\"(0.0, 0.711224377155304)\",\"(0.0, 0.7317882180213928)\",\"(0.0, 0.7446445226669312)\",\"(0.0, 0.7810510993003845)\",\"(0.0, 0.810823380947113)\",\"(0.0, 0.8512612581253052)\",\"(0.0, 0.8863088488578796)\",\"(0.0, 0.8957887887954712)\",\"(0.0, 0.9083758592605591)\",\"(0.0, 0.9125569462776184)\",\"(0.0, 0.9229708313941956)\",\"(0.0, 0.9887925982475281)\",\"(0.0, 1.005976676940918)\",\"(0.0, 1.0144232511520386)\",\"(0.0, 1.0186704397201538)\",\"(0.0, 1.045430302619934)\",\"(0.0, 1.1002171039581299)\",\"(0.0, 1.1080039739608765)\",\"(0.0, 1.2048263549804688)\",\"(0.0, 1.2050492763519287)\",\"(0.0, 1.2379568815231323)\",\"(0.0, 1.2474721670150757)\",\"(0.0, 1.2582941055297852)\",\"(0.0, 1.2739410400390625)\",\"(0.0, 1.288590669631958)\",\"(0.0, 1.2923496961593628)\",\"(0.0, 1.2998194694519043)\",\"(0.0, 1.3044531345367432)\",\"(0.0, 1.3072088956832886)\",\"(0.0, 1.344923496246338)\",\"(0.0, 1.3508713245391846)\",\"(0.0, 1.370262861251831)\",\"(0.0, 1.4003404378890991)\",\"(0.0, 1.451016902923584)\",\"(0.0, 1.4514180421829224)\",\"(0.0, 1.4571027755737305)\",\"(0.0, 1.4583959579467773)\",\"(0.0, 1.4611233472824097)\",\"(0.0, 1.4955780506134033)\",\"(0.0, 1.553470492362976)\",\"(0.0, 1.5688097476959229)\",\"(0.0, 1.5862863063812256)\",\"(0.0, 1.6400195360183716)\",\"(0.0, 1.6453913450241089)\",\"(0.0, 1.7370078563690186)\",\"(0.0, 1.7383679151535034)\",\"(0.0, 1.7510212659835815)\",\"(0.0, 1.7529296875)\",\"(0.0, 1.788866639137268)\",\"(0.0, 1.792448878288269)\",\"(0.0, 1.8976331949234009)\",\"(0.0, 1.9229282140731812)\",\"(0.0, 1.9297478199005127)\",\"(0.0, 1.9815397262573242)\",\"(0.0, 1.9906100034713745)\",\"(0.0, 2.0101451873779297)\",\"(0.0, 2.0219321250915527)\",\"(0.0, 2.025684356689453)\",\"(0.0, 2.040060520172119)\",\"(0.0, 2.0920209884643555)\",\"(0.0, 2.1117336750030518)\",\"(0.0, 2.1230220794677734)\",\"(0.0, 2.1276369094848633)\",\"(0.0, 2.13828706741333)\",\"(0.0, 2.146172046661377)\",\"(0.0, 2.202687978744507)\",\"(0.0, 2.3346776962280273)\",\"(0.0, 2.3477625846862793)\",\"(0.0, 2.4432125091552734)\",\"(0.0, 2.4759230613708496)\",\"(0.0, 2.476931095123291)\",\"(0.0, 2.484501838684082)\",\"(0.0, 2.737846851348877)\",\"(0.0, 2.762941837310791)\",\"(0.0, 2.8321280479431152)\",\"(0.0, 2.8384623527526855)\",\"(0.0, 2.888502597808838)\",\"(0.0, 3.0100455284118652)\",\"(0.0, 3.302467107772827)\",\"(0.0, 3.335681200027466)\",\"(0.0, 3.611578941345215)\",\"(0.0, 3.6870665550231934)\",\"(0.0, 3.7450411319732666)\",\"(0.0, 3.8023219108581543)\",\"(0.0, 3.8868815898895264)\",\"(0.0, 3.9170303344726562)\",\"(0.0, 4.160015106201172)\",\"(0.0, 4.405882358551025)\"],\"mode\":\"markers\",\"name\":\"H0\",\"x\":[0.0,0.0,0.0,0.0,0.0,0.0,0.0,0.0,0.0,0.0,0.0,0.0,0.0,0.0,0.0,0.0,0.0,0.0,0.0,0.0,0.0,0.0,0.0,0.0,0.0,0.0,0.0,0.0,0.0,0.0,0.0,0.0,0.0,0.0,0.0,0.0,0.0,0.0,0.0,0.0,0.0,0.0,0.0,0.0,0.0,0.0,0.0,0.0,0.0,0.0,0.0,0.0,0.0,0.0,0.0,0.0,0.0,0.0,0.0,0.0,0.0,0.0,0.0,0.0,0.0,0.0,0.0,0.0,0.0,0.0,0.0,0.0,0.0,0.0,0.0,0.0,0.0,0.0,0.0,0.0,0.0,0.0,0.0,0.0,0.0,0.0,0.0,0.0,0.0,0.0,0.0,0.0,0.0,0.0,0.0,0.0,0.0,0.0,0.0],\"y\":[0.2304401397705078,0.27932479977607727,0.3317314386367798,0.3678739368915558,0.47651588916778564,0.5697210431098938,0.5976349115371704,0.6081699728965759,0.6094645261764526,0.6524724960327148,0.6563278436660767,0.711224377155304,0.7317882180213928,0.7446445226669312,0.7810510993003845,0.810823380947113,0.8512612581253052,0.8863088488578796,0.8957887887954712,0.9083758592605591,0.9125569462776184,0.9229708313941956,0.9887925982475281,1.005976676940918,1.0144232511520386,1.0186704397201538,1.045430302619934,1.1002171039581299,1.1080039739608765,1.2048263549804688,1.2050492763519287,1.2379568815231323,1.2474721670150757,1.2582941055297852,1.2739410400390625,1.288590669631958,1.2923496961593628,1.2998194694519043,1.3044531345367432,1.3072088956832886,1.344923496246338,1.3508713245391846,1.370262861251831,1.4003404378890991,1.451016902923584,1.4514180421829224,1.4571027755737305,1.4583959579467773,1.4611233472824097,1.4955780506134033,1.553470492362976,1.5688097476959229,1.5862863063812256,1.6400195360183716,1.6453913450241089,1.7370078563690186,1.7383679151535034,1.7510212659835815,1.7529296875,1.788866639137268,1.792448878288269,1.8976331949234009,1.9229282140731812,1.9297478199005127,1.9815397262573242,1.9906100034713745,2.0101451873779297,2.0219321250915527,2.025684356689453,2.040060520172119,2.0920209884643555,2.1117336750030518,2.1230220794677734,2.1276369094848633,2.13828706741333,2.146172046661377,2.202687978744507,2.3346776962280273,2.3477625846862793,2.4432125091552734,2.4759230613708496,2.476931095123291,2.484501838684082,2.737846851348877,2.762941837310791,2.8321280479431152,2.8384623527526855,2.888502597808838,3.0100455284118652,3.302467107772827,3.335681200027466,3.611578941345215,3.6870665550231934,3.7450411319732666,3.8023219108581543,3.8868815898895264,3.9170303344726562,4.160015106201172,4.405882358551025],\"type\":\"scatter\"},{\"hoverinfo\":\"text\",\"hovertext\":[\"(5.60312557220459, 31.86174964904785)\",\"(4.530180931091309, 4.713212013244629)\",\"(2.1659770011901855, 2.338810920715332)\",\"(1.4708365201950073, 1.525131106376648)\"],\"mode\":\"markers\",\"name\":\"H1\",\"x\":[5.60312557220459,4.530180931091309,2.1659770011901855,1.4708365201950073],\"y\":[31.86174964904785,4.713212013244629,2.338810920715332,1.525131106376648],\"type\":\"scatter\"},{\"hoverinfo\":\"text\",\"hovertext\":[\"(33.014034271240234, 33.42439270019531)\",\"(32.9040641784668, 33.187259674072266)\",\"(32.41788101196289, 33.35123062133789)\",\"(32.352664947509766, 33.43601989746094)\",\"(32.25750732421875, 33.60629653930664)\"],\"mode\":\"markers\",\"name\":\"H2\",\"x\":[33.014034271240234,32.9040641784668,32.41788101196289,32.352664947509766,32.25750732421875],\"y\":[33.42439270019531,33.187259674072266,33.35123062133789,33.43601989746094,33.60629653930664],\"type\":\"scatter\"}],                        {\"template\":{\"data\":{\"bar\":[{\"error_x\":{\"color\":\"#2a3f5f\"},\"error_y\":{\"color\":\"#2a3f5f\"},\"marker\":{\"line\":{\"color\":\"#E5ECF6\",\"width\":0.5},\"pattern\":{\"fillmode\":\"overlay\",\"size\":10,\"solidity\":0.2}},\"type\":\"bar\"}],\"barpolar\":[{\"marker\":{\"line\":{\"color\":\"#E5ECF6\",\"width\":0.5},\"pattern\":{\"fillmode\":\"overlay\",\"size\":10,\"solidity\":0.2}},\"type\":\"barpolar\"}],\"carpet\":[{\"aaxis\":{\"endlinecolor\":\"#2a3f5f\",\"gridcolor\":\"white\",\"linecolor\":\"white\",\"minorgridcolor\":\"white\",\"startlinecolor\":\"#2a3f5f\"},\"baxis\":{\"endlinecolor\":\"#2a3f5f\",\"gridcolor\":\"white\",\"linecolor\":\"white\",\"minorgridcolor\":\"white\",\"startlinecolor\":\"#2a3f5f\"},\"type\":\"carpet\"}],\"choropleth\":[{\"colorbar\":{\"outlinewidth\":0,\"ticks\":\"\"},\"type\":\"choropleth\"}],\"contour\":[{\"colorbar\":{\"outlinewidth\":0,\"ticks\":\"\"},\"colorscale\":[[0.0,\"#0d0887\"],[0.1111111111111111,\"#46039f\"],[0.2222222222222222,\"#7201a8\"],[0.3333333333333333,\"#9c179e\"],[0.4444444444444444,\"#bd3786\"],[0.5555555555555556,\"#d8576b\"],[0.6666666666666666,\"#ed7953\"],[0.7777777777777778,\"#fb9f3a\"],[0.8888888888888888,\"#fdca26\"],[1.0,\"#f0f921\"]],\"type\":\"contour\"}],\"contourcarpet\":[{\"colorbar\":{\"outlinewidth\":0,\"ticks\":\"\"},\"type\":\"contourcarpet\"}],\"heatmap\":[{\"colorbar\":{\"outlinewidth\":0,\"ticks\":\"\"},\"colorscale\":[[0.0,\"#0d0887\"],[0.1111111111111111,\"#46039f\"],[0.2222222222222222,\"#7201a8\"],[0.3333333333333333,\"#9c179e\"],[0.4444444444444444,\"#bd3786\"],[0.5555555555555556,\"#d8576b\"],[0.6666666666666666,\"#ed7953\"],[0.7777777777777778,\"#fb9f3a\"],[0.8888888888888888,\"#fdca26\"],[1.0,\"#f0f921\"]],\"type\":\"heatmap\"}],\"heatmapgl\":[{\"colorbar\":{\"outlinewidth\":0,\"ticks\":\"\"},\"colorscale\":[[0.0,\"#0d0887\"],[0.1111111111111111,\"#46039f\"],[0.2222222222222222,\"#7201a8\"],[0.3333333333333333,\"#9c179e\"],[0.4444444444444444,\"#bd3786\"],[0.5555555555555556,\"#d8576b\"],[0.6666666666666666,\"#ed7953\"],[0.7777777777777778,\"#fb9f3a\"],[0.8888888888888888,\"#fdca26\"],[1.0,\"#f0f921\"]],\"type\":\"heatmapgl\"}],\"histogram\":[{\"marker\":{\"pattern\":{\"fillmode\":\"overlay\",\"size\":10,\"solidity\":0.2}},\"type\":\"histogram\"}],\"histogram2d\":[{\"colorbar\":{\"outlinewidth\":0,\"ticks\":\"\"},\"colorscale\":[[0.0,\"#0d0887\"],[0.1111111111111111,\"#46039f\"],[0.2222222222222222,\"#7201a8\"],[0.3333333333333333,\"#9c179e\"],[0.4444444444444444,\"#bd3786\"],[0.5555555555555556,\"#d8576b\"],[0.6666666666666666,\"#ed7953\"],[0.7777777777777778,\"#fb9f3a\"],[0.8888888888888888,\"#fdca26\"],[1.0,\"#f0f921\"]],\"type\":\"histogram2d\"}],\"histogram2dcontour\":[{\"colorbar\":{\"outlinewidth\":0,\"ticks\":\"\"},\"colorscale\":[[0.0,\"#0d0887\"],[0.1111111111111111,\"#46039f\"],[0.2222222222222222,\"#7201a8\"],[0.3333333333333333,\"#9c179e\"],[0.4444444444444444,\"#bd3786\"],[0.5555555555555556,\"#d8576b\"],[0.6666666666666666,\"#ed7953\"],[0.7777777777777778,\"#fb9f3a\"],[0.8888888888888888,\"#fdca26\"],[1.0,\"#f0f921\"]],\"type\":\"histogram2dcontour\"}],\"mesh3d\":[{\"colorbar\":{\"outlinewidth\":0,\"ticks\":\"\"},\"type\":\"mesh3d\"}],\"parcoords\":[{\"line\":{\"colorbar\":{\"outlinewidth\":0,\"ticks\":\"\"}},\"type\":\"parcoords\"}],\"pie\":[{\"automargin\":true,\"type\":\"pie\"}],\"scatter\":[{\"marker\":{\"colorbar\":{\"outlinewidth\":0,\"ticks\":\"\"}},\"type\":\"scatter\"}],\"scatter3d\":[{\"line\":{\"colorbar\":{\"outlinewidth\":0,\"ticks\":\"\"}},\"marker\":{\"colorbar\":{\"outlinewidth\":0,\"ticks\":\"\"}},\"type\":\"scatter3d\"}],\"scattercarpet\":[{\"marker\":{\"colorbar\":{\"outlinewidth\":0,\"ticks\":\"\"}},\"type\":\"scattercarpet\"}],\"scattergeo\":[{\"marker\":{\"colorbar\":{\"outlinewidth\":0,\"ticks\":\"\"}},\"type\":\"scattergeo\"}],\"scattergl\":[{\"marker\":{\"colorbar\":{\"outlinewidth\":0,\"ticks\":\"\"}},\"type\":\"scattergl\"}],\"scattermapbox\":[{\"marker\":{\"colorbar\":{\"outlinewidth\":0,\"ticks\":\"\"}},\"type\":\"scattermapbox\"}],\"scatterpolar\":[{\"marker\":{\"colorbar\":{\"outlinewidth\":0,\"ticks\":\"\"}},\"type\":\"scatterpolar\"}],\"scatterpolargl\":[{\"marker\":{\"colorbar\":{\"outlinewidth\":0,\"ticks\":\"\"}},\"type\":\"scatterpolargl\"}],\"scatterternary\":[{\"marker\":{\"colorbar\":{\"outlinewidth\":0,\"ticks\":\"\"}},\"type\":\"scatterternary\"}],\"surface\":[{\"colorbar\":{\"outlinewidth\":0,\"ticks\":\"\"},\"colorscale\":[[0.0,\"#0d0887\"],[0.1111111111111111,\"#46039f\"],[0.2222222222222222,\"#7201a8\"],[0.3333333333333333,\"#9c179e\"],[0.4444444444444444,\"#bd3786\"],[0.5555555555555556,\"#d8576b\"],[0.6666666666666666,\"#ed7953\"],[0.7777777777777778,\"#fb9f3a\"],[0.8888888888888888,\"#fdca26\"],[1.0,\"#f0f921\"]],\"type\":\"surface\"}],\"table\":[{\"cells\":{\"fill\":{\"color\":\"#EBF0F8\"},\"line\":{\"color\":\"white\"}},\"header\":{\"fill\":{\"color\":\"#C8D4E3\"},\"line\":{\"color\":\"white\"}},\"type\":\"table\"}]},\"layout\":{\"annotationdefaults\":{\"arrowcolor\":\"#2a3f5f\",\"arrowhead\":0,\"arrowwidth\":1},\"autotypenumbers\":\"strict\",\"coloraxis\":{\"colorbar\":{\"outlinewidth\":0,\"ticks\":\"\"}},\"colorscale\":{\"diverging\":[[0,\"#8e0152\"],[0.1,\"#c51b7d\"],[0.2,\"#de77ae\"],[0.3,\"#f1b6da\"],[0.4,\"#fde0ef\"],[0.5,\"#f7f7f7\"],[0.6,\"#e6f5d0\"],[0.7,\"#b8e186\"],[0.8,\"#7fbc41\"],[0.9,\"#4d9221\"],[1,\"#276419\"]],\"sequential\":[[0.0,\"#0d0887\"],[0.1111111111111111,\"#46039f\"],[0.2222222222222222,\"#7201a8\"],[0.3333333333333333,\"#9c179e\"],[0.4444444444444444,\"#bd3786\"],[0.5555555555555556,\"#d8576b\"],[0.6666666666666666,\"#ed7953\"],[0.7777777777777778,\"#fb9f3a\"],[0.8888888888888888,\"#fdca26\"],[1.0,\"#f0f921\"]],\"sequentialminus\":[[0.0,\"#0d0887\"],[0.1111111111111111,\"#46039f\"],[0.2222222222222222,\"#7201a8\"],[0.3333333333333333,\"#9c179e\"],[0.4444444444444444,\"#bd3786\"],[0.5555555555555556,\"#d8576b\"],[0.6666666666666666,\"#ed7953\"],[0.7777777777777778,\"#fb9f3a\"],[0.8888888888888888,\"#fdca26\"],[1.0,\"#f0f921\"]]},\"colorway\":[\"#636efa\",\"#EF553B\",\"#00cc96\",\"#ab63fa\",\"#FFA15A\",\"#19d3f3\",\"#FF6692\",\"#B6E880\",\"#FF97FF\",\"#FECB52\"],\"font\":{\"color\":\"#2a3f5f\"},\"geo\":{\"bgcolor\":\"white\",\"lakecolor\":\"white\",\"landcolor\":\"#E5ECF6\",\"showlakes\":true,\"showland\":true,\"subunitcolor\":\"white\"},\"hoverlabel\":{\"align\":\"left\"},\"hovermode\":\"closest\",\"mapbox\":{\"style\":\"light\"},\"paper_bgcolor\":\"white\",\"plot_bgcolor\":\"#E5ECF6\",\"polar\":{\"angularaxis\":{\"gridcolor\":\"white\",\"linecolor\":\"white\",\"ticks\":\"\"},\"bgcolor\":\"#E5ECF6\",\"radialaxis\":{\"gridcolor\":\"white\",\"linecolor\":\"white\",\"ticks\":\"\"}},\"scene\":{\"xaxis\":{\"backgroundcolor\":\"#E5ECF6\",\"gridcolor\":\"white\",\"gridwidth\":2,\"linecolor\":\"white\",\"showbackground\":true,\"ticks\":\"\",\"zerolinecolor\":\"white\"},\"yaxis\":{\"backgroundcolor\":\"#E5ECF6\",\"gridcolor\":\"white\",\"gridwidth\":2,\"linecolor\":\"white\",\"showbackground\":true,\"ticks\":\"\",\"zerolinecolor\":\"white\"},\"zaxis\":{\"backgroundcolor\":\"#E5ECF6\",\"gridcolor\":\"white\",\"gridwidth\":2,\"linecolor\":\"white\",\"showbackground\":true,\"ticks\":\"\",\"zerolinecolor\":\"white\"}},\"shapedefaults\":{\"line\":{\"color\":\"#2a3f5f\"}},\"ternary\":{\"aaxis\":{\"gridcolor\":\"white\",\"linecolor\":\"white\",\"ticks\":\"\"},\"baxis\":{\"gridcolor\":\"white\",\"linecolor\":\"white\",\"ticks\":\"\"},\"bgcolor\":\"#E5ECF6\",\"caxis\":{\"gridcolor\":\"white\",\"linecolor\":\"white\",\"ticks\":\"\"}},\"title\":{\"x\":0.05},\"xaxis\":{\"automargin\":true,\"gridcolor\":\"white\",\"linecolor\":\"white\",\"ticks\":\"\",\"title\":{\"standoff\":15},\"zerolinecolor\":\"white\",\"zerolinewidth\":2},\"yaxis\":{\"automargin\":true,\"gridcolor\":\"white\",\"linecolor\":\"white\",\"ticks\":\"\",\"title\":{\"standoff\":15},\"zerolinecolor\":\"white\",\"zerolinewidth\":2}}},\"xaxis\":{\"title\":{\"text\":\"Birth\"},\"side\":\"bottom\",\"type\":\"linear\",\"range\":[-0.6721259307861328,34.27842247009277],\"autorange\":false,\"ticks\":\"outside\",\"showline\":true,\"zeroline\":true,\"linewidth\":1,\"linecolor\":\"black\",\"mirror\":false,\"showexponent\":\"all\",\"exponentformat\":\"e\"},\"yaxis\":{\"title\":{\"text\":\"Death\"},\"side\":\"left\",\"type\":\"linear\",\"range\":[-0.6721259307861328,34.27842247009277],\"autorange\":false,\"scaleanchor\":\"x\",\"scaleratio\":1,\"ticks\":\"outside\",\"showline\":true,\"zeroline\":true,\"linewidth\":1,\"linecolor\":\"black\",\"mirror\":false,\"showexponent\":\"all\",\"exponentformat\":\"e\"},\"width\":500,\"height\":500,\"plot_bgcolor\":\"white\"},                        {\"responsive\": true}                    ).then(function(){\n                            \nvar gd = document.getElementById('6fca44ec-9b73-4be9-98ed-b2735df0f6f5');\nvar x = new MutationObserver(function (mutations, observer) {{\n        var display = window.getComputedStyle(gd).display;\n        if (!display || display === 'none') {{\n            console.log([gd, 'removed!']);\n            Plotly.purge(gd);\n            observer.disconnect();\n        }}\n}});\n\n// Listen for the removal of the full notebook cells\nvar notebookContainer = gd.closest('#notebook-container');\nif (notebookContainer) {{\n    x.observe(notebookContainer, {childList: true});\n}}\n\n// Listen for the clearing of the current output cell\nvar outputEl = gd.closest('.output');\nif (outputEl) {{\n    x.observe(outputEl, {childList: true});\n}}\n\n                        })                };                });            </script>        </div>"
     },
     "metadata": {},
     "output_type": "display_data"
    },
    {
     "data": {
      "text/plain": "array([[[ 0.        ,  0.23044014,  0.        ],\n        [ 0.        ,  0.2793248 ,  0.        ],\n        [ 0.        ,  0.33173144,  0.        ],\n        [ 0.        ,  0.36787394,  0.        ],\n        [ 0.        ,  0.47651589,  0.        ],\n        [ 0.        ,  0.56972104,  0.        ],\n        [ 0.        ,  0.59763491,  0.        ],\n        [ 0.        ,  0.60816997,  0.        ],\n        [ 0.        ,  0.60946453,  0.        ],\n        [ 0.        ,  0.6524725 ,  0.        ],\n        [ 0.        ,  0.65632784,  0.        ],\n        [ 0.        ,  0.71122438,  0.        ],\n        [ 0.        ,  0.73178822,  0.        ],\n        [ 0.        ,  0.74464452,  0.        ],\n        [ 0.        ,  0.7810511 ,  0.        ],\n        [ 0.        ,  0.81082338,  0.        ],\n        [ 0.        ,  0.85126126,  0.        ],\n        [ 0.        ,  0.88630885,  0.        ],\n        [ 0.        ,  0.89578879,  0.        ],\n        [ 0.        ,  0.90837586,  0.        ],\n        [ 0.        ,  0.91255695,  0.        ],\n        [ 0.        ,  0.92297083,  0.        ],\n        [ 0.        ,  0.9887926 ,  0.        ],\n        [ 0.        ,  1.00597668,  0.        ],\n        [ 0.        ,  1.01442325,  0.        ],\n        [ 0.        ,  1.01867044,  0.        ],\n        [ 0.        ,  1.0454303 ,  0.        ],\n        [ 0.        ,  1.1002171 ,  0.        ],\n        [ 0.        ,  1.10800397,  0.        ],\n        [ 0.        ,  1.20482635,  0.        ],\n        [ 0.        ,  1.20504928,  0.        ],\n        [ 0.        ,  1.23795688,  0.        ],\n        [ 0.        ,  1.24747217,  0.        ],\n        [ 0.        ,  1.25829411,  0.        ],\n        [ 0.        ,  1.27394104,  0.        ],\n        [ 0.        ,  1.28859067,  0.        ],\n        [ 0.        ,  1.2923497 ,  0.        ],\n        [ 0.        ,  1.29981947,  0.        ],\n        [ 0.        ,  1.30445313,  0.        ],\n        [ 0.        ,  1.3072089 ,  0.        ],\n        [ 0.        ,  1.3449235 ,  0.        ],\n        [ 0.        ,  1.35087132,  0.        ],\n        [ 0.        ,  1.37026286,  0.        ],\n        [ 0.        ,  1.40034044,  0.        ],\n        [ 0.        ,  1.4510169 ,  0.        ],\n        [ 0.        ,  1.45141804,  0.        ],\n        [ 0.        ,  1.45710278,  0.        ],\n        [ 0.        ,  1.45839596,  0.        ],\n        [ 0.        ,  1.46112335,  0.        ],\n        [ 0.        ,  1.49557805,  0.        ],\n        [ 0.        ,  1.55347049,  0.        ],\n        [ 0.        ,  1.56880975,  0.        ],\n        [ 0.        ,  1.58628631,  0.        ],\n        [ 0.        ,  1.64001954,  0.        ],\n        [ 0.        ,  1.64539135,  0.        ],\n        [ 0.        ,  1.73700786,  0.        ],\n        [ 0.        ,  1.73836792,  0.        ],\n        [ 0.        ,  1.75102127,  0.        ],\n        [ 0.        ,  1.75292969,  0.        ],\n        [ 0.        ,  1.78886664,  0.        ],\n        [ 0.        ,  1.79244888,  0.        ],\n        [ 0.        ,  1.89763319,  0.        ],\n        [ 0.        ,  1.92292821,  0.        ],\n        [ 0.        ,  1.92974782,  0.        ],\n        [ 0.        ,  1.98153973,  0.        ],\n        [ 0.        ,  1.99061   ,  0.        ],\n        [ 0.        ,  2.01014519,  0.        ],\n        [ 0.        ,  2.02193213,  0.        ],\n        [ 0.        ,  2.02568436,  0.        ],\n        [ 0.        ,  2.04006052,  0.        ],\n        [ 0.        ,  2.09202099,  0.        ],\n        [ 0.        ,  2.11173368,  0.        ],\n        [ 0.        ,  2.12302208,  0.        ],\n        [ 0.        ,  2.12763691,  0.        ],\n        [ 0.        ,  2.13828707,  0.        ],\n        [ 0.        ,  2.14617205,  0.        ],\n        [ 0.        ,  2.20268798,  0.        ],\n        [ 0.        ,  2.3346777 ,  0.        ],\n        [ 0.        ,  2.34776258,  0.        ],\n        [ 0.        ,  2.44321251,  0.        ],\n        [ 0.        ,  2.47592306,  0.        ],\n        [ 0.        ,  2.4769311 ,  0.        ],\n        [ 0.        ,  2.48450184,  0.        ],\n        [ 0.        ,  2.73784685,  0.        ],\n        [ 0.        ,  2.76294184,  0.        ],\n        [ 0.        ,  2.83212805,  0.        ],\n        [ 0.        ,  2.83846235,  0.        ],\n        [ 0.        ,  2.8885026 ,  0.        ],\n        [ 0.        ,  3.01004553,  0.        ],\n        [ 0.        ,  3.30246711,  0.        ],\n        [ 0.        ,  3.3356812 ,  0.        ],\n        [ 0.        ,  3.61157894,  0.        ],\n        [ 0.        ,  3.68706656,  0.        ],\n        [ 0.        ,  3.74504113,  0.        ],\n        [ 0.        ,  3.80232191,  0.        ],\n        [ 0.        ,  3.88688159,  0.        ],\n        [ 0.        ,  3.91703033,  0.        ],\n        [ 0.        ,  4.16001511,  0.        ],\n        [ 0.        ,  4.40588236,  0.        ],\n        [ 5.60312557, 31.86174965,  1.        ],\n        [ 4.53018093,  4.71321201,  1.        ],\n        [ 2.165977  ,  2.33881092,  1.        ],\n        [ 1.47083652,  1.52513111,  1.        ],\n        [33.01403427, 33.4243927 ,  2.        ],\n        [32.90406418, 33.18725967,  2.        ],\n        [32.41788101, 33.35123062,  2.        ],\n        [32.35266495, 33.4360199 ,  2.        ],\n        [32.25750732, 33.60629654,  2.        ]]])"
     },
     "metadata": {},
     "output_type": "display_data"
    }
   ],
   "source": [
    "X = np.array([xs, ys, zs]).T\n",
    "# X = np.vstack([gp.lat.values, gp.lon.values, gp.t.values])\n",
    "X = np.expand_dims(X, axis=0)\n",
    "homology_dimensions = [0, 1, 2]\n",
    "\n",
    "persistence = VietorisRipsPersistence(\n",
    "    metric=\"euclidean\", homology_dimensions=homology_dimensions, n_jobs=1\n",
    ")\n",
    "\n",
    "sns.scatterplot(xs, ys, zs)\n",
    "plt.show()\n",
    "display(persistence.fit_transform_plot(X))"
   ],
   "metadata": {
    "collapsed": false,
    "pycharm": {
     "name": "#%%\n"
    }
   }
  },
  {
   "cell_type": "code",
   "execution_count": 9,
   "outputs": [
    {
     "data": {
      "application/vnd.plotly.v1+json": {
       "data": [
        {
         "hoverinfo": "none",
         "line": {
          "color": "black",
          "dash": "dash",
          "width": 1
         },
         "mode": "lines",
         "showlegend": false,
         "x": [
          -0.027336051464080812,
          1.3941386246681213
         ],
         "y": [
          -0.027336051464080812,
          1.3941386246681213
         ],
         "type": "scatter"
        },
        {
         "hoverinfo": "text",
         "hovertext": [
          "(0.0, 0.005386150907725096)",
          "(0.0, 0.006926721893250942)",
          "(0.0, 0.007207709364593029)",
          "(0.0, 0.007953125052154064)",
          "(0.0, 0.009068362414836884)",
          "(0.0, 0.009384720586240292)",
          "(0.0, 0.00942483451217413)",
          "(0.0, 0.009467744268476963)",
          "(0.0, 0.009549841284751892)",
          "(0.0, 0.010297182947397232)",
          "(0.0, 0.010599855333566666)",
          "(0.0, 0.01089183147996664)",
          "(0.0, 0.011380234733223915)",
          "(0.0, 0.011585778556764126)",
          "(0.0, 0.012660016305744648)",
          "(0.0, 0.013082933612167835)",
          "(0.0, 0.013739028014242649)",
          "(0.0, 0.014706670306622982)",
          "(0.0, 0.014796581119298935)",
          "(0.0, 0.015145360492169857)",
          "(0.0, 0.015219703316688538)",
          "(0.0, 0.01568310521543026)",
          "(0.0, 0.016163228079676628)",
          "(0.0, 0.016295675188302994)",
          "(0.0, 0.01631748676300049)",
          "(0.0, 0.016742439940571785)",
          "(0.0, 0.017291294410824776)",
          "(0.0, 0.01791822724044323)",
          "(0.0, 0.018281899392604828)",
          "(0.0, 0.01828249916434288)",
          "(0.0, 0.018866848200559616)",
          "(0.0, 0.019110914319753647)",
          "(0.0, 0.01926734298467636)",
          "(0.0, 0.019364185631275177)",
          "(0.0, 0.019534654915332794)",
          "(0.0, 0.019578423351049423)",
          "(0.0, 0.0196390300989151)",
          "(0.0, 0.019660547375679016)",
          "(0.0, 0.020484158769249916)",
          "(0.0, 0.021988514810800552)",
          "(0.0, 0.022123083472251892)",
          "(0.0, 0.02226058393716812)",
          "(0.0, 0.022742336615920067)",
          "(0.0, 0.022753506898880005)",
          "(0.0, 0.022824794054031372)",
          "(0.0, 0.022842450067400932)",
          "(0.0, 0.02367248758673668)",
          "(0.0, 0.024454554542899132)",
          "(0.0, 0.024640440940856934)",
          "(0.0, 0.02466055005788803)",
          "(0.0, 0.025093447417020798)",
          "(0.0, 0.02509717456996441)",
          "(0.0, 0.02573264203965664)",
          "(0.0, 0.02635706216096878)",
          "(0.0, 0.02664339169859886)",
          "(0.0, 0.02674151584506035)",
          "(0.0, 0.026859644800424576)",
          "(0.0, 0.026943469420075417)",
          "(0.0, 0.0273209810256958)",
          "(0.0, 0.027986492961645126)",
          "(0.0, 0.02824622206389904)",
          "(0.0, 0.02879335545003414)",
          "(0.0, 0.029351742938160896)",
          "(0.0, 0.02957065962255001)",
          "(0.0, 0.029837388545274734)",
          "(0.0, 0.03044336475431919)",
          "(0.0, 0.030495112761855125)",
          "(0.0, 0.030627364292740822)",
          "(0.0, 0.03143042325973511)",
          "(0.0, 0.031452666968107224)",
          "(0.0, 0.03162539377808571)",
          "(0.0, 0.03171612322330475)",
          "(0.0, 0.031889643520116806)",
          "(0.0, 0.03217162564396858)",
          "(0.0, 0.032265663146972656)",
          "(0.0, 0.03280014917254448)",
          "(0.0, 0.03285558521747589)",
          "(0.0, 0.03289330005645752)",
          "(0.0, 0.03310908004641533)",
          "(0.0, 0.03410905972123146)",
          "(0.0, 0.03417482599616051)",
          "(0.0, 0.034289535135030746)",
          "(0.0, 0.03430147096514702)",
          "(0.0, 0.034696079790592194)",
          "(0.0, 0.03477273881435394)",
          "(0.0, 0.035020120441913605)",
          "(0.0, 0.0350450836122036)",
          "(0.0, 0.0352107398211956)",
          "(0.0, 0.03546018898487091)",
          "(0.0, 0.03548429161310196)",
          "(0.0, 0.03570312634110451)",
          "(0.0, 0.035752564668655396)",
          "(0.0, 0.03577933460474014)",
          "(0.0, 0.036358192563056946)",
          "(0.0, 0.03637957200407982)",
          "(0.0, 0.03639557585120201)",
          "(0.0, 0.036485858261585236)",
          "(0.0, 0.03665478155016899)",
          "(0.0, 0.03678811341524124)",
          "(0.0, 0.03715091943740845)",
          "(0.0, 0.03777104243636131)",
          "(0.0, 0.03790275752544403)",
          "(0.0, 0.03792230412364006)",
          "(0.0, 0.03801606595516205)",
          "(0.0, 0.038132160902023315)",
          "(0.0, 0.038241609930992126)",
          "(0.0, 0.03833368793129921)",
          "(0.0, 0.03852905333042145)",
          "(0.0, 0.03858199715614319)",
          "(0.0, 0.038766711950302124)",
          "(0.0, 0.039208054542541504)",
          "(0.0, 0.03923022747039795)",
          "(0.0, 0.03956475481390953)",
          "(0.0, 0.039681464433670044)",
          "(0.0, 0.03986034542322159)",
          "(0.0, 0.04021020233631134)",
          "(0.0, 0.04091021418571472)",
          "(0.0, 0.04091229662299156)",
          "(0.0, 0.04092469438910484)",
          "(0.0, 0.04123581945896149)",
          "(0.0, 0.0417308509349823)",
          "(0.0, 0.042059317231178284)",
          "(0.0, 0.04211670905351639)",
          "(0.0, 0.0429755300283432)",
          "(0.0, 0.043360818177461624)",
          "(0.0, 0.043412987142801285)",
          "(0.0, 0.04343928024172783)",
          "(0.0, 0.04364262893795967)",
          "(0.0, 0.043710559606552124)",
          "(0.0, 0.04371174797415733)",
          "(0.0, 0.044969379901885986)",
          "(0.0, 0.04512455686926842)",
          "(0.0, 0.04562092199921608)",
          "(0.0, 0.04623506963253021)",
          "(0.0, 0.04639219492673874)",
          "(0.0, 0.04677160084247589)",
          "(0.0, 0.046787116676568985)",
          "(0.0, 0.04681617394089699)",
          "(0.0, 0.04715581238269806)",
          "(0.0, 0.04720081016421318)",
          "(0.0, 0.04747648537158966)",
          "(0.0, 0.047939639538526535)",
          "(0.0, 0.048182711005210876)",
          "(0.0, 0.0483073927462101)",
          "(0.0, 0.04842144995927811)",
          "(0.0, 0.04844994097948074)",
          "(0.0, 0.04882336035370827)",
          "(0.0, 0.048840541392564774)",
          "(0.0, 0.04915957897901535)",
          "(0.0, 0.04983588680624962)",
          "(0.0, 0.05004390329122543)",
          "(0.0, 0.05082997679710388)",
          "(0.0, 0.05114643648266792)",
          "(0.0, 0.05128760635852814)",
          "(0.0, 0.051379039883613586)",
          "(0.0, 0.05150378495454788)",
          "(0.0, 0.05161438509821892)",
          "(0.0, 0.05167246237397194)",
          "(0.0, 0.05218321457505226)",
          "(0.0, 0.05220215395092964)",
          "(0.0, 0.05265991762280464)",
          "(0.0, 0.05270804837346077)",
          "(0.0, 0.05278218910098076)",
          "(0.0, 0.053052015602588654)",
          "(0.0, 0.05365096777677536)",
          "(0.0, 0.05390210822224617)",
          "(0.0, 0.054610371589660645)",
          "(0.0, 0.054669737815856934)",
          "(0.0, 0.05471605435013771)",
          "(0.0, 0.05489882454276085)",
          "(0.0, 0.05547817423939705)",
          "(0.0, 0.05552337318658829)",
          "(0.0, 0.05572744831442833)",
          "(0.0, 0.05583552271127701)",
          "(0.0, 0.05590302497148514)",
          "(0.0, 0.05599633976817131)",
          "(0.0, 0.05614437535405159)",
          "(0.0, 0.05623554438352585)",
          "(0.0, 0.05633130669593811)",
          "(0.0, 0.0566244013607502)",
          "(0.0, 0.056723251938819885)",
          "(0.0, 0.05679081380367279)",
          "(0.0, 0.05704159662127495)",
          "(0.0, 0.057255491614341736)",
          "(0.0, 0.0577777735888958)",
          "(0.0, 0.05814269930124283)",
          "(0.0, 0.05832299217581749)",
          "(0.0, 0.058327239006757736)",
          "(0.0, 0.05855094641447067)",
          "(0.0, 0.05919957906007767)",
          "(0.0, 0.05972130224108696)",
          "(0.0, 0.059976574033498764)",
          "(0.0, 0.06030780449509621)",
          "(0.0, 0.06039748713374138)",
          "(0.0, 0.060596127063035965)",
          "(0.0, 0.06059923395514488)",
          "(0.0, 0.060644540935754776)",
          "(0.0, 0.06067182123661041)",
          "(0.0, 0.06076405942440033)",
          "(0.0, 0.061223775148391724)",
          "(0.0, 0.06144619733095169)",
          "(0.0, 0.061522819101810455)",
          "(0.0, 0.06153101101517677)",
          "(0.0, 0.06168019399046898)",
          "(0.0, 0.061897169798612595)",
          "(0.0, 0.06202801689505577)",
          "(0.0, 0.06231308728456497)",
          "(0.0, 0.062693752348423)",
          "(0.0, 0.06273598223924637)",
          "(0.0, 0.0630236566066742)",
          "(0.0, 0.06310699135065079)",
          "(0.0, 0.06314510852098465)",
          "(0.0, 0.0634588673710823)",
          "(0.0, 0.0635746493935585)",
          "(0.0, 0.0637684315443039)",
          "(0.0, 0.06397511065006256)",
          "(0.0, 0.06437452137470245)",
          "(0.0, 0.06451782584190369)",
          "(0.0, 0.06475424021482468)",
          "(0.0, 0.06477656960487366)",
          "(0.0, 0.06488670408725739)",
          "(0.0, 0.06490491330623627)",
          "(0.0, 0.06490758061408997)",
          "(0.0, 0.06509652733802795)",
          "(0.0, 0.06510208547115326)",
          "(0.0, 0.06510558724403381)",
          "(0.0, 0.0657542273402214)",
          "(0.0, 0.06586521863937378)",
          "(0.0, 0.06591969728469849)",
          "(0.0, 0.06645910441875458)",
          "(0.0, 0.0673111155629158)",
          "(0.0, 0.06761942058801651)",
          "(0.0, 0.0681677907705307)",
          "(0.0, 0.06844364106655121)",
          "(0.0, 0.06844791769981384)",
          "(0.0, 0.0687391459941864)",
          "(0.0, 0.06895933300256729)",
          "(0.0, 0.06938987970352173)",
          "(0.0, 0.06950646638870239)",
          "(0.0, 0.06970622390508652)",
          "(0.0, 0.06979084759950638)",
          "(0.0, 0.06993673741817474)",
          "(0.0, 0.07027459144592285)",
          "(0.0, 0.07064498215913773)",
          "(0.0, 0.07067718356847763)",
          "(0.0, 0.07069485634565353)",
          "(0.0, 0.07072748243808746)",
          "(0.0, 0.07090991735458374)",
          "(0.0, 0.07115397602319717)",
          "(0.0, 0.07173935323953629)",
          "(0.0, 0.07224512100219727)",
          "(0.0, 0.07287939637899399)",
          "(0.0, 0.07327514886856079)",
          "(0.0, 0.07340825349092484)",
          "(0.0, 0.07344619184732437)",
          "(0.0, 0.07369241863489151)",
          "(0.0, 0.07393550127744675)",
          "(0.0, 0.07404619455337524)",
          "(0.0, 0.0741230845451355)",
          "(0.0, 0.07429695874452591)",
          "(0.0, 0.07438459992408752)",
          "(0.0, 0.07459978014230728)",
          "(0.0, 0.07470942288637161)",
          "(0.0, 0.07496960461139679)",
          "(0.0, 0.07498642802238464)",
          "(0.0, 0.0750805214047432)",
          "(0.0, 0.07529907673597336)",
          "(0.0, 0.07534991949796677)",
          "(0.0, 0.07544837892055511)",
          "(0.0, 0.07546354830265045)",
          "(0.0, 0.07559546083211899)",
          "(0.0, 0.07579341530799866)",
          "(0.0, 0.07598252594470978)",
          "(0.0, 0.0771435871720314)",
          "(0.0, 0.07721897959709167)",
          "(0.0, 0.07732224464416504)",
          "(0.0, 0.07733489573001862)",
          "(0.0, 0.07747922092676163)",
          "(0.0, 0.07773822546005249)",
          "(0.0, 0.07828038930892944)",
          "(0.0, 0.07854443043470383)",
          "(0.0, 0.07854922115802765)",
          "(0.0, 0.07873360067605972)",
          "(0.0, 0.07903076708316803)",
          "(0.0, 0.07903248816728592)",
          "(0.0, 0.07913291454315186)",
          "(0.0, 0.07918507605791092)",
          "(0.0, 0.07919306308031082)",
          "(0.0, 0.07938206195831299)",
          "(0.0, 0.07945774495601654)",
          "(0.0, 0.07947511225938797)",
          "(0.0, 0.07954218238592148)",
          "(0.0, 0.0796305388212204)",
          "(0.0, 0.07969678938388824)",
          "(0.0, 0.07971503585577011)",
          "(0.0, 0.0798860713839531)",
          "(0.0, 0.08002582937479019)",
          "(0.0, 0.08121948689222336)",
          "(0.0, 0.08208219707012177)",
          "(0.0, 0.08238626271486282)",
          "(0.0, 0.08242867887020111)",
          "(0.0, 0.08321448415517807)",
          "(0.0, 0.08374802023172379)",
          "(0.0, 0.0837739035487175)",
          "(0.0, 0.0838504433631897)",
          "(0.0, 0.0847184881567955)",
          "(0.0, 0.08490350842475891)",
          "(0.0, 0.08513346314430237)",
          "(0.0, 0.08523256331682205)",
          "(0.0, 0.0852532908320427)",
          "(0.0, 0.0854729562997818)",
          "(0.0, 0.08568743616342545)",
          "(0.0, 0.08574987947940826)",
          "(0.0, 0.08578335493803024)",
          "(0.0, 0.08581656217575073)",
          "(0.0, 0.08610550314188004)",
          "(0.0, 0.08620976656675339)",
          "(0.0, 0.08623751252889633)",
          "(0.0, 0.08635734021663666)",
          "(0.0, 0.08675901591777802)",
          "(0.0, 0.08701395988464355)",
          "(0.0, 0.08707869797945023)",
          "(0.0, 0.08749057352542877)",
          "(0.0, 0.08762555569410324)",
          "(0.0, 0.08784931898117065)",
          "(0.0, 0.088084876537323)",
          "(0.0, 0.08832312375307083)",
          "(0.0, 0.08870147168636322)",
          "(0.0, 0.08928243070840836)",
          "(0.0, 0.08929736912250519)",
          "(0.0, 0.08965978771448135)",
          "(0.0, 0.09064850956201553)",
          "(0.0, 0.09070388972759247)",
          "(0.0, 0.09145038574934006)",
          "(0.0, 0.09225525707006454)",
          "(0.0, 0.09251225739717484)",
          "(0.0, 0.09263197332620621)",
          "(0.0, 0.09292051941156387)",
          "(0.0, 0.0930839329957962)",
          "(0.0, 0.09336459636688232)",
          "(0.0, 0.09395657479763031)",
          "(0.0, 0.09400410950183868)",
          "(0.0, 0.09533046931028366)",
          "(0.0, 0.09534851461648941)",
          "(0.0, 0.09581943601369858)",
          "(0.0, 0.09589768946170807)",
          "(0.0, 0.09609634429216385)",
          "(0.0, 0.09631326794624329)",
          "(0.0, 0.09652657806873322)",
          "(0.0, 0.09663151204586029)",
          "(0.0, 0.09683339297771454)",
          "(0.0, 0.0970732569694519)",
          "(0.0, 0.09713637828826904)",
          "(0.0, 0.09756063669919968)",
          "(0.0, 0.09817194938659668)",
          "(0.0, 0.09911900013685226)",
          "(0.0, 0.09933014214038849)",
          "(0.0, 0.09937367588281631)",
          "(0.0, 0.10033117979764938)",
          "(0.0, 0.10154718160629272)",
          "(0.0, 0.10172577202320099)",
          "(0.0, 0.10196461528539658)",
          "(0.0, 0.10347218811511993)",
          "(0.0, 0.10349099338054657)",
          "(0.0, 0.10352632403373718)",
          "(0.0, 0.10412297397851944)",
          "(0.0, 0.1042451485991478)",
          "(0.0, 0.10484052449464798)",
          "(0.0, 0.10514984279870987)",
          "(0.0, 0.10522202402353287)",
          "(0.0, 0.10645924508571625)",
          "(0.0, 0.10791429132223129)",
          "(0.0, 0.10840930044651031)",
          "(0.0, 0.10865332931280136)",
          "(0.0, 0.10874810814857483)",
          "(0.0, 0.11014418303966522)",
          "(0.0, 0.11205080896615982)",
          "(0.0, 0.11281108856201172)",
          "(0.0, 0.11317998915910721)",
          "(0.0, 0.11496437340974808)",
          "(0.0, 0.11534029990434647)",
          "(0.0, 0.11621245741844177)",
          "(0.0, 0.11661012470722198)",
          "(0.0, 0.11675617843866348)",
          "(0.0, 0.116977758705616)",
          "(0.0, 0.11709201335906982)",
          "(0.0, 0.11985117942094803)",
          "(0.0, 0.12127812206745148)",
          "(0.0, 0.1216711699962616)",
          "(0.0, 0.12183894962072372)",
          "(0.0, 0.12306464463472366)",
          "(0.0, 0.124650739133358)",
          "(0.0, 0.12490763515233994)",
          "(0.0, 0.13337109982967377)",
          "(0.0, 0.13487160205841064)",
          "(0.0, 0.15816286206245422)",
          "(0.0, 0.16049890220165253)",
          "(0.0, 0.17006781697273254)",
          "(0.0, 0.18311329185962677)"
         ],
         "mode": "markers",
         "name": "H0",
         "x": [
          0.0,
          0.0,
          0.0,
          0.0,
          0.0,
          0.0,
          0.0,
          0.0,
          0.0,
          0.0,
          0.0,
          0.0,
          0.0,
          0.0,
          0.0,
          0.0,
          0.0,
          0.0,
          0.0,
          0.0,
          0.0,
          0.0,
          0.0,
          0.0,
          0.0,
          0.0,
          0.0,
          0.0,
          0.0,
          0.0,
          0.0,
          0.0,
          0.0,
          0.0,
          0.0,
          0.0,
          0.0,
          0.0,
          0.0,
          0.0,
          0.0,
          0.0,
          0.0,
          0.0,
          0.0,
          0.0,
          0.0,
          0.0,
          0.0,
          0.0,
          0.0,
          0.0,
          0.0,
          0.0,
          0.0,
          0.0,
          0.0,
          0.0,
          0.0,
          0.0,
          0.0,
          0.0,
          0.0,
          0.0,
          0.0,
          0.0,
          0.0,
          0.0,
          0.0,
          0.0,
          0.0,
          0.0,
          0.0,
          0.0,
          0.0,
          0.0,
          0.0,
          0.0,
          0.0,
          0.0,
          0.0,
          0.0,
          0.0,
          0.0,
          0.0,
          0.0,
          0.0,
          0.0,
          0.0,
          0.0,
          0.0,
          0.0,
          0.0,
          0.0,
          0.0,
          0.0,
          0.0,
          0.0,
          0.0,
          0.0,
          0.0,
          0.0,
          0.0,
          0.0,
          0.0,
          0.0,
          0.0,
          0.0,
          0.0,
          0.0,
          0.0,
          0.0,
          0.0,
          0.0,
          0.0,
          0.0,
          0.0,
          0.0,
          0.0,
          0.0,
          0.0,
          0.0,
          0.0,
          0.0,
          0.0,
          0.0,
          0.0,
          0.0,
          0.0,
          0.0,
          0.0,
          0.0,
          0.0,
          0.0,
          0.0,
          0.0,
          0.0,
          0.0,
          0.0,
          0.0,
          0.0,
          0.0,
          0.0,
          0.0,
          0.0,
          0.0,
          0.0,
          0.0,
          0.0,
          0.0,
          0.0,
          0.0,
          0.0,
          0.0,
          0.0,
          0.0,
          0.0,
          0.0,
          0.0,
          0.0,
          0.0,
          0.0,
          0.0,
          0.0,
          0.0,
          0.0,
          0.0,
          0.0,
          0.0,
          0.0,
          0.0,
          0.0,
          0.0,
          0.0,
          0.0,
          0.0,
          0.0,
          0.0,
          0.0,
          0.0,
          0.0,
          0.0,
          0.0,
          0.0,
          0.0,
          0.0,
          0.0,
          0.0,
          0.0,
          0.0,
          0.0,
          0.0,
          0.0,
          0.0,
          0.0,
          0.0,
          0.0,
          0.0,
          0.0,
          0.0,
          0.0,
          0.0,
          0.0,
          0.0,
          0.0,
          0.0,
          0.0,
          0.0,
          0.0,
          0.0,
          0.0,
          0.0,
          0.0,
          0.0,
          0.0,
          0.0,
          0.0,
          0.0,
          0.0,
          0.0,
          0.0,
          0.0,
          0.0,
          0.0,
          0.0,
          0.0,
          0.0,
          0.0,
          0.0,
          0.0,
          0.0,
          0.0,
          0.0,
          0.0,
          0.0,
          0.0,
          0.0,
          0.0,
          0.0,
          0.0,
          0.0,
          0.0,
          0.0,
          0.0,
          0.0,
          0.0,
          0.0,
          0.0,
          0.0,
          0.0,
          0.0,
          0.0,
          0.0,
          0.0,
          0.0,
          0.0,
          0.0,
          0.0,
          0.0,
          0.0,
          0.0,
          0.0,
          0.0,
          0.0,
          0.0,
          0.0,
          0.0,
          0.0,
          0.0,
          0.0,
          0.0,
          0.0,
          0.0,
          0.0,
          0.0,
          0.0,
          0.0,
          0.0,
          0.0,
          0.0,
          0.0,
          0.0,
          0.0,
          0.0,
          0.0,
          0.0,
          0.0,
          0.0,
          0.0,
          0.0,
          0.0,
          0.0,
          0.0,
          0.0,
          0.0,
          0.0,
          0.0,
          0.0,
          0.0,
          0.0,
          0.0,
          0.0,
          0.0,
          0.0,
          0.0,
          0.0,
          0.0,
          0.0,
          0.0,
          0.0,
          0.0,
          0.0,
          0.0,
          0.0,
          0.0,
          0.0,
          0.0,
          0.0,
          0.0,
          0.0,
          0.0,
          0.0,
          0.0,
          0.0,
          0.0,
          0.0,
          0.0,
          0.0,
          0.0,
          0.0,
          0.0,
          0.0,
          0.0,
          0.0,
          0.0,
          0.0,
          0.0,
          0.0,
          0.0,
          0.0,
          0.0,
          0.0,
          0.0,
          0.0,
          0.0,
          0.0,
          0.0,
          0.0,
          0.0,
          0.0,
          0.0,
          0.0,
          0.0,
          0.0,
          0.0,
          0.0,
          0.0,
          0.0,
          0.0,
          0.0,
          0.0,
          0.0,
          0.0,
          0.0,
          0.0,
          0.0,
          0.0,
          0.0,
          0.0,
          0.0,
          0.0,
          0.0,
          0.0,
          0.0,
          0.0,
          0.0,
          0.0,
          0.0,
          0.0,
          0.0,
          0.0,
          0.0,
          0.0,
          0.0,
          0.0,
          0.0,
          0.0,
          0.0,
          0.0,
          0.0,
          0.0,
          0.0,
          0.0,
          0.0,
          0.0,
          0.0,
          0.0,
          0.0,
          0.0
         ],
         "y": [
          0.005386150907725096,
          0.006926721893250942,
          0.007207709364593029,
          0.007953125052154064,
          0.009068362414836884,
          0.009384720586240292,
          0.00942483451217413,
          0.009467744268476963,
          0.009549841284751892,
          0.010297182947397232,
          0.010599855333566666,
          0.01089183147996664,
          0.011380234733223915,
          0.011585778556764126,
          0.012660016305744648,
          0.013082933612167835,
          0.013739028014242649,
          0.014706670306622982,
          0.014796581119298935,
          0.015145360492169857,
          0.015219703316688538,
          0.01568310521543026,
          0.016163228079676628,
          0.016295675188302994,
          0.01631748676300049,
          0.016742439940571785,
          0.017291294410824776,
          0.01791822724044323,
          0.018281899392604828,
          0.01828249916434288,
          0.018866848200559616,
          0.019110914319753647,
          0.01926734298467636,
          0.019364185631275177,
          0.019534654915332794,
          0.019578423351049423,
          0.0196390300989151,
          0.019660547375679016,
          0.020484158769249916,
          0.021988514810800552,
          0.022123083472251892,
          0.02226058393716812,
          0.022742336615920067,
          0.022753506898880005,
          0.022824794054031372,
          0.022842450067400932,
          0.02367248758673668,
          0.024454554542899132,
          0.024640440940856934,
          0.02466055005788803,
          0.025093447417020798,
          0.02509717456996441,
          0.02573264203965664,
          0.02635706216096878,
          0.02664339169859886,
          0.02674151584506035,
          0.026859644800424576,
          0.026943469420075417,
          0.0273209810256958,
          0.027986492961645126,
          0.02824622206389904,
          0.02879335545003414,
          0.029351742938160896,
          0.02957065962255001,
          0.029837388545274734,
          0.03044336475431919,
          0.030495112761855125,
          0.030627364292740822,
          0.03143042325973511,
          0.031452666968107224,
          0.03162539377808571,
          0.03171612322330475,
          0.031889643520116806,
          0.03217162564396858,
          0.032265663146972656,
          0.03280014917254448,
          0.03285558521747589,
          0.03289330005645752,
          0.03310908004641533,
          0.03410905972123146,
          0.03417482599616051,
          0.034289535135030746,
          0.03430147096514702,
          0.034696079790592194,
          0.03477273881435394,
          0.035020120441913605,
          0.0350450836122036,
          0.0352107398211956,
          0.03546018898487091,
          0.03548429161310196,
          0.03570312634110451,
          0.035752564668655396,
          0.03577933460474014,
          0.036358192563056946,
          0.03637957200407982,
          0.03639557585120201,
          0.036485858261585236,
          0.03665478155016899,
          0.03678811341524124,
          0.03715091943740845,
          0.03777104243636131,
          0.03790275752544403,
          0.03792230412364006,
          0.03801606595516205,
          0.038132160902023315,
          0.038241609930992126,
          0.03833368793129921,
          0.03852905333042145,
          0.03858199715614319,
          0.038766711950302124,
          0.039208054542541504,
          0.03923022747039795,
          0.03956475481390953,
          0.039681464433670044,
          0.03986034542322159,
          0.04021020233631134,
          0.04091021418571472,
          0.04091229662299156,
          0.04092469438910484,
          0.04123581945896149,
          0.0417308509349823,
          0.042059317231178284,
          0.04211670905351639,
          0.0429755300283432,
          0.043360818177461624,
          0.043412987142801285,
          0.04343928024172783,
          0.04364262893795967,
          0.043710559606552124,
          0.04371174797415733,
          0.044969379901885986,
          0.04512455686926842,
          0.04562092199921608,
          0.04623506963253021,
          0.04639219492673874,
          0.04677160084247589,
          0.046787116676568985,
          0.04681617394089699,
          0.04715581238269806,
          0.04720081016421318,
          0.04747648537158966,
          0.047939639538526535,
          0.048182711005210876,
          0.0483073927462101,
          0.04842144995927811,
          0.04844994097948074,
          0.04882336035370827,
          0.048840541392564774,
          0.04915957897901535,
          0.04983588680624962,
          0.05004390329122543,
          0.05082997679710388,
          0.05114643648266792,
          0.05128760635852814,
          0.051379039883613586,
          0.05150378495454788,
          0.05161438509821892,
          0.05167246237397194,
          0.05218321457505226,
          0.05220215395092964,
          0.05265991762280464,
          0.05270804837346077,
          0.05278218910098076,
          0.053052015602588654,
          0.05365096777677536,
          0.05390210822224617,
          0.054610371589660645,
          0.054669737815856934,
          0.05471605435013771,
          0.05489882454276085,
          0.05547817423939705,
          0.05552337318658829,
          0.05572744831442833,
          0.05583552271127701,
          0.05590302497148514,
          0.05599633976817131,
          0.05614437535405159,
          0.05623554438352585,
          0.05633130669593811,
          0.0566244013607502,
          0.056723251938819885,
          0.05679081380367279,
          0.05704159662127495,
          0.057255491614341736,
          0.0577777735888958,
          0.05814269930124283,
          0.05832299217581749,
          0.058327239006757736,
          0.05855094641447067,
          0.05919957906007767,
          0.05972130224108696,
          0.059976574033498764,
          0.06030780449509621,
          0.06039748713374138,
          0.060596127063035965,
          0.06059923395514488,
          0.060644540935754776,
          0.06067182123661041,
          0.06076405942440033,
          0.061223775148391724,
          0.06144619733095169,
          0.061522819101810455,
          0.06153101101517677,
          0.06168019399046898,
          0.061897169798612595,
          0.06202801689505577,
          0.06231308728456497,
          0.062693752348423,
          0.06273598223924637,
          0.0630236566066742,
          0.06310699135065079,
          0.06314510852098465,
          0.0634588673710823,
          0.0635746493935585,
          0.0637684315443039,
          0.06397511065006256,
          0.06437452137470245,
          0.06451782584190369,
          0.06475424021482468,
          0.06477656960487366,
          0.06488670408725739,
          0.06490491330623627,
          0.06490758061408997,
          0.06509652733802795,
          0.06510208547115326,
          0.06510558724403381,
          0.0657542273402214,
          0.06586521863937378,
          0.06591969728469849,
          0.06645910441875458,
          0.0673111155629158,
          0.06761942058801651,
          0.0681677907705307,
          0.06844364106655121,
          0.06844791769981384,
          0.0687391459941864,
          0.06895933300256729,
          0.06938987970352173,
          0.06950646638870239,
          0.06970622390508652,
          0.06979084759950638,
          0.06993673741817474,
          0.07027459144592285,
          0.07064498215913773,
          0.07067718356847763,
          0.07069485634565353,
          0.07072748243808746,
          0.07090991735458374,
          0.07115397602319717,
          0.07173935323953629,
          0.07224512100219727,
          0.07287939637899399,
          0.07327514886856079,
          0.07340825349092484,
          0.07344619184732437,
          0.07369241863489151,
          0.07393550127744675,
          0.07404619455337524,
          0.0741230845451355,
          0.07429695874452591,
          0.07438459992408752,
          0.07459978014230728,
          0.07470942288637161,
          0.07496960461139679,
          0.07498642802238464,
          0.0750805214047432,
          0.07529907673597336,
          0.07534991949796677,
          0.07544837892055511,
          0.07546354830265045,
          0.07559546083211899,
          0.07579341530799866,
          0.07598252594470978,
          0.0771435871720314,
          0.07721897959709167,
          0.07732224464416504,
          0.07733489573001862,
          0.07747922092676163,
          0.07773822546005249,
          0.07828038930892944,
          0.07854443043470383,
          0.07854922115802765,
          0.07873360067605972,
          0.07903076708316803,
          0.07903248816728592,
          0.07913291454315186,
          0.07918507605791092,
          0.07919306308031082,
          0.07938206195831299,
          0.07945774495601654,
          0.07947511225938797,
          0.07954218238592148,
          0.0796305388212204,
          0.07969678938388824,
          0.07971503585577011,
          0.0798860713839531,
          0.08002582937479019,
          0.08121948689222336,
          0.08208219707012177,
          0.08238626271486282,
          0.08242867887020111,
          0.08321448415517807,
          0.08374802023172379,
          0.0837739035487175,
          0.0838504433631897,
          0.0847184881567955,
          0.08490350842475891,
          0.08513346314430237,
          0.08523256331682205,
          0.0852532908320427,
          0.0854729562997818,
          0.08568743616342545,
          0.08574987947940826,
          0.08578335493803024,
          0.08581656217575073,
          0.08610550314188004,
          0.08620976656675339,
          0.08623751252889633,
          0.08635734021663666,
          0.08675901591777802,
          0.08701395988464355,
          0.08707869797945023,
          0.08749057352542877,
          0.08762555569410324,
          0.08784931898117065,
          0.088084876537323,
          0.08832312375307083,
          0.08870147168636322,
          0.08928243070840836,
          0.08929736912250519,
          0.08965978771448135,
          0.09064850956201553,
          0.09070388972759247,
          0.09145038574934006,
          0.09225525707006454,
          0.09251225739717484,
          0.09263197332620621,
          0.09292051941156387,
          0.0930839329957962,
          0.09336459636688232,
          0.09395657479763031,
          0.09400410950183868,
          0.09533046931028366,
          0.09534851461648941,
          0.09581943601369858,
          0.09589768946170807,
          0.09609634429216385,
          0.09631326794624329,
          0.09652657806873322,
          0.09663151204586029,
          0.09683339297771454,
          0.0970732569694519,
          0.09713637828826904,
          0.09756063669919968,
          0.09817194938659668,
          0.09911900013685226,
          0.09933014214038849,
          0.09937367588281631,
          0.10033117979764938,
          0.10154718160629272,
          0.10172577202320099,
          0.10196461528539658,
          0.10347218811511993,
          0.10349099338054657,
          0.10352632403373718,
          0.10412297397851944,
          0.1042451485991478,
          0.10484052449464798,
          0.10514984279870987,
          0.10522202402353287,
          0.10645924508571625,
          0.10791429132223129,
          0.10840930044651031,
          0.10865332931280136,
          0.10874810814857483,
          0.11014418303966522,
          0.11205080896615982,
          0.11281108856201172,
          0.11317998915910721,
          0.11496437340974808,
          0.11534029990434647,
          0.11621245741844177,
          0.11661012470722198,
          0.11675617843866348,
          0.116977758705616,
          0.11709201335906982,
          0.11985117942094803,
          0.12127812206745148,
          0.1216711699962616,
          0.12183894962072372,
          0.12306464463472366,
          0.124650739133358,
          0.12490763515233994,
          0.13337109982967377,
          0.13487160205841064,
          0.15816286206245422,
          0.16049890220165253,
          0.17006781697273254,
          0.18311329185962677
         ],
         "type": "scatter"
        },
        {
         "hoverinfo": "text",
         "hovertext": [
          "(0.23373812437057495, 0.2345217615365982)",
          "(0.22608385980129242, 0.22930774092674255)",
          "(0.2168891429901123, 0.22111713886260986)",
          "(0.2033613920211792, 0.20523788034915924)",
          "(0.19087354838848114, 0.27802667021751404)",
          "(0.18718314170837402, 0.1987198442220688)",
          "(0.18242096900939941, 0.19831673800945282)",
          "(0.17714481055736542, 0.1931389421224594)",
          "(0.17709162831306458, 0.19117237627506256)",
          "(0.17353133857250214, 1.311996340751648)",
          "(0.16299749910831451, 0.16747109591960907)",
          "(0.1592300683259964, 0.1726682037115097)",
          "(0.15461048483848572, 0.16637666523456573)",
          "(0.15378054976463318, 0.17868460714817047)",
          "(0.148206889629364, 0.1896248608827591)",
          "(0.14778223633766174, 0.15991126000881195)",
          "(0.14694567024707794, 0.203148752450943)",
          "(0.1451074630022049, 0.14527171850204468)",
          "(0.14474739134311676, 0.14651620388031006)",
          "(0.1426236480474472, 0.15315654873847961)",
          "(0.14145110547542572, 0.16264617443084717)",
          "(0.13846616446971893, 0.15754525363445282)",
          "(0.13813187181949615, 0.16550664603710175)",
          "(0.13784892857074738, 0.14664801955223083)",
          "(0.1375201791524887, 0.1545998752117157)",
          "(0.13695350289344788, 0.1650981605052948)",
          "(0.1350185126066208, 0.18332046270370483)",
          "(0.1345585584640503, 0.13651235401630402)",
          "(0.13276037573814392, 0.15002155303955078)",
          "(0.13140235841274261, 0.13797694444656372)",
          "(0.13131622970104218, 0.17019370198249817)",
          "(0.1312500238418579, 0.1751815378665924)",
          "(0.1274024397134781, 0.2358054667711258)",
          "(0.12614838778972626, 0.17793384194374084)",
          "(0.12587693333625793, 0.13237397372722626)",
          "(0.1254875808954239, 0.13057184219360352)",
          "(0.1241215169429779, 0.1250872164964676)",
          "(0.12272078543901443, 0.13095547258853912)",
          "(0.12270074337720871, 0.12806327641010284)",
          "(0.12196201831102371, 0.16684645414352417)",
          "(0.12029988318681717, 0.12416202574968338)",
          "(0.1198936253786087, 0.17500971257686615)",
          "(0.11950033903121948, 0.1217331737279892)",
          "(0.1183822751045227, 0.1358286738395691)",
          "(0.11808917671442032, 0.158115953207016)",
          "(0.1167275682091713, 0.1237705647945404)",
          "(0.11598210036754608, 0.11741790920495987)",
          "(0.11502821743488312, 0.14922092854976654)",
          "(0.11448060721158981, 0.11848853528499603)",
          "(0.1121746376156807, 0.12086387723684311)",
          "(0.11074694246053696, 0.1509871929883957)",
          "(0.11051121354103088, 0.1171426773071289)",
          "(0.11033665388822556, 0.13006868958473206)",
          "(0.11002673953771591, 0.16585440933704376)",
          "(0.1092202365398407, 0.11844944953918457)",
          "(0.10903410613536835, 0.1331450641155243)",
          "(0.10834499448537827, 0.1421610713005066)",
          "(0.10792743414640427, 0.11032002419233322)",
          "(0.10761483758687973, 0.11939168721437454)",
          "(0.1066703051328659, 0.16063179075717926)",
          "(0.10638261586427689, 0.1327122002840042)",
          "(0.10601449012756348, 0.10687599331140518)",
          "(0.10438014566898346, 0.18246015906333923)",
          "(0.10277113318443298, 0.10585112124681473)",
          "(0.0983261838555336, 0.10332788527011871)",
          "(0.09723420441150665, 0.13405457139015198)",
          "(0.09687253832817078, 0.11279565840959549)",
          "(0.09665590524673462, 0.10597483813762665)",
          "(0.09507928788661957, 0.09942024946212769)",
          "(0.09459047019481659, 0.1312728077173233)",
          "(0.09414195269346237, 0.09422578662633896)",
          "(0.09373855590820312, 0.11106197535991669)",
          "(0.09367530047893524, 0.12542739510536194)",
          "(0.08181708306074142, 0.0850052461028099)",
          "(0.07772661000490189, 0.0818420797586441)",
          "(0.07747744023799896, 0.08335861563682556)",
          "(0.07349346578121185, 0.07620333135128021)",
          "(0.07211560010910034, 0.07774080336093903)",
          "(0.06359256058931351, 0.07117391377687454)",
          "(0.059332143515348434, 0.06662025302648544)",
          "(0.03550749644637108, 0.04191514104604721)"
         ],
         "mode": "markers",
         "name": "H1",
         "x": [
          0.23373812437057495,
          0.22608385980129242,
          0.2168891429901123,
          0.2033613920211792,
          0.19087354838848114,
          0.18718314170837402,
          0.18242096900939941,
          0.17714481055736542,
          0.17709162831306458,
          0.17353133857250214,
          0.16299749910831451,
          0.1592300683259964,
          0.15461048483848572,
          0.15378054976463318,
          0.148206889629364,
          0.14778223633766174,
          0.14694567024707794,
          0.1451074630022049,
          0.14474739134311676,
          0.1426236480474472,
          0.14145110547542572,
          0.13846616446971893,
          0.13813187181949615,
          0.13784892857074738,
          0.1375201791524887,
          0.13695350289344788,
          0.1350185126066208,
          0.1345585584640503,
          0.13276037573814392,
          0.13140235841274261,
          0.13131622970104218,
          0.1312500238418579,
          0.1274024397134781,
          0.12614838778972626,
          0.12587693333625793,
          0.1254875808954239,
          0.1241215169429779,
          0.12272078543901443,
          0.12270074337720871,
          0.12196201831102371,
          0.12029988318681717,
          0.1198936253786087,
          0.11950033903121948,
          0.1183822751045227,
          0.11808917671442032,
          0.1167275682091713,
          0.11598210036754608,
          0.11502821743488312,
          0.11448060721158981,
          0.1121746376156807,
          0.11074694246053696,
          0.11051121354103088,
          0.11033665388822556,
          0.11002673953771591,
          0.1092202365398407,
          0.10903410613536835,
          0.10834499448537827,
          0.10792743414640427,
          0.10761483758687973,
          0.1066703051328659,
          0.10638261586427689,
          0.10601449012756348,
          0.10438014566898346,
          0.10277113318443298,
          0.0983261838555336,
          0.09723420441150665,
          0.09687253832817078,
          0.09665590524673462,
          0.09507928788661957,
          0.09459047019481659,
          0.09414195269346237,
          0.09373855590820312,
          0.09367530047893524,
          0.08181708306074142,
          0.07772661000490189,
          0.07747744023799896,
          0.07349346578121185,
          0.07211560010910034,
          0.06359256058931351,
          0.059332143515348434,
          0.03550749644637108
         ],
         "y": [
          0.2345217615365982,
          0.22930774092674255,
          0.22111713886260986,
          0.20523788034915924,
          0.27802667021751404,
          0.1987198442220688,
          0.19831673800945282,
          0.1931389421224594,
          0.19117237627506256,
          1.311996340751648,
          0.16747109591960907,
          0.1726682037115097,
          0.16637666523456573,
          0.17868460714817047,
          0.1896248608827591,
          0.15991126000881195,
          0.203148752450943,
          0.14527171850204468,
          0.14651620388031006,
          0.15315654873847961,
          0.16264617443084717,
          0.15754525363445282,
          0.16550664603710175,
          0.14664801955223083,
          0.1545998752117157,
          0.1650981605052948,
          0.18332046270370483,
          0.13651235401630402,
          0.15002155303955078,
          0.13797694444656372,
          0.17019370198249817,
          0.1751815378665924,
          0.2358054667711258,
          0.17793384194374084,
          0.13237397372722626,
          0.13057184219360352,
          0.1250872164964676,
          0.13095547258853912,
          0.12806327641010284,
          0.16684645414352417,
          0.12416202574968338,
          0.17500971257686615,
          0.1217331737279892,
          0.1358286738395691,
          0.158115953207016,
          0.1237705647945404,
          0.11741790920495987,
          0.14922092854976654,
          0.11848853528499603,
          0.12086387723684311,
          0.1509871929883957,
          0.1171426773071289,
          0.13006868958473206,
          0.16585440933704376,
          0.11844944953918457,
          0.1331450641155243,
          0.1421610713005066,
          0.11032002419233322,
          0.11939168721437454,
          0.16063179075717926,
          0.1327122002840042,
          0.10687599331140518,
          0.18246015906333923,
          0.10585112124681473,
          0.10332788527011871,
          0.13405457139015198,
          0.11279565840959549,
          0.10597483813762665,
          0.09942024946212769,
          0.1312728077173233,
          0.09422578662633896,
          0.11106197535991669,
          0.12542739510536194,
          0.0850052461028099,
          0.0818420797586441,
          0.08335861563682556,
          0.07620333135128021,
          0.07774080336093903,
          0.07117391377687454,
          0.06662025302648544,
          0.04191514104604721
         ],
         "type": "scatter"
        },
        {
         "hoverinfo": "text",
         "hovertext": [
          "(1.3369684219360352, 1.3437013626098633)",
          "(1.3190547227859497, 1.3668025732040405)",
          "(0.1452074944972992, 0.14706535637378693)"
         ],
         "mode": "markers",
         "name": "H2",
         "x": [
          1.3369684219360352,
          1.3190547227859497,
          0.1452074944972992
         ],
         "y": [
          1.3437013626098633,
          1.3668025732040405,
          0.14706535637378693
         ],
         "type": "scatter"
        }
       ],
       "layout": {
        "template": {
         "data": {
          "bar": [
           {
            "error_x": {
             "color": "#2a3f5f"
            },
            "error_y": {
             "color": "#2a3f5f"
            },
            "marker": {
             "line": {
              "color": "#E5ECF6",
              "width": 0.5
             },
             "pattern": {
              "fillmode": "overlay",
              "size": 10,
              "solidity": 0.2
             }
            },
            "type": "bar"
           }
          ],
          "barpolar": [
           {
            "marker": {
             "line": {
              "color": "#E5ECF6",
              "width": 0.5
             },
             "pattern": {
              "fillmode": "overlay",
              "size": 10,
              "solidity": 0.2
             }
            },
            "type": "barpolar"
           }
          ],
          "carpet": [
           {
            "aaxis": {
             "endlinecolor": "#2a3f5f",
             "gridcolor": "white",
             "linecolor": "white",
             "minorgridcolor": "white",
             "startlinecolor": "#2a3f5f"
            },
            "baxis": {
             "endlinecolor": "#2a3f5f",
             "gridcolor": "white",
             "linecolor": "white",
             "minorgridcolor": "white",
             "startlinecolor": "#2a3f5f"
            },
            "type": "carpet"
           }
          ],
          "choropleth": [
           {
            "colorbar": {
             "outlinewidth": 0,
             "ticks": ""
            },
            "type": "choropleth"
           }
          ],
          "contour": [
           {
            "colorbar": {
             "outlinewidth": 0,
             "ticks": ""
            },
            "colorscale": [
             [
              0.0,
              "#0d0887"
             ],
             [
              0.1111111111111111,
              "#46039f"
             ],
             [
              0.2222222222222222,
              "#7201a8"
             ],
             [
              0.3333333333333333,
              "#9c179e"
             ],
             [
              0.4444444444444444,
              "#bd3786"
             ],
             [
              0.5555555555555556,
              "#d8576b"
             ],
             [
              0.6666666666666666,
              "#ed7953"
             ],
             [
              0.7777777777777778,
              "#fb9f3a"
             ],
             [
              0.8888888888888888,
              "#fdca26"
             ],
             [
              1.0,
              "#f0f921"
             ]
            ],
            "type": "contour"
           }
          ],
          "contourcarpet": [
           {
            "colorbar": {
             "outlinewidth": 0,
             "ticks": ""
            },
            "type": "contourcarpet"
           }
          ],
          "heatmap": [
           {
            "colorbar": {
             "outlinewidth": 0,
             "ticks": ""
            },
            "colorscale": [
             [
              0.0,
              "#0d0887"
             ],
             [
              0.1111111111111111,
              "#46039f"
             ],
             [
              0.2222222222222222,
              "#7201a8"
             ],
             [
              0.3333333333333333,
              "#9c179e"
             ],
             [
              0.4444444444444444,
              "#bd3786"
             ],
             [
              0.5555555555555556,
              "#d8576b"
             ],
             [
              0.6666666666666666,
              "#ed7953"
             ],
             [
              0.7777777777777778,
              "#fb9f3a"
             ],
             [
              0.8888888888888888,
              "#fdca26"
             ],
             [
              1.0,
              "#f0f921"
             ]
            ],
            "type": "heatmap"
           }
          ],
          "heatmapgl": [
           {
            "colorbar": {
             "outlinewidth": 0,
             "ticks": ""
            },
            "colorscale": [
             [
              0.0,
              "#0d0887"
             ],
             [
              0.1111111111111111,
              "#46039f"
             ],
             [
              0.2222222222222222,
              "#7201a8"
             ],
             [
              0.3333333333333333,
              "#9c179e"
             ],
             [
              0.4444444444444444,
              "#bd3786"
             ],
             [
              0.5555555555555556,
              "#d8576b"
             ],
             [
              0.6666666666666666,
              "#ed7953"
             ],
             [
              0.7777777777777778,
              "#fb9f3a"
             ],
             [
              0.8888888888888888,
              "#fdca26"
             ],
             [
              1.0,
              "#f0f921"
             ]
            ],
            "type": "heatmapgl"
           }
          ],
          "histogram": [
           {
            "marker": {
             "pattern": {
              "fillmode": "overlay",
              "size": 10,
              "solidity": 0.2
             }
            },
            "type": "histogram"
           }
          ],
          "histogram2d": [
           {
            "colorbar": {
             "outlinewidth": 0,
             "ticks": ""
            },
            "colorscale": [
             [
              0.0,
              "#0d0887"
             ],
             [
              0.1111111111111111,
              "#46039f"
             ],
             [
              0.2222222222222222,
              "#7201a8"
             ],
             [
              0.3333333333333333,
              "#9c179e"
             ],
             [
              0.4444444444444444,
              "#bd3786"
             ],
             [
              0.5555555555555556,
              "#d8576b"
             ],
             [
              0.6666666666666666,
              "#ed7953"
             ],
             [
              0.7777777777777778,
              "#fb9f3a"
             ],
             [
              0.8888888888888888,
              "#fdca26"
             ],
             [
              1.0,
              "#f0f921"
             ]
            ],
            "type": "histogram2d"
           }
          ],
          "histogram2dcontour": [
           {
            "colorbar": {
             "outlinewidth": 0,
             "ticks": ""
            },
            "colorscale": [
             [
              0.0,
              "#0d0887"
             ],
             [
              0.1111111111111111,
              "#46039f"
             ],
             [
              0.2222222222222222,
              "#7201a8"
             ],
             [
              0.3333333333333333,
              "#9c179e"
             ],
             [
              0.4444444444444444,
              "#bd3786"
             ],
             [
              0.5555555555555556,
              "#d8576b"
             ],
             [
              0.6666666666666666,
              "#ed7953"
             ],
             [
              0.7777777777777778,
              "#fb9f3a"
             ],
             [
              0.8888888888888888,
              "#fdca26"
             ],
             [
              1.0,
              "#f0f921"
             ]
            ],
            "type": "histogram2dcontour"
           }
          ],
          "mesh3d": [
           {
            "colorbar": {
             "outlinewidth": 0,
             "ticks": ""
            },
            "type": "mesh3d"
           }
          ],
          "parcoords": [
           {
            "line": {
             "colorbar": {
              "outlinewidth": 0,
              "ticks": ""
             }
            },
            "type": "parcoords"
           }
          ],
          "pie": [
           {
            "automargin": true,
            "type": "pie"
           }
          ],
          "scatter": [
           {
            "marker": {
             "colorbar": {
              "outlinewidth": 0,
              "ticks": ""
             }
            },
            "type": "scatter"
           }
          ],
          "scatter3d": [
           {
            "line": {
             "colorbar": {
              "outlinewidth": 0,
              "ticks": ""
             }
            },
            "marker": {
             "colorbar": {
              "outlinewidth": 0,
              "ticks": ""
             }
            },
            "type": "scatter3d"
           }
          ],
          "scattercarpet": [
           {
            "marker": {
             "colorbar": {
              "outlinewidth": 0,
              "ticks": ""
             }
            },
            "type": "scattercarpet"
           }
          ],
          "scattergeo": [
           {
            "marker": {
             "colorbar": {
              "outlinewidth": 0,
              "ticks": ""
             }
            },
            "type": "scattergeo"
           }
          ],
          "scattergl": [
           {
            "marker": {
             "colorbar": {
              "outlinewidth": 0,
              "ticks": ""
             }
            },
            "type": "scattergl"
           }
          ],
          "scattermapbox": [
           {
            "marker": {
             "colorbar": {
              "outlinewidth": 0,
              "ticks": ""
             }
            },
            "type": "scattermapbox"
           }
          ],
          "scatterpolar": [
           {
            "marker": {
             "colorbar": {
              "outlinewidth": 0,
              "ticks": ""
             }
            },
            "type": "scatterpolar"
           }
          ],
          "scatterpolargl": [
           {
            "marker": {
             "colorbar": {
              "outlinewidth": 0,
              "ticks": ""
             }
            },
            "type": "scatterpolargl"
           }
          ],
          "scatterternary": [
           {
            "marker": {
             "colorbar": {
              "outlinewidth": 0,
              "ticks": ""
             }
            },
            "type": "scatterternary"
           }
          ],
          "surface": [
           {
            "colorbar": {
             "outlinewidth": 0,
             "ticks": ""
            },
            "colorscale": [
             [
              0.0,
              "#0d0887"
             ],
             [
              0.1111111111111111,
              "#46039f"
             ],
             [
              0.2222222222222222,
              "#7201a8"
             ],
             [
              0.3333333333333333,
              "#9c179e"
             ],
             [
              0.4444444444444444,
              "#bd3786"
             ],
             [
              0.5555555555555556,
              "#d8576b"
             ],
             [
              0.6666666666666666,
              "#ed7953"
             ],
             [
              0.7777777777777778,
              "#fb9f3a"
             ],
             [
              0.8888888888888888,
              "#fdca26"
             ],
             [
              1.0,
              "#f0f921"
             ]
            ],
            "type": "surface"
           }
          ],
          "table": [
           {
            "cells": {
             "fill": {
              "color": "#EBF0F8"
             },
             "line": {
              "color": "white"
             }
            },
            "header": {
             "fill": {
              "color": "#C8D4E3"
             },
             "line": {
              "color": "white"
             }
            },
            "type": "table"
           }
          ]
         },
         "layout": {
          "annotationdefaults": {
           "arrowcolor": "#2a3f5f",
           "arrowhead": 0,
           "arrowwidth": 1
          },
          "autotypenumbers": "strict",
          "coloraxis": {
           "colorbar": {
            "outlinewidth": 0,
            "ticks": ""
           }
          },
          "colorscale": {
           "diverging": [
            [
             0,
             "#8e0152"
            ],
            [
             0.1,
             "#c51b7d"
            ],
            [
             0.2,
             "#de77ae"
            ],
            [
             0.3,
             "#f1b6da"
            ],
            [
             0.4,
             "#fde0ef"
            ],
            [
             0.5,
             "#f7f7f7"
            ],
            [
             0.6,
             "#e6f5d0"
            ],
            [
             0.7,
             "#b8e186"
            ],
            [
             0.8,
             "#7fbc41"
            ],
            [
             0.9,
             "#4d9221"
            ],
            [
             1,
             "#276419"
            ]
           ],
           "sequential": [
            [
             0.0,
             "#0d0887"
            ],
            [
             0.1111111111111111,
             "#46039f"
            ],
            [
             0.2222222222222222,
             "#7201a8"
            ],
            [
             0.3333333333333333,
             "#9c179e"
            ],
            [
             0.4444444444444444,
             "#bd3786"
            ],
            [
             0.5555555555555556,
             "#d8576b"
            ],
            [
             0.6666666666666666,
             "#ed7953"
            ],
            [
             0.7777777777777778,
             "#fb9f3a"
            ],
            [
             0.8888888888888888,
             "#fdca26"
            ],
            [
             1.0,
             "#f0f921"
            ]
           ],
           "sequentialminus": [
            [
             0.0,
             "#0d0887"
            ],
            [
             0.1111111111111111,
             "#46039f"
            ],
            [
             0.2222222222222222,
             "#7201a8"
            ],
            [
             0.3333333333333333,
             "#9c179e"
            ],
            [
             0.4444444444444444,
             "#bd3786"
            ],
            [
             0.5555555555555556,
             "#d8576b"
            ],
            [
             0.6666666666666666,
             "#ed7953"
            ],
            [
             0.7777777777777778,
             "#fb9f3a"
            ],
            [
             0.8888888888888888,
             "#fdca26"
            ],
            [
             1.0,
             "#f0f921"
            ]
           ]
          },
          "colorway": [
           "#636efa",
           "#EF553B",
           "#00cc96",
           "#ab63fa",
           "#FFA15A",
           "#19d3f3",
           "#FF6692",
           "#B6E880",
           "#FF97FF",
           "#FECB52"
          ],
          "font": {
           "color": "#2a3f5f"
          },
          "geo": {
           "bgcolor": "white",
           "lakecolor": "white",
           "landcolor": "#E5ECF6",
           "showlakes": true,
           "showland": true,
           "subunitcolor": "white"
          },
          "hoverlabel": {
           "align": "left"
          },
          "hovermode": "closest",
          "mapbox": {
           "style": "light"
          },
          "paper_bgcolor": "white",
          "plot_bgcolor": "#E5ECF6",
          "polar": {
           "angularaxis": {
            "gridcolor": "white",
            "linecolor": "white",
            "ticks": ""
           },
           "bgcolor": "#E5ECF6",
           "radialaxis": {
            "gridcolor": "white",
            "linecolor": "white",
            "ticks": ""
           }
          },
          "scene": {
           "xaxis": {
            "backgroundcolor": "#E5ECF6",
            "gridcolor": "white",
            "gridwidth": 2,
            "linecolor": "white",
            "showbackground": true,
            "ticks": "",
            "zerolinecolor": "white"
           },
           "yaxis": {
            "backgroundcolor": "#E5ECF6",
            "gridcolor": "white",
            "gridwidth": 2,
            "linecolor": "white",
            "showbackground": true,
            "ticks": "",
            "zerolinecolor": "white"
           },
           "zaxis": {
            "backgroundcolor": "#E5ECF6",
            "gridcolor": "white",
            "gridwidth": 2,
            "linecolor": "white",
            "showbackground": true,
            "ticks": "",
            "zerolinecolor": "white"
           }
          },
          "shapedefaults": {
           "line": {
            "color": "#2a3f5f"
           }
          },
          "ternary": {
           "aaxis": {
            "gridcolor": "white",
            "linecolor": "white",
            "ticks": ""
           },
           "baxis": {
            "gridcolor": "white",
            "linecolor": "white",
            "ticks": ""
           },
           "bgcolor": "#E5ECF6",
           "caxis": {
            "gridcolor": "white",
            "linecolor": "white",
            "ticks": ""
           }
          },
          "title": {
           "x": 0.05
          },
          "xaxis": {
           "automargin": true,
           "gridcolor": "white",
           "linecolor": "white",
           "ticks": "",
           "title": {
            "standoff": 15
           },
           "zerolinecolor": "white",
           "zerolinewidth": 2
          },
          "yaxis": {
           "automargin": true,
           "gridcolor": "white",
           "linecolor": "white",
           "ticks": "",
           "title": {
            "standoff": 15
           },
           "zerolinecolor": "white",
           "zerolinewidth": 2
          }
         }
        },
        "xaxis": {
         "title": {
          "text": "Birth"
         },
         "side": "bottom",
         "type": "linear",
         "range": [
          -0.027336051464080812,
          1.3941386246681213
         ],
         "autorange": false,
         "ticks": "outside",
         "showline": true,
         "zeroline": true,
         "linewidth": 1,
         "linecolor": "black",
         "mirror": false,
         "showexponent": "all",
         "exponentformat": "e"
        },
        "yaxis": {
         "title": {
          "text": "Death"
         },
         "side": "left",
         "type": "linear",
         "range": [
          -0.027336051464080812,
          1.3941386246681213
         ],
         "autorange": false,
         "scaleanchor": "x",
         "scaleratio": 1,
         "ticks": "outside",
         "showline": true,
         "zeroline": true,
         "linewidth": 1,
         "linecolor": "black",
         "mirror": false,
         "showexponent": "all",
         "exponentformat": "e"
        },
        "width": 500,
        "height": 500,
        "plot_bgcolor": "white"
       },
       "config": {
        "plotlyServerURL": "https://plot.ly"
       }
      },
      "text/html": "<div>                            <div id=\"2b1c0600-d863-4977-98b3-0a99ef298510\" class=\"plotly-graph-div\" style=\"height:500px; width:500px;\"></div>            <script type=\"text/javascript\">                require([\"plotly\"], function(Plotly) {                    window.PLOTLYENV=window.PLOTLYENV || {};                                    if (document.getElementById(\"2b1c0600-d863-4977-98b3-0a99ef298510\")) {                    Plotly.newPlot(                        \"2b1c0600-d863-4977-98b3-0a99ef298510\",                        [{\"hoverinfo\":\"none\",\"line\":{\"color\":\"black\",\"dash\":\"dash\",\"width\":1},\"mode\":\"lines\",\"showlegend\":false,\"x\":[-0.027336051464080812,1.3941386246681213],\"y\":[-0.027336051464080812,1.3941386246681213],\"type\":\"scatter\"},{\"hoverinfo\":\"text\",\"hovertext\":[\"(0.0, 0.005386150907725096)\",\"(0.0, 0.006926721893250942)\",\"(0.0, 0.007207709364593029)\",\"(0.0, 0.007953125052154064)\",\"(0.0, 0.009068362414836884)\",\"(0.0, 0.009384720586240292)\",\"(0.0, 0.00942483451217413)\",\"(0.0, 0.009467744268476963)\",\"(0.0, 0.009549841284751892)\",\"(0.0, 0.010297182947397232)\",\"(0.0, 0.010599855333566666)\",\"(0.0, 0.01089183147996664)\",\"(0.0, 0.011380234733223915)\",\"(0.0, 0.011585778556764126)\",\"(0.0, 0.012660016305744648)\",\"(0.0, 0.013082933612167835)\",\"(0.0, 0.013739028014242649)\",\"(0.0, 0.014706670306622982)\",\"(0.0, 0.014796581119298935)\",\"(0.0, 0.015145360492169857)\",\"(0.0, 0.015219703316688538)\",\"(0.0, 0.01568310521543026)\",\"(0.0, 0.016163228079676628)\",\"(0.0, 0.016295675188302994)\",\"(0.0, 0.01631748676300049)\",\"(0.0, 0.016742439940571785)\",\"(0.0, 0.017291294410824776)\",\"(0.0, 0.01791822724044323)\",\"(0.0, 0.018281899392604828)\",\"(0.0, 0.01828249916434288)\",\"(0.0, 0.018866848200559616)\",\"(0.0, 0.019110914319753647)\",\"(0.0, 0.01926734298467636)\",\"(0.0, 0.019364185631275177)\",\"(0.0, 0.019534654915332794)\",\"(0.0, 0.019578423351049423)\",\"(0.0, 0.0196390300989151)\",\"(0.0, 0.019660547375679016)\",\"(0.0, 0.020484158769249916)\",\"(0.0, 0.021988514810800552)\",\"(0.0, 0.022123083472251892)\",\"(0.0, 0.02226058393716812)\",\"(0.0, 0.022742336615920067)\",\"(0.0, 0.022753506898880005)\",\"(0.0, 0.022824794054031372)\",\"(0.0, 0.022842450067400932)\",\"(0.0, 0.02367248758673668)\",\"(0.0, 0.024454554542899132)\",\"(0.0, 0.024640440940856934)\",\"(0.0, 0.02466055005788803)\",\"(0.0, 0.025093447417020798)\",\"(0.0, 0.02509717456996441)\",\"(0.0, 0.02573264203965664)\",\"(0.0, 0.02635706216096878)\",\"(0.0, 0.02664339169859886)\",\"(0.0, 0.02674151584506035)\",\"(0.0, 0.026859644800424576)\",\"(0.0, 0.026943469420075417)\",\"(0.0, 0.0273209810256958)\",\"(0.0, 0.027986492961645126)\",\"(0.0, 0.02824622206389904)\",\"(0.0, 0.02879335545003414)\",\"(0.0, 0.029351742938160896)\",\"(0.0, 0.02957065962255001)\",\"(0.0, 0.029837388545274734)\",\"(0.0, 0.03044336475431919)\",\"(0.0, 0.030495112761855125)\",\"(0.0, 0.030627364292740822)\",\"(0.0, 0.03143042325973511)\",\"(0.0, 0.031452666968107224)\",\"(0.0, 0.03162539377808571)\",\"(0.0, 0.03171612322330475)\",\"(0.0, 0.031889643520116806)\",\"(0.0, 0.03217162564396858)\",\"(0.0, 0.032265663146972656)\",\"(0.0, 0.03280014917254448)\",\"(0.0, 0.03285558521747589)\",\"(0.0, 0.03289330005645752)\",\"(0.0, 0.03310908004641533)\",\"(0.0, 0.03410905972123146)\",\"(0.0, 0.03417482599616051)\",\"(0.0, 0.034289535135030746)\",\"(0.0, 0.03430147096514702)\",\"(0.0, 0.034696079790592194)\",\"(0.0, 0.03477273881435394)\",\"(0.0, 0.035020120441913605)\",\"(0.0, 0.0350450836122036)\",\"(0.0, 0.0352107398211956)\",\"(0.0, 0.03546018898487091)\",\"(0.0, 0.03548429161310196)\",\"(0.0, 0.03570312634110451)\",\"(0.0, 0.035752564668655396)\",\"(0.0, 0.03577933460474014)\",\"(0.0, 0.036358192563056946)\",\"(0.0, 0.03637957200407982)\",\"(0.0, 0.03639557585120201)\",\"(0.0, 0.036485858261585236)\",\"(0.0, 0.03665478155016899)\",\"(0.0, 0.03678811341524124)\",\"(0.0, 0.03715091943740845)\",\"(0.0, 0.03777104243636131)\",\"(0.0, 0.03790275752544403)\",\"(0.0, 0.03792230412364006)\",\"(0.0, 0.03801606595516205)\",\"(0.0, 0.038132160902023315)\",\"(0.0, 0.038241609930992126)\",\"(0.0, 0.03833368793129921)\",\"(0.0, 0.03852905333042145)\",\"(0.0, 0.03858199715614319)\",\"(0.0, 0.038766711950302124)\",\"(0.0, 0.039208054542541504)\",\"(0.0, 0.03923022747039795)\",\"(0.0, 0.03956475481390953)\",\"(0.0, 0.039681464433670044)\",\"(0.0, 0.03986034542322159)\",\"(0.0, 0.04021020233631134)\",\"(0.0, 0.04091021418571472)\",\"(0.0, 0.04091229662299156)\",\"(0.0, 0.04092469438910484)\",\"(0.0, 0.04123581945896149)\",\"(0.0, 0.0417308509349823)\",\"(0.0, 0.042059317231178284)\",\"(0.0, 0.04211670905351639)\",\"(0.0, 0.0429755300283432)\",\"(0.0, 0.043360818177461624)\",\"(0.0, 0.043412987142801285)\",\"(0.0, 0.04343928024172783)\",\"(0.0, 0.04364262893795967)\",\"(0.0, 0.043710559606552124)\",\"(0.0, 0.04371174797415733)\",\"(0.0, 0.044969379901885986)\",\"(0.0, 0.04512455686926842)\",\"(0.0, 0.04562092199921608)\",\"(0.0, 0.04623506963253021)\",\"(0.0, 0.04639219492673874)\",\"(0.0, 0.04677160084247589)\",\"(0.0, 0.046787116676568985)\",\"(0.0, 0.04681617394089699)\",\"(0.0, 0.04715581238269806)\",\"(0.0, 0.04720081016421318)\",\"(0.0, 0.04747648537158966)\",\"(0.0, 0.047939639538526535)\",\"(0.0, 0.048182711005210876)\",\"(0.0, 0.0483073927462101)\",\"(0.0, 0.04842144995927811)\",\"(0.0, 0.04844994097948074)\",\"(0.0, 0.04882336035370827)\",\"(0.0, 0.048840541392564774)\",\"(0.0, 0.04915957897901535)\",\"(0.0, 0.04983588680624962)\",\"(0.0, 0.05004390329122543)\",\"(0.0, 0.05082997679710388)\",\"(0.0, 0.05114643648266792)\",\"(0.0, 0.05128760635852814)\",\"(0.0, 0.051379039883613586)\",\"(0.0, 0.05150378495454788)\",\"(0.0, 0.05161438509821892)\",\"(0.0, 0.05167246237397194)\",\"(0.0, 0.05218321457505226)\",\"(0.0, 0.05220215395092964)\",\"(0.0, 0.05265991762280464)\",\"(0.0, 0.05270804837346077)\",\"(0.0, 0.05278218910098076)\",\"(0.0, 0.053052015602588654)\",\"(0.0, 0.05365096777677536)\",\"(0.0, 0.05390210822224617)\",\"(0.0, 0.054610371589660645)\",\"(0.0, 0.054669737815856934)\",\"(0.0, 0.05471605435013771)\",\"(0.0, 0.05489882454276085)\",\"(0.0, 0.05547817423939705)\",\"(0.0, 0.05552337318658829)\",\"(0.0, 0.05572744831442833)\",\"(0.0, 0.05583552271127701)\",\"(0.0, 0.05590302497148514)\",\"(0.0, 0.05599633976817131)\",\"(0.0, 0.05614437535405159)\",\"(0.0, 0.05623554438352585)\",\"(0.0, 0.05633130669593811)\",\"(0.0, 0.0566244013607502)\",\"(0.0, 0.056723251938819885)\",\"(0.0, 0.05679081380367279)\",\"(0.0, 0.05704159662127495)\",\"(0.0, 0.057255491614341736)\",\"(0.0, 0.0577777735888958)\",\"(0.0, 0.05814269930124283)\",\"(0.0, 0.05832299217581749)\",\"(0.0, 0.058327239006757736)\",\"(0.0, 0.05855094641447067)\",\"(0.0, 0.05919957906007767)\",\"(0.0, 0.05972130224108696)\",\"(0.0, 0.059976574033498764)\",\"(0.0, 0.06030780449509621)\",\"(0.0, 0.06039748713374138)\",\"(0.0, 0.060596127063035965)\",\"(0.0, 0.06059923395514488)\",\"(0.0, 0.060644540935754776)\",\"(0.0, 0.06067182123661041)\",\"(0.0, 0.06076405942440033)\",\"(0.0, 0.061223775148391724)\",\"(0.0, 0.06144619733095169)\",\"(0.0, 0.061522819101810455)\",\"(0.0, 0.06153101101517677)\",\"(0.0, 0.06168019399046898)\",\"(0.0, 0.061897169798612595)\",\"(0.0, 0.06202801689505577)\",\"(0.0, 0.06231308728456497)\",\"(0.0, 0.062693752348423)\",\"(0.0, 0.06273598223924637)\",\"(0.0, 0.0630236566066742)\",\"(0.0, 0.06310699135065079)\",\"(0.0, 0.06314510852098465)\",\"(0.0, 0.0634588673710823)\",\"(0.0, 0.0635746493935585)\",\"(0.0, 0.0637684315443039)\",\"(0.0, 0.06397511065006256)\",\"(0.0, 0.06437452137470245)\",\"(0.0, 0.06451782584190369)\",\"(0.0, 0.06475424021482468)\",\"(0.0, 0.06477656960487366)\",\"(0.0, 0.06488670408725739)\",\"(0.0, 0.06490491330623627)\",\"(0.0, 0.06490758061408997)\",\"(0.0, 0.06509652733802795)\",\"(0.0, 0.06510208547115326)\",\"(0.0, 0.06510558724403381)\",\"(0.0, 0.0657542273402214)\",\"(0.0, 0.06586521863937378)\",\"(0.0, 0.06591969728469849)\",\"(0.0, 0.06645910441875458)\",\"(0.0, 0.0673111155629158)\",\"(0.0, 0.06761942058801651)\",\"(0.0, 0.0681677907705307)\",\"(0.0, 0.06844364106655121)\",\"(0.0, 0.06844791769981384)\",\"(0.0, 0.0687391459941864)\",\"(0.0, 0.06895933300256729)\",\"(0.0, 0.06938987970352173)\",\"(0.0, 0.06950646638870239)\",\"(0.0, 0.06970622390508652)\",\"(0.0, 0.06979084759950638)\",\"(0.0, 0.06993673741817474)\",\"(0.0, 0.07027459144592285)\",\"(0.0, 0.07064498215913773)\",\"(0.0, 0.07067718356847763)\",\"(0.0, 0.07069485634565353)\",\"(0.0, 0.07072748243808746)\",\"(0.0, 0.07090991735458374)\",\"(0.0, 0.07115397602319717)\",\"(0.0, 0.07173935323953629)\",\"(0.0, 0.07224512100219727)\",\"(0.0, 0.07287939637899399)\",\"(0.0, 0.07327514886856079)\",\"(0.0, 0.07340825349092484)\",\"(0.0, 0.07344619184732437)\",\"(0.0, 0.07369241863489151)\",\"(0.0, 0.07393550127744675)\",\"(0.0, 0.07404619455337524)\",\"(0.0, 0.0741230845451355)\",\"(0.0, 0.07429695874452591)\",\"(0.0, 0.07438459992408752)\",\"(0.0, 0.07459978014230728)\",\"(0.0, 0.07470942288637161)\",\"(0.0, 0.07496960461139679)\",\"(0.0, 0.07498642802238464)\",\"(0.0, 0.0750805214047432)\",\"(0.0, 0.07529907673597336)\",\"(0.0, 0.07534991949796677)\",\"(0.0, 0.07544837892055511)\",\"(0.0, 0.07546354830265045)\",\"(0.0, 0.07559546083211899)\",\"(0.0, 0.07579341530799866)\",\"(0.0, 0.07598252594470978)\",\"(0.0, 0.0771435871720314)\",\"(0.0, 0.07721897959709167)\",\"(0.0, 0.07732224464416504)\",\"(0.0, 0.07733489573001862)\",\"(0.0, 0.07747922092676163)\",\"(0.0, 0.07773822546005249)\",\"(0.0, 0.07828038930892944)\",\"(0.0, 0.07854443043470383)\",\"(0.0, 0.07854922115802765)\",\"(0.0, 0.07873360067605972)\",\"(0.0, 0.07903076708316803)\",\"(0.0, 0.07903248816728592)\",\"(0.0, 0.07913291454315186)\",\"(0.0, 0.07918507605791092)\",\"(0.0, 0.07919306308031082)\",\"(0.0, 0.07938206195831299)\",\"(0.0, 0.07945774495601654)\",\"(0.0, 0.07947511225938797)\",\"(0.0, 0.07954218238592148)\",\"(0.0, 0.0796305388212204)\",\"(0.0, 0.07969678938388824)\",\"(0.0, 0.07971503585577011)\",\"(0.0, 0.0798860713839531)\",\"(0.0, 0.08002582937479019)\",\"(0.0, 0.08121948689222336)\",\"(0.0, 0.08208219707012177)\",\"(0.0, 0.08238626271486282)\",\"(0.0, 0.08242867887020111)\",\"(0.0, 0.08321448415517807)\",\"(0.0, 0.08374802023172379)\",\"(0.0, 0.0837739035487175)\",\"(0.0, 0.0838504433631897)\",\"(0.0, 0.0847184881567955)\",\"(0.0, 0.08490350842475891)\",\"(0.0, 0.08513346314430237)\",\"(0.0, 0.08523256331682205)\",\"(0.0, 0.0852532908320427)\",\"(0.0, 0.0854729562997818)\",\"(0.0, 0.08568743616342545)\",\"(0.0, 0.08574987947940826)\",\"(0.0, 0.08578335493803024)\",\"(0.0, 0.08581656217575073)\",\"(0.0, 0.08610550314188004)\",\"(0.0, 0.08620976656675339)\",\"(0.0, 0.08623751252889633)\",\"(0.0, 0.08635734021663666)\",\"(0.0, 0.08675901591777802)\",\"(0.0, 0.08701395988464355)\",\"(0.0, 0.08707869797945023)\",\"(0.0, 0.08749057352542877)\",\"(0.0, 0.08762555569410324)\",\"(0.0, 0.08784931898117065)\",\"(0.0, 0.088084876537323)\",\"(0.0, 0.08832312375307083)\",\"(0.0, 0.08870147168636322)\",\"(0.0, 0.08928243070840836)\",\"(0.0, 0.08929736912250519)\",\"(0.0, 0.08965978771448135)\",\"(0.0, 0.09064850956201553)\",\"(0.0, 0.09070388972759247)\",\"(0.0, 0.09145038574934006)\",\"(0.0, 0.09225525707006454)\",\"(0.0, 0.09251225739717484)\",\"(0.0, 0.09263197332620621)\",\"(0.0, 0.09292051941156387)\",\"(0.0, 0.0930839329957962)\",\"(0.0, 0.09336459636688232)\",\"(0.0, 0.09395657479763031)\",\"(0.0, 0.09400410950183868)\",\"(0.0, 0.09533046931028366)\",\"(0.0, 0.09534851461648941)\",\"(0.0, 0.09581943601369858)\",\"(0.0, 0.09589768946170807)\",\"(0.0, 0.09609634429216385)\",\"(0.0, 0.09631326794624329)\",\"(0.0, 0.09652657806873322)\",\"(0.0, 0.09663151204586029)\",\"(0.0, 0.09683339297771454)\",\"(0.0, 0.0970732569694519)\",\"(0.0, 0.09713637828826904)\",\"(0.0, 0.09756063669919968)\",\"(0.0, 0.09817194938659668)\",\"(0.0, 0.09911900013685226)\",\"(0.0, 0.09933014214038849)\",\"(0.0, 0.09937367588281631)\",\"(0.0, 0.10033117979764938)\",\"(0.0, 0.10154718160629272)\",\"(0.0, 0.10172577202320099)\",\"(0.0, 0.10196461528539658)\",\"(0.0, 0.10347218811511993)\",\"(0.0, 0.10349099338054657)\",\"(0.0, 0.10352632403373718)\",\"(0.0, 0.10412297397851944)\",\"(0.0, 0.1042451485991478)\",\"(0.0, 0.10484052449464798)\",\"(0.0, 0.10514984279870987)\",\"(0.0, 0.10522202402353287)\",\"(0.0, 0.10645924508571625)\",\"(0.0, 0.10791429132223129)\",\"(0.0, 0.10840930044651031)\",\"(0.0, 0.10865332931280136)\",\"(0.0, 0.10874810814857483)\",\"(0.0, 0.11014418303966522)\",\"(0.0, 0.11205080896615982)\",\"(0.0, 0.11281108856201172)\",\"(0.0, 0.11317998915910721)\",\"(0.0, 0.11496437340974808)\",\"(0.0, 0.11534029990434647)\",\"(0.0, 0.11621245741844177)\",\"(0.0, 0.11661012470722198)\",\"(0.0, 0.11675617843866348)\",\"(0.0, 0.116977758705616)\",\"(0.0, 0.11709201335906982)\",\"(0.0, 0.11985117942094803)\",\"(0.0, 0.12127812206745148)\",\"(0.0, 0.1216711699962616)\",\"(0.0, 0.12183894962072372)\",\"(0.0, 0.12306464463472366)\",\"(0.0, 0.124650739133358)\",\"(0.0, 0.12490763515233994)\",\"(0.0, 0.13337109982967377)\",\"(0.0, 0.13487160205841064)\",\"(0.0, 0.15816286206245422)\",\"(0.0, 0.16049890220165253)\",\"(0.0, 0.17006781697273254)\",\"(0.0, 0.18311329185962677)\"],\"mode\":\"markers\",\"name\":\"H0\",\"x\":[0.0,0.0,0.0,0.0,0.0,0.0,0.0,0.0,0.0,0.0,0.0,0.0,0.0,0.0,0.0,0.0,0.0,0.0,0.0,0.0,0.0,0.0,0.0,0.0,0.0,0.0,0.0,0.0,0.0,0.0,0.0,0.0,0.0,0.0,0.0,0.0,0.0,0.0,0.0,0.0,0.0,0.0,0.0,0.0,0.0,0.0,0.0,0.0,0.0,0.0,0.0,0.0,0.0,0.0,0.0,0.0,0.0,0.0,0.0,0.0,0.0,0.0,0.0,0.0,0.0,0.0,0.0,0.0,0.0,0.0,0.0,0.0,0.0,0.0,0.0,0.0,0.0,0.0,0.0,0.0,0.0,0.0,0.0,0.0,0.0,0.0,0.0,0.0,0.0,0.0,0.0,0.0,0.0,0.0,0.0,0.0,0.0,0.0,0.0,0.0,0.0,0.0,0.0,0.0,0.0,0.0,0.0,0.0,0.0,0.0,0.0,0.0,0.0,0.0,0.0,0.0,0.0,0.0,0.0,0.0,0.0,0.0,0.0,0.0,0.0,0.0,0.0,0.0,0.0,0.0,0.0,0.0,0.0,0.0,0.0,0.0,0.0,0.0,0.0,0.0,0.0,0.0,0.0,0.0,0.0,0.0,0.0,0.0,0.0,0.0,0.0,0.0,0.0,0.0,0.0,0.0,0.0,0.0,0.0,0.0,0.0,0.0,0.0,0.0,0.0,0.0,0.0,0.0,0.0,0.0,0.0,0.0,0.0,0.0,0.0,0.0,0.0,0.0,0.0,0.0,0.0,0.0,0.0,0.0,0.0,0.0,0.0,0.0,0.0,0.0,0.0,0.0,0.0,0.0,0.0,0.0,0.0,0.0,0.0,0.0,0.0,0.0,0.0,0.0,0.0,0.0,0.0,0.0,0.0,0.0,0.0,0.0,0.0,0.0,0.0,0.0,0.0,0.0,0.0,0.0,0.0,0.0,0.0,0.0,0.0,0.0,0.0,0.0,0.0,0.0,0.0,0.0,0.0,0.0,0.0,0.0,0.0,0.0,0.0,0.0,0.0,0.0,0.0,0.0,0.0,0.0,0.0,0.0,0.0,0.0,0.0,0.0,0.0,0.0,0.0,0.0,0.0,0.0,0.0,0.0,0.0,0.0,0.0,0.0,0.0,0.0,0.0,0.0,0.0,0.0,0.0,0.0,0.0,0.0,0.0,0.0,0.0,0.0,0.0,0.0,0.0,0.0,0.0,0.0,0.0,0.0,0.0,0.0,0.0,0.0,0.0,0.0,0.0,0.0,0.0,0.0,0.0,0.0,0.0,0.0,0.0,0.0,0.0,0.0,0.0,0.0,0.0,0.0,0.0,0.0,0.0,0.0,0.0,0.0,0.0,0.0,0.0,0.0,0.0,0.0,0.0,0.0,0.0,0.0,0.0,0.0,0.0,0.0,0.0,0.0,0.0,0.0,0.0,0.0,0.0,0.0,0.0,0.0,0.0,0.0,0.0,0.0,0.0,0.0,0.0,0.0,0.0,0.0,0.0,0.0,0.0,0.0,0.0,0.0,0.0,0.0,0.0,0.0,0.0,0.0,0.0,0.0,0.0,0.0,0.0,0.0,0.0,0.0,0.0,0.0,0.0,0.0,0.0,0.0,0.0,0.0,0.0,0.0,0.0,0.0,0.0,0.0,0.0,0.0,0.0,0.0,0.0,0.0,0.0,0.0,0.0,0.0,0.0,0.0,0.0,0.0,0.0,0.0,0.0],\"y\":[0.005386150907725096,0.006926721893250942,0.007207709364593029,0.007953125052154064,0.009068362414836884,0.009384720586240292,0.00942483451217413,0.009467744268476963,0.009549841284751892,0.010297182947397232,0.010599855333566666,0.01089183147996664,0.011380234733223915,0.011585778556764126,0.012660016305744648,0.013082933612167835,0.013739028014242649,0.014706670306622982,0.014796581119298935,0.015145360492169857,0.015219703316688538,0.01568310521543026,0.016163228079676628,0.016295675188302994,0.01631748676300049,0.016742439940571785,0.017291294410824776,0.01791822724044323,0.018281899392604828,0.01828249916434288,0.018866848200559616,0.019110914319753647,0.01926734298467636,0.019364185631275177,0.019534654915332794,0.019578423351049423,0.0196390300989151,0.019660547375679016,0.020484158769249916,0.021988514810800552,0.022123083472251892,0.02226058393716812,0.022742336615920067,0.022753506898880005,0.022824794054031372,0.022842450067400932,0.02367248758673668,0.024454554542899132,0.024640440940856934,0.02466055005788803,0.025093447417020798,0.02509717456996441,0.02573264203965664,0.02635706216096878,0.02664339169859886,0.02674151584506035,0.026859644800424576,0.026943469420075417,0.0273209810256958,0.027986492961645126,0.02824622206389904,0.02879335545003414,0.029351742938160896,0.02957065962255001,0.029837388545274734,0.03044336475431919,0.030495112761855125,0.030627364292740822,0.03143042325973511,0.031452666968107224,0.03162539377808571,0.03171612322330475,0.031889643520116806,0.03217162564396858,0.032265663146972656,0.03280014917254448,0.03285558521747589,0.03289330005645752,0.03310908004641533,0.03410905972123146,0.03417482599616051,0.034289535135030746,0.03430147096514702,0.034696079790592194,0.03477273881435394,0.035020120441913605,0.0350450836122036,0.0352107398211956,0.03546018898487091,0.03548429161310196,0.03570312634110451,0.035752564668655396,0.03577933460474014,0.036358192563056946,0.03637957200407982,0.03639557585120201,0.036485858261585236,0.03665478155016899,0.03678811341524124,0.03715091943740845,0.03777104243636131,0.03790275752544403,0.03792230412364006,0.03801606595516205,0.038132160902023315,0.038241609930992126,0.03833368793129921,0.03852905333042145,0.03858199715614319,0.038766711950302124,0.039208054542541504,0.03923022747039795,0.03956475481390953,0.039681464433670044,0.03986034542322159,0.04021020233631134,0.04091021418571472,0.04091229662299156,0.04092469438910484,0.04123581945896149,0.0417308509349823,0.042059317231178284,0.04211670905351639,0.0429755300283432,0.043360818177461624,0.043412987142801285,0.04343928024172783,0.04364262893795967,0.043710559606552124,0.04371174797415733,0.044969379901885986,0.04512455686926842,0.04562092199921608,0.04623506963253021,0.04639219492673874,0.04677160084247589,0.046787116676568985,0.04681617394089699,0.04715581238269806,0.04720081016421318,0.04747648537158966,0.047939639538526535,0.048182711005210876,0.0483073927462101,0.04842144995927811,0.04844994097948074,0.04882336035370827,0.048840541392564774,0.04915957897901535,0.04983588680624962,0.05004390329122543,0.05082997679710388,0.05114643648266792,0.05128760635852814,0.051379039883613586,0.05150378495454788,0.05161438509821892,0.05167246237397194,0.05218321457505226,0.05220215395092964,0.05265991762280464,0.05270804837346077,0.05278218910098076,0.053052015602588654,0.05365096777677536,0.05390210822224617,0.054610371589660645,0.054669737815856934,0.05471605435013771,0.05489882454276085,0.05547817423939705,0.05552337318658829,0.05572744831442833,0.05583552271127701,0.05590302497148514,0.05599633976817131,0.05614437535405159,0.05623554438352585,0.05633130669593811,0.0566244013607502,0.056723251938819885,0.05679081380367279,0.05704159662127495,0.057255491614341736,0.0577777735888958,0.05814269930124283,0.05832299217581749,0.058327239006757736,0.05855094641447067,0.05919957906007767,0.05972130224108696,0.059976574033498764,0.06030780449509621,0.06039748713374138,0.060596127063035965,0.06059923395514488,0.060644540935754776,0.06067182123661041,0.06076405942440033,0.061223775148391724,0.06144619733095169,0.061522819101810455,0.06153101101517677,0.06168019399046898,0.061897169798612595,0.06202801689505577,0.06231308728456497,0.062693752348423,0.06273598223924637,0.0630236566066742,0.06310699135065079,0.06314510852098465,0.0634588673710823,0.0635746493935585,0.0637684315443039,0.06397511065006256,0.06437452137470245,0.06451782584190369,0.06475424021482468,0.06477656960487366,0.06488670408725739,0.06490491330623627,0.06490758061408997,0.06509652733802795,0.06510208547115326,0.06510558724403381,0.0657542273402214,0.06586521863937378,0.06591969728469849,0.06645910441875458,0.0673111155629158,0.06761942058801651,0.0681677907705307,0.06844364106655121,0.06844791769981384,0.0687391459941864,0.06895933300256729,0.06938987970352173,0.06950646638870239,0.06970622390508652,0.06979084759950638,0.06993673741817474,0.07027459144592285,0.07064498215913773,0.07067718356847763,0.07069485634565353,0.07072748243808746,0.07090991735458374,0.07115397602319717,0.07173935323953629,0.07224512100219727,0.07287939637899399,0.07327514886856079,0.07340825349092484,0.07344619184732437,0.07369241863489151,0.07393550127744675,0.07404619455337524,0.0741230845451355,0.07429695874452591,0.07438459992408752,0.07459978014230728,0.07470942288637161,0.07496960461139679,0.07498642802238464,0.0750805214047432,0.07529907673597336,0.07534991949796677,0.07544837892055511,0.07546354830265045,0.07559546083211899,0.07579341530799866,0.07598252594470978,0.0771435871720314,0.07721897959709167,0.07732224464416504,0.07733489573001862,0.07747922092676163,0.07773822546005249,0.07828038930892944,0.07854443043470383,0.07854922115802765,0.07873360067605972,0.07903076708316803,0.07903248816728592,0.07913291454315186,0.07918507605791092,0.07919306308031082,0.07938206195831299,0.07945774495601654,0.07947511225938797,0.07954218238592148,0.0796305388212204,0.07969678938388824,0.07971503585577011,0.0798860713839531,0.08002582937479019,0.08121948689222336,0.08208219707012177,0.08238626271486282,0.08242867887020111,0.08321448415517807,0.08374802023172379,0.0837739035487175,0.0838504433631897,0.0847184881567955,0.08490350842475891,0.08513346314430237,0.08523256331682205,0.0852532908320427,0.0854729562997818,0.08568743616342545,0.08574987947940826,0.08578335493803024,0.08581656217575073,0.08610550314188004,0.08620976656675339,0.08623751252889633,0.08635734021663666,0.08675901591777802,0.08701395988464355,0.08707869797945023,0.08749057352542877,0.08762555569410324,0.08784931898117065,0.088084876537323,0.08832312375307083,0.08870147168636322,0.08928243070840836,0.08929736912250519,0.08965978771448135,0.09064850956201553,0.09070388972759247,0.09145038574934006,0.09225525707006454,0.09251225739717484,0.09263197332620621,0.09292051941156387,0.0930839329957962,0.09336459636688232,0.09395657479763031,0.09400410950183868,0.09533046931028366,0.09534851461648941,0.09581943601369858,0.09589768946170807,0.09609634429216385,0.09631326794624329,0.09652657806873322,0.09663151204586029,0.09683339297771454,0.0970732569694519,0.09713637828826904,0.09756063669919968,0.09817194938659668,0.09911900013685226,0.09933014214038849,0.09937367588281631,0.10033117979764938,0.10154718160629272,0.10172577202320099,0.10196461528539658,0.10347218811511993,0.10349099338054657,0.10352632403373718,0.10412297397851944,0.1042451485991478,0.10484052449464798,0.10514984279870987,0.10522202402353287,0.10645924508571625,0.10791429132223129,0.10840930044651031,0.10865332931280136,0.10874810814857483,0.11014418303966522,0.11205080896615982,0.11281108856201172,0.11317998915910721,0.11496437340974808,0.11534029990434647,0.11621245741844177,0.11661012470722198,0.11675617843866348,0.116977758705616,0.11709201335906982,0.11985117942094803,0.12127812206745148,0.1216711699962616,0.12183894962072372,0.12306464463472366,0.124650739133358,0.12490763515233994,0.13337109982967377,0.13487160205841064,0.15816286206245422,0.16049890220165253,0.17006781697273254,0.18311329185962677],\"type\":\"scatter\"},{\"hoverinfo\":\"text\",\"hovertext\":[\"(0.23373812437057495, 0.2345217615365982)\",\"(0.22608385980129242, 0.22930774092674255)\",\"(0.2168891429901123, 0.22111713886260986)\",\"(0.2033613920211792, 0.20523788034915924)\",\"(0.19087354838848114, 0.27802667021751404)\",\"(0.18718314170837402, 0.1987198442220688)\",\"(0.18242096900939941, 0.19831673800945282)\",\"(0.17714481055736542, 0.1931389421224594)\",\"(0.17709162831306458, 0.19117237627506256)\",\"(0.17353133857250214, 1.311996340751648)\",\"(0.16299749910831451, 0.16747109591960907)\",\"(0.1592300683259964, 0.1726682037115097)\",\"(0.15461048483848572, 0.16637666523456573)\",\"(0.15378054976463318, 0.17868460714817047)\",\"(0.148206889629364, 0.1896248608827591)\",\"(0.14778223633766174, 0.15991126000881195)\",\"(0.14694567024707794, 0.203148752450943)\",\"(0.1451074630022049, 0.14527171850204468)\",\"(0.14474739134311676, 0.14651620388031006)\",\"(0.1426236480474472, 0.15315654873847961)\",\"(0.14145110547542572, 0.16264617443084717)\",\"(0.13846616446971893, 0.15754525363445282)\",\"(0.13813187181949615, 0.16550664603710175)\",\"(0.13784892857074738, 0.14664801955223083)\",\"(0.1375201791524887, 0.1545998752117157)\",\"(0.13695350289344788, 0.1650981605052948)\",\"(0.1350185126066208, 0.18332046270370483)\",\"(0.1345585584640503, 0.13651235401630402)\",\"(0.13276037573814392, 0.15002155303955078)\",\"(0.13140235841274261, 0.13797694444656372)\",\"(0.13131622970104218, 0.17019370198249817)\",\"(0.1312500238418579, 0.1751815378665924)\",\"(0.1274024397134781, 0.2358054667711258)\",\"(0.12614838778972626, 0.17793384194374084)\",\"(0.12587693333625793, 0.13237397372722626)\",\"(0.1254875808954239, 0.13057184219360352)\",\"(0.1241215169429779, 0.1250872164964676)\",\"(0.12272078543901443, 0.13095547258853912)\",\"(0.12270074337720871, 0.12806327641010284)\",\"(0.12196201831102371, 0.16684645414352417)\",\"(0.12029988318681717, 0.12416202574968338)\",\"(0.1198936253786087, 0.17500971257686615)\",\"(0.11950033903121948, 0.1217331737279892)\",\"(0.1183822751045227, 0.1358286738395691)\",\"(0.11808917671442032, 0.158115953207016)\",\"(0.1167275682091713, 0.1237705647945404)\",\"(0.11598210036754608, 0.11741790920495987)\",\"(0.11502821743488312, 0.14922092854976654)\",\"(0.11448060721158981, 0.11848853528499603)\",\"(0.1121746376156807, 0.12086387723684311)\",\"(0.11074694246053696, 0.1509871929883957)\",\"(0.11051121354103088, 0.1171426773071289)\",\"(0.11033665388822556, 0.13006868958473206)\",\"(0.11002673953771591, 0.16585440933704376)\",\"(0.1092202365398407, 0.11844944953918457)\",\"(0.10903410613536835, 0.1331450641155243)\",\"(0.10834499448537827, 0.1421610713005066)\",\"(0.10792743414640427, 0.11032002419233322)\",\"(0.10761483758687973, 0.11939168721437454)\",\"(0.1066703051328659, 0.16063179075717926)\",\"(0.10638261586427689, 0.1327122002840042)\",\"(0.10601449012756348, 0.10687599331140518)\",\"(0.10438014566898346, 0.18246015906333923)\",\"(0.10277113318443298, 0.10585112124681473)\",\"(0.0983261838555336, 0.10332788527011871)\",\"(0.09723420441150665, 0.13405457139015198)\",\"(0.09687253832817078, 0.11279565840959549)\",\"(0.09665590524673462, 0.10597483813762665)\",\"(0.09507928788661957, 0.09942024946212769)\",\"(0.09459047019481659, 0.1312728077173233)\",\"(0.09414195269346237, 0.09422578662633896)\",\"(0.09373855590820312, 0.11106197535991669)\",\"(0.09367530047893524, 0.12542739510536194)\",\"(0.08181708306074142, 0.0850052461028099)\",\"(0.07772661000490189, 0.0818420797586441)\",\"(0.07747744023799896, 0.08335861563682556)\",\"(0.07349346578121185, 0.07620333135128021)\",\"(0.07211560010910034, 0.07774080336093903)\",\"(0.06359256058931351, 0.07117391377687454)\",\"(0.059332143515348434, 0.06662025302648544)\",\"(0.03550749644637108, 0.04191514104604721)\"],\"mode\":\"markers\",\"name\":\"H1\",\"x\":[0.23373812437057495,0.22608385980129242,0.2168891429901123,0.2033613920211792,0.19087354838848114,0.18718314170837402,0.18242096900939941,0.17714481055736542,0.17709162831306458,0.17353133857250214,0.16299749910831451,0.1592300683259964,0.15461048483848572,0.15378054976463318,0.148206889629364,0.14778223633766174,0.14694567024707794,0.1451074630022049,0.14474739134311676,0.1426236480474472,0.14145110547542572,0.13846616446971893,0.13813187181949615,0.13784892857074738,0.1375201791524887,0.13695350289344788,0.1350185126066208,0.1345585584640503,0.13276037573814392,0.13140235841274261,0.13131622970104218,0.1312500238418579,0.1274024397134781,0.12614838778972626,0.12587693333625793,0.1254875808954239,0.1241215169429779,0.12272078543901443,0.12270074337720871,0.12196201831102371,0.12029988318681717,0.1198936253786087,0.11950033903121948,0.1183822751045227,0.11808917671442032,0.1167275682091713,0.11598210036754608,0.11502821743488312,0.11448060721158981,0.1121746376156807,0.11074694246053696,0.11051121354103088,0.11033665388822556,0.11002673953771591,0.1092202365398407,0.10903410613536835,0.10834499448537827,0.10792743414640427,0.10761483758687973,0.1066703051328659,0.10638261586427689,0.10601449012756348,0.10438014566898346,0.10277113318443298,0.0983261838555336,0.09723420441150665,0.09687253832817078,0.09665590524673462,0.09507928788661957,0.09459047019481659,0.09414195269346237,0.09373855590820312,0.09367530047893524,0.08181708306074142,0.07772661000490189,0.07747744023799896,0.07349346578121185,0.07211560010910034,0.06359256058931351,0.059332143515348434,0.03550749644637108],\"y\":[0.2345217615365982,0.22930774092674255,0.22111713886260986,0.20523788034915924,0.27802667021751404,0.1987198442220688,0.19831673800945282,0.1931389421224594,0.19117237627506256,1.311996340751648,0.16747109591960907,0.1726682037115097,0.16637666523456573,0.17868460714817047,0.1896248608827591,0.15991126000881195,0.203148752450943,0.14527171850204468,0.14651620388031006,0.15315654873847961,0.16264617443084717,0.15754525363445282,0.16550664603710175,0.14664801955223083,0.1545998752117157,0.1650981605052948,0.18332046270370483,0.13651235401630402,0.15002155303955078,0.13797694444656372,0.17019370198249817,0.1751815378665924,0.2358054667711258,0.17793384194374084,0.13237397372722626,0.13057184219360352,0.1250872164964676,0.13095547258853912,0.12806327641010284,0.16684645414352417,0.12416202574968338,0.17500971257686615,0.1217331737279892,0.1358286738395691,0.158115953207016,0.1237705647945404,0.11741790920495987,0.14922092854976654,0.11848853528499603,0.12086387723684311,0.1509871929883957,0.1171426773071289,0.13006868958473206,0.16585440933704376,0.11844944953918457,0.1331450641155243,0.1421610713005066,0.11032002419233322,0.11939168721437454,0.16063179075717926,0.1327122002840042,0.10687599331140518,0.18246015906333923,0.10585112124681473,0.10332788527011871,0.13405457139015198,0.11279565840959549,0.10597483813762665,0.09942024946212769,0.1312728077173233,0.09422578662633896,0.11106197535991669,0.12542739510536194,0.0850052461028099,0.0818420797586441,0.08335861563682556,0.07620333135128021,0.07774080336093903,0.07117391377687454,0.06662025302648544,0.04191514104604721],\"type\":\"scatter\"},{\"hoverinfo\":\"text\",\"hovertext\":[\"(1.3369684219360352, 1.3437013626098633)\",\"(1.3190547227859497, 1.3668025732040405)\",\"(0.1452074944972992, 0.14706535637378693)\"],\"mode\":\"markers\",\"name\":\"H2\",\"x\":[1.3369684219360352,1.3190547227859497,0.1452074944972992],\"y\":[1.3437013626098633,1.3668025732040405,0.14706535637378693],\"type\":\"scatter\"}],                        {\"template\":{\"data\":{\"bar\":[{\"error_x\":{\"color\":\"#2a3f5f\"},\"error_y\":{\"color\":\"#2a3f5f\"},\"marker\":{\"line\":{\"color\":\"#E5ECF6\",\"width\":0.5},\"pattern\":{\"fillmode\":\"overlay\",\"size\":10,\"solidity\":0.2}},\"type\":\"bar\"}],\"barpolar\":[{\"marker\":{\"line\":{\"color\":\"#E5ECF6\",\"width\":0.5},\"pattern\":{\"fillmode\":\"overlay\",\"size\":10,\"solidity\":0.2}},\"type\":\"barpolar\"}],\"carpet\":[{\"aaxis\":{\"endlinecolor\":\"#2a3f5f\",\"gridcolor\":\"white\",\"linecolor\":\"white\",\"minorgridcolor\":\"white\",\"startlinecolor\":\"#2a3f5f\"},\"baxis\":{\"endlinecolor\":\"#2a3f5f\",\"gridcolor\":\"white\",\"linecolor\":\"white\",\"minorgridcolor\":\"white\",\"startlinecolor\":\"#2a3f5f\"},\"type\":\"carpet\"}],\"choropleth\":[{\"colorbar\":{\"outlinewidth\":0,\"ticks\":\"\"},\"type\":\"choropleth\"}],\"contour\":[{\"colorbar\":{\"outlinewidth\":0,\"ticks\":\"\"},\"colorscale\":[[0.0,\"#0d0887\"],[0.1111111111111111,\"#46039f\"],[0.2222222222222222,\"#7201a8\"],[0.3333333333333333,\"#9c179e\"],[0.4444444444444444,\"#bd3786\"],[0.5555555555555556,\"#d8576b\"],[0.6666666666666666,\"#ed7953\"],[0.7777777777777778,\"#fb9f3a\"],[0.8888888888888888,\"#fdca26\"],[1.0,\"#f0f921\"]],\"type\":\"contour\"}],\"contourcarpet\":[{\"colorbar\":{\"outlinewidth\":0,\"ticks\":\"\"},\"type\":\"contourcarpet\"}],\"heatmap\":[{\"colorbar\":{\"outlinewidth\":0,\"ticks\":\"\"},\"colorscale\":[[0.0,\"#0d0887\"],[0.1111111111111111,\"#46039f\"],[0.2222222222222222,\"#7201a8\"],[0.3333333333333333,\"#9c179e\"],[0.4444444444444444,\"#bd3786\"],[0.5555555555555556,\"#d8576b\"],[0.6666666666666666,\"#ed7953\"],[0.7777777777777778,\"#fb9f3a\"],[0.8888888888888888,\"#fdca26\"],[1.0,\"#f0f921\"]],\"type\":\"heatmap\"}],\"heatmapgl\":[{\"colorbar\":{\"outlinewidth\":0,\"ticks\":\"\"},\"colorscale\":[[0.0,\"#0d0887\"],[0.1111111111111111,\"#46039f\"],[0.2222222222222222,\"#7201a8\"],[0.3333333333333333,\"#9c179e\"],[0.4444444444444444,\"#bd3786\"],[0.5555555555555556,\"#d8576b\"],[0.6666666666666666,\"#ed7953\"],[0.7777777777777778,\"#fb9f3a\"],[0.8888888888888888,\"#fdca26\"],[1.0,\"#f0f921\"]],\"type\":\"heatmapgl\"}],\"histogram\":[{\"marker\":{\"pattern\":{\"fillmode\":\"overlay\",\"size\":10,\"solidity\":0.2}},\"type\":\"histogram\"}],\"histogram2d\":[{\"colorbar\":{\"outlinewidth\":0,\"ticks\":\"\"},\"colorscale\":[[0.0,\"#0d0887\"],[0.1111111111111111,\"#46039f\"],[0.2222222222222222,\"#7201a8\"],[0.3333333333333333,\"#9c179e\"],[0.4444444444444444,\"#bd3786\"],[0.5555555555555556,\"#d8576b\"],[0.6666666666666666,\"#ed7953\"],[0.7777777777777778,\"#fb9f3a\"],[0.8888888888888888,\"#fdca26\"],[1.0,\"#f0f921\"]],\"type\":\"histogram2d\"}],\"histogram2dcontour\":[{\"colorbar\":{\"outlinewidth\":0,\"ticks\":\"\"},\"colorscale\":[[0.0,\"#0d0887\"],[0.1111111111111111,\"#46039f\"],[0.2222222222222222,\"#7201a8\"],[0.3333333333333333,\"#9c179e\"],[0.4444444444444444,\"#bd3786\"],[0.5555555555555556,\"#d8576b\"],[0.6666666666666666,\"#ed7953\"],[0.7777777777777778,\"#fb9f3a\"],[0.8888888888888888,\"#fdca26\"],[1.0,\"#f0f921\"]],\"type\":\"histogram2dcontour\"}],\"mesh3d\":[{\"colorbar\":{\"outlinewidth\":0,\"ticks\":\"\"},\"type\":\"mesh3d\"}],\"parcoords\":[{\"line\":{\"colorbar\":{\"outlinewidth\":0,\"ticks\":\"\"}},\"type\":\"parcoords\"}],\"pie\":[{\"automargin\":true,\"type\":\"pie\"}],\"scatter\":[{\"marker\":{\"colorbar\":{\"outlinewidth\":0,\"ticks\":\"\"}},\"type\":\"scatter\"}],\"scatter3d\":[{\"line\":{\"colorbar\":{\"outlinewidth\":0,\"ticks\":\"\"}},\"marker\":{\"colorbar\":{\"outlinewidth\":0,\"ticks\":\"\"}},\"type\":\"scatter3d\"}],\"scattercarpet\":[{\"marker\":{\"colorbar\":{\"outlinewidth\":0,\"ticks\":\"\"}},\"type\":\"scattercarpet\"}],\"scattergeo\":[{\"marker\":{\"colorbar\":{\"outlinewidth\":0,\"ticks\":\"\"}},\"type\":\"scattergeo\"}],\"scattergl\":[{\"marker\":{\"colorbar\":{\"outlinewidth\":0,\"ticks\":\"\"}},\"type\":\"scattergl\"}],\"scattermapbox\":[{\"marker\":{\"colorbar\":{\"outlinewidth\":0,\"ticks\":\"\"}},\"type\":\"scattermapbox\"}],\"scatterpolar\":[{\"marker\":{\"colorbar\":{\"outlinewidth\":0,\"ticks\":\"\"}},\"type\":\"scatterpolar\"}],\"scatterpolargl\":[{\"marker\":{\"colorbar\":{\"outlinewidth\":0,\"ticks\":\"\"}},\"type\":\"scatterpolargl\"}],\"scatterternary\":[{\"marker\":{\"colorbar\":{\"outlinewidth\":0,\"ticks\":\"\"}},\"type\":\"scatterternary\"}],\"surface\":[{\"colorbar\":{\"outlinewidth\":0,\"ticks\":\"\"},\"colorscale\":[[0.0,\"#0d0887\"],[0.1111111111111111,\"#46039f\"],[0.2222222222222222,\"#7201a8\"],[0.3333333333333333,\"#9c179e\"],[0.4444444444444444,\"#bd3786\"],[0.5555555555555556,\"#d8576b\"],[0.6666666666666666,\"#ed7953\"],[0.7777777777777778,\"#fb9f3a\"],[0.8888888888888888,\"#fdca26\"],[1.0,\"#f0f921\"]],\"type\":\"surface\"}],\"table\":[{\"cells\":{\"fill\":{\"color\":\"#EBF0F8\"},\"line\":{\"color\":\"white\"}},\"header\":{\"fill\":{\"color\":\"#C8D4E3\"},\"line\":{\"color\":\"white\"}},\"type\":\"table\"}]},\"layout\":{\"annotationdefaults\":{\"arrowcolor\":\"#2a3f5f\",\"arrowhead\":0,\"arrowwidth\":1},\"autotypenumbers\":\"strict\",\"coloraxis\":{\"colorbar\":{\"outlinewidth\":0,\"ticks\":\"\"}},\"colorscale\":{\"diverging\":[[0,\"#8e0152\"],[0.1,\"#c51b7d\"],[0.2,\"#de77ae\"],[0.3,\"#f1b6da\"],[0.4,\"#fde0ef\"],[0.5,\"#f7f7f7\"],[0.6,\"#e6f5d0\"],[0.7,\"#b8e186\"],[0.8,\"#7fbc41\"],[0.9,\"#4d9221\"],[1,\"#276419\"]],\"sequential\":[[0.0,\"#0d0887\"],[0.1111111111111111,\"#46039f\"],[0.2222222222222222,\"#7201a8\"],[0.3333333333333333,\"#9c179e\"],[0.4444444444444444,\"#bd3786\"],[0.5555555555555556,\"#d8576b\"],[0.6666666666666666,\"#ed7953\"],[0.7777777777777778,\"#fb9f3a\"],[0.8888888888888888,\"#fdca26\"],[1.0,\"#f0f921\"]],\"sequentialminus\":[[0.0,\"#0d0887\"],[0.1111111111111111,\"#46039f\"],[0.2222222222222222,\"#7201a8\"],[0.3333333333333333,\"#9c179e\"],[0.4444444444444444,\"#bd3786\"],[0.5555555555555556,\"#d8576b\"],[0.6666666666666666,\"#ed7953\"],[0.7777777777777778,\"#fb9f3a\"],[0.8888888888888888,\"#fdca26\"],[1.0,\"#f0f921\"]]},\"colorway\":[\"#636efa\",\"#EF553B\",\"#00cc96\",\"#ab63fa\",\"#FFA15A\",\"#19d3f3\",\"#FF6692\",\"#B6E880\",\"#FF97FF\",\"#FECB52\"],\"font\":{\"color\":\"#2a3f5f\"},\"geo\":{\"bgcolor\":\"white\",\"lakecolor\":\"white\",\"landcolor\":\"#E5ECF6\",\"showlakes\":true,\"showland\":true,\"subunitcolor\":\"white\"},\"hoverlabel\":{\"align\":\"left\"},\"hovermode\":\"closest\",\"mapbox\":{\"style\":\"light\"},\"paper_bgcolor\":\"white\",\"plot_bgcolor\":\"#E5ECF6\",\"polar\":{\"angularaxis\":{\"gridcolor\":\"white\",\"linecolor\":\"white\",\"ticks\":\"\"},\"bgcolor\":\"#E5ECF6\",\"radialaxis\":{\"gridcolor\":\"white\",\"linecolor\":\"white\",\"ticks\":\"\"}},\"scene\":{\"xaxis\":{\"backgroundcolor\":\"#E5ECF6\",\"gridcolor\":\"white\",\"gridwidth\":2,\"linecolor\":\"white\",\"showbackground\":true,\"ticks\":\"\",\"zerolinecolor\":\"white\"},\"yaxis\":{\"backgroundcolor\":\"#E5ECF6\",\"gridcolor\":\"white\",\"gridwidth\":2,\"linecolor\":\"white\",\"showbackground\":true,\"ticks\":\"\",\"zerolinecolor\":\"white\"},\"zaxis\":{\"backgroundcolor\":\"#E5ECF6\",\"gridcolor\":\"white\",\"gridwidth\":2,\"linecolor\":\"white\",\"showbackground\":true,\"ticks\":\"\",\"zerolinecolor\":\"white\"}},\"shapedefaults\":{\"line\":{\"color\":\"#2a3f5f\"}},\"ternary\":{\"aaxis\":{\"gridcolor\":\"white\",\"linecolor\":\"white\",\"ticks\":\"\"},\"baxis\":{\"gridcolor\":\"white\",\"linecolor\":\"white\",\"ticks\":\"\"},\"bgcolor\":\"#E5ECF6\",\"caxis\":{\"gridcolor\":\"white\",\"linecolor\":\"white\",\"ticks\":\"\"}},\"title\":{\"x\":0.05},\"xaxis\":{\"automargin\":true,\"gridcolor\":\"white\",\"linecolor\":\"white\",\"ticks\":\"\",\"title\":{\"standoff\":15},\"zerolinecolor\":\"white\",\"zerolinewidth\":2},\"yaxis\":{\"automargin\":true,\"gridcolor\":\"white\",\"linecolor\":\"white\",\"ticks\":\"\",\"title\":{\"standoff\":15},\"zerolinecolor\":\"white\",\"zerolinewidth\":2}}},\"xaxis\":{\"title\":{\"text\":\"Birth\"},\"side\":\"bottom\",\"type\":\"linear\",\"range\":[-0.027336051464080812,1.3941386246681213],\"autorange\":false,\"ticks\":\"outside\",\"showline\":true,\"zeroline\":true,\"linewidth\":1,\"linecolor\":\"black\",\"mirror\":false,\"showexponent\":\"all\",\"exponentformat\":\"e\"},\"yaxis\":{\"title\":{\"text\":\"Death\"},\"side\":\"left\",\"type\":\"linear\",\"range\":[-0.027336051464080812,1.3941386246681213],\"autorange\":false,\"scaleanchor\":\"x\",\"scaleratio\":1,\"ticks\":\"outside\",\"showline\":true,\"zeroline\":true,\"linewidth\":1,\"linecolor\":\"black\",\"mirror\":false,\"showexponent\":\"all\",\"exponentformat\":\"e\"},\"width\":500,\"height\":500,\"plot_bgcolor\":\"white\"},                        {\"responsive\": true}                    ).then(function(){\n                            \nvar gd = document.getElementById('2b1c0600-d863-4977-98b3-0a99ef298510');\nvar x = new MutationObserver(function (mutations, observer) {{\n        var display = window.getComputedStyle(gd).display;\n        if (!display || display === 'none') {{\n            console.log([gd, 'removed!']);\n            Plotly.purge(gd);\n            observer.disconnect();\n        }}\n}});\n\n// Listen for the removal of the full notebook cells\nvar notebookContainer = gd.closest('#notebook-container');\nif (notebookContainer) {{\n    x.observe(notebookContainer, {childList: true});\n}}\n\n// Listen for the clearing of the current output cell\nvar outputEl = gd.closest('.output');\nif (outputEl) {{\n    x.observe(outputEl, {childList: true});\n}}\n\n                        })                };                });            </script>        </div>"
     },
     "metadata": {},
     "output_type": "display_data"
    }
   ],
   "source": [
    "diagrams_basic = persistence.fit_transform(point_clouds_basic)\n",
    "\n",
    "plot_diagram(diagrams_basic[-1])"
   ],
   "metadata": {
    "collapsed": false,
    "pycharm": {
     "name": "#%%\n"
    }
   }
  },
  {
   "cell_type": "code",
   "execution_count": 11,
   "outputs": [
    {
     "data": {
      "application/vnd.plotly.v1+json": {
       "data": [
        {
         "hoverinfo": "none",
         "line": {
          "color": "black",
          "dash": "dash",
          "width": 1
         },
         "mode": "lines",
         "showlegend": false,
         "x": [
          -0.03719289302825928,
          1.896837544441223
         ],
         "y": [
          -0.03719289302825928,
          1.896837544441223
         ],
         "type": "scatter"
        },
        {
         "hoverinfo": "text",
         "hovertext": [
          "(0.0, 0.03141454607248306)",
          "(0.0, 0.053112152963876724)",
          "(0.0, 0.05751273036003113)",
          "(0.0, 0.06035071238875389)",
          "(0.0, 0.06438185274600983)",
          "(0.0, 0.07749053090810776)",
          "(0.0, 0.08724172413349152)",
          "(0.0, 0.08729904145002365)",
          "(0.0, 0.0881064161658287)",
          "(0.0, 0.09115999191999435)",
          "(0.0, 0.09623538702726364)",
          "(0.0, 0.10001717507839203)",
          "(0.0, 0.10278966277837753)",
          "(0.0, 0.10432328283786774)",
          "(0.0, 0.10541675984859467)",
          "(0.0, 0.10573526471853256)",
          "(0.0, 0.1070658341050148)",
          "(0.0, 0.1156560629606247)",
          "(0.0, 0.11760226637125015)",
          "(0.0, 0.12054981291294098)",
          "(0.0, 0.12094257771968842)",
          "(0.0, 0.12349183112382889)",
          "(0.0, 0.12453656643629074)",
          "(0.0, 0.12906278669834137)",
          "(0.0, 0.13227137923240662)",
          "(0.0, 0.13260258734226227)",
          "(0.0, 0.1333206444978714)",
          "(0.0, 0.1336311399936676)",
          "(0.0, 0.1346343755722046)",
          "(0.0, 0.1355118453502655)",
          "(0.0, 0.1360335499048233)",
          "(0.0, 0.13628052175045013)",
          "(0.0, 0.13652536273002625)",
          "(0.0, 0.13839049637317657)",
          "(0.0, 0.1391323357820511)",
          "(0.0, 0.14180463552474976)",
          "(0.0, 0.14252711832523346)",
          "(0.0, 0.14385882019996643)",
          "(0.0, 0.143916517496109)",
          "(0.0, 0.14683698117733002)",
          "(0.0, 0.14734244346618652)",
          "(0.0, 0.15173910558223724)",
          "(0.0, 0.15262387692928314)",
          "(0.0, 0.15307866036891937)",
          "(0.0, 0.15316812694072723)",
          "(0.0, 0.16073638200759888)",
          "(0.0, 0.16343726217746735)",
          "(0.0, 0.16550709307193756)",
          "(0.0, 0.16856792569160461)",
          "(0.0, 0.17318959534168243)",
          "(0.0, 0.1758742332458496)",
          "(0.0, 0.17792914807796478)",
          "(0.0, 0.17838720977306366)",
          "(0.0, 0.17987971007823944)",
          "(0.0, 0.18064472079277039)",
          "(0.0, 0.18272796273231506)",
          "(0.0, 0.1847984492778778)",
          "(0.0, 0.18486575782299042)",
          "(0.0, 0.1849672794342041)",
          "(0.0, 0.18722492456436157)",
          "(0.0, 0.18912512063980103)",
          "(0.0, 0.19005614519119263)",
          "(0.0, 0.19090892374515533)",
          "(0.0, 0.19504030048847198)",
          "(0.0, 0.19512514770030975)",
          "(0.0, 0.19732411205768585)",
          "(0.0, 0.19897115230560303)",
          "(0.0, 0.20053371787071228)",
          "(0.0, 0.20314286649227142)",
          "(0.0, 0.2073998600244522)",
          "(0.0, 0.20763197541236877)",
          "(0.0, 0.20831872522830963)",
          "(0.0, 0.20873934030532837)",
          "(0.0, 0.20978303253650665)",
          "(0.0, 0.21278594434261322)",
          "(0.0, 0.2151884287595749)",
          "(0.0, 0.2161523997783661)",
          "(0.0, 0.2185886800289154)",
          "(0.0, 0.22308209538459778)",
          "(0.0, 0.2248009890317917)",
          "(0.0, 0.22602982819080353)",
          "(0.0, 0.23239420354366302)",
          "(0.0, 0.23445387184619904)",
          "(0.0, 0.23537330329418182)",
          "(0.0, 0.23665611445903778)",
          "(0.0, 0.2376384288072586)",
          "(0.0, 0.23933015763759613)",
          "(0.0, 0.24054357409477234)",
          "(0.0, 0.24113276600837708)",
          "(0.0, 0.24405160546302795)",
          "(0.0, 0.24468334019184113)",
          "(0.0, 0.2446926236152649)",
          "(0.0, 0.24515096843242645)",
          "(0.0, 0.2455429881811142)",
          "(0.0, 0.24581164121627808)",
          "(0.0, 0.24663321673870087)",
          "(0.0, 0.24735935032367706)",
          "(0.0, 0.2478717416524887)",
          "(0.0, 0.25088194012641907)",
          "(0.0, 0.2531154453754425)",
          "(0.0, 0.253789484500885)",
          "(0.0, 0.25461292266845703)",
          "(0.0, 0.2548670768737793)",
          "(0.0, 0.2567060887813568)",
          "(0.0, 0.25678831338882446)",
          "(0.0, 0.25713372230529785)",
          "(0.0, 0.25753548741340637)",
          "(0.0, 0.2616860270500183)",
          "(0.0, 0.2617916762828827)",
          "(0.0, 0.2632105052471161)",
          "(0.0, 0.26348811388015747)",
          "(0.0, 0.2639138400554657)",
          "(0.0, 0.2651323080062866)",
          "(0.0, 0.26868829131126404)",
          "(0.0, 0.26998358964920044)",
          "(0.0, 0.2732831537723541)",
          "(0.0, 0.2743663191795349)",
          "(0.0, 0.27481600642204285)",
          "(0.0, 0.27716028690338135)",
          "(0.0, 0.2773165702819824)",
          "(0.0, 0.2773183286190033)",
          "(0.0, 0.27812638878822327)",
          "(0.0, 0.2834736406803131)",
          "(0.0, 0.28375425934791565)",
          "(0.0, 0.28451934456825256)",
          "(0.0, 0.28521981835365295)",
          "(0.0, 0.28657522797584534)",
          "(0.0, 0.2869266867637634)",
          "(0.0, 0.2883821725845337)",
          "(0.0, 0.28865671157836914)",
          "(0.0, 0.28988635540008545)",
          "(0.0, 0.29125693440437317)",
          "(0.0, 0.2920650243759155)",
          "(0.0, 0.2935158610343933)",
          "(0.0, 0.29434719681739807)",
          "(0.0, 0.2972249388694763)",
          "(0.0, 0.2991616129875183)",
          "(0.0, 0.29989126324653625)",
          "(0.0, 0.30057141184806824)",
          "(0.0, 0.3019077181816101)",
          "(0.0, 0.302145779132843)",
          "(0.0, 0.3025544583797455)",
          "(0.0, 0.30259445309638977)",
          "(0.0, 0.3036617636680603)",
          "(0.0, 0.30457866191864014)",
          "(0.0, 0.3046471178531647)",
          "(0.0, 0.305042028427124)",
          "(0.0, 0.3072877824306488)",
          "(0.0, 0.3074885904788971)",
          "(0.0, 0.3094906508922577)",
          "(0.0, 0.3107118606567383)",
          "(0.0, 0.31084543466567993)",
          "(0.0, 0.3115130066871643)",
          "(0.0, 0.3128695487976074)",
          "(0.0, 0.3151618540287018)",
          "(0.0, 0.31694522500038147)",
          "(0.0, 0.3173515498638153)",
          "(0.0, 0.3185628056526184)",
          "(0.0, 0.31964111328125)",
          "(0.0, 0.3199787735939026)",
          "(0.0, 0.3206147253513336)",
          "(0.0, 0.3235209882259369)",
          "(0.0, 0.3240508437156677)",
          "(0.0, 0.3241347372531891)",
          "(0.0, 0.3241385221481323)",
          "(0.0, 0.32451632618904114)",
          "(0.0, 0.32460296154022217)",
          "(0.0, 0.32532280683517456)",
          "(0.0, 0.32571977376937866)",
          "(0.0, 0.32625171542167664)",
          "(0.0, 0.32648423314094543)",
          "(0.0, 0.32826581597328186)",
          "(0.0, 0.3289620280265808)",
          "(0.0, 0.32923632860183716)",
          "(0.0, 0.33002564311027527)",
          "(0.0, 0.33153513073921204)",
          "(0.0, 0.33285439014434814)",
          "(0.0, 0.3331156373023987)",
          "(0.0, 0.3343658745288849)",
          "(0.0, 0.3345773220062256)",
          "(0.0, 0.3390108048915863)",
          "(0.0, 0.3402707278728485)",
          "(0.0, 0.3422462046146393)",
          "(0.0, 0.3424331843852997)",
          "(0.0, 0.34392082691192627)",
          "(0.0, 0.34419912099838257)",
          "(0.0, 0.34683090448379517)",
          "(0.0, 0.3468567728996277)",
          "(0.0, 0.34844037890434265)",
          "(0.0, 0.3502061665058136)",
          "(0.0, 0.35038861632347107)",
          "(0.0, 0.35051509737968445)",
          "(0.0, 0.35140347480773926)",
          "(0.0, 0.3514196276664734)",
          "(0.0, 0.35170236229896545)",
          "(0.0, 0.3529367446899414)",
          "(0.0, 0.35300585627555847)",
          "(0.0, 0.35370051860809326)",
          "(0.0, 0.35477912425994873)",
          "(0.0, 0.355276882648468)",
          "(0.0, 0.35600876808166504)",
          "(0.0, 0.35683584213256836)",
          "(0.0, 0.3576335906982422)",
          "(0.0, 0.35792598128318787)",
          "(0.0, 0.358139306306839)",
          "(0.0, 0.35907360911369324)",
          "(0.0, 0.3612661063671112)",
          "(0.0, 0.3615722954273224)",
          "(0.0, 0.36163753271102905)",
          "(0.0, 0.3629855215549469)",
          "(0.0, 0.36393609642982483)",
          "(0.0, 0.3640703856945038)",
          "(0.0, 0.3649662435054779)",
          "(0.0, 0.366839736700058)",
          "(0.0, 0.36766013503074646)",
          "(0.0, 0.3682102859020233)",
          "(0.0, 0.36976659297943115)",
          "(0.0, 0.37074658274650574)",
          "(0.0, 0.37086373567581177)",
          "(0.0, 0.3709987998008728)",
          "(0.0, 0.37371399998664856)",
          "(0.0, 0.3740956783294678)",
          "(0.0, 0.37493476271629333)",
          "(0.0, 0.3759904205799103)",
          "(0.0, 0.3780902922153473)",
          "(0.0, 0.3795976936817169)",
          "(0.0, 0.37976235151290894)",
          "(0.0, 0.38086822628974915)",
          "(0.0, 0.38112878799438477)",
          "(0.0, 0.382266640663147)",
          "(0.0, 0.3840470314025879)",
          "(0.0, 0.3845164477825165)",
          "(0.0, 0.38544654846191406)",
          "(0.0, 0.3866965174674988)",
          "(0.0, 0.38688015937805176)",
          "(0.0, 0.3876672089099884)",
          "(0.0, 0.38859498500823975)",
          "(0.0, 0.38978099822998047)",
          "(0.0, 0.39115679264068604)",
          "(0.0, 0.3917686343193054)",
          "(0.0, 0.3930598497390747)",
          "(0.0, 0.39478906989097595)",
          "(0.0, 0.3948451280593872)",
          "(0.0, 0.39655059576034546)",
          "(0.0, 0.39680272340774536)",
          "(0.0, 0.3978036344051361)",
          "(0.0, 0.3981902301311493)",
          "(0.0, 0.39967411756515503)",
          "(0.0, 0.40011852979660034)",
          "(0.0, 0.401231050491333)",
          "(0.0, 0.4013533294200897)",
          "(0.0, 0.4015739858150482)",
          "(0.0, 0.4017493724822998)",
          "(0.0, 0.4026486873626709)",
          "(0.0, 0.40337783098220825)",
          "(0.0, 0.40401989221572876)",
          "(0.0, 0.40604132413864136)",
          "(0.0, 0.4063936769962311)",
          "(0.0, 0.4064303934574127)",
          "(0.0, 0.4071580171585083)",
          "(0.0, 0.40839534997940063)",
          "(0.0, 0.40853339433670044)",
          "(0.0, 0.4098367691040039)",
          "(0.0, 0.40995797514915466)",
          "(0.0, 0.4106132388114929)",
          "(0.0, 0.411702036857605)",
          "(0.0, 0.41290271282196045)",
          "(0.0, 0.41361308097839355)",
          "(0.0, 0.41445979475975037)",
          "(0.0, 0.4146173298358917)",
          "(0.0, 0.4160958230495453)",
          "(0.0, 0.4161997139453888)",
          "(0.0, 0.4162824749946594)",
          "(0.0, 0.41729289293289185)",
          "(0.0, 0.4189547896385193)",
          "(0.0, 0.41926777362823486)",
          "(0.0, 0.4194032847881317)",
          "(0.0, 0.42072591185569763)",
          "(0.0, 0.42160138487815857)",
          "(0.0, 0.4247172772884369)",
          "(0.0, 0.42550939321517944)",
          "(0.0, 0.4258708655834198)",
          "(0.0, 0.4271472692489624)",
          "(0.0, 0.42873841524124146)",
          "(0.0, 0.4287968575954437)",
          "(0.0, 0.43004098534584045)",
          "(0.0, 0.4312114119529724)",
          "(0.0, 0.4329872727394104)",
          "(0.0, 0.4337061941623688)",
          "(0.0, 0.43453601002693176)",
          "(0.0, 0.434714674949646)",
          "(0.0, 0.4355531930923462)",
          "(0.0, 0.4358295798301697)",
          "(0.0, 0.4371650516986847)",
          "(0.0, 0.4381586015224457)",
          "(0.0, 0.4381742477416992)",
          "(0.0, 0.43880611658096313)",
          "(0.0, 0.439395010471344)",
          "(0.0, 0.4402397871017456)",
          "(0.0, 0.4406498670578003)",
          "(0.0, 0.4409354329109192)",
          "(0.0, 0.44178736209869385)",
          "(0.0, 0.44209223985671997)",
          "(0.0, 0.44427844882011414)",
          "(0.0, 0.4449974298477173)",
          "(0.0, 0.44598186016082764)",
          "(0.0, 0.4465801417827606)",
          "(0.0, 0.4466211795806885)",
          "(0.0, 0.4468551576137543)",
          "(0.0, 0.447315514087677)",
          "(0.0, 0.4485827386379242)",
          "(0.0, 0.44895654916763306)",
          "(0.0, 0.4511231482028961)",
          "(0.0, 0.45351937413215637)",
          "(0.0, 0.4537428319454193)",
          "(0.0, 0.4540852904319763)",
          "(0.0, 0.4544370770454407)",
          "(0.0, 0.4544551968574524)",
          "(0.0, 0.4546317458152771)",
          "(0.0, 0.4555794894695282)",
          "(0.0, 0.45639660954475403)",
          "(0.0, 0.4567889869213104)",
          "(0.0, 0.4568027853965759)",
          "(0.0, 0.4580858647823334)",
          "(0.0, 0.45831099152565)",
          "(0.0, 0.45897769927978516)",
          "(0.0, 0.459690123796463)",
          "(0.0, 0.4599917232990265)",
          "(0.0, 0.4606671929359436)",
          "(0.0, 0.46155601739883423)",
          "(0.0, 0.46291205286979675)",
          "(0.0, 0.46486425399780273)",
          "(0.0, 0.467059850692749)",
          "(0.0, 0.468428373336792)",
          "(0.0, 0.468528151512146)",
          "(0.0, 0.47004157304763794)",
          "(0.0, 0.4714074730873108)",
          "(0.0, 0.47318965196609497)",
          "(0.0, 0.47385743260383606)",
          "(0.0, 0.47512415051460266)",
          "(0.0, 0.47514408826828003)",
          "(0.0, 0.4753960371017456)",
          "(0.0, 0.4758840501308441)",
          "(0.0, 0.4776030480861664)",
          "(0.0, 0.4790274500846863)",
          "(0.0, 0.47952377796173096)",
          "(0.0, 0.480017751455307)",
          "(0.0, 0.4806463122367859)",
          "(0.0, 0.4813201427459717)",
          "(0.0, 0.48245784640312195)",
          "(0.0, 0.483430415391922)",
          "(0.0, 0.4841848909854889)",
          "(0.0, 0.4854702651500702)",
          "(0.0, 0.48590192198753357)",
          "(0.0, 0.4883236885070801)",
          "(0.0, 0.4913404583930969)",
          "(0.0, 0.491909384727478)",
          "(0.0, 0.49280181527137756)",
          "(0.0, 0.4928504526615143)",
          "(0.0, 0.4963107705116272)",
          "(0.0, 0.49846675992012024)",
          "(0.0, 0.5028456449508667)",
          "(0.0, 0.5047450065612793)",
          "(0.0, 0.5078567862510681)",
          "(0.0, 0.5082818269729614)",
          "(0.0, 0.5085129141807556)",
          "(0.0, 0.5087293982505798)",
          "(0.0, 0.510086178779602)",
          "(0.0, 0.5114043354988098)",
          "(0.0, 0.5137563943862915)",
          "(0.0, 0.514196515083313)",
          "(0.0, 0.516197144985199)",
          "(0.0, 0.5171780586242676)",
          "(0.0, 0.5183648467063904)",
          "(0.0, 0.5211325287818909)",
          "(0.0, 0.5215126872062683)",
          "(0.0, 0.5237378478050232)",
          "(0.0, 0.5238412618637085)",
          "(0.0, 0.5240305066108704)",
          "(0.0, 0.5257082581520081)",
          "(0.0, 0.5271981954574585)",
          "(0.0, 0.52808678150177)",
          "(0.0, 0.5293242335319519)",
          "(0.0, 0.530603289604187)",
          "(0.0, 0.5353134274482727)",
          "(0.0, 0.5370774865150452)",
          "(0.0, 0.53803950548172)",
          "(0.0, 0.5394805073738098)",
          "(0.0, 0.5437326431274414)",
          "(0.0, 0.543768048286438)",
          "(0.0, 0.5454224944114685)",
          "(0.0, 0.5616950392723083)",
          "(0.0, 0.575557291507721)",
          "(0.0, 0.5778852701187134)",
          "(0.0, 0.5801684260368347)",
          "(0.0, 0.5854400992393494)",
          "(0.0, 0.5878113508224487)",
          "(0.0, 0.5892622470855713)",
          "(0.0, 0.6378134489059448)"
         ],
         "mode": "markers",
         "name": "H0",
         "x": [
          0.0,
          0.0,
          0.0,
          0.0,
          0.0,
          0.0,
          0.0,
          0.0,
          0.0,
          0.0,
          0.0,
          0.0,
          0.0,
          0.0,
          0.0,
          0.0,
          0.0,
          0.0,
          0.0,
          0.0,
          0.0,
          0.0,
          0.0,
          0.0,
          0.0,
          0.0,
          0.0,
          0.0,
          0.0,
          0.0,
          0.0,
          0.0,
          0.0,
          0.0,
          0.0,
          0.0,
          0.0,
          0.0,
          0.0,
          0.0,
          0.0,
          0.0,
          0.0,
          0.0,
          0.0,
          0.0,
          0.0,
          0.0,
          0.0,
          0.0,
          0.0,
          0.0,
          0.0,
          0.0,
          0.0,
          0.0,
          0.0,
          0.0,
          0.0,
          0.0,
          0.0,
          0.0,
          0.0,
          0.0,
          0.0,
          0.0,
          0.0,
          0.0,
          0.0,
          0.0,
          0.0,
          0.0,
          0.0,
          0.0,
          0.0,
          0.0,
          0.0,
          0.0,
          0.0,
          0.0,
          0.0,
          0.0,
          0.0,
          0.0,
          0.0,
          0.0,
          0.0,
          0.0,
          0.0,
          0.0,
          0.0,
          0.0,
          0.0,
          0.0,
          0.0,
          0.0,
          0.0,
          0.0,
          0.0,
          0.0,
          0.0,
          0.0,
          0.0,
          0.0,
          0.0,
          0.0,
          0.0,
          0.0,
          0.0,
          0.0,
          0.0,
          0.0,
          0.0,
          0.0,
          0.0,
          0.0,
          0.0,
          0.0,
          0.0,
          0.0,
          0.0,
          0.0,
          0.0,
          0.0,
          0.0,
          0.0,
          0.0,
          0.0,
          0.0,
          0.0,
          0.0,
          0.0,
          0.0,
          0.0,
          0.0,
          0.0,
          0.0,
          0.0,
          0.0,
          0.0,
          0.0,
          0.0,
          0.0,
          0.0,
          0.0,
          0.0,
          0.0,
          0.0,
          0.0,
          0.0,
          0.0,
          0.0,
          0.0,
          0.0,
          0.0,
          0.0,
          0.0,
          0.0,
          0.0,
          0.0,
          0.0,
          0.0,
          0.0,
          0.0,
          0.0,
          0.0,
          0.0,
          0.0,
          0.0,
          0.0,
          0.0,
          0.0,
          0.0,
          0.0,
          0.0,
          0.0,
          0.0,
          0.0,
          0.0,
          0.0,
          0.0,
          0.0,
          0.0,
          0.0,
          0.0,
          0.0,
          0.0,
          0.0,
          0.0,
          0.0,
          0.0,
          0.0,
          0.0,
          0.0,
          0.0,
          0.0,
          0.0,
          0.0,
          0.0,
          0.0,
          0.0,
          0.0,
          0.0,
          0.0,
          0.0,
          0.0,
          0.0,
          0.0,
          0.0,
          0.0,
          0.0,
          0.0,
          0.0,
          0.0,
          0.0,
          0.0,
          0.0,
          0.0,
          0.0,
          0.0,
          0.0,
          0.0,
          0.0,
          0.0,
          0.0,
          0.0,
          0.0,
          0.0,
          0.0,
          0.0,
          0.0,
          0.0,
          0.0,
          0.0,
          0.0,
          0.0,
          0.0,
          0.0,
          0.0,
          0.0,
          0.0,
          0.0,
          0.0,
          0.0,
          0.0,
          0.0,
          0.0,
          0.0,
          0.0,
          0.0,
          0.0,
          0.0,
          0.0,
          0.0,
          0.0,
          0.0,
          0.0,
          0.0,
          0.0,
          0.0,
          0.0,
          0.0,
          0.0,
          0.0,
          0.0,
          0.0,
          0.0,
          0.0,
          0.0,
          0.0,
          0.0,
          0.0,
          0.0,
          0.0,
          0.0,
          0.0,
          0.0,
          0.0,
          0.0,
          0.0,
          0.0,
          0.0,
          0.0,
          0.0,
          0.0,
          0.0,
          0.0,
          0.0,
          0.0,
          0.0,
          0.0,
          0.0,
          0.0,
          0.0,
          0.0,
          0.0,
          0.0,
          0.0,
          0.0,
          0.0,
          0.0,
          0.0,
          0.0,
          0.0,
          0.0,
          0.0,
          0.0,
          0.0,
          0.0,
          0.0,
          0.0,
          0.0,
          0.0,
          0.0,
          0.0,
          0.0,
          0.0,
          0.0,
          0.0,
          0.0,
          0.0,
          0.0,
          0.0,
          0.0,
          0.0,
          0.0,
          0.0,
          0.0,
          0.0,
          0.0,
          0.0,
          0.0,
          0.0,
          0.0,
          0.0,
          0.0,
          0.0,
          0.0,
          0.0,
          0.0,
          0.0,
          0.0,
          0.0,
          0.0,
          0.0,
          0.0,
          0.0,
          0.0,
          0.0,
          0.0,
          0.0,
          0.0,
          0.0,
          0.0,
          0.0,
          0.0,
          0.0,
          0.0,
          0.0,
          0.0,
          0.0,
          0.0,
          0.0,
          0.0,
          0.0,
          0.0,
          0.0,
          0.0,
          0.0,
          0.0,
          0.0,
          0.0,
          0.0,
          0.0,
          0.0,
          0.0,
          0.0,
          0.0,
          0.0,
          0.0,
          0.0,
          0.0,
          0.0,
          0.0,
          0.0,
          0.0,
          0.0,
          0.0,
          0.0,
          0.0,
          0.0,
          0.0,
          0.0,
          0.0,
          0.0,
          0.0,
          0.0,
          0.0,
          0.0
         ],
         "y": [
          0.03141454607248306,
          0.053112152963876724,
          0.05751273036003113,
          0.06035071238875389,
          0.06438185274600983,
          0.07749053090810776,
          0.08724172413349152,
          0.08729904145002365,
          0.0881064161658287,
          0.09115999191999435,
          0.09623538702726364,
          0.10001717507839203,
          0.10278966277837753,
          0.10432328283786774,
          0.10541675984859467,
          0.10573526471853256,
          0.1070658341050148,
          0.1156560629606247,
          0.11760226637125015,
          0.12054981291294098,
          0.12094257771968842,
          0.12349183112382889,
          0.12453656643629074,
          0.12906278669834137,
          0.13227137923240662,
          0.13260258734226227,
          0.1333206444978714,
          0.1336311399936676,
          0.1346343755722046,
          0.1355118453502655,
          0.1360335499048233,
          0.13628052175045013,
          0.13652536273002625,
          0.13839049637317657,
          0.1391323357820511,
          0.14180463552474976,
          0.14252711832523346,
          0.14385882019996643,
          0.143916517496109,
          0.14683698117733002,
          0.14734244346618652,
          0.15173910558223724,
          0.15262387692928314,
          0.15307866036891937,
          0.15316812694072723,
          0.16073638200759888,
          0.16343726217746735,
          0.16550709307193756,
          0.16856792569160461,
          0.17318959534168243,
          0.1758742332458496,
          0.17792914807796478,
          0.17838720977306366,
          0.17987971007823944,
          0.18064472079277039,
          0.18272796273231506,
          0.1847984492778778,
          0.18486575782299042,
          0.1849672794342041,
          0.18722492456436157,
          0.18912512063980103,
          0.19005614519119263,
          0.19090892374515533,
          0.19504030048847198,
          0.19512514770030975,
          0.19732411205768585,
          0.19897115230560303,
          0.20053371787071228,
          0.20314286649227142,
          0.2073998600244522,
          0.20763197541236877,
          0.20831872522830963,
          0.20873934030532837,
          0.20978303253650665,
          0.21278594434261322,
          0.2151884287595749,
          0.2161523997783661,
          0.2185886800289154,
          0.22308209538459778,
          0.2248009890317917,
          0.22602982819080353,
          0.23239420354366302,
          0.23445387184619904,
          0.23537330329418182,
          0.23665611445903778,
          0.2376384288072586,
          0.23933015763759613,
          0.24054357409477234,
          0.24113276600837708,
          0.24405160546302795,
          0.24468334019184113,
          0.2446926236152649,
          0.24515096843242645,
          0.2455429881811142,
          0.24581164121627808,
          0.24663321673870087,
          0.24735935032367706,
          0.2478717416524887,
          0.25088194012641907,
          0.2531154453754425,
          0.253789484500885,
          0.25461292266845703,
          0.2548670768737793,
          0.2567060887813568,
          0.25678831338882446,
          0.25713372230529785,
          0.25753548741340637,
          0.2616860270500183,
          0.2617916762828827,
          0.2632105052471161,
          0.26348811388015747,
          0.2639138400554657,
          0.2651323080062866,
          0.26868829131126404,
          0.26998358964920044,
          0.2732831537723541,
          0.2743663191795349,
          0.27481600642204285,
          0.27716028690338135,
          0.2773165702819824,
          0.2773183286190033,
          0.27812638878822327,
          0.2834736406803131,
          0.28375425934791565,
          0.28451934456825256,
          0.28521981835365295,
          0.28657522797584534,
          0.2869266867637634,
          0.2883821725845337,
          0.28865671157836914,
          0.28988635540008545,
          0.29125693440437317,
          0.2920650243759155,
          0.2935158610343933,
          0.29434719681739807,
          0.2972249388694763,
          0.2991616129875183,
          0.29989126324653625,
          0.30057141184806824,
          0.3019077181816101,
          0.302145779132843,
          0.3025544583797455,
          0.30259445309638977,
          0.3036617636680603,
          0.30457866191864014,
          0.3046471178531647,
          0.305042028427124,
          0.3072877824306488,
          0.3074885904788971,
          0.3094906508922577,
          0.3107118606567383,
          0.31084543466567993,
          0.3115130066871643,
          0.3128695487976074,
          0.3151618540287018,
          0.31694522500038147,
          0.3173515498638153,
          0.3185628056526184,
          0.31964111328125,
          0.3199787735939026,
          0.3206147253513336,
          0.3235209882259369,
          0.3240508437156677,
          0.3241347372531891,
          0.3241385221481323,
          0.32451632618904114,
          0.32460296154022217,
          0.32532280683517456,
          0.32571977376937866,
          0.32625171542167664,
          0.32648423314094543,
          0.32826581597328186,
          0.3289620280265808,
          0.32923632860183716,
          0.33002564311027527,
          0.33153513073921204,
          0.33285439014434814,
          0.3331156373023987,
          0.3343658745288849,
          0.3345773220062256,
          0.3390108048915863,
          0.3402707278728485,
          0.3422462046146393,
          0.3424331843852997,
          0.34392082691192627,
          0.34419912099838257,
          0.34683090448379517,
          0.3468567728996277,
          0.34844037890434265,
          0.3502061665058136,
          0.35038861632347107,
          0.35051509737968445,
          0.35140347480773926,
          0.3514196276664734,
          0.35170236229896545,
          0.3529367446899414,
          0.35300585627555847,
          0.35370051860809326,
          0.35477912425994873,
          0.355276882648468,
          0.35600876808166504,
          0.35683584213256836,
          0.3576335906982422,
          0.35792598128318787,
          0.358139306306839,
          0.35907360911369324,
          0.3612661063671112,
          0.3615722954273224,
          0.36163753271102905,
          0.3629855215549469,
          0.36393609642982483,
          0.3640703856945038,
          0.3649662435054779,
          0.366839736700058,
          0.36766013503074646,
          0.3682102859020233,
          0.36976659297943115,
          0.37074658274650574,
          0.37086373567581177,
          0.3709987998008728,
          0.37371399998664856,
          0.3740956783294678,
          0.37493476271629333,
          0.3759904205799103,
          0.3780902922153473,
          0.3795976936817169,
          0.37976235151290894,
          0.38086822628974915,
          0.38112878799438477,
          0.382266640663147,
          0.3840470314025879,
          0.3845164477825165,
          0.38544654846191406,
          0.3866965174674988,
          0.38688015937805176,
          0.3876672089099884,
          0.38859498500823975,
          0.38978099822998047,
          0.39115679264068604,
          0.3917686343193054,
          0.3930598497390747,
          0.39478906989097595,
          0.3948451280593872,
          0.39655059576034546,
          0.39680272340774536,
          0.3978036344051361,
          0.3981902301311493,
          0.39967411756515503,
          0.40011852979660034,
          0.401231050491333,
          0.4013533294200897,
          0.4015739858150482,
          0.4017493724822998,
          0.4026486873626709,
          0.40337783098220825,
          0.40401989221572876,
          0.40604132413864136,
          0.4063936769962311,
          0.4064303934574127,
          0.4071580171585083,
          0.40839534997940063,
          0.40853339433670044,
          0.4098367691040039,
          0.40995797514915466,
          0.4106132388114929,
          0.411702036857605,
          0.41290271282196045,
          0.41361308097839355,
          0.41445979475975037,
          0.4146173298358917,
          0.4160958230495453,
          0.4161997139453888,
          0.4162824749946594,
          0.41729289293289185,
          0.4189547896385193,
          0.41926777362823486,
          0.4194032847881317,
          0.42072591185569763,
          0.42160138487815857,
          0.4247172772884369,
          0.42550939321517944,
          0.4258708655834198,
          0.4271472692489624,
          0.42873841524124146,
          0.4287968575954437,
          0.43004098534584045,
          0.4312114119529724,
          0.4329872727394104,
          0.4337061941623688,
          0.43453601002693176,
          0.434714674949646,
          0.4355531930923462,
          0.4358295798301697,
          0.4371650516986847,
          0.4381586015224457,
          0.4381742477416992,
          0.43880611658096313,
          0.439395010471344,
          0.4402397871017456,
          0.4406498670578003,
          0.4409354329109192,
          0.44178736209869385,
          0.44209223985671997,
          0.44427844882011414,
          0.4449974298477173,
          0.44598186016082764,
          0.4465801417827606,
          0.4466211795806885,
          0.4468551576137543,
          0.447315514087677,
          0.4485827386379242,
          0.44895654916763306,
          0.4511231482028961,
          0.45351937413215637,
          0.4537428319454193,
          0.4540852904319763,
          0.4544370770454407,
          0.4544551968574524,
          0.4546317458152771,
          0.4555794894695282,
          0.45639660954475403,
          0.4567889869213104,
          0.4568027853965759,
          0.4580858647823334,
          0.45831099152565,
          0.45897769927978516,
          0.459690123796463,
          0.4599917232990265,
          0.4606671929359436,
          0.46155601739883423,
          0.46291205286979675,
          0.46486425399780273,
          0.467059850692749,
          0.468428373336792,
          0.468528151512146,
          0.47004157304763794,
          0.4714074730873108,
          0.47318965196609497,
          0.47385743260383606,
          0.47512415051460266,
          0.47514408826828003,
          0.4753960371017456,
          0.4758840501308441,
          0.4776030480861664,
          0.4790274500846863,
          0.47952377796173096,
          0.480017751455307,
          0.4806463122367859,
          0.4813201427459717,
          0.48245784640312195,
          0.483430415391922,
          0.4841848909854889,
          0.4854702651500702,
          0.48590192198753357,
          0.4883236885070801,
          0.4913404583930969,
          0.491909384727478,
          0.49280181527137756,
          0.4928504526615143,
          0.4963107705116272,
          0.49846675992012024,
          0.5028456449508667,
          0.5047450065612793,
          0.5078567862510681,
          0.5082818269729614,
          0.5085129141807556,
          0.5087293982505798,
          0.510086178779602,
          0.5114043354988098,
          0.5137563943862915,
          0.514196515083313,
          0.516197144985199,
          0.5171780586242676,
          0.5183648467063904,
          0.5211325287818909,
          0.5215126872062683,
          0.5237378478050232,
          0.5238412618637085,
          0.5240305066108704,
          0.5257082581520081,
          0.5271981954574585,
          0.52808678150177,
          0.5293242335319519,
          0.530603289604187,
          0.5353134274482727,
          0.5370774865150452,
          0.53803950548172,
          0.5394805073738098,
          0.5437326431274414,
          0.543768048286438,
          0.5454224944114685,
          0.5616950392723083,
          0.575557291507721,
          0.5778852701187134,
          0.5801684260368347,
          0.5854400992393494,
          0.5878113508224487,
          0.5892622470855713,
          0.6378134489059448
         ],
         "type": "scatter"
        },
        {
         "hoverinfo": "text",
         "hovertext": [
          "(1.117208480834961, 1.1932733058929443)",
          "(1.0743420124053955, 1.1114590167999268)",
          "(1.0653138160705566, 1.1858068704605103)",
          "(1.0487052202224731, 1.1162360906600952)",
          "(0.9393293857574463, 1.1416929960250854)",
          "(0.9104860424995422, 0.9187625646591187)",
          "(0.9073718190193176, 1.0285332202911377)",
          "(0.8693644404411316, 0.903236985206604)",
          "(0.8664143681526184, 0.878748893737793)",
          "(0.8463257551193237, 0.9331099390983582)",
          "(0.8415030241012573, 0.965606153011322)",
          "(0.8285553455352783, 0.8301553726196289)",
          "(0.8194668292999268, 0.8462142944335938)",
          "(0.7897803783416748, 0.8260862231254578)",
          "(0.7860618233680725, 0.9739755988121033)",
          "(0.783483624458313, 0.8038427829742432)",
          "(0.7784036993980408, 0.9716511368751526)",
          "(0.762907862663269, 0.8704125285148621)",
          "(0.7381055951118469, 0.804509699344635)",
          "(0.72341388463974, 1.0372819900512695)",
          "(0.7183573246002197, 0.8047932386398315)",
          "(0.7175759673118591, 0.7221390604972839)",
          "(0.7162172794342041, 0.7185789942741394)",
          "(0.7105692625045776, 0.7548190355300903)",
          "(0.7088017463684082, 0.7210737466812134)",
          "(0.7024983763694763, 0.8869495987892151)",
          "(0.7006717324256897, 0.8162851929664612)",
          "(0.6977736353874207, 0.7431971430778503)",
          "(0.6935440897941589, 0.863588273525238)",
          "(0.6894213557243347, 1.0093291997909546)",
          "(0.6859018206596375, 0.8045668005943298)",
          "(0.6801912188529968, 0.7187925577163696)",
          "(0.6801226139068604, 0.8491023778915405)",
          "(0.6757891178131104, 0.683948278427124)",
          "(0.6684505343437195, 0.8690146803855896)",
          "(0.6682926416397095, 0.7591891884803772)",
          "(0.6617903709411621, 0.7980580925941467)",
          "(0.6607697606086731, 0.712648868560791)",
          "(0.6578657627105713, 0.7046610713005066)",
          "(0.6500012278556824, 0.7169131636619568)",
          "(0.6485930681228638, 0.7004366517066956)",
          "(0.6389539837837219, 0.6546590924263)",
          "(0.6336548328399658, 0.7437660098075867)",
          "(0.6315973401069641, 0.7795119881629944)",
          "(0.6236411929130554, 0.7279600501060486)",
          "(0.6140462160110474, 0.894929826259613)",
          "(0.6137924790382385, 0.9618285894393921)",
          "(0.6102375388145447, 0.6653814315795898)",
          "(0.6099710464477539, 0.7575433850288391)",
          "(0.6089248657226562, 0.6256759762763977)",
          "(0.6084001660346985, 1.1804754734039307)",
          "(0.6045770049095154, 0.6272715330123901)",
          "(0.6045169234275818, 0.7627630233764648)",
          "(0.6044600605964661, 0.7863786816596985)",
          "(0.6007028818130493, 0.7201816439628601)",
          "(0.5973336100578308, 0.9516847133636475)",
          "(0.5937222242355347, 0.677503228187561)",
          "(0.5920138359069824, 0.7595112323760986)",
          "(0.590934157371521, 0.7456536293029785)",
          "(0.5886935591697693, 0.5988391637802124)",
          "(0.5885902047157288, 0.6960759162902832)",
          "(0.58440762758255, 0.6886003017425537)",
          "(0.5840474367141724, 0.6201430559158325)",
          "(0.5795149207115173, 0.8158982992172241)",
          "(0.5789198875427246, 0.8891724348068237)",
          "(0.5780003666877747, 0.587834894657135)",
          "(0.576375424861908, 0.7371195554733276)",
          "(0.5755065679550171, 0.5822517275810242)",
          "(0.5735355615615845, 0.7268625497817993)",
          "(0.5732077360153198, 0.6902815699577332)",
          "(0.5728111863136292, 1.0588003396987915)",
          "(0.5710954070091248, 1.2523831129074097)",
          "(0.5707167387008667, 0.6293948292732239)",
          "(0.5665176510810852, 0.6681663990020752)",
          "(0.5553027391433716, 0.914836049079895)",
          "(0.5546802878379822, 0.9220370650291443)",
          "(0.5533725023269653, 1.267104148864746)",
          "(0.5522528290748596, 0.8600521087646484)",
          "(0.5491327047348022, 0.6119354963302612)",
          "(0.5465347170829773, 0.6863009333610535)",
          "(0.5456953048706055, 0.6760508418083191)",
          "(0.5439526438713074, 0.6578859686851501)",
          "(0.5412832498550415, 0.914004385471344)",
          "(0.5310171842575073, 0.622576892375946)",
          "(0.5296775102615356, 0.5894432067871094)",
          "(0.5291086435317993, 0.5361002087593079)",
          "(0.5279666185379028, 0.5407492518424988)",
          "(0.5273035764694214, 0.8081108331680298)",
          "(0.5266121029853821, 0.5292173027992249)",
          "(0.5262557864189148, 0.5648585557937622)",
          "(0.5234031081199646, 0.5997481346130371)",
          "(0.5178683400154114, 0.6276307702064514)",
          "(0.5149520635604858, 0.5250585675239563)",
          "(0.5122802257537842, 0.6076545715332031)",
          "(0.5101268291473389, 0.7649330496788025)",
          "(0.5084614157676697, 0.7986176013946533)",
          "(0.5082254409790039, 0.6516696810722351)",
          "(0.5074655413627625, 0.9119413495063782)",
          "(0.5062188506126404, 0.6331676244735718)",
          "(0.5042716860771179, 1.215938687324524)",
          "(0.503990888595581, 0.600658118724823)",
          "(0.503742516040802, 1.3108477592468262)",
          "(0.5035847425460815, 0.5796747207641602)",
          "(0.5021011829376221, 0.5743541121482849)",
          "(0.5018959641456604, 0.5618870854377747)",
          "(0.5007203221321106, 0.6752691268920898)",
          "(0.497027724981308, 0.6770074963569641)",
          "(0.4961910843849182, 1.5421838760375977)",
          "(0.49560749530792236, 0.49899351596832275)",
          "(0.49552059173583984, 0.7589893341064453)",
          "(0.49494725465774536, 0.6689400672912598)",
          "(0.4944545328617096, 0.6693505048751831)",
          "(0.4885587990283966, 0.518406867980957)",
          "(0.48847973346710205, 0.5220935344696045)",
          "(0.4881219267845154, 0.6154804825782776)",
          "(0.47869136929512024, 0.4869704246520996)",
          "(0.4717622399330139, 0.5913323163986206)",
          "(0.46403756737709045, 0.6098359227180481)",
          "(0.4619188904762268, 0.5552235245704651)",
          "(0.4593599736690521, 0.5623869299888611)",
          "(0.45821893215179443, 0.46985429525375366)",
          "(0.44912025332450867, 0.5366211533546448)",
          "(0.4467467963695526, 0.5227285027503967)",
          "(0.44357505440711975, 0.5085134506225586)",
          "(0.4396930932998657, 0.4769071638584137)",
          "(0.4384211599826813, 0.6933793425559998)",
          "(0.42766910791397095, 0.4755341112613678)",
          "(0.42240867018699646, 0.4395331144332886)",
          "(0.4202328622341156, 0.4428490698337555)",
          "(0.416224867105484, 0.424354612827301)",
          "(0.4057796001434326, 0.5773102045059204)",
          "(0.39811110496520996, 0.6916094422340393)",
          "(0.38266074657440186, 0.4033348262310028)",
          "(0.3699144423007965, 0.38072672486305237)",
          "(0.3671439588069916, 0.46007928252220154)",
          "(0.3459920287132263, 0.39198556542396545)"
         ],
         "mode": "markers",
         "name": "H1",
         "x": [
          1.117208480834961,
          1.0743420124053955,
          1.0653138160705566,
          1.0487052202224731,
          0.9393293857574463,
          0.9104860424995422,
          0.9073718190193176,
          0.8693644404411316,
          0.8664143681526184,
          0.8463257551193237,
          0.8415030241012573,
          0.8285553455352783,
          0.8194668292999268,
          0.7897803783416748,
          0.7860618233680725,
          0.783483624458313,
          0.7784036993980408,
          0.762907862663269,
          0.7381055951118469,
          0.72341388463974,
          0.7183573246002197,
          0.7175759673118591,
          0.7162172794342041,
          0.7105692625045776,
          0.7088017463684082,
          0.7024983763694763,
          0.7006717324256897,
          0.6977736353874207,
          0.6935440897941589,
          0.6894213557243347,
          0.6859018206596375,
          0.6801912188529968,
          0.6801226139068604,
          0.6757891178131104,
          0.6684505343437195,
          0.6682926416397095,
          0.6617903709411621,
          0.6607697606086731,
          0.6578657627105713,
          0.6500012278556824,
          0.6485930681228638,
          0.6389539837837219,
          0.6336548328399658,
          0.6315973401069641,
          0.6236411929130554,
          0.6140462160110474,
          0.6137924790382385,
          0.6102375388145447,
          0.6099710464477539,
          0.6089248657226562,
          0.6084001660346985,
          0.6045770049095154,
          0.6045169234275818,
          0.6044600605964661,
          0.6007028818130493,
          0.5973336100578308,
          0.5937222242355347,
          0.5920138359069824,
          0.590934157371521,
          0.5886935591697693,
          0.5885902047157288,
          0.58440762758255,
          0.5840474367141724,
          0.5795149207115173,
          0.5789198875427246,
          0.5780003666877747,
          0.576375424861908,
          0.5755065679550171,
          0.5735355615615845,
          0.5732077360153198,
          0.5728111863136292,
          0.5710954070091248,
          0.5707167387008667,
          0.5665176510810852,
          0.5553027391433716,
          0.5546802878379822,
          0.5533725023269653,
          0.5522528290748596,
          0.5491327047348022,
          0.5465347170829773,
          0.5456953048706055,
          0.5439526438713074,
          0.5412832498550415,
          0.5310171842575073,
          0.5296775102615356,
          0.5291086435317993,
          0.5279666185379028,
          0.5273035764694214,
          0.5266121029853821,
          0.5262557864189148,
          0.5234031081199646,
          0.5178683400154114,
          0.5149520635604858,
          0.5122802257537842,
          0.5101268291473389,
          0.5084614157676697,
          0.5082254409790039,
          0.5074655413627625,
          0.5062188506126404,
          0.5042716860771179,
          0.503990888595581,
          0.503742516040802,
          0.5035847425460815,
          0.5021011829376221,
          0.5018959641456604,
          0.5007203221321106,
          0.497027724981308,
          0.4961910843849182,
          0.49560749530792236,
          0.49552059173583984,
          0.49494725465774536,
          0.4944545328617096,
          0.4885587990283966,
          0.48847973346710205,
          0.4881219267845154,
          0.47869136929512024,
          0.4717622399330139,
          0.46403756737709045,
          0.4619188904762268,
          0.4593599736690521,
          0.45821893215179443,
          0.44912025332450867,
          0.4467467963695526,
          0.44357505440711975,
          0.4396930932998657,
          0.4384211599826813,
          0.42766910791397095,
          0.42240867018699646,
          0.4202328622341156,
          0.416224867105484,
          0.4057796001434326,
          0.39811110496520996,
          0.38266074657440186,
          0.3699144423007965,
          0.3671439588069916,
          0.3459920287132263
         ],
         "y": [
          1.1932733058929443,
          1.1114590167999268,
          1.1858068704605103,
          1.1162360906600952,
          1.1416929960250854,
          0.9187625646591187,
          1.0285332202911377,
          0.903236985206604,
          0.878748893737793,
          0.9331099390983582,
          0.965606153011322,
          0.8301553726196289,
          0.8462142944335938,
          0.8260862231254578,
          0.9739755988121033,
          0.8038427829742432,
          0.9716511368751526,
          0.8704125285148621,
          0.804509699344635,
          1.0372819900512695,
          0.8047932386398315,
          0.7221390604972839,
          0.7185789942741394,
          0.7548190355300903,
          0.7210737466812134,
          0.8869495987892151,
          0.8162851929664612,
          0.7431971430778503,
          0.863588273525238,
          1.0093291997909546,
          0.8045668005943298,
          0.7187925577163696,
          0.8491023778915405,
          0.683948278427124,
          0.8690146803855896,
          0.7591891884803772,
          0.7980580925941467,
          0.712648868560791,
          0.7046610713005066,
          0.7169131636619568,
          0.7004366517066956,
          0.6546590924263,
          0.7437660098075867,
          0.7795119881629944,
          0.7279600501060486,
          0.894929826259613,
          0.9618285894393921,
          0.6653814315795898,
          0.7575433850288391,
          0.6256759762763977,
          1.1804754734039307,
          0.6272715330123901,
          0.7627630233764648,
          0.7863786816596985,
          0.7201816439628601,
          0.9516847133636475,
          0.677503228187561,
          0.7595112323760986,
          0.7456536293029785,
          0.5988391637802124,
          0.6960759162902832,
          0.6886003017425537,
          0.6201430559158325,
          0.8158982992172241,
          0.8891724348068237,
          0.587834894657135,
          0.7371195554733276,
          0.5822517275810242,
          0.7268625497817993,
          0.6902815699577332,
          1.0588003396987915,
          1.2523831129074097,
          0.6293948292732239,
          0.6681663990020752,
          0.914836049079895,
          0.9220370650291443,
          1.267104148864746,
          0.8600521087646484,
          0.6119354963302612,
          0.6863009333610535,
          0.6760508418083191,
          0.6578859686851501,
          0.914004385471344,
          0.622576892375946,
          0.5894432067871094,
          0.5361002087593079,
          0.5407492518424988,
          0.8081108331680298,
          0.5292173027992249,
          0.5648585557937622,
          0.5997481346130371,
          0.6276307702064514,
          0.5250585675239563,
          0.6076545715332031,
          0.7649330496788025,
          0.7986176013946533,
          0.6516696810722351,
          0.9119413495063782,
          0.6331676244735718,
          1.215938687324524,
          0.600658118724823,
          1.3108477592468262,
          0.5796747207641602,
          0.5743541121482849,
          0.5618870854377747,
          0.6752691268920898,
          0.6770074963569641,
          1.5421838760375977,
          0.49899351596832275,
          0.7589893341064453,
          0.6689400672912598,
          0.6693505048751831,
          0.518406867980957,
          0.5220935344696045,
          0.6154804825782776,
          0.4869704246520996,
          0.5913323163986206,
          0.6098359227180481,
          0.5552235245704651,
          0.5623869299888611,
          0.46985429525375366,
          0.5366211533546448,
          0.5227285027503967,
          0.5085134506225586,
          0.4769071638584137,
          0.6933793425559998,
          0.4755341112613678,
          0.4395331144332886,
          0.4428490698337555,
          0.424354612827301,
          0.5773102045059204,
          0.6916094422340393,
          0.4033348262310028,
          0.38072672486305237,
          0.46007928252220154,
          0.39198556542396545
         ],
         "type": "scatter"
        },
        {
         "hoverinfo": "text",
         "hovertext": [
          "(1.8560322523117065, 1.8596446514129639)",
          "(1.6216157674789429, 1.6520929336547852)",
          "(1.6141374111175537, 1.686716079711914)",
          "(1.6128281354904175, 1.6743119955062866)",
          "(1.6095876693725586, 1.6146503686904907)",
          "(1.603825569152832, 1.6983747482299805)",
          "(1.5775736570358276, 1.5884307622909546)",
          "(1.5567915439605713, 1.5862326622009277)",
          "(1.5540335178375244, 1.5545525550842285)",
          "(1.539828896522522, 1.5874570608139038)",
          "(1.5212626457214355, 1.6553245782852173)",
          "(1.4839816093444824, 1.5697717666625977)",
          "(1.4777650833129883, 1.5654478073120117)",
          "(1.4697353839874268, 1.6476565599441528)",
          "(1.4663161039352417, 1.7355848550796509)",
          "(1.3366285562515259, 1.6589308977127075)",
          "(1.3304773569107056, 1.7430411577224731)",
          "(0.8370221257209778, 0.8416383266448975)",
          "(0.807068407535553, 0.8102142214775085)",
          "(0.7077691555023193, 0.7089197039604187)"
         ],
         "mode": "markers",
         "name": "H2",
         "x": [
          1.8560322523117065,
          1.6216157674789429,
          1.6141374111175537,
          1.6128281354904175,
          1.6095876693725586,
          1.603825569152832,
          1.5775736570358276,
          1.5567915439605713,
          1.5540335178375244,
          1.539828896522522,
          1.5212626457214355,
          1.4839816093444824,
          1.4777650833129883,
          1.4697353839874268,
          1.4663161039352417,
          1.3366285562515259,
          1.3304773569107056,
          0.8370221257209778,
          0.807068407535553,
          0.7077691555023193
         ],
         "y": [
          1.8596446514129639,
          1.6520929336547852,
          1.686716079711914,
          1.6743119955062866,
          1.6146503686904907,
          1.6983747482299805,
          1.5884307622909546,
          1.5862326622009277,
          1.5545525550842285,
          1.5874570608139038,
          1.6553245782852173,
          1.5697717666625977,
          1.5654478073120117,
          1.6476565599441528,
          1.7355848550796509,
          1.6589308977127075,
          1.7430411577224731,
          0.8416383266448975,
          0.8102142214775085,
          0.7089197039604187
         ],
         "type": "scatter"
        }
       ],
       "layout": {
        "template": {
         "data": {
          "bar": [
           {
            "error_x": {
             "color": "#2a3f5f"
            },
            "error_y": {
             "color": "#2a3f5f"
            },
            "marker": {
             "line": {
              "color": "#E5ECF6",
              "width": 0.5
             },
             "pattern": {
              "fillmode": "overlay",
              "size": 10,
              "solidity": 0.2
             }
            },
            "type": "bar"
           }
          ],
          "barpolar": [
           {
            "marker": {
             "line": {
              "color": "#E5ECF6",
              "width": 0.5
             },
             "pattern": {
              "fillmode": "overlay",
              "size": 10,
              "solidity": 0.2
             }
            },
            "type": "barpolar"
           }
          ],
          "carpet": [
           {
            "aaxis": {
             "endlinecolor": "#2a3f5f",
             "gridcolor": "white",
             "linecolor": "white",
             "minorgridcolor": "white",
             "startlinecolor": "#2a3f5f"
            },
            "baxis": {
             "endlinecolor": "#2a3f5f",
             "gridcolor": "white",
             "linecolor": "white",
             "minorgridcolor": "white",
             "startlinecolor": "#2a3f5f"
            },
            "type": "carpet"
           }
          ],
          "choropleth": [
           {
            "colorbar": {
             "outlinewidth": 0,
             "ticks": ""
            },
            "type": "choropleth"
           }
          ],
          "contour": [
           {
            "colorbar": {
             "outlinewidth": 0,
             "ticks": ""
            },
            "colorscale": [
             [
              0.0,
              "#0d0887"
             ],
             [
              0.1111111111111111,
              "#46039f"
             ],
             [
              0.2222222222222222,
              "#7201a8"
             ],
             [
              0.3333333333333333,
              "#9c179e"
             ],
             [
              0.4444444444444444,
              "#bd3786"
             ],
             [
              0.5555555555555556,
              "#d8576b"
             ],
             [
              0.6666666666666666,
              "#ed7953"
             ],
             [
              0.7777777777777778,
              "#fb9f3a"
             ],
             [
              0.8888888888888888,
              "#fdca26"
             ],
             [
              1.0,
              "#f0f921"
             ]
            ],
            "type": "contour"
           }
          ],
          "contourcarpet": [
           {
            "colorbar": {
             "outlinewidth": 0,
             "ticks": ""
            },
            "type": "contourcarpet"
           }
          ],
          "heatmap": [
           {
            "colorbar": {
             "outlinewidth": 0,
             "ticks": ""
            },
            "colorscale": [
             [
              0.0,
              "#0d0887"
             ],
             [
              0.1111111111111111,
              "#46039f"
             ],
             [
              0.2222222222222222,
              "#7201a8"
             ],
             [
              0.3333333333333333,
              "#9c179e"
             ],
             [
              0.4444444444444444,
              "#bd3786"
             ],
             [
              0.5555555555555556,
              "#d8576b"
             ],
             [
              0.6666666666666666,
              "#ed7953"
             ],
             [
              0.7777777777777778,
              "#fb9f3a"
             ],
             [
              0.8888888888888888,
              "#fdca26"
             ],
             [
              1.0,
              "#f0f921"
             ]
            ],
            "type": "heatmap"
           }
          ],
          "heatmapgl": [
           {
            "colorbar": {
             "outlinewidth": 0,
             "ticks": ""
            },
            "colorscale": [
             [
              0.0,
              "#0d0887"
             ],
             [
              0.1111111111111111,
              "#46039f"
             ],
             [
              0.2222222222222222,
              "#7201a8"
             ],
             [
              0.3333333333333333,
              "#9c179e"
             ],
             [
              0.4444444444444444,
              "#bd3786"
             ],
             [
              0.5555555555555556,
              "#d8576b"
             ],
             [
              0.6666666666666666,
              "#ed7953"
             ],
             [
              0.7777777777777778,
              "#fb9f3a"
             ],
             [
              0.8888888888888888,
              "#fdca26"
             ],
             [
              1.0,
              "#f0f921"
             ]
            ],
            "type": "heatmapgl"
           }
          ],
          "histogram": [
           {
            "marker": {
             "pattern": {
              "fillmode": "overlay",
              "size": 10,
              "solidity": 0.2
             }
            },
            "type": "histogram"
           }
          ],
          "histogram2d": [
           {
            "colorbar": {
             "outlinewidth": 0,
             "ticks": ""
            },
            "colorscale": [
             [
              0.0,
              "#0d0887"
             ],
             [
              0.1111111111111111,
              "#46039f"
             ],
             [
              0.2222222222222222,
              "#7201a8"
             ],
             [
              0.3333333333333333,
              "#9c179e"
             ],
             [
              0.4444444444444444,
              "#bd3786"
             ],
             [
              0.5555555555555556,
              "#d8576b"
             ],
             [
              0.6666666666666666,
              "#ed7953"
             ],
             [
              0.7777777777777778,
              "#fb9f3a"
             ],
             [
              0.8888888888888888,
              "#fdca26"
             ],
             [
              1.0,
              "#f0f921"
             ]
            ],
            "type": "histogram2d"
           }
          ],
          "histogram2dcontour": [
           {
            "colorbar": {
             "outlinewidth": 0,
             "ticks": ""
            },
            "colorscale": [
             [
              0.0,
              "#0d0887"
             ],
             [
              0.1111111111111111,
              "#46039f"
             ],
             [
              0.2222222222222222,
              "#7201a8"
             ],
             [
              0.3333333333333333,
              "#9c179e"
             ],
             [
              0.4444444444444444,
              "#bd3786"
             ],
             [
              0.5555555555555556,
              "#d8576b"
             ],
             [
              0.6666666666666666,
              "#ed7953"
             ],
             [
              0.7777777777777778,
              "#fb9f3a"
             ],
             [
              0.8888888888888888,
              "#fdca26"
             ],
             [
              1.0,
              "#f0f921"
             ]
            ],
            "type": "histogram2dcontour"
           }
          ],
          "mesh3d": [
           {
            "colorbar": {
             "outlinewidth": 0,
             "ticks": ""
            },
            "type": "mesh3d"
           }
          ],
          "parcoords": [
           {
            "line": {
             "colorbar": {
              "outlinewidth": 0,
              "ticks": ""
             }
            },
            "type": "parcoords"
           }
          ],
          "pie": [
           {
            "automargin": true,
            "type": "pie"
           }
          ],
          "scatter": [
           {
            "marker": {
             "colorbar": {
              "outlinewidth": 0,
              "ticks": ""
             }
            },
            "type": "scatter"
           }
          ],
          "scatter3d": [
           {
            "line": {
             "colorbar": {
              "outlinewidth": 0,
              "ticks": ""
             }
            },
            "marker": {
             "colorbar": {
              "outlinewidth": 0,
              "ticks": ""
             }
            },
            "type": "scatter3d"
           }
          ],
          "scattercarpet": [
           {
            "marker": {
             "colorbar": {
              "outlinewidth": 0,
              "ticks": ""
             }
            },
            "type": "scattercarpet"
           }
          ],
          "scattergeo": [
           {
            "marker": {
             "colorbar": {
              "outlinewidth": 0,
              "ticks": ""
             }
            },
            "type": "scattergeo"
           }
          ],
          "scattergl": [
           {
            "marker": {
             "colorbar": {
              "outlinewidth": 0,
              "ticks": ""
             }
            },
            "type": "scattergl"
           }
          ],
          "scattermapbox": [
           {
            "marker": {
             "colorbar": {
              "outlinewidth": 0,
              "ticks": ""
             }
            },
            "type": "scattermapbox"
           }
          ],
          "scatterpolar": [
           {
            "marker": {
             "colorbar": {
              "outlinewidth": 0,
              "ticks": ""
             }
            },
            "type": "scatterpolar"
           }
          ],
          "scatterpolargl": [
           {
            "marker": {
             "colorbar": {
              "outlinewidth": 0,
              "ticks": ""
             }
            },
            "type": "scatterpolargl"
           }
          ],
          "scatterternary": [
           {
            "marker": {
             "colorbar": {
              "outlinewidth": 0,
              "ticks": ""
             }
            },
            "type": "scatterternary"
           }
          ],
          "surface": [
           {
            "colorbar": {
             "outlinewidth": 0,
             "ticks": ""
            },
            "colorscale": [
             [
              0.0,
              "#0d0887"
             ],
             [
              0.1111111111111111,
              "#46039f"
             ],
             [
              0.2222222222222222,
              "#7201a8"
             ],
             [
              0.3333333333333333,
              "#9c179e"
             ],
             [
              0.4444444444444444,
              "#bd3786"
             ],
             [
              0.5555555555555556,
              "#d8576b"
             ],
             [
              0.6666666666666666,
              "#ed7953"
             ],
             [
              0.7777777777777778,
              "#fb9f3a"
             ],
             [
              0.8888888888888888,
              "#fdca26"
             ],
             [
              1.0,
              "#f0f921"
             ]
            ],
            "type": "surface"
           }
          ],
          "table": [
           {
            "cells": {
             "fill": {
              "color": "#EBF0F8"
             },
             "line": {
              "color": "white"
             }
            },
            "header": {
             "fill": {
              "color": "#C8D4E3"
             },
             "line": {
              "color": "white"
             }
            },
            "type": "table"
           }
          ]
         },
         "layout": {
          "annotationdefaults": {
           "arrowcolor": "#2a3f5f",
           "arrowhead": 0,
           "arrowwidth": 1
          },
          "autotypenumbers": "strict",
          "coloraxis": {
           "colorbar": {
            "outlinewidth": 0,
            "ticks": ""
           }
          },
          "colorscale": {
           "diverging": [
            [
             0,
             "#8e0152"
            ],
            [
             0.1,
             "#c51b7d"
            ],
            [
             0.2,
             "#de77ae"
            ],
            [
             0.3,
             "#f1b6da"
            ],
            [
             0.4,
             "#fde0ef"
            ],
            [
             0.5,
             "#f7f7f7"
            ],
            [
             0.6,
             "#e6f5d0"
            ],
            [
             0.7,
             "#b8e186"
            ],
            [
             0.8,
             "#7fbc41"
            ],
            [
             0.9,
             "#4d9221"
            ],
            [
             1,
             "#276419"
            ]
           ],
           "sequential": [
            [
             0.0,
             "#0d0887"
            ],
            [
             0.1111111111111111,
             "#46039f"
            ],
            [
             0.2222222222222222,
             "#7201a8"
            ],
            [
             0.3333333333333333,
             "#9c179e"
            ],
            [
             0.4444444444444444,
             "#bd3786"
            ],
            [
             0.5555555555555556,
             "#d8576b"
            ],
            [
             0.6666666666666666,
             "#ed7953"
            ],
            [
             0.7777777777777778,
             "#fb9f3a"
            ],
            [
             0.8888888888888888,
             "#fdca26"
            ],
            [
             1.0,
             "#f0f921"
            ]
           ],
           "sequentialminus": [
            [
             0.0,
             "#0d0887"
            ],
            [
             0.1111111111111111,
             "#46039f"
            ],
            [
             0.2222222222222222,
             "#7201a8"
            ],
            [
             0.3333333333333333,
             "#9c179e"
            ],
            [
             0.4444444444444444,
             "#bd3786"
            ],
            [
             0.5555555555555556,
             "#d8576b"
            ],
            [
             0.6666666666666666,
             "#ed7953"
            ],
            [
             0.7777777777777778,
             "#fb9f3a"
            ],
            [
             0.8888888888888888,
             "#fdca26"
            ],
            [
             1.0,
             "#f0f921"
            ]
           ]
          },
          "colorway": [
           "#636efa",
           "#EF553B",
           "#00cc96",
           "#ab63fa",
           "#FFA15A",
           "#19d3f3",
           "#FF6692",
           "#B6E880",
           "#FF97FF",
           "#FECB52"
          ],
          "font": {
           "color": "#2a3f5f"
          },
          "geo": {
           "bgcolor": "white",
           "lakecolor": "white",
           "landcolor": "#E5ECF6",
           "showlakes": true,
           "showland": true,
           "subunitcolor": "white"
          },
          "hoverlabel": {
           "align": "left"
          },
          "hovermode": "closest",
          "mapbox": {
           "style": "light"
          },
          "paper_bgcolor": "white",
          "plot_bgcolor": "#E5ECF6",
          "polar": {
           "angularaxis": {
            "gridcolor": "white",
            "linecolor": "white",
            "ticks": ""
           },
           "bgcolor": "#E5ECF6",
           "radialaxis": {
            "gridcolor": "white",
            "linecolor": "white",
            "ticks": ""
           }
          },
          "scene": {
           "xaxis": {
            "backgroundcolor": "#E5ECF6",
            "gridcolor": "white",
            "gridwidth": 2,
            "linecolor": "white",
            "showbackground": true,
            "ticks": "",
            "zerolinecolor": "white"
           },
           "yaxis": {
            "backgroundcolor": "#E5ECF6",
            "gridcolor": "white",
            "gridwidth": 2,
            "linecolor": "white",
            "showbackground": true,
            "ticks": "",
            "zerolinecolor": "white"
           },
           "zaxis": {
            "backgroundcolor": "#E5ECF6",
            "gridcolor": "white",
            "gridwidth": 2,
            "linecolor": "white",
            "showbackground": true,
            "ticks": "",
            "zerolinecolor": "white"
           }
          },
          "shapedefaults": {
           "line": {
            "color": "#2a3f5f"
           }
          },
          "ternary": {
           "aaxis": {
            "gridcolor": "white",
            "linecolor": "white",
            "ticks": ""
           },
           "baxis": {
            "gridcolor": "white",
            "linecolor": "white",
            "ticks": ""
           },
           "bgcolor": "#E5ECF6",
           "caxis": {
            "gridcolor": "white",
            "linecolor": "white",
            "ticks": ""
           }
          },
          "title": {
           "x": 0.05
          },
          "xaxis": {
           "automargin": true,
           "gridcolor": "white",
           "linecolor": "white",
           "ticks": "",
           "title": {
            "standoff": 15
           },
           "zerolinecolor": "white",
           "zerolinewidth": 2
          },
          "yaxis": {
           "automargin": true,
           "gridcolor": "white",
           "linecolor": "white",
           "ticks": "",
           "title": {
            "standoff": 15
           },
           "zerolinecolor": "white",
           "zerolinewidth": 2
          }
         }
        },
        "xaxis": {
         "title": {
          "text": "Birth"
         },
         "side": "bottom",
         "type": "linear",
         "range": [
          -0.03719289302825928,
          1.896837544441223
         ],
         "autorange": false,
         "ticks": "outside",
         "showline": true,
         "zeroline": true,
         "linewidth": 1,
         "linecolor": "black",
         "mirror": false,
         "showexponent": "all",
         "exponentformat": "e"
        },
        "yaxis": {
         "title": {
          "text": "Death"
         },
         "side": "left",
         "type": "linear",
         "range": [
          -0.03719289302825928,
          1.896837544441223
         ],
         "autorange": false,
         "scaleanchor": "x",
         "scaleratio": 1,
         "ticks": "outside",
         "showline": true,
         "zeroline": true,
         "linewidth": 1,
         "linecolor": "black",
         "mirror": false,
         "showexponent": "all",
         "exponentformat": "e"
        },
        "width": 500,
        "height": 500,
        "plot_bgcolor": "white"
       },
       "config": {
        "plotlyServerURL": "https://plot.ly"
       }
      },
      "text/html": "<div>                            <div id=\"52b16092-af06-44ea-a7f6-55704189238d\" class=\"plotly-graph-div\" style=\"height:500px; width:500px;\"></div>            <script type=\"text/javascript\">                require([\"plotly\"], function(Plotly) {                    window.PLOTLYENV=window.PLOTLYENV || {};                                    if (document.getElementById(\"52b16092-af06-44ea-a7f6-55704189238d\")) {                    Plotly.newPlot(                        \"52b16092-af06-44ea-a7f6-55704189238d\",                        [{\"hoverinfo\":\"none\",\"line\":{\"color\":\"black\",\"dash\":\"dash\",\"width\":1},\"mode\":\"lines\",\"showlegend\":false,\"x\":[-0.03719289302825928,1.896837544441223],\"y\":[-0.03719289302825928,1.896837544441223],\"type\":\"scatter\"},{\"hoverinfo\":\"text\",\"hovertext\":[\"(0.0, 0.03141454607248306)\",\"(0.0, 0.053112152963876724)\",\"(0.0, 0.05751273036003113)\",\"(0.0, 0.06035071238875389)\",\"(0.0, 0.06438185274600983)\",\"(0.0, 0.07749053090810776)\",\"(0.0, 0.08724172413349152)\",\"(0.0, 0.08729904145002365)\",\"(0.0, 0.0881064161658287)\",\"(0.0, 0.09115999191999435)\",\"(0.0, 0.09623538702726364)\",\"(0.0, 0.10001717507839203)\",\"(0.0, 0.10278966277837753)\",\"(0.0, 0.10432328283786774)\",\"(0.0, 0.10541675984859467)\",\"(0.0, 0.10573526471853256)\",\"(0.0, 0.1070658341050148)\",\"(0.0, 0.1156560629606247)\",\"(0.0, 0.11760226637125015)\",\"(0.0, 0.12054981291294098)\",\"(0.0, 0.12094257771968842)\",\"(0.0, 0.12349183112382889)\",\"(0.0, 0.12453656643629074)\",\"(0.0, 0.12906278669834137)\",\"(0.0, 0.13227137923240662)\",\"(0.0, 0.13260258734226227)\",\"(0.0, 0.1333206444978714)\",\"(0.0, 0.1336311399936676)\",\"(0.0, 0.1346343755722046)\",\"(0.0, 0.1355118453502655)\",\"(0.0, 0.1360335499048233)\",\"(0.0, 0.13628052175045013)\",\"(0.0, 0.13652536273002625)\",\"(0.0, 0.13839049637317657)\",\"(0.0, 0.1391323357820511)\",\"(0.0, 0.14180463552474976)\",\"(0.0, 0.14252711832523346)\",\"(0.0, 0.14385882019996643)\",\"(0.0, 0.143916517496109)\",\"(0.0, 0.14683698117733002)\",\"(0.0, 0.14734244346618652)\",\"(0.0, 0.15173910558223724)\",\"(0.0, 0.15262387692928314)\",\"(0.0, 0.15307866036891937)\",\"(0.0, 0.15316812694072723)\",\"(0.0, 0.16073638200759888)\",\"(0.0, 0.16343726217746735)\",\"(0.0, 0.16550709307193756)\",\"(0.0, 0.16856792569160461)\",\"(0.0, 0.17318959534168243)\",\"(0.0, 0.1758742332458496)\",\"(0.0, 0.17792914807796478)\",\"(0.0, 0.17838720977306366)\",\"(0.0, 0.17987971007823944)\",\"(0.0, 0.18064472079277039)\",\"(0.0, 0.18272796273231506)\",\"(0.0, 0.1847984492778778)\",\"(0.0, 0.18486575782299042)\",\"(0.0, 0.1849672794342041)\",\"(0.0, 0.18722492456436157)\",\"(0.0, 0.18912512063980103)\",\"(0.0, 0.19005614519119263)\",\"(0.0, 0.19090892374515533)\",\"(0.0, 0.19504030048847198)\",\"(0.0, 0.19512514770030975)\",\"(0.0, 0.19732411205768585)\",\"(0.0, 0.19897115230560303)\",\"(0.0, 0.20053371787071228)\",\"(0.0, 0.20314286649227142)\",\"(0.0, 0.2073998600244522)\",\"(0.0, 0.20763197541236877)\",\"(0.0, 0.20831872522830963)\",\"(0.0, 0.20873934030532837)\",\"(0.0, 0.20978303253650665)\",\"(0.0, 0.21278594434261322)\",\"(0.0, 0.2151884287595749)\",\"(0.0, 0.2161523997783661)\",\"(0.0, 0.2185886800289154)\",\"(0.0, 0.22308209538459778)\",\"(0.0, 0.2248009890317917)\",\"(0.0, 0.22602982819080353)\",\"(0.0, 0.23239420354366302)\",\"(0.0, 0.23445387184619904)\",\"(0.0, 0.23537330329418182)\",\"(0.0, 0.23665611445903778)\",\"(0.0, 0.2376384288072586)\",\"(0.0, 0.23933015763759613)\",\"(0.0, 0.24054357409477234)\",\"(0.0, 0.24113276600837708)\",\"(0.0, 0.24405160546302795)\",\"(0.0, 0.24468334019184113)\",\"(0.0, 0.2446926236152649)\",\"(0.0, 0.24515096843242645)\",\"(0.0, 0.2455429881811142)\",\"(0.0, 0.24581164121627808)\",\"(0.0, 0.24663321673870087)\",\"(0.0, 0.24735935032367706)\",\"(0.0, 0.2478717416524887)\",\"(0.0, 0.25088194012641907)\",\"(0.0, 0.2531154453754425)\",\"(0.0, 0.253789484500885)\",\"(0.0, 0.25461292266845703)\",\"(0.0, 0.2548670768737793)\",\"(0.0, 0.2567060887813568)\",\"(0.0, 0.25678831338882446)\",\"(0.0, 0.25713372230529785)\",\"(0.0, 0.25753548741340637)\",\"(0.0, 0.2616860270500183)\",\"(0.0, 0.2617916762828827)\",\"(0.0, 0.2632105052471161)\",\"(0.0, 0.26348811388015747)\",\"(0.0, 0.2639138400554657)\",\"(0.0, 0.2651323080062866)\",\"(0.0, 0.26868829131126404)\",\"(0.0, 0.26998358964920044)\",\"(0.0, 0.2732831537723541)\",\"(0.0, 0.2743663191795349)\",\"(0.0, 0.27481600642204285)\",\"(0.0, 0.27716028690338135)\",\"(0.0, 0.2773165702819824)\",\"(0.0, 0.2773183286190033)\",\"(0.0, 0.27812638878822327)\",\"(0.0, 0.2834736406803131)\",\"(0.0, 0.28375425934791565)\",\"(0.0, 0.28451934456825256)\",\"(0.0, 0.28521981835365295)\",\"(0.0, 0.28657522797584534)\",\"(0.0, 0.2869266867637634)\",\"(0.0, 0.2883821725845337)\",\"(0.0, 0.28865671157836914)\",\"(0.0, 0.28988635540008545)\",\"(0.0, 0.29125693440437317)\",\"(0.0, 0.2920650243759155)\",\"(0.0, 0.2935158610343933)\",\"(0.0, 0.29434719681739807)\",\"(0.0, 0.2972249388694763)\",\"(0.0, 0.2991616129875183)\",\"(0.0, 0.29989126324653625)\",\"(0.0, 0.30057141184806824)\",\"(0.0, 0.3019077181816101)\",\"(0.0, 0.302145779132843)\",\"(0.0, 0.3025544583797455)\",\"(0.0, 0.30259445309638977)\",\"(0.0, 0.3036617636680603)\",\"(0.0, 0.30457866191864014)\",\"(0.0, 0.3046471178531647)\",\"(0.0, 0.305042028427124)\",\"(0.0, 0.3072877824306488)\",\"(0.0, 0.3074885904788971)\",\"(0.0, 0.3094906508922577)\",\"(0.0, 0.3107118606567383)\",\"(0.0, 0.31084543466567993)\",\"(0.0, 0.3115130066871643)\",\"(0.0, 0.3128695487976074)\",\"(0.0, 0.3151618540287018)\",\"(0.0, 0.31694522500038147)\",\"(0.0, 0.3173515498638153)\",\"(0.0, 0.3185628056526184)\",\"(0.0, 0.31964111328125)\",\"(0.0, 0.3199787735939026)\",\"(0.0, 0.3206147253513336)\",\"(0.0, 0.3235209882259369)\",\"(0.0, 0.3240508437156677)\",\"(0.0, 0.3241347372531891)\",\"(0.0, 0.3241385221481323)\",\"(0.0, 0.32451632618904114)\",\"(0.0, 0.32460296154022217)\",\"(0.0, 0.32532280683517456)\",\"(0.0, 0.32571977376937866)\",\"(0.0, 0.32625171542167664)\",\"(0.0, 0.32648423314094543)\",\"(0.0, 0.32826581597328186)\",\"(0.0, 0.3289620280265808)\",\"(0.0, 0.32923632860183716)\",\"(0.0, 0.33002564311027527)\",\"(0.0, 0.33153513073921204)\",\"(0.0, 0.33285439014434814)\",\"(0.0, 0.3331156373023987)\",\"(0.0, 0.3343658745288849)\",\"(0.0, 0.3345773220062256)\",\"(0.0, 0.3390108048915863)\",\"(0.0, 0.3402707278728485)\",\"(0.0, 0.3422462046146393)\",\"(0.0, 0.3424331843852997)\",\"(0.0, 0.34392082691192627)\",\"(0.0, 0.34419912099838257)\",\"(0.0, 0.34683090448379517)\",\"(0.0, 0.3468567728996277)\",\"(0.0, 0.34844037890434265)\",\"(0.0, 0.3502061665058136)\",\"(0.0, 0.35038861632347107)\",\"(0.0, 0.35051509737968445)\",\"(0.0, 0.35140347480773926)\",\"(0.0, 0.3514196276664734)\",\"(0.0, 0.35170236229896545)\",\"(0.0, 0.3529367446899414)\",\"(0.0, 0.35300585627555847)\",\"(0.0, 0.35370051860809326)\",\"(0.0, 0.35477912425994873)\",\"(0.0, 0.355276882648468)\",\"(0.0, 0.35600876808166504)\",\"(0.0, 0.35683584213256836)\",\"(0.0, 0.3576335906982422)\",\"(0.0, 0.35792598128318787)\",\"(0.0, 0.358139306306839)\",\"(0.0, 0.35907360911369324)\",\"(0.0, 0.3612661063671112)\",\"(0.0, 0.3615722954273224)\",\"(0.0, 0.36163753271102905)\",\"(0.0, 0.3629855215549469)\",\"(0.0, 0.36393609642982483)\",\"(0.0, 0.3640703856945038)\",\"(0.0, 0.3649662435054779)\",\"(0.0, 0.366839736700058)\",\"(0.0, 0.36766013503074646)\",\"(0.0, 0.3682102859020233)\",\"(0.0, 0.36976659297943115)\",\"(0.0, 0.37074658274650574)\",\"(0.0, 0.37086373567581177)\",\"(0.0, 0.3709987998008728)\",\"(0.0, 0.37371399998664856)\",\"(0.0, 0.3740956783294678)\",\"(0.0, 0.37493476271629333)\",\"(0.0, 0.3759904205799103)\",\"(0.0, 0.3780902922153473)\",\"(0.0, 0.3795976936817169)\",\"(0.0, 0.37976235151290894)\",\"(0.0, 0.38086822628974915)\",\"(0.0, 0.38112878799438477)\",\"(0.0, 0.382266640663147)\",\"(0.0, 0.3840470314025879)\",\"(0.0, 0.3845164477825165)\",\"(0.0, 0.38544654846191406)\",\"(0.0, 0.3866965174674988)\",\"(0.0, 0.38688015937805176)\",\"(0.0, 0.3876672089099884)\",\"(0.0, 0.38859498500823975)\",\"(0.0, 0.38978099822998047)\",\"(0.0, 0.39115679264068604)\",\"(0.0, 0.3917686343193054)\",\"(0.0, 0.3930598497390747)\",\"(0.0, 0.39478906989097595)\",\"(0.0, 0.3948451280593872)\",\"(0.0, 0.39655059576034546)\",\"(0.0, 0.39680272340774536)\",\"(0.0, 0.3978036344051361)\",\"(0.0, 0.3981902301311493)\",\"(0.0, 0.39967411756515503)\",\"(0.0, 0.40011852979660034)\",\"(0.0, 0.401231050491333)\",\"(0.0, 0.4013533294200897)\",\"(0.0, 0.4015739858150482)\",\"(0.0, 0.4017493724822998)\",\"(0.0, 0.4026486873626709)\",\"(0.0, 0.40337783098220825)\",\"(0.0, 0.40401989221572876)\",\"(0.0, 0.40604132413864136)\",\"(0.0, 0.4063936769962311)\",\"(0.0, 0.4064303934574127)\",\"(0.0, 0.4071580171585083)\",\"(0.0, 0.40839534997940063)\",\"(0.0, 0.40853339433670044)\",\"(0.0, 0.4098367691040039)\",\"(0.0, 0.40995797514915466)\",\"(0.0, 0.4106132388114929)\",\"(0.0, 0.411702036857605)\",\"(0.0, 0.41290271282196045)\",\"(0.0, 0.41361308097839355)\",\"(0.0, 0.41445979475975037)\",\"(0.0, 0.4146173298358917)\",\"(0.0, 0.4160958230495453)\",\"(0.0, 0.4161997139453888)\",\"(0.0, 0.4162824749946594)\",\"(0.0, 0.41729289293289185)\",\"(0.0, 0.4189547896385193)\",\"(0.0, 0.41926777362823486)\",\"(0.0, 0.4194032847881317)\",\"(0.0, 0.42072591185569763)\",\"(0.0, 0.42160138487815857)\",\"(0.0, 0.4247172772884369)\",\"(0.0, 0.42550939321517944)\",\"(0.0, 0.4258708655834198)\",\"(0.0, 0.4271472692489624)\",\"(0.0, 0.42873841524124146)\",\"(0.0, 0.4287968575954437)\",\"(0.0, 0.43004098534584045)\",\"(0.0, 0.4312114119529724)\",\"(0.0, 0.4329872727394104)\",\"(0.0, 0.4337061941623688)\",\"(0.0, 0.43453601002693176)\",\"(0.0, 0.434714674949646)\",\"(0.0, 0.4355531930923462)\",\"(0.0, 0.4358295798301697)\",\"(0.0, 0.4371650516986847)\",\"(0.0, 0.4381586015224457)\",\"(0.0, 0.4381742477416992)\",\"(0.0, 0.43880611658096313)\",\"(0.0, 0.439395010471344)\",\"(0.0, 0.4402397871017456)\",\"(0.0, 0.4406498670578003)\",\"(0.0, 0.4409354329109192)\",\"(0.0, 0.44178736209869385)\",\"(0.0, 0.44209223985671997)\",\"(0.0, 0.44427844882011414)\",\"(0.0, 0.4449974298477173)\",\"(0.0, 0.44598186016082764)\",\"(0.0, 0.4465801417827606)\",\"(0.0, 0.4466211795806885)\",\"(0.0, 0.4468551576137543)\",\"(0.0, 0.447315514087677)\",\"(0.0, 0.4485827386379242)\",\"(0.0, 0.44895654916763306)\",\"(0.0, 0.4511231482028961)\",\"(0.0, 0.45351937413215637)\",\"(0.0, 0.4537428319454193)\",\"(0.0, 0.4540852904319763)\",\"(0.0, 0.4544370770454407)\",\"(0.0, 0.4544551968574524)\",\"(0.0, 0.4546317458152771)\",\"(0.0, 0.4555794894695282)\",\"(0.0, 0.45639660954475403)\",\"(0.0, 0.4567889869213104)\",\"(0.0, 0.4568027853965759)\",\"(0.0, 0.4580858647823334)\",\"(0.0, 0.45831099152565)\",\"(0.0, 0.45897769927978516)\",\"(0.0, 0.459690123796463)\",\"(0.0, 0.4599917232990265)\",\"(0.0, 0.4606671929359436)\",\"(0.0, 0.46155601739883423)\",\"(0.0, 0.46291205286979675)\",\"(0.0, 0.46486425399780273)\",\"(0.0, 0.467059850692749)\",\"(0.0, 0.468428373336792)\",\"(0.0, 0.468528151512146)\",\"(0.0, 0.47004157304763794)\",\"(0.0, 0.4714074730873108)\",\"(0.0, 0.47318965196609497)\",\"(0.0, 0.47385743260383606)\",\"(0.0, 0.47512415051460266)\",\"(0.0, 0.47514408826828003)\",\"(0.0, 0.4753960371017456)\",\"(0.0, 0.4758840501308441)\",\"(0.0, 0.4776030480861664)\",\"(0.0, 0.4790274500846863)\",\"(0.0, 0.47952377796173096)\",\"(0.0, 0.480017751455307)\",\"(0.0, 0.4806463122367859)\",\"(0.0, 0.4813201427459717)\",\"(0.0, 0.48245784640312195)\",\"(0.0, 0.483430415391922)\",\"(0.0, 0.4841848909854889)\",\"(0.0, 0.4854702651500702)\",\"(0.0, 0.48590192198753357)\",\"(0.0, 0.4883236885070801)\",\"(0.0, 0.4913404583930969)\",\"(0.0, 0.491909384727478)\",\"(0.0, 0.49280181527137756)\",\"(0.0, 0.4928504526615143)\",\"(0.0, 0.4963107705116272)\",\"(0.0, 0.49846675992012024)\",\"(0.0, 0.5028456449508667)\",\"(0.0, 0.5047450065612793)\",\"(0.0, 0.5078567862510681)\",\"(0.0, 0.5082818269729614)\",\"(0.0, 0.5085129141807556)\",\"(0.0, 0.5087293982505798)\",\"(0.0, 0.510086178779602)\",\"(0.0, 0.5114043354988098)\",\"(0.0, 0.5137563943862915)\",\"(0.0, 0.514196515083313)\",\"(0.0, 0.516197144985199)\",\"(0.0, 0.5171780586242676)\",\"(0.0, 0.5183648467063904)\",\"(0.0, 0.5211325287818909)\",\"(0.0, 0.5215126872062683)\",\"(0.0, 0.5237378478050232)\",\"(0.0, 0.5238412618637085)\",\"(0.0, 0.5240305066108704)\",\"(0.0, 0.5257082581520081)\",\"(0.0, 0.5271981954574585)\",\"(0.0, 0.52808678150177)\",\"(0.0, 0.5293242335319519)\",\"(0.0, 0.530603289604187)\",\"(0.0, 0.5353134274482727)\",\"(0.0, 0.5370774865150452)\",\"(0.0, 0.53803950548172)\",\"(0.0, 0.5394805073738098)\",\"(0.0, 0.5437326431274414)\",\"(0.0, 0.543768048286438)\",\"(0.0, 0.5454224944114685)\",\"(0.0, 0.5616950392723083)\",\"(0.0, 0.575557291507721)\",\"(0.0, 0.5778852701187134)\",\"(0.0, 0.5801684260368347)\",\"(0.0, 0.5854400992393494)\",\"(0.0, 0.5878113508224487)\",\"(0.0, 0.5892622470855713)\",\"(0.0, 0.6378134489059448)\"],\"mode\":\"markers\",\"name\":\"H0\",\"x\":[0.0,0.0,0.0,0.0,0.0,0.0,0.0,0.0,0.0,0.0,0.0,0.0,0.0,0.0,0.0,0.0,0.0,0.0,0.0,0.0,0.0,0.0,0.0,0.0,0.0,0.0,0.0,0.0,0.0,0.0,0.0,0.0,0.0,0.0,0.0,0.0,0.0,0.0,0.0,0.0,0.0,0.0,0.0,0.0,0.0,0.0,0.0,0.0,0.0,0.0,0.0,0.0,0.0,0.0,0.0,0.0,0.0,0.0,0.0,0.0,0.0,0.0,0.0,0.0,0.0,0.0,0.0,0.0,0.0,0.0,0.0,0.0,0.0,0.0,0.0,0.0,0.0,0.0,0.0,0.0,0.0,0.0,0.0,0.0,0.0,0.0,0.0,0.0,0.0,0.0,0.0,0.0,0.0,0.0,0.0,0.0,0.0,0.0,0.0,0.0,0.0,0.0,0.0,0.0,0.0,0.0,0.0,0.0,0.0,0.0,0.0,0.0,0.0,0.0,0.0,0.0,0.0,0.0,0.0,0.0,0.0,0.0,0.0,0.0,0.0,0.0,0.0,0.0,0.0,0.0,0.0,0.0,0.0,0.0,0.0,0.0,0.0,0.0,0.0,0.0,0.0,0.0,0.0,0.0,0.0,0.0,0.0,0.0,0.0,0.0,0.0,0.0,0.0,0.0,0.0,0.0,0.0,0.0,0.0,0.0,0.0,0.0,0.0,0.0,0.0,0.0,0.0,0.0,0.0,0.0,0.0,0.0,0.0,0.0,0.0,0.0,0.0,0.0,0.0,0.0,0.0,0.0,0.0,0.0,0.0,0.0,0.0,0.0,0.0,0.0,0.0,0.0,0.0,0.0,0.0,0.0,0.0,0.0,0.0,0.0,0.0,0.0,0.0,0.0,0.0,0.0,0.0,0.0,0.0,0.0,0.0,0.0,0.0,0.0,0.0,0.0,0.0,0.0,0.0,0.0,0.0,0.0,0.0,0.0,0.0,0.0,0.0,0.0,0.0,0.0,0.0,0.0,0.0,0.0,0.0,0.0,0.0,0.0,0.0,0.0,0.0,0.0,0.0,0.0,0.0,0.0,0.0,0.0,0.0,0.0,0.0,0.0,0.0,0.0,0.0,0.0,0.0,0.0,0.0,0.0,0.0,0.0,0.0,0.0,0.0,0.0,0.0,0.0,0.0,0.0,0.0,0.0,0.0,0.0,0.0,0.0,0.0,0.0,0.0,0.0,0.0,0.0,0.0,0.0,0.0,0.0,0.0,0.0,0.0,0.0,0.0,0.0,0.0,0.0,0.0,0.0,0.0,0.0,0.0,0.0,0.0,0.0,0.0,0.0,0.0,0.0,0.0,0.0,0.0,0.0,0.0,0.0,0.0,0.0,0.0,0.0,0.0,0.0,0.0,0.0,0.0,0.0,0.0,0.0,0.0,0.0,0.0,0.0,0.0,0.0,0.0,0.0,0.0,0.0,0.0,0.0,0.0,0.0,0.0,0.0,0.0,0.0,0.0,0.0,0.0,0.0,0.0,0.0,0.0,0.0,0.0,0.0,0.0,0.0,0.0,0.0,0.0,0.0,0.0,0.0,0.0,0.0,0.0,0.0,0.0,0.0,0.0,0.0,0.0,0.0,0.0,0.0,0.0,0.0,0.0,0.0,0.0,0.0,0.0,0.0,0.0,0.0,0.0,0.0,0.0,0.0,0.0,0.0,0.0,0.0,0.0,0.0,0.0,0.0,0.0,0.0,0.0,0.0,0.0],\"y\":[0.03141454607248306,0.053112152963876724,0.05751273036003113,0.06035071238875389,0.06438185274600983,0.07749053090810776,0.08724172413349152,0.08729904145002365,0.0881064161658287,0.09115999191999435,0.09623538702726364,0.10001717507839203,0.10278966277837753,0.10432328283786774,0.10541675984859467,0.10573526471853256,0.1070658341050148,0.1156560629606247,0.11760226637125015,0.12054981291294098,0.12094257771968842,0.12349183112382889,0.12453656643629074,0.12906278669834137,0.13227137923240662,0.13260258734226227,0.1333206444978714,0.1336311399936676,0.1346343755722046,0.1355118453502655,0.1360335499048233,0.13628052175045013,0.13652536273002625,0.13839049637317657,0.1391323357820511,0.14180463552474976,0.14252711832523346,0.14385882019996643,0.143916517496109,0.14683698117733002,0.14734244346618652,0.15173910558223724,0.15262387692928314,0.15307866036891937,0.15316812694072723,0.16073638200759888,0.16343726217746735,0.16550709307193756,0.16856792569160461,0.17318959534168243,0.1758742332458496,0.17792914807796478,0.17838720977306366,0.17987971007823944,0.18064472079277039,0.18272796273231506,0.1847984492778778,0.18486575782299042,0.1849672794342041,0.18722492456436157,0.18912512063980103,0.19005614519119263,0.19090892374515533,0.19504030048847198,0.19512514770030975,0.19732411205768585,0.19897115230560303,0.20053371787071228,0.20314286649227142,0.2073998600244522,0.20763197541236877,0.20831872522830963,0.20873934030532837,0.20978303253650665,0.21278594434261322,0.2151884287595749,0.2161523997783661,0.2185886800289154,0.22308209538459778,0.2248009890317917,0.22602982819080353,0.23239420354366302,0.23445387184619904,0.23537330329418182,0.23665611445903778,0.2376384288072586,0.23933015763759613,0.24054357409477234,0.24113276600837708,0.24405160546302795,0.24468334019184113,0.2446926236152649,0.24515096843242645,0.2455429881811142,0.24581164121627808,0.24663321673870087,0.24735935032367706,0.2478717416524887,0.25088194012641907,0.2531154453754425,0.253789484500885,0.25461292266845703,0.2548670768737793,0.2567060887813568,0.25678831338882446,0.25713372230529785,0.25753548741340637,0.2616860270500183,0.2617916762828827,0.2632105052471161,0.26348811388015747,0.2639138400554657,0.2651323080062866,0.26868829131126404,0.26998358964920044,0.2732831537723541,0.2743663191795349,0.27481600642204285,0.27716028690338135,0.2773165702819824,0.2773183286190033,0.27812638878822327,0.2834736406803131,0.28375425934791565,0.28451934456825256,0.28521981835365295,0.28657522797584534,0.2869266867637634,0.2883821725845337,0.28865671157836914,0.28988635540008545,0.29125693440437317,0.2920650243759155,0.2935158610343933,0.29434719681739807,0.2972249388694763,0.2991616129875183,0.29989126324653625,0.30057141184806824,0.3019077181816101,0.302145779132843,0.3025544583797455,0.30259445309638977,0.3036617636680603,0.30457866191864014,0.3046471178531647,0.305042028427124,0.3072877824306488,0.3074885904788971,0.3094906508922577,0.3107118606567383,0.31084543466567993,0.3115130066871643,0.3128695487976074,0.3151618540287018,0.31694522500038147,0.3173515498638153,0.3185628056526184,0.31964111328125,0.3199787735939026,0.3206147253513336,0.3235209882259369,0.3240508437156677,0.3241347372531891,0.3241385221481323,0.32451632618904114,0.32460296154022217,0.32532280683517456,0.32571977376937866,0.32625171542167664,0.32648423314094543,0.32826581597328186,0.3289620280265808,0.32923632860183716,0.33002564311027527,0.33153513073921204,0.33285439014434814,0.3331156373023987,0.3343658745288849,0.3345773220062256,0.3390108048915863,0.3402707278728485,0.3422462046146393,0.3424331843852997,0.34392082691192627,0.34419912099838257,0.34683090448379517,0.3468567728996277,0.34844037890434265,0.3502061665058136,0.35038861632347107,0.35051509737968445,0.35140347480773926,0.3514196276664734,0.35170236229896545,0.3529367446899414,0.35300585627555847,0.35370051860809326,0.35477912425994873,0.355276882648468,0.35600876808166504,0.35683584213256836,0.3576335906982422,0.35792598128318787,0.358139306306839,0.35907360911369324,0.3612661063671112,0.3615722954273224,0.36163753271102905,0.3629855215549469,0.36393609642982483,0.3640703856945038,0.3649662435054779,0.366839736700058,0.36766013503074646,0.3682102859020233,0.36976659297943115,0.37074658274650574,0.37086373567581177,0.3709987998008728,0.37371399998664856,0.3740956783294678,0.37493476271629333,0.3759904205799103,0.3780902922153473,0.3795976936817169,0.37976235151290894,0.38086822628974915,0.38112878799438477,0.382266640663147,0.3840470314025879,0.3845164477825165,0.38544654846191406,0.3866965174674988,0.38688015937805176,0.3876672089099884,0.38859498500823975,0.38978099822998047,0.39115679264068604,0.3917686343193054,0.3930598497390747,0.39478906989097595,0.3948451280593872,0.39655059576034546,0.39680272340774536,0.3978036344051361,0.3981902301311493,0.39967411756515503,0.40011852979660034,0.401231050491333,0.4013533294200897,0.4015739858150482,0.4017493724822998,0.4026486873626709,0.40337783098220825,0.40401989221572876,0.40604132413864136,0.4063936769962311,0.4064303934574127,0.4071580171585083,0.40839534997940063,0.40853339433670044,0.4098367691040039,0.40995797514915466,0.4106132388114929,0.411702036857605,0.41290271282196045,0.41361308097839355,0.41445979475975037,0.4146173298358917,0.4160958230495453,0.4161997139453888,0.4162824749946594,0.41729289293289185,0.4189547896385193,0.41926777362823486,0.4194032847881317,0.42072591185569763,0.42160138487815857,0.4247172772884369,0.42550939321517944,0.4258708655834198,0.4271472692489624,0.42873841524124146,0.4287968575954437,0.43004098534584045,0.4312114119529724,0.4329872727394104,0.4337061941623688,0.43453601002693176,0.434714674949646,0.4355531930923462,0.4358295798301697,0.4371650516986847,0.4381586015224457,0.4381742477416992,0.43880611658096313,0.439395010471344,0.4402397871017456,0.4406498670578003,0.4409354329109192,0.44178736209869385,0.44209223985671997,0.44427844882011414,0.4449974298477173,0.44598186016082764,0.4465801417827606,0.4466211795806885,0.4468551576137543,0.447315514087677,0.4485827386379242,0.44895654916763306,0.4511231482028961,0.45351937413215637,0.4537428319454193,0.4540852904319763,0.4544370770454407,0.4544551968574524,0.4546317458152771,0.4555794894695282,0.45639660954475403,0.4567889869213104,0.4568027853965759,0.4580858647823334,0.45831099152565,0.45897769927978516,0.459690123796463,0.4599917232990265,0.4606671929359436,0.46155601739883423,0.46291205286979675,0.46486425399780273,0.467059850692749,0.468428373336792,0.468528151512146,0.47004157304763794,0.4714074730873108,0.47318965196609497,0.47385743260383606,0.47512415051460266,0.47514408826828003,0.4753960371017456,0.4758840501308441,0.4776030480861664,0.4790274500846863,0.47952377796173096,0.480017751455307,0.4806463122367859,0.4813201427459717,0.48245784640312195,0.483430415391922,0.4841848909854889,0.4854702651500702,0.48590192198753357,0.4883236885070801,0.4913404583930969,0.491909384727478,0.49280181527137756,0.4928504526615143,0.4963107705116272,0.49846675992012024,0.5028456449508667,0.5047450065612793,0.5078567862510681,0.5082818269729614,0.5085129141807556,0.5087293982505798,0.510086178779602,0.5114043354988098,0.5137563943862915,0.514196515083313,0.516197144985199,0.5171780586242676,0.5183648467063904,0.5211325287818909,0.5215126872062683,0.5237378478050232,0.5238412618637085,0.5240305066108704,0.5257082581520081,0.5271981954574585,0.52808678150177,0.5293242335319519,0.530603289604187,0.5353134274482727,0.5370774865150452,0.53803950548172,0.5394805073738098,0.5437326431274414,0.543768048286438,0.5454224944114685,0.5616950392723083,0.575557291507721,0.5778852701187134,0.5801684260368347,0.5854400992393494,0.5878113508224487,0.5892622470855713,0.6378134489059448],\"type\":\"scatter\"},{\"hoverinfo\":\"text\",\"hovertext\":[\"(1.117208480834961, 1.1932733058929443)\",\"(1.0743420124053955, 1.1114590167999268)\",\"(1.0653138160705566, 1.1858068704605103)\",\"(1.0487052202224731, 1.1162360906600952)\",\"(0.9393293857574463, 1.1416929960250854)\",\"(0.9104860424995422, 0.9187625646591187)\",\"(0.9073718190193176, 1.0285332202911377)\",\"(0.8693644404411316, 0.903236985206604)\",\"(0.8664143681526184, 0.878748893737793)\",\"(0.8463257551193237, 0.9331099390983582)\",\"(0.8415030241012573, 0.965606153011322)\",\"(0.8285553455352783, 0.8301553726196289)\",\"(0.8194668292999268, 0.8462142944335938)\",\"(0.7897803783416748, 0.8260862231254578)\",\"(0.7860618233680725, 0.9739755988121033)\",\"(0.783483624458313, 0.8038427829742432)\",\"(0.7784036993980408, 0.9716511368751526)\",\"(0.762907862663269, 0.8704125285148621)\",\"(0.7381055951118469, 0.804509699344635)\",\"(0.72341388463974, 1.0372819900512695)\",\"(0.7183573246002197, 0.8047932386398315)\",\"(0.7175759673118591, 0.7221390604972839)\",\"(0.7162172794342041, 0.7185789942741394)\",\"(0.7105692625045776, 0.7548190355300903)\",\"(0.7088017463684082, 0.7210737466812134)\",\"(0.7024983763694763, 0.8869495987892151)\",\"(0.7006717324256897, 0.8162851929664612)\",\"(0.6977736353874207, 0.7431971430778503)\",\"(0.6935440897941589, 0.863588273525238)\",\"(0.6894213557243347, 1.0093291997909546)\",\"(0.6859018206596375, 0.8045668005943298)\",\"(0.6801912188529968, 0.7187925577163696)\",\"(0.6801226139068604, 0.8491023778915405)\",\"(0.6757891178131104, 0.683948278427124)\",\"(0.6684505343437195, 0.8690146803855896)\",\"(0.6682926416397095, 0.7591891884803772)\",\"(0.6617903709411621, 0.7980580925941467)\",\"(0.6607697606086731, 0.712648868560791)\",\"(0.6578657627105713, 0.7046610713005066)\",\"(0.6500012278556824, 0.7169131636619568)\",\"(0.6485930681228638, 0.7004366517066956)\",\"(0.6389539837837219, 0.6546590924263)\",\"(0.6336548328399658, 0.7437660098075867)\",\"(0.6315973401069641, 0.7795119881629944)\",\"(0.6236411929130554, 0.7279600501060486)\",\"(0.6140462160110474, 0.894929826259613)\",\"(0.6137924790382385, 0.9618285894393921)\",\"(0.6102375388145447, 0.6653814315795898)\",\"(0.6099710464477539, 0.7575433850288391)\",\"(0.6089248657226562, 0.6256759762763977)\",\"(0.6084001660346985, 1.1804754734039307)\",\"(0.6045770049095154, 0.6272715330123901)\",\"(0.6045169234275818, 0.7627630233764648)\",\"(0.6044600605964661, 0.7863786816596985)\",\"(0.6007028818130493, 0.7201816439628601)\",\"(0.5973336100578308, 0.9516847133636475)\",\"(0.5937222242355347, 0.677503228187561)\",\"(0.5920138359069824, 0.7595112323760986)\",\"(0.590934157371521, 0.7456536293029785)\",\"(0.5886935591697693, 0.5988391637802124)\",\"(0.5885902047157288, 0.6960759162902832)\",\"(0.58440762758255, 0.6886003017425537)\",\"(0.5840474367141724, 0.6201430559158325)\",\"(0.5795149207115173, 0.8158982992172241)\",\"(0.5789198875427246, 0.8891724348068237)\",\"(0.5780003666877747, 0.587834894657135)\",\"(0.576375424861908, 0.7371195554733276)\",\"(0.5755065679550171, 0.5822517275810242)\",\"(0.5735355615615845, 0.7268625497817993)\",\"(0.5732077360153198, 0.6902815699577332)\",\"(0.5728111863136292, 1.0588003396987915)\",\"(0.5710954070091248, 1.2523831129074097)\",\"(0.5707167387008667, 0.6293948292732239)\",\"(0.5665176510810852, 0.6681663990020752)\",\"(0.5553027391433716, 0.914836049079895)\",\"(0.5546802878379822, 0.9220370650291443)\",\"(0.5533725023269653, 1.267104148864746)\",\"(0.5522528290748596, 0.8600521087646484)\",\"(0.5491327047348022, 0.6119354963302612)\",\"(0.5465347170829773, 0.6863009333610535)\",\"(0.5456953048706055, 0.6760508418083191)\",\"(0.5439526438713074, 0.6578859686851501)\",\"(0.5412832498550415, 0.914004385471344)\",\"(0.5310171842575073, 0.622576892375946)\",\"(0.5296775102615356, 0.5894432067871094)\",\"(0.5291086435317993, 0.5361002087593079)\",\"(0.5279666185379028, 0.5407492518424988)\",\"(0.5273035764694214, 0.8081108331680298)\",\"(0.5266121029853821, 0.5292173027992249)\",\"(0.5262557864189148, 0.5648585557937622)\",\"(0.5234031081199646, 0.5997481346130371)\",\"(0.5178683400154114, 0.6276307702064514)\",\"(0.5149520635604858, 0.5250585675239563)\",\"(0.5122802257537842, 0.6076545715332031)\",\"(0.5101268291473389, 0.7649330496788025)\",\"(0.5084614157676697, 0.7986176013946533)\",\"(0.5082254409790039, 0.6516696810722351)\",\"(0.5074655413627625, 0.9119413495063782)\",\"(0.5062188506126404, 0.6331676244735718)\",\"(0.5042716860771179, 1.215938687324524)\",\"(0.503990888595581, 0.600658118724823)\",\"(0.503742516040802, 1.3108477592468262)\",\"(0.5035847425460815, 0.5796747207641602)\",\"(0.5021011829376221, 0.5743541121482849)\",\"(0.5018959641456604, 0.5618870854377747)\",\"(0.5007203221321106, 0.6752691268920898)\",\"(0.497027724981308, 0.6770074963569641)\",\"(0.4961910843849182, 1.5421838760375977)\",\"(0.49560749530792236, 0.49899351596832275)\",\"(0.49552059173583984, 0.7589893341064453)\",\"(0.49494725465774536, 0.6689400672912598)\",\"(0.4944545328617096, 0.6693505048751831)\",\"(0.4885587990283966, 0.518406867980957)\",\"(0.48847973346710205, 0.5220935344696045)\",\"(0.4881219267845154, 0.6154804825782776)\",\"(0.47869136929512024, 0.4869704246520996)\",\"(0.4717622399330139, 0.5913323163986206)\",\"(0.46403756737709045, 0.6098359227180481)\",\"(0.4619188904762268, 0.5552235245704651)\",\"(0.4593599736690521, 0.5623869299888611)\",\"(0.45821893215179443, 0.46985429525375366)\",\"(0.44912025332450867, 0.5366211533546448)\",\"(0.4467467963695526, 0.5227285027503967)\",\"(0.44357505440711975, 0.5085134506225586)\",\"(0.4396930932998657, 0.4769071638584137)\",\"(0.4384211599826813, 0.6933793425559998)\",\"(0.42766910791397095, 0.4755341112613678)\",\"(0.42240867018699646, 0.4395331144332886)\",\"(0.4202328622341156, 0.4428490698337555)\",\"(0.416224867105484, 0.424354612827301)\",\"(0.4057796001434326, 0.5773102045059204)\",\"(0.39811110496520996, 0.6916094422340393)\",\"(0.38266074657440186, 0.4033348262310028)\",\"(0.3699144423007965, 0.38072672486305237)\",\"(0.3671439588069916, 0.46007928252220154)\",\"(0.3459920287132263, 0.39198556542396545)\"],\"mode\":\"markers\",\"name\":\"H1\",\"x\":[1.117208480834961,1.0743420124053955,1.0653138160705566,1.0487052202224731,0.9393293857574463,0.9104860424995422,0.9073718190193176,0.8693644404411316,0.8664143681526184,0.8463257551193237,0.8415030241012573,0.8285553455352783,0.8194668292999268,0.7897803783416748,0.7860618233680725,0.783483624458313,0.7784036993980408,0.762907862663269,0.7381055951118469,0.72341388463974,0.7183573246002197,0.7175759673118591,0.7162172794342041,0.7105692625045776,0.7088017463684082,0.7024983763694763,0.7006717324256897,0.6977736353874207,0.6935440897941589,0.6894213557243347,0.6859018206596375,0.6801912188529968,0.6801226139068604,0.6757891178131104,0.6684505343437195,0.6682926416397095,0.6617903709411621,0.6607697606086731,0.6578657627105713,0.6500012278556824,0.6485930681228638,0.6389539837837219,0.6336548328399658,0.6315973401069641,0.6236411929130554,0.6140462160110474,0.6137924790382385,0.6102375388145447,0.6099710464477539,0.6089248657226562,0.6084001660346985,0.6045770049095154,0.6045169234275818,0.6044600605964661,0.6007028818130493,0.5973336100578308,0.5937222242355347,0.5920138359069824,0.590934157371521,0.5886935591697693,0.5885902047157288,0.58440762758255,0.5840474367141724,0.5795149207115173,0.5789198875427246,0.5780003666877747,0.576375424861908,0.5755065679550171,0.5735355615615845,0.5732077360153198,0.5728111863136292,0.5710954070091248,0.5707167387008667,0.5665176510810852,0.5553027391433716,0.5546802878379822,0.5533725023269653,0.5522528290748596,0.5491327047348022,0.5465347170829773,0.5456953048706055,0.5439526438713074,0.5412832498550415,0.5310171842575073,0.5296775102615356,0.5291086435317993,0.5279666185379028,0.5273035764694214,0.5266121029853821,0.5262557864189148,0.5234031081199646,0.5178683400154114,0.5149520635604858,0.5122802257537842,0.5101268291473389,0.5084614157676697,0.5082254409790039,0.5074655413627625,0.5062188506126404,0.5042716860771179,0.503990888595581,0.503742516040802,0.5035847425460815,0.5021011829376221,0.5018959641456604,0.5007203221321106,0.497027724981308,0.4961910843849182,0.49560749530792236,0.49552059173583984,0.49494725465774536,0.4944545328617096,0.4885587990283966,0.48847973346710205,0.4881219267845154,0.47869136929512024,0.4717622399330139,0.46403756737709045,0.4619188904762268,0.4593599736690521,0.45821893215179443,0.44912025332450867,0.4467467963695526,0.44357505440711975,0.4396930932998657,0.4384211599826813,0.42766910791397095,0.42240867018699646,0.4202328622341156,0.416224867105484,0.4057796001434326,0.39811110496520996,0.38266074657440186,0.3699144423007965,0.3671439588069916,0.3459920287132263],\"y\":[1.1932733058929443,1.1114590167999268,1.1858068704605103,1.1162360906600952,1.1416929960250854,0.9187625646591187,1.0285332202911377,0.903236985206604,0.878748893737793,0.9331099390983582,0.965606153011322,0.8301553726196289,0.8462142944335938,0.8260862231254578,0.9739755988121033,0.8038427829742432,0.9716511368751526,0.8704125285148621,0.804509699344635,1.0372819900512695,0.8047932386398315,0.7221390604972839,0.7185789942741394,0.7548190355300903,0.7210737466812134,0.8869495987892151,0.8162851929664612,0.7431971430778503,0.863588273525238,1.0093291997909546,0.8045668005943298,0.7187925577163696,0.8491023778915405,0.683948278427124,0.8690146803855896,0.7591891884803772,0.7980580925941467,0.712648868560791,0.7046610713005066,0.7169131636619568,0.7004366517066956,0.6546590924263,0.7437660098075867,0.7795119881629944,0.7279600501060486,0.894929826259613,0.9618285894393921,0.6653814315795898,0.7575433850288391,0.6256759762763977,1.1804754734039307,0.6272715330123901,0.7627630233764648,0.7863786816596985,0.7201816439628601,0.9516847133636475,0.677503228187561,0.7595112323760986,0.7456536293029785,0.5988391637802124,0.6960759162902832,0.6886003017425537,0.6201430559158325,0.8158982992172241,0.8891724348068237,0.587834894657135,0.7371195554733276,0.5822517275810242,0.7268625497817993,0.6902815699577332,1.0588003396987915,1.2523831129074097,0.6293948292732239,0.6681663990020752,0.914836049079895,0.9220370650291443,1.267104148864746,0.8600521087646484,0.6119354963302612,0.6863009333610535,0.6760508418083191,0.6578859686851501,0.914004385471344,0.622576892375946,0.5894432067871094,0.5361002087593079,0.5407492518424988,0.8081108331680298,0.5292173027992249,0.5648585557937622,0.5997481346130371,0.6276307702064514,0.5250585675239563,0.6076545715332031,0.7649330496788025,0.7986176013946533,0.6516696810722351,0.9119413495063782,0.6331676244735718,1.215938687324524,0.600658118724823,1.3108477592468262,0.5796747207641602,0.5743541121482849,0.5618870854377747,0.6752691268920898,0.6770074963569641,1.5421838760375977,0.49899351596832275,0.7589893341064453,0.6689400672912598,0.6693505048751831,0.518406867980957,0.5220935344696045,0.6154804825782776,0.4869704246520996,0.5913323163986206,0.6098359227180481,0.5552235245704651,0.5623869299888611,0.46985429525375366,0.5366211533546448,0.5227285027503967,0.5085134506225586,0.4769071638584137,0.6933793425559998,0.4755341112613678,0.4395331144332886,0.4428490698337555,0.424354612827301,0.5773102045059204,0.6916094422340393,0.4033348262310028,0.38072672486305237,0.46007928252220154,0.39198556542396545],\"type\":\"scatter\"},{\"hoverinfo\":\"text\",\"hovertext\":[\"(1.8560322523117065, 1.8596446514129639)\",\"(1.6216157674789429, 1.6520929336547852)\",\"(1.6141374111175537, 1.686716079711914)\",\"(1.6128281354904175, 1.6743119955062866)\",\"(1.6095876693725586, 1.6146503686904907)\",\"(1.603825569152832, 1.6983747482299805)\",\"(1.5775736570358276, 1.5884307622909546)\",\"(1.5567915439605713, 1.5862326622009277)\",\"(1.5540335178375244, 1.5545525550842285)\",\"(1.539828896522522, 1.5874570608139038)\",\"(1.5212626457214355, 1.6553245782852173)\",\"(1.4839816093444824, 1.5697717666625977)\",\"(1.4777650833129883, 1.5654478073120117)\",\"(1.4697353839874268, 1.6476565599441528)\",\"(1.4663161039352417, 1.7355848550796509)\",\"(1.3366285562515259, 1.6589308977127075)\",\"(1.3304773569107056, 1.7430411577224731)\",\"(0.8370221257209778, 0.8416383266448975)\",\"(0.807068407535553, 0.8102142214775085)\",\"(0.7077691555023193, 0.7089197039604187)\"],\"mode\":\"markers\",\"name\":\"H2\",\"x\":[1.8560322523117065,1.6216157674789429,1.6141374111175537,1.6128281354904175,1.6095876693725586,1.603825569152832,1.5775736570358276,1.5567915439605713,1.5540335178375244,1.539828896522522,1.5212626457214355,1.4839816093444824,1.4777650833129883,1.4697353839874268,1.4663161039352417,1.3366285562515259,1.3304773569107056,0.8370221257209778,0.807068407535553,0.7077691555023193],\"y\":[1.8596446514129639,1.6520929336547852,1.686716079711914,1.6743119955062866,1.6146503686904907,1.6983747482299805,1.5884307622909546,1.5862326622009277,1.5545525550842285,1.5874570608139038,1.6553245782852173,1.5697717666625977,1.5654478073120117,1.6476565599441528,1.7355848550796509,1.6589308977127075,1.7430411577224731,0.8416383266448975,0.8102142214775085,0.7089197039604187],\"type\":\"scatter\"}],                        {\"template\":{\"data\":{\"bar\":[{\"error_x\":{\"color\":\"#2a3f5f\"},\"error_y\":{\"color\":\"#2a3f5f\"},\"marker\":{\"line\":{\"color\":\"#E5ECF6\",\"width\":0.5},\"pattern\":{\"fillmode\":\"overlay\",\"size\":10,\"solidity\":0.2}},\"type\":\"bar\"}],\"barpolar\":[{\"marker\":{\"line\":{\"color\":\"#E5ECF6\",\"width\":0.5},\"pattern\":{\"fillmode\":\"overlay\",\"size\":10,\"solidity\":0.2}},\"type\":\"barpolar\"}],\"carpet\":[{\"aaxis\":{\"endlinecolor\":\"#2a3f5f\",\"gridcolor\":\"white\",\"linecolor\":\"white\",\"minorgridcolor\":\"white\",\"startlinecolor\":\"#2a3f5f\"},\"baxis\":{\"endlinecolor\":\"#2a3f5f\",\"gridcolor\":\"white\",\"linecolor\":\"white\",\"minorgridcolor\":\"white\",\"startlinecolor\":\"#2a3f5f\"},\"type\":\"carpet\"}],\"choropleth\":[{\"colorbar\":{\"outlinewidth\":0,\"ticks\":\"\"},\"type\":\"choropleth\"}],\"contour\":[{\"colorbar\":{\"outlinewidth\":0,\"ticks\":\"\"},\"colorscale\":[[0.0,\"#0d0887\"],[0.1111111111111111,\"#46039f\"],[0.2222222222222222,\"#7201a8\"],[0.3333333333333333,\"#9c179e\"],[0.4444444444444444,\"#bd3786\"],[0.5555555555555556,\"#d8576b\"],[0.6666666666666666,\"#ed7953\"],[0.7777777777777778,\"#fb9f3a\"],[0.8888888888888888,\"#fdca26\"],[1.0,\"#f0f921\"]],\"type\":\"contour\"}],\"contourcarpet\":[{\"colorbar\":{\"outlinewidth\":0,\"ticks\":\"\"},\"type\":\"contourcarpet\"}],\"heatmap\":[{\"colorbar\":{\"outlinewidth\":0,\"ticks\":\"\"},\"colorscale\":[[0.0,\"#0d0887\"],[0.1111111111111111,\"#46039f\"],[0.2222222222222222,\"#7201a8\"],[0.3333333333333333,\"#9c179e\"],[0.4444444444444444,\"#bd3786\"],[0.5555555555555556,\"#d8576b\"],[0.6666666666666666,\"#ed7953\"],[0.7777777777777778,\"#fb9f3a\"],[0.8888888888888888,\"#fdca26\"],[1.0,\"#f0f921\"]],\"type\":\"heatmap\"}],\"heatmapgl\":[{\"colorbar\":{\"outlinewidth\":0,\"ticks\":\"\"},\"colorscale\":[[0.0,\"#0d0887\"],[0.1111111111111111,\"#46039f\"],[0.2222222222222222,\"#7201a8\"],[0.3333333333333333,\"#9c179e\"],[0.4444444444444444,\"#bd3786\"],[0.5555555555555556,\"#d8576b\"],[0.6666666666666666,\"#ed7953\"],[0.7777777777777778,\"#fb9f3a\"],[0.8888888888888888,\"#fdca26\"],[1.0,\"#f0f921\"]],\"type\":\"heatmapgl\"}],\"histogram\":[{\"marker\":{\"pattern\":{\"fillmode\":\"overlay\",\"size\":10,\"solidity\":0.2}},\"type\":\"histogram\"}],\"histogram2d\":[{\"colorbar\":{\"outlinewidth\":0,\"ticks\":\"\"},\"colorscale\":[[0.0,\"#0d0887\"],[0.1111111111111111,\"#46039f\"],[0.2222222222222222,\"#7201a8\"],[0.3333333333333333,\"#9c179e\"],[0.4444444444444444,\"#bd3786\"],[0.5555555555555556,\"#d8576b\"],[0.6666666666666666,\"#ed7953\"],[0.7777777777777778,\"#fb9f3a\"],[0.8888888888888888,\"#fdca26\"],[1.0,\"#f0f921\"]],\"type\":\"histogram2d\"}],\"histogram2dcontour\":[{\"colorbar\":{\"outlinewidth\":0,\"ticks\":\"\"},\"colorscale\":[[0.0,\"#0d0887\"],[0.1111111111111111,\"#46039f\"],[0.2222222222222222,\"#7201a8\"],[0.3333333333333333,\"#9c179e\"],[0.4444444444444444,\"#bd3786\"],[0.5555555555555556,\"#d8576b\"],[0.6666666666666666,\"#ed7953\"],[0.7777777777777778,\"#fb9f3a\"],[0.8888888888888888,\"#fdca26\"],[1.0,\"#f0f921\"]],\"type\":\"histogram2dcontour\"}],\"mesh3d\":[{\"colorbar\":{\"outlinewidth\":0,\"ticks\":\"\"},\"type\":\"mesh3d\"}],\"parcoords\":[{\"line\":{\"colorbar\":{\"outlinewidth\":0,\"ticks\":\"\"}},\"type\":\"parcoords\"}],\"pie\":[{\"automargin\":true,\"type\":\"pie\"}],\"scatter\":[{\"marker\":{\"colorbar\":{\"outlinewidth\":0,\"ticks\":\"\"}},\"type\":\"scatter\"}],\"scatter3d\":[{\"line\":{\"colorbar\":{\"outlinewidth\":0,\"ticks\":\"\"}},\"marker\":{\"colorbar\":{\"outlinewidth\":0,\"ticks\":\"\"}},\"type\":\"scatter3d\"}],\"scattercarpet\":[{\"marker\":{\"colorbar\":{\"outlinewidth\":0,\"ticks\":\"\"}},\"type\":\"scattercarpet\"}],\"scattergeo\":[{\"marker\":{\"colorbar\":{\"outlinewidth\":0,\"ticks\":\"\"}},\"type\":\"scattergeo\"}],\"scattergl\":[{\"marker\":{\"colorbar\":{\"outlinewidth\":0,\"ticks\":\"\"}},\"type\":\"scattergl\"}],\"scattermapbox\":[{\"marker\":{\"colorbar\":{\"outlinewidth\":0,\"ticks\":\"\"}},\"type\":\"scattermapbox\"}],\"scatterpolar\":[{\"marker\":{\"colorbar\":{\"outlinewidth\":0,\"ticks\":\"\"}},\"type\":\"scatterpolar\"}],\"scatterpolargl\":[{\"marker\":{\"colorbar\":{\"outlinewidth\":0,\"ticks\":\"\"}},\"type\":\"scatterpolargl\"}],\"scatterternary\":[{\"marker\":{\"colorbar\":{\"outlinewidth\":0,\"ticks\":\"\"}},\"type\":\"scatterternary\"}],\"surface\":[{\"colorbar\":{\"outlinewidth\":0,\"ticks\":\"\"},\"colorscale\":[[0.0,\"#0d0887\"],[0.1111111111111111,\"#46039f\"],[0.2222222222222222,\"#7201a8\"],[0.3333333333333333,\"#9c179e\"],[0.4444444444444444,\"#bd3786\"],[0.5555555555555556,\"#d8576b\"],[0.6666666666666666,\"#ed7953\"],[0.7777777777777778,\"#fb9f3a\"],[0.8888888888888888,\"#fdca26\"],[1.0,\"#f0f921\"]],\"type\":\"surface\"}],\"table\":[{\"cells\":{\"fill\":{\"color\":\"#EBF0F8\"},\"line\":{\"color\":\"white\"}},\"header\":{\"fill\":{\"color\":\"#C8D4E3\"},\"line\":{\"color\":\"white\"}},\"type\":\"table\"}]},\"layout\":{\"annotationdefaults\":{\"arrowcolor\":\"#2a3f5f\",\"arrowhead\":0,\"arrowwidth\":1},\"autotypenumbers\":\"strict\",\"coloraxis\":{\"colorbar\":{\"outlinewidth\":0,\"ticks\":\"\"}},\"colorscale\":{\"diverging\":[[0,\"#8e0152\"],[0.1,\"#c51b7d\"],[0.2,\"#de77ae\"],[0.3,\"#f1b6da\"],[0.4,\"#fde0ef\"],[0.5,\"#f7f7f7\"],[0.6,\"#e6f5d0\"],[0.7,\"#b8e186\"],[0.8,\"#7fbc41\"],[0.9,\"#4d9221\"],[1,\"#276419\"]],\"sequential\":[[0.0,\"#0d0887\"],[0.1111111111111111,\"#46039f\"],[0.2222222222222222,\"#7201a8\"],[0.3333333333333333,\"#9c179e\"],[0.4444444444444444,\"#bd3786\"],[0.5555555555555556,\"#d8576b\"],[0.6666666666666666,\"#ed7953\"],[0.7777777777777778,\"#fb9f3a\"],[0.8888888888888888,\"#fdca26\"],[1.0,\"#f0f921\"]],\"sequentialminus\":[[0.0,\"#0d0887\"],[0.1111111111111111,\"#46039f\"],[0.2222222222222222,\"#7201a8\"],[0.3333333333333333,\"#9c179e\"],[0.4444444444444444,\"#bd3786\"],[0.5555555555555556,\"#d8576b\"],[0.6666666666666666,\"#ed7953\"],[0.7777777777777778,\"#fb9f3a\"],[0.8888888888888888,\"#fdca26\"],[1.0,\"#f0f921\"]]},\"colorway\":[\"#636efa\",\"#EF553B\",\"#00cc96\",\"#ab63fa\",\"#FFA15A\",\"#19d3f3\",\"#FF6692\",\"#B6E880\",\"#FF97FF\",\"#FECB52\"],\"font\":{\"color\":\"#2a3f5f\"},\"geo\":{\"bgcolor\":\"white\",\"lakecolor\":\"white\",\"landcolor\":\"#E5ECF6\",\"showlakes\":true,\"showland\":true,\"subunitcolor\":\"white\"},\"hoverlabel\":{\"align\":\"left\"},\"hovermode\":\"closest\",\"mapbox\":{\"style\":\"light\"},\"paper_bgcolor\":\"white\",\"plot_bgcolor\":\"#E5ECF6\",\"polar\":{\"angularaxis\":{\"gridcolor\":\"white\",\"linecolor\":\"white\",\"ticks\":\"\"},\"bgcolor\":\"#E5ECF6\",\"radialaxis\":{\"gridcolor\":\"white\",\"linecolor\":\"white\",\"ticks\":\"\"}},\"scene\":{\"xaxis\":{\"backgroundcolor\":\"#E5ECF6\",\"gridcolor\":\"white\",\"gridwidth\":2,\"linecolor\":\"white\",\"showbackground\":true,\"ticks\":\"\",\"zerolinecolor\":\"white\"},\"yaxis\":{\"backgroundcolor\":\"#E5ECF6\",\"gridcolor\":\"white\",\"gridwidth\":2,\"linecolor\":\"white\",\"showbackground\":true,\"ticks\":\"\",\"zerolinecolor\":\"white\"},\"zaxis\":{\"backgroundcolor\":\"#E5ECF6\",\"gridcolor\":\"white\",\"gridwidth\":2,\"linecolor\":\"white\",\"showbackground\":true,\"ticks\":\"\",\"zerolinecolor\":\"white\"}},\"shapedefaults\":{\"line\":{\"color\":\"#2a3f5f\"}},\"ternary\":{\"aaxis\":{\"gridcolor\":\"white\",\"linecolor\":\"white\",\"ticks\":\"\"},\"baxis\":{\"gridcolor\":\"white\",\"linecolor\":\"white\",\"ticks\":\"\"},\"bgcolor\":\"#E5ECF6\",\"caxis\":{\"gridcolor\":\"white\",\"linecolor\":\"white\",\"ticks\":\"\"}},\"title\":{\"x\":0.05},\"xaxis\":{\"automargin\":true,\"gridcolor\":\"white\",\"linecolor\":\"white\",\"ticks\":\"\",\"title\":{\"standoff\":15},\"zerolinecolor\":\"white\",\"zerolinewidth\":2},\"yaxis\":{\"automargin\":true,\"gridcolor\":\"white\",\"linecolor\":\"white\",\"ticks\":\"\",\"title\":{\"standoff\":15},\"zerolinecolor\":\"white\",\"zerolinewidth\":2}}},\"xaxis\":{\"title\":{\"text\":\"Birth\"},\"side\":\"bottom\",\"type\":\"linear\",\"range\":[-0.03719289302825928,1.896837544441223],\"autorange\":false,\"ticks\":\"outside\",\"showline\":true,\"zeroline\":true,\"linewidth\":1,\"linecolor\":\"black\",\"mirror\":false,\"showexponent\":\"all\",\"exponentformat\":\"e\"},\"yaxis\":{\"title\":{\"text\":\"Death\"},\"side\":\"left\",\"type\":\"linear\",\"range\":[-0.03719289302825928,1.896837544441223],\"autorange\":false,\"scaleanchor\":\"x\",\"scaleratio\":1,\"ticks\":\"outside\",\"showline\":true,\"zeroline\":true,\"linewidth\":1,\"linecolor\":\"black\",\"mirror\":false,\"showexponent\":\"all\",\"exponentformat\":\"e\"},\"width\":500,\"height\":500,\"plot_bgcolor\":\"white\"},                        {\"responsive\": true}                    ).then(function(){\n                            \nvar gd = document.getElementById('52b16092-af06-44ea-a7f6-55704189238d');\nvar x = new MutationObserver(function (mutations, observer) {{\n        var display = window.getComputedStyle(gd).display;\n        if (!display || display === 'none') {{\n            console.log([gd, 'removed!']);\n            Plotly.purge(gd);\n            observer.disconnect();\n        }}\n}});\n\n// Listen for the removal of the full notebook cells\nvar notebookContainer = gd.closest('#notebook-container');\nif (notebookContainer) {{\n    x.observe(notebookContainer, {childList: true});\n}}\n\n// Listen for the clearing of the current output cell\nvar outputEl = gd.closest('.output');\nif (outputEl) {{\n    x.observe(outputEl, {childList: true});\n}}\n\n                        })                };                });            </script>        </div>"
     },
     "metadata": {},
     "output_type": "display_data"
    }
   ],
   "source": [
    "plot_diagram(diagrams_basic[-1])"
   ],
   "metadata": {
    "collapsed": false,
    "pycharm": {
     "name": "#%%\n"
    }
   }
  },
  {
   "cell_type": "code",
   "execution_count": 12,
   "outputs": [
    {
     "data": {
      "text/plain": "array([[0.        , 0.03141455, 0.        ],\n       [0.        , 0.05311215, 0.        ],\n       [0.        , 0.05751273, 0.        ],\n       ...,\n       [0.14520749, 0.14520749, 2.        ],\n       [0.14520749, 0.14520749, 2.        ],\n       [0.14520749, 0.14520749, 2.        ]])"
     },
     "execution_count": 12,
     "metadata": {},
     "output_type": "execute_result"
    }
   ],
   "source": [
    "diagrams_basic[-1]"
   ],
   "metadata": {
    "collapsed": false,
    "pycharm": {
     "name": "#%%\n"
    }
   }
  },
  {
   "cell_type": "code",
   "execution_count": 16,
   "outputs": [
    {
     "data": {
      "text/plain": "array([[[0.        , 0.00538615, 0.        ],\n        [0.        , 0.00692672, 0.        ],\n        [0.        , 0.00720771, 0.        ],\n        ...,\n        [0.14520749, 0.14520749, 2.        ],\n        [0.14520749, 0.14520749, 2.        ],\n        [0.14520749, 0.14520749, 2.        ]],\n\n       [[0.        , 0.00829562, 0.        ],\n        [0.        , 0.01034641, 0.        ],\n        [0.        , 0.01088591, 0.        ],\n        ...,\n        [0.14520749, 0.14520749, 2.        ],\n        [0.14520749, 0.14520749, 2.        ],\n        [0.14520749, 0.14520749, 2.        ]],\n\n       [[0.        , 0.00281441, 0.        ],\n        [0.        , 0.00284482, 0.        ],\n        [0.        , 0.00524571, 0.        ],\n        ...,\n        [0.14520749, 0.14520749, 2.        ],\n        [0.14520749, 0.14520749, 2.        ],\n        [0.14520749, 0.14520749, 2.        ]],\n\n       ...,\n\n       [[0.        , 0.05600753, 0.        ],\n        [0.        , 0.05908919, 0.        ],\n        [0.        , 0.08388186, 0.        ],\n        ...,\n        [0.14520749, 0.14520749, 2.        ],\n        [0.14520749, 0.14520749, 2.        ],\n        [0.14520749, 0.14520749, 2.        ]],\n\n       [[0.        , 0.0443126 , 0.        ],\n        [0.        , 0.0528266 , 0.        ],\n        [0.        , 0.05634731, 0.        ],\n        ...,\n        [0.14520749, 0.14520749, 2.        ],\n        [0.14520749, 0.14520749, 2.        ],\n        [0.14520749, 0.14520749, 2.        ]],\n\n       [[0.        , 0.03141455, 0.        ],\n        [0.        , 0.05311215, 0.        ],\n        [0.        , 0.05751273, 0.        ],\n        ...,\n        [0.14520749, 0.14520749, 2.        ],\n        [0.14520749, 0.14520749, 2.        ],\n        [0.14520749, 0.14520749, 2.        ]]])"
     },
     "execution_count": 16,
     "metadata": {},
     "output_type": "execute_result"
    }
   ],
   "source": [
    "pcd = o3d.geometry.PointCloud()\n",
    "pcd.points = o3d.utility.Vector3dVector(diagrams_basic[-1])\n",
    "o3d.io.write_point_cloud(\"../../TestData/sync.ply\", pcd)\n",
    "\n"
   ],
   "metadata": {
    "collapsed": false,
    "pycharm": {
     "name": "#%%\n"
    }
   }
  },
  {
   "cell_type": "code",
   "execution_count": null,
   "outputs": [],
   "source": [],
   "metadata": {
    "collapsed": false,
    "pycharm": {
     "name": "#%%\n"
    }
   }
  }
 ],
 "metadata": {
  "kernelspec": {
   "display_name": "Python 3",
   "language": "python",
   "name": "python3"
  },
  "language_info": {
   "codemirror_mode": {
    "name": "ipython",
    "version": 2
   },
   "file_extension": ".py",
   "mimetype": "text/x-python",
   "name": "python",
   "nbconvert_exporter": "python",
   "pygments_lexer": "ipython2",
   "version": "2.7.6"
  }
 },
 "nbformat": 4,
 "nbformat_minor": 0
}