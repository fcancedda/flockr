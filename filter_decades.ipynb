{
 "cells": [
  {
   "cell_type": "code",
   "execution_count": 6,
   "metadata": {
    "collapsed": true,
    "pycharm": {
     "name": "#%%\n"
    }
   },
   "outputs": [
    {
     "data": {
      "text/plain": "Download_grp                    10\nSPECIES_NAME    American Goldfinch\nName: 5290, dtype: object"
     },
     "metadata": {},
     "output_type": "display_data"
    },
    {
     "data": {
      "text/plain": "           Download_grp        SPECIES_NAME      cnt\nSPECIES_ID                                          \n5290                 10  American Goldfinch  1593352",
      "text/html": "<div>\n<style scoped>\n    .dataframe tbody tr th:only-of-type {\n        vertical-align: middle;\n    }\n\n    .dataframe tbody tr th {\n        vertical-align: top;\n    }\n\n    .dataframe thead th {\n        text-align: right;\n    }\n</style>\n<table border=\"1\" class=\"dataframe\">\n  <thead>\n    <tr style=\"text-align: right;\">\n      <th></th>\n      <th>Download_grp</th>\n      <th>SPECIES_NAME</th>\n      <th>cnt</th>\n    </tr>\n    <tr>\n      <th>SPECIES_ID</th>\n      <th></th>\n      <th></th>\n      <th></th>\n    </tr>\n  </thead>\n  <tbody>\n    <tr>\n      <th>5290</th>\n      <td>10</td>\n      <td>American Goldfinch</td>\n      <td>1593352</td>\n    </tr>\n  </tbody>\n</table>\n</div>"
     },
     "metadata": {},
     "output_type": "display_data"
    }
   ],
   "source": [
    "import matplotlib.pyplot as plt\n",
    "import pandas as pd\n",
    "from data_loader import *\n",
    "from gtda.homology import VietorisRipsPersistence\n",
    "homology_dimensions = [0]\n",
    "\n",
    "persistence = VietorisRipsPersistence(\n",
    "    metric=\"euclidean\", homology_dimensions=homology_dimensions, n_jobs=1\n",
    ")\n",
    "data = load_default()"
   ]
  },
  {
   "cell_type": "code",
   "execution_count": 7,
   "outputs": [],
   "source": [
    "bird = data.bird\n",
    "center = dict(lat=bird.lat.median(), lon=bird.lon.median())\n",
    "bird['season'] = bird.index.month % 12 // 3 + 1"
   ],
   "metadata": {
    "collapsed": false,
    "pycharm": {
     "name": "#%%\n"
    }
   }
  },
  {
   "cell_type": "code",
   "execution_count": 3,
   "outputs": [
    {
     "data": {
      "text/plain": "                    band event       lat       lon    id source  season\nt                                                                      \n1999-09-10  B06814037726     B  42.58333 -80.08333  5290      B       4\n1997-05-14  B06814045088     B  42.58333 -80.41667  5290      B       2\n1997-05-14  B06814045161     B  42.58333 -80.41667  5290      B       2\n1997-05-17  B06814045721     B  42.58333 -80.41667  5290      B       2\n1997-05-16  B06814045880     B  42.58333 -80.41667  5290      B       2",
      "text/html": "<div>\n<style scoped>\n    .dataframe tbody tr th:only-of-type {\n        vertical-align: middle;\n    }\n\n    .dataframe tbody tr th {\n        vertical-align: top;\n    }\n\n    .dataframe thead th {\n        text-align: right;\n    }\n</style>\n<table border=\"1\" class=\"dataframe\">\n  <thead>\n    <tr style=\"text-align: right;\">\n      <th></th>\n      <th>band</th>\n      <th>event</th>\n      <th>lat</th>\n      <th>lon</th>\n      <th>id</th>\n      <th>source</th>\n      <th>season</th>\n    </tr>\n    <tr>\n      <th>t</th>\n      <th></th>\n      <th></th>\n      <th></th>\n      <th></th>\n      <th></th>\n      <th></th>\n      <th></th>\n    </tr>\n  </thead>\n  <tbody>\n    <tr>\n      <th>1999-09-10</th>\n      <td>B06814037726</td>\n      <td>B</td>\n      <td>42.58333</td>\n      <td>-80.08333</td>\n      <td>5290</td>\n      <td>B</td>\n      <td>4</td>\n    </tr>\n    <tr>\n      <th>1997-05-14</th>\n      <td>B06814045088</td>\n      <td>B</td>\n      <td>42.58333</td>\n      <td>-80.41667</td>\n      <td>5290</td>\n      <td>B</td>\n      <td>2</td>\n    </tr>\n    <tr>\n      <th>1997-05-14</th>\n      <td>B06814045161</td>\n      <td>B</td>\n      <td>42.58333</td>\n      <td>-80.41667</td>\n      <td>5290</td>\n      <td>B</td>\n      <td>2</td>\n    </tr>\n    <tr>\n      <th>1997-05-17</th>\n      <td>B06814045721</td>\n      <td>B</td>\n      <td>42.58333</td>\n      <td>-80.41667</td>\n      <td>5290</td>\n      <td>B</td>\n      <td>2</td>\n    </tr>\n    <tr>\n      <th>1997-05-16</th>\n      <td>B06814045880</td>\n      <td>B</td>\n      <td>42.58333</td>\n      <td>-80.41667</td>\n      <td>5290</td>\n      <td>B</td>\n      <td>2</td>\n    </tr>\n  </tbody>\n</table>\n</div>"
     },
     "execution_count": 3,
     "metadata": {},
     "output_type": "execute_result"
    }
   ],
   "source": [
    "bird.head()"
   ],
   "metadata": {
    "collapsed": false,
    "pycharm": {
     "name": "#%%\n"
    }
   }
  },
  {
   "cell_type": "code",
   "execution_count": null,
   "outputs": [
    {
     "data": {
      "text/plain": "0.027944168902766298"
     },
     "metadata": {},
     "output_type": "display_data"
    }
   ],
   "source": [
    "from scipy import stats\n",
    "\n",
    "df = bird[((bird.season == 1) | (bird.season == 3))]  # winter and summer only\n",
    "\n",
    "from scipy.interpolate import interp2d\n",
    "\n",
    "# f will be a function with two arguments (x and y coordinates),\n",
    "# but those can be array_like structures too, in which case the\n",
    "# result will be a matrix representing the values in the grid\n",
    "# specified by those arguments\n",
    "\n",
    "for year in [1970]:\n",
    "    decade = df[((df.index.year >= year) & (df.index.year < year + 10))]\n",
    "    # display(decade.info())\n",
    "    for idx, gp in decade.groupby('season'):\n",
    "        x = gp.lon.values\n",
    "        y = gp.lat.values\n",
    "        positions = np.vstack([x, y])\n",
    "        kernel = stats.gaussian_kde(positions)\n",
    "        dens = kernel(positions)\n",
    "        display(dens.max())\n",
    "        f = interp2d(x, y, dens, kind=\"linear\")\n",
    "\n",
    "        bounds = [x.min(), x.max(), y.min(), y.max()]\n",
    "        display(bounds)\n",
    "        x_coords = np.arange(bounds[0],bounds[1])\n",
    "        y_coords = np.arange(bounds[2],bounds[3])\n",
    "\n",
    "        Z = f(x_coords,y_coords)\n",
    "        plt.imshow(Z, extent=bounds)\n",
    "        gp.plot.scatter(x='lon', y='lat')\n",
    "        plt.show()\n",
    "        break"
   ],
   "metadata": {
    "collapsed": false,
    "pycharm": {
     "name": "#%%\n"
    }
   }
  },
  {
   "cell_type": "code",
   "execution_count": null,
   "outputs": [],
   "source": [],
   "metadata": {
    "collapsed": false,
    "pycharm": {
     "name": "#%%\n"
    }
   }
  }
 ],
 "metadata": {
  "kernelspec": {
   "display_name": "Python 3",
   "language": "python",
   "name": "python3"
  },
  "language_info": {
   "codemirror_mode": {
    "name": "ipython",
    "version": 2
   },
   "file_extension": ".py",
   "mimetype": "text/x-python",
   "name": "python",
   "nbconvert_exporter": "python",
   "pygments_lexer": "ipython2",
   "version": "2.7.6"
  }
 },
 "nbformat": 4,
 "nbformat_minor": 0
}