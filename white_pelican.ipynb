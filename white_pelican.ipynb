{
 "cells": [
  {
   "cell_type": "code",
   "execution_count": 6,
   "outputs": [
    {
     "data": {
      "text/plain": "           Download_grp        SPECIES_NAME      cnt\nSPECIES_ID                                          \n5290                 10  American Goldfinch  1593352",
      "text/html": "<div>\n<style scoped>\n    .dataframe tbody tr th:only-of-type {\n        vertical-align: middle;\n    }\n\n    .dataframe tbody tr th {\n        vertical-align: top;\n    }\n\n    .dataframe thead th {\n        text-align: right;\n    }\n</style>\n<table border=\"1\" class=\"dataframe\">\n  <thead>\n    <tr style=\"text-align: right;\">\n      <th></th>\n      <th>Download_grp</th>\n      <th>SPECIES_NAME</th>\n      <th>cnt</th>\n    </tr>\n    <tr>\n      <th>SPECIES_ID</th>\n      <th></th>\n      <th></th>\n      <th></th>\n    </tr>\n  </thead>\n  <tbody>\n    <tr>\n      <th>5290</th>\n      <td>10</td>\n      <td>American Goldfinch</td>\n      <td>1593352</td>\n    </tr>\n  </tbody>\n</table>\n</div>"
     },
     "metadata": {},
     "output_type": "display_data"
    }
   ],
   "source": [
    "import matplotlib.pyplot as plt\n",
    "\n",
    "from data_loader import *\n",
    "\n",
    "\n",
    "data = Data(bird_name='American Goldfinch', group_n='10')"
   ],
   "metadata": {
    "collapsed": false,
    "pycharm": {
     "name": "#%%\n"
    }
   }
  },
  {
   "cell_type": "code",
   "execution_count": 2,
   "outputs": [
    {
     "ename": "NameError",
     "evalue": "name 'data' is not defined",
     "output_type": "error",
     "traceback": [
      "\u001B[0;31m---------------------------------------------------------------------------\u001B[0m",
      "\u001B[0;31mNameError\u001B[0m                                 Traceback (most recent call last)",
      "Input \u001B[0;32mIn [2]\u001B[0m, in \u001B[0;36m<cell line: 1>\u001B[0;34m()\u001B[0m\n\u001B[0;32m----> 1\u001B[0m \u001B[43mdata\u001B[49m\u001B[38;5;241m.\u001B[39mbird\n",
      "\u001B[0;31mNameError\u001B[0m: name 'data' is not defined"
     ]
    }
   ],
   "source": [
    "data.bird"
   ],
   "metadata": {
    "collapsed": false,
    "pycharm": {
     "name": "#%%\n"
    }
   }
  },
  {
   "cell_type": "code",
   "execution_count": 94,
   "outputs": [
    {
     "name": "stderr",
     "output_type": "stream",
     "text": [
      "/var/folders/kf/j1jq_1qs78n4gd1vczc8vfw80000gn/T/ipykernel_62240/690917109.py:8: SettingWithCopyWarning:\n",
      "\n",
      "\n",
      "A value is trying to be set on a copy of a slice from a DataFrame.\n",
      "Try using .loc[row_indexer,col_indexer] = value instead\n",
      "\n",
      "See the caveats in the documentation: https://pandas.pydata.org/pandas-docs/stable/user_guide/indexing.html#returning-a-view-versus-a-copy\n",
      "\n",
      "/var/folders/kf/j1jq_1qs78n4gd1vczc8vfw80000gn/T/ipykernel_62240/690917109.py:8: SettingWithCopyWarning:\n",
      "\n",
      "\n",
      "A value is trying to be set on a copy of a slice from a DataFrame.\n",
      "Try using .loc[row_indexer,col_indexer] = value instead\n",
      "\n",
      "See the caveats in the documentation: https://pandas.pydata.org/pandas-docs/stable/user_guide/indexing.html#returning-a-view-versus-a-copy\n",
      "\n"
     ]
    }
   ],
   "source": [
    "def season(df):\n",
    "    return df.index.month % 12 // 3 + 1\n",
    "\n",
    "\n",
    "def grab_summer_winter(bird, year:int = None):\n",
    "    if year:\n",
    "        df = bird[bird.index.year==year]\n",
    "        df['season'] = season(df)\n",
    "        mask = (season(df) ==1)  # | (season(df) ==3)\n",
    "        return df[mask]\n",
    "    else:\n",
    "        df = bird[(bird.index.year>=2000) & (bird.index.year <2020)]\n",
    "        mask = (season(df) == 1)  # | (season(bird) == 3)\n",
    "        df['season'] = season(df)\n",
    "        return df[mask]\n",
    "\n",
    "from scipy.interpolate import interp2d\n",
    "from scipy.ndimage import gaussian_filter, rank_filter\n",
    "from gtda.homology import VietorisRipsPersistence\n",
    "from gtda.plotting import plot_diagram\n",
    "\n",
    "def heatmap(x, y, s, bins=1000):\n",
    "    heatmap, xedges, yedges = np.histogram2d(x, y, bins=bins)\n",
    "    heatmap = gaussian_filter(heatmap, sigma=s)\n",
    "\n",
    "    extent = [xedges[0], xedges[-1], yedges[0], yedges[-1]]\n",
    "    return heatmap.T, extent\n",
    "\n",
    "def interp(x, y):\n",
    "    bounds = [x.min(), x.max(), y.min(), y.max()]\n",
    "    f = interp2d(x, y, dens, kind=\"linear\")\n",
    "    x_coords = np.arange(bounds[0],bounds[1])\n",
    "    y_coords = np.arange(bounds[2],bounds[3])\n",
    "    Z = f(x_coords,y_coords)\n",
    "    return Z, bounds\n",
    "\n",
    "def compute_rank(intervals):\n",
    "    # intervals = [1, 7], [2, 9], [3, 11], [5, 10], [5, 9]\n",
    "    # display(intervals)\n",
    "    ranks = {}\n",
    "    # for eta in np.arange(0,2000, 10):\n",
    "    for eta in np.arange(0,20, 4):\n",
    "        display(eta)\n",
    "        for interval in intervals:\n",
    "            i, j = interval\n",
    "            # i = 4\n",
    "            # j = 8\n",
    "            if i <= eta and j >= eta+4:\n",
    "                if eta in ranks:\n",
    "                    ranks[eta] += 1\n",
    "                else:\n",
    "                    ranks[eta] = 1\n",
    "\n",
    "    display(ranks)\n",
    "\n",
    "year1 = grab_summer_winter(data.bird, 2017)\n",
    "year2 = grab_summer_winter(data.bird, 2018)"
   ],
   "metadata": {
    "collapsed": false,
    "pycharm": {
     "name": "#%%\n"
    }
   }
  },
  {
   "cell_type": "code",
   "execution_count": 22,
   "outputs": [
    {
     "data": {
      "text/plain": "(5429, 7)"
     },
     "execution_count": 22,
     "metadata": {},
     "output_type": "execute_result"
    }
   ],
   "source": [
    "year1.shape"
   ],
   "metadata": {
    "collapsed": false,
    "pycharm": {
     "name": "#%%\n"
    }
   }
  },
  {
   "cell_type": "code",
   "execution_count": 23,
   "outputs": [
    {
     "data": {
      "text/plain": "(4539, 7)"
     },
     "execution_count": 23,
     "metadata": {},
     "output_type": "execute_result"
    }
   ],
   "source": [
    "year2.shape"
   ],
   "metadata": {
    "collapsed": false,
    "pycharm": {
     "name": "#%%\n"
    }
   }
  },
  {
   "cell_type": "code",
   "execution_count": 81,
   "outputs": [
    {
     "data": {
      "text/plain": "0.02011715567132435"
     },
     "metadata": {},
     "output_type": "display_data"
    },
    {
     "data": {
      "text/plain": "<Figure size 720x720 with 1 Axes>",
      "image/png": "[encoded data removed]"
     },
     "metadata": {
      "needs_background": "light"
     },
     "output_type": "display_data"
    },
    {
     "data": {
      "text/plain": "(1, 2876, 2)"
     },
     "metadata": {},
     "output_type": "display_data"
    },
    {
     "data": {
      "application/vnd.plotly.v1+json": {
       "data": [
        {
         "hoverinfo": "none",
         "line": {
          "color": "black",
          "dash": "dash",
          "width": 1
         },
         "mode": "lines",
         "showlegend": false,
         "x": [
          -0.4490936279296875,
          22.903775024414063
         ],
         "y": [
          -0.4490936279296875,
          22.903775024414063
         ],
         "type": "scatter"
        },
        {
         "hoverinfo": "text",
         "hovertext": [
          "(0.0, 1.3486991292666062e-06), multiplicity: 25",
          "(0.0, 1.3486991292666062e-06), multiplicity: 25",
          "(0.0, 1.3486991292666062e-06), multiplicity: 25",
          "(0.0, 1.3486991292666062e-06), multiplicity: 25",
          "(0.0, 1.3486991292666062e-06), multiplicity: 25",
          "(0.0, 1.3486991292666062e-06), multiplicity: 25",
          "(0.0, 1.3486991292666062e-06), multiplicity: 25",
          "(0.0, 1.3486991292666062e-06), multiplicity: 25",
          "(0.0, 1.3486991292666062e-06), multiplicity: 25",
          "(0.0, 1.3486991292666062e-06), multiplicity: 25",
          "(0.0, 1.3486991292666062e-06), multiplicity: 25",
          "(0.0, 1.3486991292666062e-06), multiplicity: 25",
          "(0.0, 1.3486991292666062e-06), multiplicity: 25",
          "(0.0, 1.3486991292666062e-06), multiplicity: 25",
          "(0.0, 1.3486991292666062e-06), multiplicity: 25",
          "(0.0, 1.3486991292666062e-06), multiplicity: 25",
          "(0.0, 1.3486991292666062e-06), multiplicity: 25",
          "(0.0, 1.3486991292666062e-06), multiplicity: 25",
          "(0.0, 1.3486991292666062e-06), multiplicity: 25",
          "(0.0, 1.3486991292666062e-06), multiplicity: 25",
          "(0.0, 1.3486991292666062e-06), multiplicity: 25",
          "(0.0, 1.3486991292666062e-06), multiplicity: 25",
          "(0.0, 1.3486991292666062e-06), multiplicity: 25",
          "(0.0, 1.3486991292666062e-06), multiplicity: 25",
          "(0.0, 1.3486991292666062e-06), multiplicity: 25",
          "(0.0, 1.9073486328125e-06), multiplicity: 3",
          "(0.0, 1.9073486328125e-06), multiplicity: 3",
          "(0.0, 1.9073486328125e-06), multiplicity: 3",
          "(0.0, 2.6973982585332124e-06)",
          "(0.0, 0.011787472292780876)",
          "(0.0, 0.013915376737713814)",
          "(0.0, 0.026358380913734436)",
          "(0.0, 0.04183665290474892)",
          "(0.0, 0.05135708302259445)",
          "(0.0, 0.0707106813788414)",
          "(0.0, 0.09102029353380203)",
          "(0.0, 0.09214309602975845)",
          "(0.0, 0.11575043201446533)",
          "(0.0, 0.11785387247800827)",
          "(0.0, 0.13436682522296906)",
          "(0.0, 0.16665999591350555)",
          "(0.0, 0.16666999459266663)",
          "(0.0, 0.17819011211395264)",
          "(0.0, 0.20407186448574066)",
          "(0.0, 0.20880118012428284)",
          "(0.0, 0.21123133599758148)",
          "(0.0, 0.22117269039154053)",
          "(0.0, 0.30700525641441345)",
          "(0.0, 0.314243346452713)",
          "(0.0, 0.3176574409008026)",
          "(0.0, 0.33145710825920105)",
          "(0.0, 0.34555283188819885)",
          "(0.0, 0.3715694546699524)",
          "(0.0, 0.37637802958488464)",
          "(0.0, 0.39961105585098267)",
          "(0.0, 0.424239844083786)",
          "(0.0, 0.4510731101036072)",
          "(0.0, 0.47856101393699646)",
          "(0.0, 0.5309550166130066)",
          "(0.0, 0.5312188267707825)",
          "(0.0, 0.5551624298095703)",
          "(0.0, 0.5577693581581116)",
          "(0.0, 0.560163140296936)",
          "(0.0, 0.5752097964286804)",
          "(0.0, 0.6435143351554871)",
          "(0.0, 0.6451933979988098)",
          "(0.0, 0.661838173866272)",
          "(0.0, 0.7189954519271851)",
          "(0.0, 0.7877949476242065)",
          "(0.0, 0.8084589838981628)",
          "(0.0, 0.8444409370422363)",
          "(0.0, 0.8749581575393677)",
          "(0.0, 0.9030313491821289)",
          "(0.0, 0.9539983868598938)",
          "(0.0, 0.9617605209350586)",
          "(0.0, 0.9915652275085449)",
          "(0.0, 1.0277347564697266)",
          "(0.0, 1.0561497211456299)",
          "(0.0, 1.0723236799240112)",
          "(0.0, 1.0798108577728271)",
          "(0.0, 1.08063542842865)",
          "(0.0, 1.0843379497528076)",
          "(0.0, 1.131687045097351)",
          "(0.0, 1.1453965902328491)",
          "(0.0, 1.1554802656173706)",
          "(0.0, 1.179356336593628)",
          "(0.0, 1.2119603157043457)",
          "(0.0, 1.2524248361587524)",
          "(0.0, 1.2566992044448853)",
          "(0.0, 1.2911052703857422)",
          "(0.0, 1.3063875436782837)",
          "(0.0, 1.327675461769104)",
          "(0.0, 1.3751184940338135)",
          "(0.0, 1.378957748413086)",
          "(0.0, 1.3928745985031128)",
          "(0.0, 1.4002606868743896)",
          "(0.0, 1.4129610061645508)",
          "(0.0, 1.4762969017028809)",
          "(0.0, 1.496731162071228)",
          "(0.0, 1.5253878831863403)",
          "(0.0, 1.5710197687149048)",
          "(0.0, 1.589438796043396)",
          "(0.0, 1.6344959735870361)",
          "(0.0, 1.6783348321914673)",
          "(0.0, 1.7002030611038208)",
          "(0.0, 1.7172503471374512)",
          "(0.0, 1.7175005674362183)",
          "(0.0, 1.7205243110656738)",
          "(0.0, 1.7469367980957031)",
          "(0.0, 1.759850025177002)",
          "(0.0, 1.763108253479004)",
          "(0.0, 1.7842445373535156)",
          "(0.0, 1.8273451328277588)",
          "(0.0, 1.8495850563049316)",
          "(0.0, 1.9302027225494385)",
          "(0.0, 1.9738551378250122)",
          "(0.0, 2.0621118545532227)",
          "(0.0, 2.1363577842712402)",
          "(0.0, 2.1542246341705322)",
          "(0.0, 2.166808843612671)",
          "(0.0, 2.275334358215332)",
          "(0.0, 2.299184560775757)",
          "(0.0, 2.3303847312927246)",
          "(0.0, 2.4224355220794678)",
          "(0.0, 2.440690755844116)",
          "(0.0, 2.443727970123291)",
          "(0.0, 2.6302967071533203)",
          "(0.0, 2.7623674869537354)",
          "(0.0, 2.969007730484009)",
          "(0.0, 3.1332666873931885)",
          "(0.0, 3.222074270248413)",
          "(0.0, 3.5039544105529785)",
          "(0.0, 3.673849105834961)",
          "(0.0, 5.162710189819336)",
          "(0.0, 5.8155927658081055)",
          "(0.0, 9.236788749694824)",
          "(0.0, 22.454681396484375)"
         ],
         "mode": "markers",
         "name": "H0",
         "x": [
          0.0,
          0.0,
          0.0,
          0.0,
          0.0,
          0.0,
          0.0,
          0.0,
          0.0,
          0.0,
          0.0,
          0.0,
          0.0,
          0.0,
          0.0,
          0.0,
          0.0,
          0.0,
          0.0,
          0.0,
          0.0,
          0.0,
          0.0,
          0.0,
          0.0,
          0.0,
          0.0,
          0.0,
          0.0,
          0.0,
          0.0,
          0.0,
          0.0,
          0.0,
          0.0,
          0.0,
          0.0,
          0.0,
          0.0,
          0.0,
          0.0,
          0.0,
          0.0,
          0.0,
          0.0,
          0.0,
          0.0,
          0.0,
          0.0,
          0.0,
          0.0,
          0.0,
          0.0,
          0.0,
          0.0,
          0.0,
          0.0,
          0.0,
          0.0,
          0.0,
          0.0,
          0.0,
          0.0,
          0.0,
          0.0,
          0.0,
          0.0,
          0.0,
          0.0,
          0.0,
          0.0,
          0.0,
          0.0,
          0.0,
          0.0,
          0.0,
          0.0,
          0.0,
          0.0,
          0.0,
          0.0,
          0.0,
          0.0,
          0.0,
          0.0,
          0.0,
          0.0,
          0.0,
          0.0,
          0.0,
          0.0,
          0.0,
          0.0,
          0.0,
          0.0,
          0.0,
          0.0,
          0.0,
          0.0,
          0.0,
          0.0,
          0.0,
          0.0,
          0.0,
          0.0,
          0.0,
          0.0,
          0.0,
          0.0,
          0.0,
          0.0,
          0.0,
          0.0,
          0.0,
          0.0,
          0.0,
          0.0,
          0.0,
          0.0,
          0.0,
          0.0,
          0.0,
          0.0,
          0.0,
          0.0,
          0.0,
          0.0,
          0.0,
          0.0,
          0.0,
          0.0,
          0.0,
          0.0,
          0.0,
          0.0,
          0.0,
          0.0
         ],
         "y": [
          1.3486991292666062E-6,
          1.3486991292666062E-6,
          1.3486991292666062E-6,
          1.3486991292666062E-6,
          1.3486991292666062E-6,
          1.3486991292666062E-6,
          1.3486991292666062E-6,
          1.3486991292666062E-6,
          1.3486991292666062E-6,
          1.3486991292666062E-6,
          1.3486991292666062E-6,
          1.3486991292666062E-6,
          1.3486991292666062E-6,
          1.3486991292666062E-6,
          1.3486991292666062E-6,
          1.3486991292666062E-6,
          1.3486991292666062E-6,
          1.3486991292666062E-6,
          1.3486991292666062E-6,
          1.3486991292666062E-6,
          1.3486991292666062E-6,
          1.3486991292666062E-6,
          1.3486991292666062E-6,
          1.3486991292666062E-6,
          1.3486991292666062E-6,
          1.9073486328125E-6,
          1.9073486328125E-6,
          1.9073486328125E-6,
          2.6973982585332124E-6,
          0.011787472292780876,
          0.013915376737713814,
          0.026358380913734436,
          0.04183665290474892,
          0.05135708302259445,
          0.0707106813788414,
          0.09102029353380203,
          0.09214309602975845,
          0.11575043201446533,
          0.11785387247800827,
          0.13436682522296906,
          0.16665999591350555,
          0.16666999459266663,
          0.17819011211395264,
          0.20407186448574066,
          0.20880118012428284,
          0.21123133599758148,
          0.22117269039154053,
          0.30700525641441345,
          0.314243346452713,
          0.3176574409008026,
          0.33145710825920105,
          0.34555283188819885,
          0.3715694546699524,
          0.37637802958488464,
          0.39961105585098267,
          0.424239844083786,
          0.4510731101036072,
          0.47856101393699646,
          0.5309550166130066,
          0.5312188267707825,
          0.5551624298095703,
          0.5577693581581116,
          0.560163140296936,
          0.5752097964286804,
          0.6435143351554871,
          0.6451933979988098,
          0.661838173866272,
          0.7189954519271851,
          0.7877949476242065,
          0.8084589838981628,
          0.8444409370422363,
          0.8749581575393677,
          0.9030313491821289,
          0.9539983868598938,
          0.9617605209350586,
          0.9915652275085449,
          1.0277347564697266,
          1.0561497211456299,
          1.0723236799240112,
          1.0798108577728271,
          1.08063542842865,
          1.0843379497528076,
          1.131687045097351,
          1.1453965902328491,
          1.1554802656173706,
          1.179356336593628,
          1.2119603157043457,
          1.2524248361587524,
          1.2566992044448853,
          1.2911052703857422,
          1.3063875436782837,
          1.327675461769104,
          1.3751184940338135,
          1.378957748413086,
          1.3928745985031128,
          1.4002606868743896,
          1.4129610061645508,
          1.4762969017028809,
          1.496731162071228,
          1.5253878831863403,
          1.5710197687149048,
          1.589438796043396,
          1.6344959735870361,
          1.6783348321914673,
          1.7002030611038208,
          1.7172503471374512,
          1.7175005674362183,
          1.7205243110656738,
          1.7469367980957031,
          1.759850025177002,
          1.763108253479004,
          1.7842445373535156,
          1.8273451328277588,
          1.8495850563049316,
          1.9302027225494385,
          1.9738551378250122,
          2.0621118545532227,
          2.1363577842712402,
          2.1542246341705322,
          2.166808843612671,
          2.275334358215332,
          2.299184560775757,
          2.3303847312927246,
          2.4224355220794678,
          2.440690755844116,
          2.443727970123291,
          2.6302967071533203,
          2.7623674869537354,
          2.969007730484009,
          3.1332666873931885,
          3.222074270248413,
          3.5039544105529785,
          3.673849105834961,
          5.162710189819336,
          5.8155927658081055,
          9.236788749694824,
          22.454681396484375
         ],
         "type": "scatter"
        },
        {
         "hoverinfo": "text",
         "hovertext": [
          "(4.679819107055664, 7.781670570373535)",
          "(4.058038711547852, 4.085264205932617)",
          "(3.3621087074279785, 4.309179782867432)",
          "(2.970712423324585, 3.571812868118286)",
          "(2.9003069400787354, 3.308241128921509)",
          "(2.811353921890259, 4.15632963180542)",
          "(2.6823718547821045, 2.689098358154297)",
          "(2.6551718711853027, 2.7718281745910645)",
          "(2.6363120079040527, 2.9479944705963135)",
          "(2.6343629360198975, 2.7693333625793457)",
          "(2.4551031589508057, 2.5185461044311523)",
          "(2.441114902496338, 3.1663098335266113)",
          "(2.417076349258423, 2.435366630554199)",
          "(2.1369616985321045, 2.350318193435669)",
          "(1.8904995918273926, 2.0236377716064453)",
          "(1.7678260803222656, 2.1973531246185303)",
          "(1.6994404792785645, 1.7150946855545044)",
          "(1.3997163772583008, 1.461083173751831)"
         ],
         "mode": "markers",
         "name": "H1",
         "x": [
          4.679819107055664,
          4.058038711547852,
          3.3621087074279785,
          2.970712423324585,
          2.9003069400787354,
          2.811353921890259,
          2.6823718547821045,
          2.6551718711853027,
          2.6363120079040527,
          2.6343629360198975,
          2.4551031589508057,
          2.441114902496338,
          2.417076349258423,
          2.1369616985321045,
          1.8904995918273926,
          1.7678260803222656,
          1.6994404792785645,
          1.3997163772583008
         ],
         "y": [
          7.781670570373535,
          4.085264205932617,
          4.309179782867432,
          3.571812868118286,
          3.308241128921509,
          4.15632963180542,
          2.689098358154297,
          2.7718281745910645,
          2.9479944705963135,
          2.7693333625793457,
          2.5185461044311523,
          3.1663098335266113,
          2.435366630554199,
          2.350318193435669,
          2.0236377716064453,
          2.1973531246185303,
          1.7150946855545044,
          1.461083173751831
         ],
         "type": "scatter"
        }
       ],
       "layout": {
        "template": {
         "data": {
          "bar": [
           {
            "error_x": {
             "color": "#2a3f5f"
            },
            "error_y": {
             "color": "#2a3f5f"
            },
            "marker": {
             "line": {
              "color": "#E5ECF6",
              "width": 0.5
             },
             "pattern": {
              "fillmode": "overlay",
              "size": 10,
              "solidity": 0.2
             }
            },
            "type": "bar"
           }
          ],
          "barpolar": [
           {
            "marker": {
             "line": {
              "color": "#E5ECF6",
              "width": 0.5
             },
             "pattern": {
              "fillmode": "overlay",
              "size": 10,
              "solidity": 0.2
             }
            },
            "type": "barpolar"
           }
          ],
          "carpet": [
           {
            "aaxis": {
             "endlinecolor": "#2a3f5f",
             "gridcolor": "white",
             "linecolor": "white",
             "minorgridcolor": "white",
             "startlinecolor": "#2a3f5f"
            },
            "baxis": {
             "endlinecolor": "#2a3f5f",
             "gridcolor": "white",
             "linecolor": "white",
             "minorgridcolor": "white",
             "startlinecolor": "#2a3f5f"
            },
            "type": "carpet"
           }
          ],
          "choropleth": [
           {
            "colorbar": {
             "outlinewidth": 0,
             "ticks": ""
            },
            "type": "choropleth"
           }
          ],
          "contour": [
           {
            "colorbar": {
             "outlinewidth": 0,
             "ticks": ""
            },
            "colorscale": [
             [
              0.0,
              "#0d0887"
             ],
             [
              0.1111111111111111,
              "#46039f"
             ],
             [
              0.2222222222222222,
              "#7201a8"
             ],
             [
              0.3333333333333333,
              "#9c179e"
             ],
             [
              0.4444444444444444,
              "#bd3786"
             ],
             [
              0.5555555555555556,
              "#d8576b"
             ],
             [
              0.6666666666666666,
              "#ed7953"
             ],
             [
              0.7777777777777778,
              "#fb9f3a"
             ],
             [
              0.8888888888888888,
              "#fdca26"
             ],
             [
              1.0,
              "#f0f921"
             ]
            ],
            "type": "contour"
           }
          ],
          "contourcarpet": [
           {
            "colorbar": {
             "outlinewidth": 0,
             "ticks": ""
            },
            "type": "contourcarpet"
           }
          ],
          "heatmap": [
           {
            "colorbar": {
             "outlinewidth": 0,
             "ticks": ""
            },
            "colorscale": [
             [
              0.0,
              "#0d0887"
             ],
             [
              0.1111111111111111,
              "#46039f"
             ],
             [
              0.2222222222222222,
              "#7201a8"
             ],
             [
              0.3333333333333333,
              "#9c179e"
             ],
             [
              0.4444444444444444,
              "#bd3786"
             ],
             [
              0.5555555555555556,
              "#d8576b"
             ],
             [
              0.6666666666666666,
              "#ed7953"
             ],
             [
              0.7777777777777778,
              "#fb9f3a"
             ],
             [
              0.8888888888888888,
              "#fdca26"
             ],
             [
              1.0,
              "#f0f921"
             ]
            ],
            "type": "heatmap"
           }
          ],
          "heatmapgl": [
           {
            "colorbar": {
             "outlinewidth": 0,
             "ticks": ""
            },
            "colorscale": [
             [
              0.0,
              "#0d0887"
             ],
             [
              0.1111111111111111,
              "#46039f"
             ],
             [
              0.2222222222222222,
              "#7201a8"
             ],
             [
              0.3333333333333333,
              "#9c179e"
             ],
             [
              0.4444444444444444,
              "#bd3786"
             ],
             [
              0.5555555555555556,
              "#d8576b"
             ],
             [
              0.6666666666666666,
              "#ed7953"
             ],
             [
              0.7777777777777778,
              "#fb9f3a"
             ],
             [
              0.8888888888888888,
              "#fdca26"
             ],
             [
              1.0,
              "#f0f921"
             ]
            ],
            "type": "heatmapgl"
           }
          ],
          "histogram": [
           {
            "marker": {
             "pattern": {
              "fillmode": "overlay",
              "size": 10,
              "solidity": 0.2
             }
            },
            "type": "histogram"
           }
          ],
          "histogram2d": [
           {
            "colorbar": {
             "outlinewidth": 0,
             "ticks": ""
            },
            "colorscale": [
             [
              0.0,
              "#0d0887"
             ],
             [
              0.1111111111111111,
              "#46039f"
             ],
             [
              0.2222222222222222,
              "#7201a8"
             ],
             [
              0.3333333333333333,
              "#9c179e"
             ],
             [
              0.4444444444444444,
              "#bd3786"
             ],
             [
              0.5555555555555556,
              "#d8576b"
             ],
             [
              0.6666666666666666,
              "#ed7953"
             ],
             [
              0.7777777777777778,
              "#fb9f3a"
             ],
             [
              0.8888888888888888,
              "#fdca26"
             ],
             [
              1.0,
              "#f0f921"
             ]
            ],
            "type": "histogram2d"
           }
          ],
          "histogram2dcontour": [
           {
            "colorbar": {
             "outlinewidth": 0,
             "ticks": ""
            },
            "colorscale": [
             [
              0.0,
              "#0d0887"
             ],
             [
              0.1111111111111111,
              "#46039f"
             ],
             [
              0.2222222222222222,
              "#7201a8"
             ],
             [
              0.3333333333333333,
              "#9c179e"
             ],
             [
              0.4444444444444444,
              "#bd3786"
             ],
             [
              0.5555555555555556,
              "#d8576b"
             ],
             [
              0.6666666666666666,
              "#ed7953"
             ],
             [
              0.7777777777777778,
              "#fb9f3a"
             ],
             [
              0.8888888888888888,
              "#fdca26"
             ],
             [
              1.0,
              "#f0f921"
             ]
            ],
            "type": "histogram2dcontour"
           }
          ],
          "mesh3d": [
           {
            "colorbar": {
             "outlinewidth": 0,
             "ticks": ""
            },
            "type": "mesh3d"
           }
          ],
          "parcoords": [
           {
            "line": {
             "colorbar": {
              "outlinewidth": 0,
              "ticks": ""
             }
            },
            "type": "parcoords"
           }
          ],
          "pie": [
           {
            "automargin": true,
            "type": "pie"
           }
          ],
          "scatter": [
           {
            "marker": {
             "colorbar": {
              "outlinewidth": 0,
              "ticks": ""
             }
            },
            "type": "scatter"
           }
          ],
          "scatter3d": [
           {
            "line": {
             "colorbar": {
              "outlinewidth": 0,
              "ticks": ""
             }
            },
            "marker": {
             "colorbar": {
              "outlinewidth": 0,
              "ticks": ""
             }
            },
            "type": "scatter3d"
           }
          ],
          "scattercarpet": [
           {
            "marker": {
             "colorbar": {
              "outlinewidth": 0,
              "ticks": ""
             }
            },
            "type": "scattercarpet"
           }
          ],
          "scattergeo": [
           {
            "marker": {
             "colorbar": {
              "outlinewidth": 0,
              "ticks": ""
             }
            },
            "type": "scattergeo"
           }
          ],
          "scattergl": [
           {
            "marker": {
             "colorbar": {
              "outlinewidth": 0,
              "ticks": ""
             }
            },
            "type": "scattergl"
           }
          ],
          "scattermapbox": [
           {
            "marker": {
             "colorbar": {
              "outlinewidth": 0,
              "ticks": ""
             }
            },
            "type": "scattermapbox"
           }
          ],
          "scatterpolar": [
           {
            "marker": {
             "colorbar": {
              "outlinewidth": 0,
              "ticks": ""
             }
            },
            "type": "scatterpolar"
           }
          ],
          "scatterpolargl": [
           {
            "marker": {
             "colorbar": {
              "outlinewidth": 0,
              "ticks": ""
             }
            },
            "type": "scatterpolargl"
           }
          ],
          "scatterternary": [
           {
            "marker": {
             "colorbar": {
              "outlinewidth": 0,
              "ticks": ""
             }
            },
            "type": "scatterternary"
           }
          ],
          "surface": [
           {
            "colorbar": {
             "outlinewidth": 0,
             "ticks": ""
            },
            "colorscale": [
             [
              0.0,
              "#0d0887"
             ],
             [
              0.1111111111111111,
              "#46039f"
             ],
             [
              0.2222222222222222,
              "#7201a8"
             ],
             [
              0.3333333333333333,
              "#9c179e"
             ],
             [
              0.4444444444444444,
              "#bd3786"
             ],
             [
              0.5555555555555556,
              "#d8576b"
             ],
             [
              0.6666666666666666,
              "#ed7953"
             ],
             [
              0.7777777777777778,
              "#fb9f3a"
             ],
             [
              0.8888888888888888,
              "#fdca26"
             ],
             [
              1.0,
              "#f0f921"
             ]
            ],
            "type": "surface"
           }
          ],
          "table": [
           {
            "cells": {
             "fill": {
              "color": "#EBF0F8"
             },
             "line": {
              "color": "white"
             }
            },
            "header": {
             "fill": {
              "color": "#C8D4E3"
             },
             "line": {
              "color": "white"
             }
            },
            "type": "table"
           }
          ]
         },
         "layout": {
          "annotationdefaults": {
           "arrowcolor": "#2a3f5f",
           "arrowhead": 0,
           "arrowwidth": 1
          },
          "autotypenumbers": "strict",
          "coloraxis": {
           "colorbar": {
            "outlinewidth": 0,
            "ticks": ""
           }
          },
          "colorscale": {
           "diverging": [
            [
             0,
             "#8e0152"
            ],
            [
             0.1,
             "#c51b7d"
            ],
            [
             0.2,
             "#de77ae"
            ],
            [
             0.3,
             "#f1b6da"
            ],
            [
             0.4,
             "#fde0ef"
            ],
            [
             0.5,
             "#f7f7f7"
            ],
            [
             0.6,
             "#e6f5d0"
            ],
            [
             0.7,
             "#b8e186"
            ],
            [
             0.8,
             "#7fbc41"
            ],
            [
             0.9,
             "#4d9221"
            ],
            [
             1,
             "#276419"
            ]
           ],
           "sequential": [
            [
             0.0,
             "#0d0887"
            ],
            [
             0.1111111111111111,
             "#46039f"
            ],
            [
             0.2222222222222222,
             "#7201a8"
            ],
            [
             0.3333333333333333,
             "#9c179e"
            ],
            [
             0.4444444444444444,
             "#bd3786"
            ],
            [
             0.5555555555555556,
             "#d8576b"
            ],
            [
             0.6666666666666666,
             "#ed7953"
            ],
            [
             0.7777777777777778,
             "#fb9f3a"
            ],
            [
             0.8888888888888888,
             "#fdca26"
            ],
            [
             1.0,
             "#f0f921"
            ]
           ],
           "sequentialminus": [
            [
             0.0,
             "#0d0887"
            ],
            [
             0.1111111111111111,
             "#46039f"
            ],
            [
             0.2222222222222222,
             "#7201a8"
            ],
            [
             0.3333333333333333,
             "#9c179e"
            ],
            [
             0.4444444444444444,
             "#bd3786"
            ],
            [
             0.5555555555555556,
             "#d8576b"
            ],
            [
             0.6666666666666666,
             "#ed7953"
            ],
            [
             0.7777777777777778,
             "#fb9f3a"
            ],
            [
             0.8888888888888888,
             "#fdca26"
            ],
            [
             1.0,
             "#f0f921"
            ]
           ]
          },
          "colorway": [
           "#636efa",
           "#EF553B",
           "#00cc96",
           "#ab63fa",
           "#FFA15A",
           "#19d3f3",
           "#FF6692",
           "#B6E880",
           "#FF97FF",
           "#FECB52"
          ],
          "font": {
           "color": "#2a3f5f"
          },
          "geo": {
           "bgcolor": "white",
           "lakecolor": "white",
           "landcolor": "#E5ECF6",
           "showlakes": true,
           "showland": true,
           "subunitcolor": "white"
          },
          "hoverlabel": {
           "align": "left"
          },
          "hovermode": "closest",
          "mapbox": {
           "style": "light"
          },
          "paper_bgcolor": "white",
          "plot_bgcolor": "#E5ECF6",
          "polar": {
           "angularaxis": {
            "gridcolor": "white",
            "linecolor": "white",
            "ticks": ""
           },
           "bgcolor": "#E5ECF6",
           "radialaxis": {
            "gridcolor": "white",
            "linecolor": "white",
            "ticks": ""
           }
          },
          "scene": {
           "xaxis": {
            "backgroundcolor": "#E5ECF6",
            "gridcolor": "white",
            "gridwidth": 2,
            "linecolor": "white",
            "showbackground": true,
            "ticks": "",
            "zerolinecolor": "white"
           },
           "yaxis": {
            "backgroundcolor": "#E5ECF6",
            "gridcolor": "white",
            "gridwidth": 2,
            "linecolor": "white",
            "showbackground": true,
            "ticks": "",
            "zerolinecolor": "white"
           },
           "zaxis": {
            "backgroundcolor": "#E5ECF6",
            "gridcolor": "white",
            "gridwidth": 2,
            "linecolor": "white",
            "showbackground": true,
            "ticks": "",
            "zerolinecolor": "white"
           }
          },
          "shapedefaults": {
           "line": {
            "color": "#2a3f5f"
           }
          },
          "ternary": {
           "aaxis": {
            "gridcolor": "white",
            "linecolor": "white",
            "ticks": ""
           },
           "baxis": {
            "gridcolor": "white",
            "linecolor": "white",
            "ticks": ""
           },
           "bgcolor": "#E5ECF6",
           "caxis": {
            "gridcolor": "white",
            "linecolor": "white",
            "ticks": ""
           }
          },
          "title": {
           "x": 0.05
          },
          "xaxis": {
           "automargin": true,
           "gridcolor": "white",
           "linecolor": "white",
           "ticks": "",
           "title": {
            "standoff": 15
           },
           "zerolinecolor": "white",
           "zerolinewidth": 2
          },
          "yaxis": {
           "automargin": true,
           "gridcolor": "white",
           "linecolor": "white",
           "ticks": "",
           "title": {
            "standoff": 15
           },
           "zerolinecolor": "white",
           "zerolinewidth": 2
          }
         }
        },
        "xaxis": {
         "title": {
          "text": "Birth"
         },
         "side": "bottom",
         "type": "linear",
         "range": [
          -0.4490936279296875,
          22.903775024414063
         ],
         "autorange": false,
         "ticks": "outside",
         "showline": true,
         "zeroline": true,
         "linewidth": 1,
         "linecolor": "black",
         "mirror": false,
         "showexponent": "all",
         "exponentformat": "e"
        },
        "yaxis": {
         "title": {
          "text": "Death"
         },
         "side": "left",
         "type": "linear",
         "range": [
          -0.4490936279296875,
          22.903775024414063
         ],
         "autorange": false,
         "scaleanchor": "x",
         "scaleratio": 1,
         "ticks": "outside",
         "showline": true,
         "zeroline": true,
         "linewidth": 1,
         "linecolor": "black",
         "mirror": false,
         "showexponent": "all",
         "exponentformat": "e"
        },
        "width": 500,
        "height": 500,
        "plot_bgcolor": "white"
       },
       "config": {
        "plotlyServerURL": "https://plot.ly"
       }
      },
      "text/html": "<div>                            <div id=\"d7d0160e-fb0d-4941-80fc-236311b97594\" class=\"plotly-graph-div\" style=\"height:500px; width:500px;\"></div>            <script type=\"text/javascript\">                require([\"plotly\"], function(Plotly) {                    window.PLOTLYENV=window.PLOTLYENV || {};                                    if (document.getElementById(\"d7d0160e-fb0d-4941-80fc-236311b97594\")) {                    Plotly.newPlot(                        \"d7d0160e-fb0d-4941-80fc-236311b97594\",                        [{\"hoverinfo\":\"none\",\"line\":{\"color\":\"black\",\"dash\":\"dash\",\"width\":1},\"mode\":\"lines\",\"showlegend\":false,\"x\":[-0.4490936279296875,22.903775024414063],\"y\":[-0.4490936279296875,22.903775024414063],\"type\":\"scatter\"},{\"hoverinfo\":\"text\",\"hovertext\":[\"(0.0, 1.3486991292666062e-06), multiplicity: 25\",\"(0.0, 1.3486991292666062e-06), multiplicity: 25\",\"(0.0, 1.3486991292666062e-06), multiplicity: 25\",\"(0.0, 1.3486991292666062e-06), multiplicity: 25\",\"(0.0, 1.3486991292666062e-06), multiplicity: 25\",\"(0.0, 1.3486991292666062e-06), multiplicity: 25\",\"(0.0, 1.3486991292666062e-06), multiplicity: 25\",\"(0.0, 1.3486991292666062e-06), multiplicity: 25\",\"(0.0, 1.3486991292666062e-06), multiplicity: 25\",\"(0.0, 1.3486991292666062e-06), multiplicity: 25\",\"(0.0, 1.3486991292666062e-06), multiplicity: 25\",\"(0.0, 1.3486991292666062e-06), multiplicity: 25\",\"(0.0, 1.3486991292666062e-06), multiplicity: 25\",\"(0.0, 1.3486991292666062e-06), multiplicity: 25\",\"(0.0, 1.3486991292666062e-06), multiplicity: 25\",\"(0.0, 1.3486991292666062e-06), multiplicity: 25\",\"(0.0, 1.3486991292666062e-06), multiplicity: 25\",\"(0.0, 1.3486991292666062e-06), multiplicity: 25\",\"(0.0, 1.3486991292666062e-06), multiplicity: 25\",\"(0.0, 1.3486991292666062e-06), multiplicity: 25\",\"(0.0, 1.3486991292666062e-06), multiplicity: 25\",\"(0.0, 1.3486991292666062e-06), multiplicity: 25\",\"(0.0, 1.3486991292666062e-06), multiplicity: 25\",\"(0.0, 1.3486991292666062e-06), multiplicity: 25\",\"(0.0, 1.3486991292666062e-06), multiplicity: 25\",\"(0.0, 1.9073486328125e-06), multiplicity: 3\",\"(0.0, 1.9073486328125e-06), multiplicity: 3\",\"(0.0, 1.9073486328125e-06), multiplicity: 3\",\"(0.0, 2.6973982585332124e-06)\",\"(0.0, 0.011787472292780876)\",\"(0.0, 0.013915376737713814)\",\"(0.0, 0.026358380913734436)\",\"(0.0, 0.04183665290474892)\",\"(0.0, 0.05135708302259445)\",\"(0.0, 0.0707106813788414)\",\"(0.0, 0.09102029353380203)\",\"(0.0, 0.09214309602975845)\",\"(0.0, 0.11575043201446533)\",\"(0.0, 0.11785387247800827)\",\"(0.0, 0.13436682522296906)\",\"(0.0, 0.16665999591350555)\",\"(0.0, 0.16666999459266663)\",\"(0.0, 0.17819011211395264)\",\"(0.0, 0.20407186448574066)\",\"(0.0, 0.20880118012428284)\",\"(0.0, 0.21123133599758148)\",\"(0.0, 0.22117269039154053)\",\"(0.0, 0.30700525641441345)\",\"(0.0, 0.314243346452713)\",\"(0.0, 0.3176574409008026)\",\"(0.0, 0.33145710825920105)\",\"(0.0, 0.34555283188819885)\",\"(0.0, 0.3715694546699524)\",\"(0.0, 0.37637802958488464)\",\"(0.0, 0.39961105585098267)\",\"(0.0, 0.424239844083786)\",\"(0.0, 0.4510731101036072)\",\"(0.0, 0.47856101393699646)\",\"(0.0, 0.5309550166130066)\",\"(0.0, 0.5312188267707825)\",\"(0.0, 0.5551624298095703)\",\"(0.0, 0.5577693581581116)\",\"(0.0, 0.560163140296936)\",\"(0.0, 0.5752097964286804)\",\"(0.0, 0.6435143351554871)\",\"(0.0, 0.6451933979988098)\",\"(0.0, 0.661838173866272)\",\"(0.0, 0.7189954519271851)\",\"(0.0, 0.7877949476242065)\",\"(0.0, 0.8084589838981628)\",\"(0.0, 0.8444409370422363)\",\"(0.0, 0.8749581575393677)\",\"(0.0, 0.9030313491821289)\",\"(0.0, 0.9539983868598938)\",\"(0.0, 0.9617605209350586)\",\"(0.0, 0.9915652275085449)\",\"(0.0, 1.0277347564697266)\",\"(0.0, 1.0561497211456299)\",\"(0.0, 1.0723236799240112)\",\"(0.0, 1.0798108577728271)\",\"(0.0, 1.08063542842865)\",\"(0.0, 1.0843379497528076)\",\"(0.0, 1.131687045097351)\",\"(0.0, 1.1453965902328491)\",\"(0.0, 1.1554802656173706)\",\"(0.0, 1.179356336593628)\",\"(0.0, 1.2119603157043457)\",\"(0.0, 1.2524248361587524)\",\"(0.0, 1.2566992044448853)\",\"(0.0, 1.2911052703857422)\",\"(0.0, 1.3063875436782837)\",\"(0.0, 1.327675461769104)\",\"(0.0, 1.3751184940338135)\",\"(0.0, 1.378957748413086)\",\"(0.0, 1.3928745985031128)\",\"(0.0, 1.4002606868743896)\",\"(0.0, 1.4129610061645508)\",\"(0.0, 1.4762969017028809)\",\"(0.0, 1.496731162071228)\",\"(0.0, 1.5253878831863403)\",\"(0.0, 1.5710197687149048)\",\"(0.0, 1.589438796043396)\",\"(0.0, 1.6344959735870361)\",\"(0.0, 1.6783348321914673)\",\"(0.0, 1.7002030611038208)\",\"(0.0, 1.7172503471374512)\",\"(0.0, 1.7175005674362183)\",\"(0.0, 1.7205243110656738)\",\"(0.0, 1.7469367980957031)\",\"(0.0, 1.759850025177002)\",\"(0.0, 1.763108253479004)\",\"(0.0, 1.7842445373535156)\",\"(0.0, 1.8273451328277588)\",\"(0.0, 1.8495850563049316)\",\"(0.0, 1.9302027225494385)\",\"(0.0, 1.9738551378250122)\",\"(0.0, 2.0621118545532227)\",\"(0.0, 2.1363577842712402)\",\"(0.0, 2.1542246341705322)\",\"(0.0, 2.166808843612671)\",\"(0.0, 2.275334358215332)\",\"(0.0, 2.299184560775757)\",\"(0.0, 2.3303847312927246)\",\"(0.0, 2.4224355220794678)\",\"(0.0, 2.440690755844116)\",\"(0.0, 2.443727970123291)\",\"(0.0, 2.6302967071533203)\",\"(0.0, 2.7623674869537354)\",\"(0.0, 2.969007730484009)\",\"(0.0, 3.1332666873931885)\",\"(0.0, 3.222074270248413)\",\"(0.0, 3.5039544105529785)\",\"(0.0, 3.673849105834961)\",\"(0.0, 5.162710189819336)\",\"(0.0, 5.8155927658081055)\",\"(0.0, 9.236788749694824)\",\"(0.0, 22.454681396484375)\"],\"mode\":\"markers\",\"name\":\"H0\",\"x\":[0.0,0.0,0.0,0.0,0.0,0.0,0.0,0.0,0.0,0.0,0.0,0.0,0.0,0.0,0.0,0.0,0.0,0.0,0.0,0.0,0.0,0.0,0.0,0.0,0.0,0.0,0.0,0.0,0.0,0.0,0.0,0.0,0.0,0.0,0.0,0.0,0.0,0.0,0.0,0.0,0.0,0.0,0.0,0.0,0.0,0.0,0.0,0.0,0.0,0.0,0.0,0.0,0.0,0.0,0.0,0.0,0.0,0.0,0.0,0.0,0.0,0.0,0.0,0.0,0.0,0.0,0.0,0.0,0.0,0.0,0.0,0.0,0.0,0.0,0.0,0.0,0.0,0.0,0.0,0.0,0.0,0.0,0.0,0.0,0.0,0.0,0.0,0.0,0.0,0.0,0.0,0.0,0.0,0.0,0.0,0.0,0.0,0.0,0.0,0.0,0.0,0.0,0.0,0.0,0.0,0.0,0.0,0.0,0.0,0.0,0.0,0.0,0.0,0.0,0.0,0.0,0.0,0.0,0.0,0.0,0.0,0.0,0.0,0.0,0.0,0.0,0.0,0.0,0.0,0.0,0.0,0.0,0.0,0.0,0.0,0.0,0.0],\"y\":[1.3486991292666062e-06,1.3486991292666062e-06,1.3486991292666062e-06,1.3486991292666062e-06,1.3486991292666062e-06,1.3486991292666062e-06,1.3486991292666062e-06,1.3486991292666062e-06,1.3486991292666062e-06,1.3486991292666062e-06,1.3486991292666062e-06,1.3486991292666062e-06,1.3486991292666062e-06,1.3486991292666062e-06,1.3486991292666062e-06,1.3486991292666062e-06,1.3486991292666062e-06,1.3486991292666062e-06,1.3486991292666062e-06,1.3486991292666062e-06,1.3486991292666062e-06,1.3486991292666062e-06,1.3486991292666062e-06,1.3486991292666062e-06,1.3486991292666062e-06,1.9073486328125e-06,1.9073486328125e-06,1.9073486328125e-06,2.6973982585332124e-06,0.011787472292780876,0.013915376737713814,0.026358380913734436,0.04183665290474892,0.05135708302259445,0.0707106813788414,0.09102029353380203,0.09214309602975845,0.11575043201446533,0.11785387247800827,0.13436682522296906,0.16665999591350555,0.16666999459266663,0.17819011211395264,0.20407186448574066,0.20880118012428284,0.21123133599758148,0.22117269039154053,0.30700525641441345,0.314243346452713,0.3176574409008026,0.33145710825920105,0.34555283188819885,0.3715694546699524,0.37637802958488464,0.39961105585098267,0.424239844083786,0.4510731101036072,0.47856101393699646,0.5309550166130066,0.5312188267707825,0.5551624298095703,0.5577693581581116,0.560163140296936,0.5752097964286804,0.6435143351554871,0.6451933979988098,0.661838173866272,0.7189954519271851,0.7877949476242065,0.8084589838981628,0.8444409370422363,0.8749581575393677,0.9030313491821289,0.9539983868598938,0.9617605209350586,0.9915652275085449,1.0277347564697266,1.0561497211456299,1.0723236799240112,1.0798108577728271,1.08063542842865,1.0843379497528076,1.131687045097351,1.1453965902328491,1.1554802656173706,1.179356336593628,1.2119603157043457,1.2524248361587524,1.2566992044448853,1.2911052703857422,1.3063875436782837,1.327675461769104,1.3751184940338135,1.378957748413086,1.3928745985031128,1.4002606868743896,1.4129610061645508,1.4762969017028809,1.496731162071228,1.5253878831863403,1.5710197687149048,1.589438796043396,1.6344959735870361,1.6783348321914673,1.7002030611038208,1.7172503471374512,1.7175005674362183,1.7205243110656738,1.7469367980957031,1.759850025177002,1.763108253479004,1.7842445373535156,1.8273451328277588,1.8495850563049316,1.9302027225494385,1.9738551378250122,2.0621118545532227,2.1363577842712402,2.1542246341705322,2.166808843612671,2.275334358215332,2.299184560775757,2.3303847312927246,2.4224355220794678,2.440690755844116,2.443727970123291,2.6302967071533203,2.7623674869537354,2.969007730484009,3.1332666873931885,3.222074270248413,3.5039544105529785,3.673849105834961,5.162710189819336,5.8155927658081055,9.236788749694824,22.454681396484375],\"type\":\"scatter\"},{\"hoverinfo\":\"text\",\"hovertext\":[\"(4.679819107055664, 7.781670570373535)\",\"(4.058038711547852, 4.085264205932617)\",\"(3.3621087074279785, 4.309179782867432)\",\"(2.970712423324585, 3.571812868118286)\",\"(2.9003069400787354, 3.308241128921509)\",\"(2.811353921890259, 4.15632963180542)\",\"(2.6823718547821045, 2.689098358154297)\",\"(2.6551718711853027, 2.7718281745910645)\",\"(2.6363120079040527, 2.9479944705963135)\",\"(2.6343629360198975, 2.7693333625793457)\",\"(2.4551031589508057, 2.5185461044311523)\",\"(2.441114902496338, 3.1663098335266113)\",\"(2.417076349258423, 2.435366630554199)\",\"(2.1369616985321045, 2.350318193435669)\",\"(1.8904995918273926, 2.0236377716064453)\",\"(1.7678260803222656, 2.1973531246185303)\",\"(1.6994404792785645, 1.7150946855545044)\",\"(1.3997163772583008, 1.461083173751831)\"],\"mode\":\"markers\",\"name\":\"H1\",\"x\":[4.679819107055664,4.058038711547852,3.3621087074279785,2.970712423324585,2.9003069400787354,2.811353921890259,2.6823718547821045,2.6551718711853027,2.6363120079040527,2.6343629360198975,2.4551031589508057,2.441114902496338,2.417076349258423,2.1369616985321045,1.8904995918273926,1.7678260803222656,1.6994404792785645,1.3997163772583008],\"y\":[7.781670570373535,4.085264205932617,4.309179782867432,3.571812868118286,3.308241128921509,4.15632963180542,2.689098358154297,2.7718281745910645,2.9479944705963135,2.7693333625793457,2.5185461044311523,3.1663098335266113,2.435366630554199,2.350318193435669,2.0236377716064453,2.1973531246185303,1.7150946855545044,1.461083173751831],\"type\":\"scatter\"}],                        {\"template\":{\"data\":{\"bar\":[{\"error_x\":{\"color\":\"#2a3f5f\"},\"error_y\":{\"color\":\"#2a3f5f\"},\"marker\":{\"line\":{\"color\":\"#E5ECF6\",\"width\":0.5},\"pattern\":{\"fillmode\":\"overlay\",\"size\":10,\"solidity\":0.2}},\"type\":\"bar\"}],\"barpolar\":[{\"marker\":{\"line\":{\"color\":\"#E5ECF6\",\"width\":0.5},\"pattern\":{\"fillmode\":\"overlay\",\"size\":10,\"solidity\":0.2}},\"type\":\"barpolar\"}],\"carpet\":[{\"aaxis\":{\"endlinecolor\":\"#2a3f5f\",\"gridcolor\":\"white\",\"linecolor\":\"white\",\"minorgridcolor\":\"white\",\"startlinecolor\":\"#2a3f5f\"},\"baxis\":{\"endlinecolor\":\"#2a3f5f\",\"gridcolor\":\"white\",\"linecolor\":\"white\",\"minorgridcolor\":\"white\",\"startlinecolor\":\"#2a3f5f\"},\"type\":\"carpet\"}],\"choropleth\":[{\"colorbar\":{\"outlinewidth\":0,\"ticks\":\"\"},\"type\":\"choropleth\"}],\"contour\":[{\"colorbar\":{\"outlinewidth\":0,\"ticks\":\"\"},\"colorscale\":[[0.0,\"#0d0887\"],[0.1111111111111111,\"#46039f\"],[0.2222222222222222,\"#7201a8\"],[0.3333333333333333,\"#9c179e\"],[0.4444444444444444,\"#bd3786\"],[0.5555555555555556,\"#d8576b\"],[0.6666666666666666,\"#ed7953\"],[0.7777777777777778,\"#fb9f3a\"],[0.8888888888888888,\"#fdca26\"],[1.0,\"#f0f921\"]],\"type\":\"contour\"}],\"contourcarpet\":[{\"colorbar\":{\"outlinewidth\":0,\"ticks\":\"\"},\"type\":\"contourcarpet\"}],\"heatmap\":[{\"colorbar\":{\"outlinewidth\":0,\"ticks\":\"\"},\"colorscale\":[[0.0,\"#0d0887\"],[0.1111111111111111,\"#46039f\"],[0.2222222222222222,\"#7201a8\"],[0.3333333333333333,\"#9c179e\"],[0.4444444444444444,\"#bd3786\"],[0.5555555555555556,\"#d8576b\"],[0.6666666666666666,\"#ed7953\"],[0.7777777777777778,\"#fb9f3a\"],[0.8888888888888888,\"#fdca26\"],[1.0,\"#f0f921\"]],\"type\":\"heatmap\"}],\"heatmapgl\":[{\"colorbar\":{\"outlinewidth\":0,\"ticks\":\"\"},\"colorscale\":[[0.0,\"#0d0887\"],[0.1111111111111111,\"#46039f\"],[0.2222222222222222,\"#7201a8\"],[0.3333333333333333,\"#9c179e\"],[0.4444444444444444,\"#bd3786\"],[0.5555555555555556,\"#d8576b\"],[0.6666666666666666,\"#ed7953\"],[0.7777777777777778,\"#fb9f3a\"],[0.8888888888888888,\"#fdca26\"],[1.0,\"#f0f921\"]],\"type\":\"heatmapgl\"}],\"histogram\":[{\"marker\":{\"pattern\":{\"fillmode\":\"overlay\",\"size\":10,\"solidity\":0.2}},\"type\":\"histogram\"}],\"histogram2d\":[{\"colorbar\":{\"outlinewidth\":0,\"ticks\":\"\"},\"colorscale\":[[0.0,\"#0d0887\"],[0.1111111111111111,\"#46039f\"],[0.2222222222222222,\"#7201a8\"],[0.3333333333333333,\"#9c179e\"],[0.4444444444444444,\"#bd3786\"],[0.5555555555555556,\"#d8576b\"],[0.6666666666666666,\"#ed7953\"],[0.7777777777777778,\"#fb9f3a\"],[0.8888888888888888,\"#fdca26\"],[1.0,\"#f0f921\"]],\"type\":\"histogram2d\"}],\"histogram2dcontour\":[{\"colorbar\":{\"outlinewidth\":0,\"ticks\":\"\"},\"colorscale\":[[0.0,\"#0d0887\"],[0.1111111111111111,\"#46039f\"],[0.2222222222222222,\"#7201a8\"],[0.3333333333333333,\"#9c179e\"],[0.4444444444444444,\"#bd3786\"],[0.5555555555555556,\"#d8576b\"],[0.6666666666666666,\"#ed7953\"],[0.7777777777777778,\"#fb9f3a\"],[0.8888888888888888,\"#fdca26\"],[1.0,\"#f0f921\"]],\"type\":\"histogram2dcontour\"}],\"mesh3d\":[{\"colorbar\":{\"outlinewidth\":0,\"ticks\":\"\"},\"type\":\"mesh3d\"}],\"parcoords\":[{\"line\":{\"colorbar\":{\"outlinewidth\":0,\"ticks\":\"\"}},\"type\":\"parcoords\"}],\"pie\":[{\"automargin\":true,\"type\":\"pie\"}],\"scatter\":[{\"marker\":{\"colorbar\":{\"outlinewidth\":0,\"ticks\":\"\"}},\"type\":\"scatter\"}],\"scatter3d\":[{\"line\":{\"colorbar\":{\"outlinewidth\":0,\"ticks\":\"\"}},\"marker\":{\"colorbar\":{\"outlinewidth\":0,\"ticks\":\"\"}},\"type\":\"scatter3d\"}],\"scattercarpet\":[{\"marker\":{\"colorbar\":{\"outlinewidth\":0,\"ticks\":\"\"}},\"type\":\"scattercarpet\"}],\"scattergeo\":[{\"marker\":{\"colorbar\":{\"outlinewidth\":0,\"ticks\":\"\"}},\"type\":\"scattergeo\"}],\"scattergl\":[{\"marker\":{\"colorbar\":{\"outlinewidth\":0,\"ticks\":\"\"}},\"type\":\"scattergl\"}],\"scattermapbox\":[{\"marker\":{\"colorbar\":{\"outlinewidth\":0,\"ticks\":\"\"}},\"type\":\"scattermapbox\"}],\"scatterpolar\":[{\"marker\":{\"colorbar\":{\"outlinewidth\":0,\"ticks\":\"\"}},\"type\":\"scatterpolar\"}],\"scatterpolargl\":[{\"marker\":{\"colorbar\":{\"outlinewidth\":0,\"ticks\":\"\"}},\"type\":\"scatterpolargl\"}],\"scatterternary\":[{\"marker\":{\"colorbar\":{\"outlinewidth\":0,\"ticks\":\"\"}},\"type\":\"scatterternary\"}],\"surface\":[{\"colorbar\":{\"outlinewidth\":0,\"ticks\":\"\"},\"colorscale\":[[0.0,\"#0d0887\"],[0.1111111111111111,\"#46039f\"],[0.2222222222222222,\"#7201a8\"],[0.3333333333333333,\"#9c179e\"],[0.4444444444444444,\"#bd3786\"],[0.5555555555555556,\"#d8576b\"],[0.6666666666666666,\"#ed7953\"],[0.7777777777777778,\"#fb9f3a\"],[0.8888888888888888,\"#fdca26\"],[1.0,\"#f0f921\"]],\"type\":\"surface\"}],\"table\":[{\"cells\":{\"fill\":{\"color\":\"#EBF0F8\"},\"line\":{\"color\":\"white\"}},\"header\":{\"fill\":{\"color\":\"#C8D4E3\"},\"line\":{\"color\":\"white\"}},\"type\":\"table\"}]},\"layout\":{\"annotationdefaults\":{\"arrowcolor\":\"#2a3f5f\",\"arrowhead\":0,\"arrowwidth\":1},\"autotypenumbers\":\"strict\",\"coloraxis\":{\"colorbar\":{\"outlinewidth\":0,\"ticks\":\"\"}},\"colorscale\":{\"diverging\":[[0,\"#8e0152\"],[0.1,\"#c51b7d\"],[0.2,\"#de77ae\"],[0.3,\"#f1b6da\"],[0.4,\"#fde0ef\"],[0.5,\"#f7f7f7\"],[0.6,\"#e6f5d0\"],[0.7,\"#b8e186\"],[0.8,\"#7fbc41\"],[0.9,\"#4d9221\"],[1,\"#276419\"]],\"sequential\":[[0.0,\"#0d0887\"],[0.1111111111111111,\"#46039f\"],[0.2222222222222222,\"#7201a8\"],[0.3333333333333333,\"#9c179e\"],[0.4444444444444444,\"#bd3786\"],[0.5555555555555556,\"#d8576b\"],[0.6666666666666666,\"#ed7953\"],[0.7777777777777778,\"#fb9f3a\"],[0.8888888888888888,\"#fdca26\"],[1.0,\"#f0f921\"]],\"sequentialminus\":[[0.0,\"#0d0887\"],[0.1111111111111111,\"#46039f\"],[0.2222222222222222,\"#7201a8\"],[0.3333333333333333,\"#9c179e\"],[0.4444444444444444,\"#bd3786\"],[0.5555555555555556,\"#d8576b\"],[0.6666666666666666,\"#ed7953\"],[0.7777777777777778,\"#fb9f3a\"],[0.8888888888888888,\"#fdca26\"],[1.0,\"#f0f921\"]]},\"colorway\":[\"#636efa\",\"#EF553B\",\"#00cc96\",\"#ab63fa\",\"#FFA15A\",\"#19d3f3\",\"#FF6692\",\"#B6E880\",\"#FF97FF\",\"#FECB52\"],\"font\":{\"color\":\"#2a3f5f\"},\"geo\":{\"bgcolor\":\"white\",\"lakecolor\":\"white\",\"landcolor\":\"#E5ECF6\",\"showlakes\":true,\"showland\":true,\"subunitcolor\":\"white\"},\"hoverlabel\":{\"align\":\"left\"},\"hovermode\":\"closest\",\"mapbox\":{\"style\":\"light\"},\"paper_bgcolor\":\"white\",\"plot_bgcolor\":\"#E5ECF6\",\"polar\":{\"angularaxis\":{\"gridcolor\":\"white\",\"linecolor\":\"white\",\"ticks\":\"\"},\"bgcolor\":\"#E5ECF6\",\"radialaxis\":{\"gridcolor\":\"white\",\"linecolor\":\"white\",\"ticks\":\"\"}},\"scene\":{\"xaxis\":{\"backgroundcolor\":\"#E5ECF6\",\"gridcolor\":\"white\",\"gridwidth\":2,\"linecolor\":\"white\",\"showbackground\":true,\"ticks\":\"\",\"zerolinecolor\":\"white\"},\"yaxis\":{\"backgroundcolor\":\"#E5ECF6\",\"gridcolor\":\"white\",\"gridwidth\":2,\"linecolor\":\"white\",\"showbackground\":true,\"ticks\":\"\",\"zerolinecolor\":\"white\"},\"zaxis\":{\"backgroundcolor\":\"#E5ECF6\",\"gridcolor\":\"white\",\"gridwidth\":2,\"linecolor\":\"white\",\"showbackground\":true,\"ticks\":\"\",\"zerolinecolor\":\"white\"}},\"shapedefaults\":{\"line\":{\"color\":\"#2a3f5f\"}},\"ternary\":{\"aaxis\":{\"gridcolor\":\"white\",\"linecolor\":\"white\",\"ticks\":\"\"},\"baxis\":{\"gridcolor\":\"white\",\"linecolor\":\"white\",\"ticks\":\"\"},\"bgcolor\":\"#E5ECF6\",\"caxis\":{\"gridcolor\":\"white\",\"linecolor\":\"white\",\"ticks\":\"\"}},\"title\":{\"x\":0.05},\"xaxis\":{\"automargin\":true,\"gridcolor\":\"white\",\"linecolor\":\"white\",\"ticks\":\"\",\"title\":{\"standoff\":15},\"zerolinecolor\":\"white\",\"zerolinewidth\":2},\"yaxis\":{\"automargin\":true,\"gridcolor\":\"white\",\"linecolor\":\"white\",\"ticks\":\"\",\"title\":{\"standoff\":15},\"zerolinecolor\":\"white\",\"zerolinewidth\":2}}},\"xaxis\":{\"title\":{\"text\":\"Birth\"},\"side\":\"bottom\",\"type\":\"linear\",\"range\":[-0.4490936279296875,22.903775024414063],\"autorange\":false,\"ticks\":\"outside\",\"showline\":true,\"zeroline\":true,\"linewidth\":1,\"linecolor\":\"black\",\"mirror\":false,\"showexponent\":\"all\",\"exponentformat\":\"e\"},\"yaxis\":{\"title\":{\"text\":\"Death\"},\"side\":\"left\",\"type\":\"linear\",\"range\":[-0.4490936279296875,22.903775024414063],\"autorange\":false,\"scaleanchor\":\"x\",\"scaleratio\":1,\"ticks\":\"outside\",\"showline\":true,\"zeroline\":true,\"linewidth\":1,\"linecolor\":\"black\",\"mirror\":false,\"showexponent\":\"all\",\"exponentformat\":\"e\"},\"width\":500,\"height\":500,\"plot_bgcolor\":\"white\"},                        {\"responsive\": true}                    ).then(function(){\n                            \nvar gd = document.getElementById('d7d0160e-fb0d-4941-80fc-236311b97594');\nvar x = new MutationObserver(function (mutations, observer) {{\n        var display = window.getComputedStyle(gd).display;\n        if (!display || display === 'none') {{\n            console.log([gd, 'removed!']);\n            Plotly.purge(gd);\n            observer.disconnect();\n        }}\n}});\n\n// Listen for the removal of the full notebook cells\nvar notebookContainer = gd.closest('#notebook-container');\nif (notebookContainer) {{\n    x.observe(notebookContainer, {childList: true});\n}}\n\n// Listen for the clearing of the current output cell\nvar outputEl = gd.closest('.output');\nif (outputEl) {{\n    x.observe(outputEl, {childList: true});\n}}\n\n                        })                };                });            </script>        </div>"
     },
     "metadata": {},
     "output_type": "display_data"
    },
    {
     "data": {
      "text/plain": "array([[[0.00000000e+00, 1.34869913e-06, 0.00000000e+00],\n        [0.00000000e+00, 1.34869913e-06, 0.00000000e+00],\n        [0.00000000e+00, 1.34869913e-06, 0.00000000e+00],\n        [0.00000000e+00, 1.34869913e-06, 0.00000000e+00],\n        [0.00000000e+00, 1.34869913e-06, 0.00000000e+00],\n        [0.00000000e+00, 1.34869913e-06, 0.00000000e+00],\n        [0.00000000e+00, 1.34869913e-06, 0.00000000e+00],\n        [0.00000000e+00, 1.34869913e-06, 0.00000000e+00],\n        [0.00000000e+00, 1.34869913e-06, 0.00000000e+00],\n        [0.00000000e+00, 1.34869913e-06, 0.00000000e+00],\n        [0.00000000e+00, 1.34869913e-06, 0.00000000e+00],\n        [0.00000000e+00, 1.34869913e-06, 0.00000000e+00],\n        [0.00000000e+00, 1.34869913e-06, 0.00000000e+00],\n        [0.00000000e+00, 1.34869913e-06, 0.00000000e+00],\n        [0.00000000e+00, 1.34869913e-06, 0.00000000e+00],\n        [0.00000000e+00, 1.34869913e-06, 0.00000000e+00],\n        [0.00000000e+00, 1.34869913e-06, 0.00000000e+00],\n        [0.00000000e+00, 1.34869913e-06, 0.00000000e+00],\n        [0.00000000e+00, 1.34869913e-06, 0.00000000e+00],\n        [0.00000000e+00, 1.34869913e-06, 0.00000000e+00],\n        [0.00000000e+00, 1.34869913e-06, 0.00000000e+00],\n        [0.00000000e+00, 1.34869913e-06, 0.00000000e+00],\n        [0.00000000e+00, 1.34869913e-06, 0.00000000e+00],\n        [0.00000000e+00, 1.34869913e-06, 0.00000000e+00],\n        [0.00000000e+00, 1.34869913e-06, 0.00000000e+00],\n        [0.00000000e+00, 1.90734863e-06, 0.00000000e+00],\n        [0.00000000e+00, 1.90734863e-06, 0.00000000e+00],\n        [0.00000000e+00, 1.90734863e-06, 0.00000000e+00],\n        [0.00000000e+00, 2.69739826e-06, 0.00000000e+00],\n        [0.00000000e+00, 1.17874723e-02, 0.00000000e+00],\n        [0.00000000e+00, 1.39153767e-02, 0.00000000e+00],\n        [0.00000000e+00, 2.63583809e-02, 0.00000000e+00],\n        [0.00000000e+00, 4.18366529e-02, 0.00000000e+00],\n        [0.00000000e+00, 5.13570830e-02, 0.00000000e+00],\n        [0.00000000e+00, 7.07106814e-02, 0.00000000e+00],\n        [0.00000000e+00, 9.10202935e-02, 0.00000000e+00],\n        [0.00000000e+00, 9.21430960e-02, 0.00000000e+00],\n        [0.00000000e+00, 1.15750432e-01, 0.00000000e+00],\n        [0.00000000e+00, 1.17853872e-01, 0.00000000e+00],\n        [0.00000000e+00, 1.34366825e-01, 0.00000000e+00],\n        [0.00000000e+00, 1.66659996e-01, 0.00000000e+00],\n        [0.00000000e+00, 1.66669995e-01, 0.00000000e+00],\n        [0.00000000e+00, 1.78190112e-01, 0.00000000e+00],\n        [0.00000000e+00, 2.04071864e-01, 0.00000000e+00],\n        [0.00000000e+00, 2.08801180e-01, 0.00000000e+00],\n        [0.00000000e+00, 2.11231336e-01, 0.00000000e+00],\n        [0.00000000e+00, 2.21172690e-01, 0.00000000e+00],\n        [0.00000000e+00, 3.07005256e-01, 0.00000000e+00],\n        [0.00000000e+00, 3.14243346e-01, 0.00000000e+00],\n        [0.00000000e+00, 3.17657441e-01, 0.00000000e+00],\n        [0.00000000e+00, 3.31457108e-01, 0.00000000e+00],\n        [0.00000000e+00, 3.45552832e-01, 0.00000000e+00],\n        [0.00000000e+00, 3.71569455e-01, 0.00000000e+00],\n        [0.00000000e+00, 3.76378030e-01, 0.00000000e+00],\n        [0.00000000e+00, 3.99611056e-01, 0.00000000e+00],\n        [0.00000000e+00, 4.24239844e-01, 0.00000000e+00],\n        [0.00000000e+00, 4.51073110e-01, 0.00000000e+00],\n        [0.00000000e+00, 4.78561014e-01, 0.00000000e+00],\n        [0.00000000e+00, 5.30955017e-01, 0.00000000e+00],\n        [0.00000000e+00, 5.31218827e-01, 0.00000000e+00],\n        [0.00000000e+00, 5.55162430e-01, 0.00000000e+00],\n        [0.00000000e+00, 5.57769358e-01, 0.00000000e+00],\n        [0.00000000e+00, 5.60163140e-01, 0.00000000e+00],\n        [0.00000000e+00, 5.75209796e-01, 0.00000000e+00],\n        [0.00000000e+00, 6.43514335e-01, 0.00000000e+00],\n        [0.00000000e+00, 6.45193398e-01, 0.00000000e+00],\n        [0.00000000e+00, 6.61838174e-01, 0.00000000e+00],\n        [0.00000000e+00, 7.18995452e-01, 0.00000000e+00],\n        [0.00000000e+00, 7.87794948e-01, 0.00000000e+00],\n        [0.00000000e+00, 8.08458984e-01, 0.00000000e+00],\n        [0.00000000e+00, 8.44440937e-01, 0.00000000e+00],\n        [0.00000000e+00, 8.74958158e-01, 0.00000000e+00],\n        [0.00000000e+00, 9.03031349e-01, 0.00000000e+00],\n        [0.00000000e+00, 9.53998387e-01, 0.00000000e+00],\n        [0.00000000e+00, 9.61760521e-01, 0.00000000e+00],\n        [0.00000000e+00, 9.91565228e-01, 0.00000000e+00],\n        [0.00000000e+00, 1.02773476e+00, 0.00000000e+00],\n        [0.00000000e+00, 1.05614972e+00, 0.00000000e+00],\n        [0.00000000e+00, 1.07232368e+00, 0.00000000e+00],\n        [0.00000000e+00, 1.07981086e+00, 0.00000000e+00],\n        [0.00000000e+00, 1.08063543e+00, 0.00000000e+00],\n        [0.00000000e+00, 1.08433795e+00, 0.00000000e+00],\n        [0.00000000e+00, 1.13168705e+00, 0.00000000e+00],\n        [0.00000000e+00, 1.14539659e+00, 0.00000000e+00],\n        [0.00000000e+00, 1.15548027e+00, 0.00000000e+00],\n        [0.00000000e+00, 1.17935634e+00, 0.00000000e+00],\n        [0.00000000e+00, 1.21196032e+00, 0.00000000e+00],\n        [0.00000000e+00, 1.25242484e+00, 0.00000000e+00],\n        [0.00000000e+00, 1.25669920e+00, 0.00000000e+00],\n        [0.00000000e+00, 1.29110527e+00, 0.00000000e+00],\n        [0.00000000e+00, 1.30638754e+00, 0.00000000e+00],\n        [0.00000000e+00, 1.32767546e+00, 0.00000000e+00],\n        [0.00000000e+00, 1.37511849e+00, 0.00000000e+00],\n        [0.00000000e+00, 1.37895775e+00, 0.00000000e+00],\n        [0.00000000e+00, 1.39287460e+00, 0.00000000e+00],\n        [0.00000000e+00, 1.40026069e+00, 0.00000000e+00],\n        [0.00000000e+00, 1.41296101e+00, 0.00000000e+00],\n        [0.00000000e+00, 1.47629690e+00, 0.00000000e+00],\n        [0.00000000e+00, 1.49673116e+00, 0.00000000e+00],\n        [0.00000000e+00, 1.52538788e+00, 0.00000000e+00],\n        [0.00000000e+00, 1.57101977e+00, 0.00000000e+00],\n        [0.00000000e+00, 1.58943880e+00, 0.00000000e+00],\n        [0.00000000e+00, 1.63449597e+00, 0.00000000e+00],\n        [0.00000000e+00, 1.67833483e+00, 0.00000000e+00],\n        [0.00000000e+00, 1.70020306e+00, 0.00000000e+00],\n        [0.00000000e+00, 1.71725035e+00, 0.00000000e+00],\n        [0.00000000e+00, 1.71750057e+00, 0.00000000e+00],\n        [0.00000000e+00, 1.72052431e+00, 0.00000000e+00],\n        [0.00000000e+00, 1.74693680e+00, 0.00000000e+00],\n        [0.00000000e+00, 1.75985003e+00, 0.00000000e+00],\n        [0.00000000e+00, 1.76310825e+00, 0.00000000e+00],\n        [0.00000000e+00, 1.78424454e+00, 0.00000000e+00],\n        [0.00000000e+00, 1.82734513e+00, 0.00000000e+00],\n        [0.00000000e+00, 1.84958506e+00, 0.00000000e+00],\n        [0.00000000e+00, 1.93020272e+00, 0.00000000e+00],\n        [0.00000000e+00, 1.97385514e+00, 0.00000000e+00],\n        [0.00000000e+00, 2.06211185e+00, 0.00000000e+00],\n        [0.00000000e+00, 2.13635778e+00, 0.00000000e+00],\n        [0.00000000e+00, 2.15422463e+00, 0.00000000e+00],\n        [0.00000000e+00, 2.16680884e+00, 0.00000000e+00],\n        [0.00000000e+00, 2.27533436e+00, 0.00000000e+00],\n        [0.00000000e+00, 2.29918456e+00, 0.00000000e+00],\n        [0.00000000e+00, 2.33038473e+00, 0.00000000e+00],\n        [0.00000000e+00, 2.42243552e+00, 0.00000000e+00],\n        [0.00000000e+00, 2.44069076e+00, 0.00000000e+00],\n        [0.00000000e+00, 2.44372797e+00, 0.00000000e+00],\n        [0.00000000e+00, 2.63029671e+00, 0.00000000e+00],\n        [0.00000000e+00, 2.76236749e+00, 0.00000000e+00],\n        [0.00000000e+00, 2.96900773e+00, 0.00000000e+00],\n        [0.00000000e+00, 3.13326669e+00, 0.00000000e+00],\n        [0.00000000e+00, 3.22207427e+00, 0.00000000e+00],\n        [0.00000000e+00, 3.50395441e+00, 0.00000000e+00],\n        [0.00000000e+00, 3.67384911e+00, 0.00000000e+00],\n        [0.00000000e+00, 5.16271019e+00, 0.00000000e+00],\n        [0.00000000e+00, 5.81559277e+00, 0.00000000e+00],\n        [0.00000000e+00, 9.23678875e+00, 0.00000000e+00],\n        [0.00000000e+00, 2.24546814e+01, 0.00000000e+00],\n        [4.67981911e+00, 7.78167057e+00, 1.00000000e+00],\n        [4.05803871e+00, 4.08526421e+00, 1.00000000e+00],\n        [3.36210871e+00, 4.30917978e+00, 1.00000000e+00],\n        [2.97071242e+00, 3.57181287e+00, 1.00000000e+00],\n        [2.90030694e+00, 3.30824113e+00, 1.00000000e+00],\n        [2.81135392e+00, 4.15632963e+00, 1.00000000e+00],\n        [2.68237185e+00, 2.68909836e+00, 1.00000000e+00],\n        [2.65517187e+00, 2.77182817e+00, 1.00000000e+00],\n        [2.63631201e+00, 2.94799447e+00, 1.00000000e+00],\n        [2.63436294e+00, 2.76933336e+00, 1.00000000e+00],\n        [2.45510316e+00, 2.51854610e+00, 1.00000000e+00],\n        [2.44111490e+00, 3.16630983e+00, 1.00000000e+00],\n        [2.41707635e+00, 2.43536663e+00, 1.00000000e+00],\n        [2.13696170e+00, 2.35031819e+00, 1.00000000e+00],\n        [1.89049959e+00, 2.02363777e+00, 1.00000000e+00],\n        [1.76782608e+00, 2.19735312e+00, 1.00000000e+00],\n        [1.69944048e+00, 1.71509469e+00, 1.00000000e+00],\n        [1.39971638e+00, 1.46108317e+00, 1.00000000e+00]]])"
     },
     "metadata": {},
     "output_type": "display_data"
    }
   ],
   "source": [
    "import numpy as np\n",
    "from scipy import stats\n",
    "fig, ax = plt.subplots(figsize=(10, 10))\n",
    "homo = None\n",
    "for i, gp in year1.groupby('season'):\n",
    "    gp.sort_index(inplace=True)\n",
    "    x = gp.lon.values\n",
    "    y = gp.lat.values\n",
    "\n",
    "    # KDE\n",
    "    positions = np.vstack([x, y])\n",
    "    kernel = stats.gaussian_kde(positions)\n",
    "    dens = kernel(positions)\n",
    "\n",
    "    # Density Estimation\n",
    "    hm, bounds = heatmap(x, y, 32)    # Gaussian Image Filter\n",
    "    # heatmap, bounds = interp(x, y)    # 2D interpolation\n",
    "\n",
    "    plt.imshow(hm.T, extent=bounds, origin='lower')\n",
    "    # Overlay Raw data\n",
    "    plt.scatter(x, y, c='k', s=1)\n",
    "    display(max(dens))\n",
    "    max_value = dens.max()\n",
    "    test = gp[dens > max_value - max_value*.20]\n",
    "    test.to_csv('test{}.csv'.format(i))\n",
    "    plt.scatter(test.lon.values, test.lat.values, c='r', marker='+', s=8)\n",
    "    plt.show()\n",
    "\n",
    "    # PERSIM\n",
    "    gp['t'] = gp.index - gp.index.min()\n",
    "    gp.t = gp.t.astype(int) * 1.15741e-14\n",
    "    # X = np.stack([gp.lat.values, gp.lon.values])\n",
    "    X = np.vstack([gp.lat.values, gp.lon.values])\n",
    "    x = np.expand_dims(X.T, axis=0)\n",
    "    display(x.shape)\n",
    "    homology_dimensions = [0, 1]\n",
    "\n",
    "    persistence = VietorisRipsPersistence(\n",
    "        metric=\"euclidean\", homology_dimensions=homology_dimensions, n_jobs=1\n",
    "    )\n",
    "    homo = persistence.fit_transform(x)\n",
    "    display(persistence.fit_transform_plot(x))\n",
    "    break"
   ],
   "metadata": {
    "collapsed": false,
    "pycharm": {
     "name": "#%%\n"
    }
   }
  },
  {
   "cell_type": "code",
   "execution_count": 98,
   "outputs": [
    {
     "data": {
      "text/plain": "'B0'"
     },
     "metadata": {},
     "output_type": "display_data"
    },
    {
     "data": {
      "text/plain": "{0: 0, 3: 3, 6: 4, 9: 0, 12: 0, 15: 0, 18: 0, 21: 0, 24: 0}"
     },
     "metadata": {},
     "output_type": "display_data"
    },
    {
     "data": {
      "text/plain": "dict_values([0, 3, 4, 0, 0, 0, 0, 0, 0])"
     },
     "execution_count": 98,
     "metadata": {},
     "output_type": "execute_result"
    }
   ],
   "source": [
    "def compute_rank(intervals):\n",
    "    # display(intervals)\n",
    "    ranks_0 = {0:0,  3:0,  6:0,  9:0, 12:0, 15:0, 18:0, 21:0, 24:0}\n",
    "    # ranks_0 = {0: 0, 4: 0, 8:0, 12:0, 16:0,  20:0, 24:0}\n",
    "    # ranks_1 = {0: 0, 4: 0, 8:0, 12:0, 16:0,  20:0, 24:0}\n",
    "\n",
    "    # for eta in np.arange(0,2000, 10):\n",
    "    for eta in np.arange(0,25, 3):\n",
    "        for interval in intervals:\n",
    "            # display(interval)\n",
    "            i, j, k = interval\n",
    "            if i <= eta and j >= eta+3:\n",
    "                if k==0:\n",
    "                    ranks_0[eta] += 1\n",
    "                # if k==1:\n",
    "                    # if eta in ranks_1:\n",
    "                    # ranks_1[eta] += 1\n",
    "                    # else:\n",
    "                    #     ranks_1[eta] = 1\n",
    "            # break\n",
    "        # break\n",
    "\n",
    "    display('B0')\n",
    "    display(ranks_0)\n",
    "    # display('B1')\n",
    "    # display(ranks_1)\n",
    "    return ranks_0.values()\n",
    "\n",
    "intervals = [1, 7, 0], [2, 9, 0], [3, 11, 0], [5, 10, 0], [5, 9, 0]\n",
    "\n",
    "compute_rank(intervals)"
   ],
   "metadata": {
    "collapsed": false,
    "pycharm": {
     "name": "#%%\n"
    }
   }
  },
  {
   "cell_type": "code",
   "execution_count": 99,
   "outputs": [
    {
     "data": {
      "text/plain": "'B0'"
     },
     "metadata": {},
     "output_type": "display_data"
    },
    {
     "data": {
      "text/plain": "{0: 8, 3: 3, 6: 2, 9: 0, 12: 0, 15: 0, 18: 0, 21: 0, 24: 0}"
     },
     "metadata": {},
     "output_type": "display_data"
    },
    {
     "data": {
      "text/plain": "0.01251220703125"
     },
     "metadata": {},
     "output_type": "display_data"
    }
   ],
   "source": [
    "from time import time\n",
    "\n",
    "t1= time()\n",
    "\n",
    "compute_rank(homo[0])\n",
    "\n",
    "t2 = time()\n",
    "\n",
    "display(t2-t1)"
   ],
   "metadata": {
    "collapsed": false,
    "pycharm": {
     "name": "#%%\n"
    }
   }
  },
  {
   "cell_type": "code",
   "execution_count": null,
   "outputs": [],
   "source": [
    "homology_dimensions = [0]\n",
    "t = list(range(2000, 2020, 1))\n",
    "vectors = []\n",
    "for y in t:\n",
    "    display(y)\n",
    "    df = grab_summer_winter(data.bird, y)\n",
    "    X = np.vstack([df.lat.values, df.lon.values])\n",
    "    x = np.expand_dims(X.T, axis=0)\n",
    "    persistence = VietorisRipsPersistence(\n",
    "    metric=\"euclidean\", homology_dimensions=homology_dimensions, n_jobs=1\n",
    "    )\n",
    "    homo = persistence.fit_transform(x)\n",
    "    vectors.append(compute_rank(homo[0]))\n"
   ],
   "metadata": {
    "collapsed": false,
    "pycharm": {
     "name": "#%%\n",
     "is_executing": true
    }
   }
  },
  {
   "cell_type": "code",
   "execution_count": 106,
   "outputs": [],
   "source": [
    "M = np.array([list(i) for i in vectors]).T"
   ],
   "metadata": {
    "collapsed": false,
    "pycharm": {
     "name": "#%%\n"
    }
   }
  },
  {
   "cell_type": "code",
   "execution_count": 135,
   "outputs": [
    {
     "name": "stderr",
     "output_type": "stream",
     "text": [
      "No artists with labels found to put in legend.  Note that artists whose label start with an underscore are ignored when legend() is called with no argument.\n"
     ]
    },
    {
     "data": {
      "text/plain": "<Figure size 720x720 with 1 Axes>",
      "image/png": "[encoded data removed]"
     },
     "metadata": {
      "needs_background": "light"
     },
     "output_type": "display_data"
    }
   ],
   "source": [
    "plt.figure(figsize=(10, 10))\n",
    "\n",
    "\n",
    "contour = plt.contour(M, levels=[0, 1, 2, 3, 4])  # , origin='upper')\n",
    "plt.clabel(contour, inline=1, fontsize=10)\n",
    "\n",
    "plt.xticks(range(20), [\"'00\", \"'01\", \"'02\", \"'03\", \"'04\", \"'05\", \"'06\", \"'07\", \"'08\", \"'09\", \"'10\", \"'11\",\"'12\" ,\"'13\", \"'14\", \"'15\", \"'16\", \"'17\", \"'18\", \"'19\"])\n",
    "\n",
    "plt.yticks(range(9), ['0', '3', '6', '9', '12', '15', '18', '21', '24'])\n",
    "# plt.yticks(range(9), np.arange(0,25, 3))\n",
    "# labels = ['level 1', 'level 2','level 3','level 4']\n",
    "# for i in range(len(labels)):\n",
    "#     contour.collections[i].set_label(labels[i])\n",
    "\n",
    "\n",
    "plt.legend(loc='upper right')\n",
    "\n",
    "plt.title('CROCKER of Yearly Winter Patterns (2000 - 2020)')\n",
    "\n",
    "plt.savefig('crocker.png')\n"
   ],
   "metadata": {
    "collapsed": false,
    "pycharm": {
     "name": "#%%\n"
    }
   }
  },
  {
   "cell_type": "code",
   "execution_count": 108,
   "outputs": [
    {
     "data": {
      "text/plain": "array([[ 8,  6, 11,  9,  7,  7, 13, 10,  6,  8,  7, 11, 11,  8,  9,  6,\n        12,  8,  7, 12],\n       [ 3,  3,  3,  1,  2,  2,  3,  4,  2,  3,  4,  6,  1,  3,  6,  1,\n         5,  2,  1,  2],\n       [ 2,  1,  1,  1,  2,  1,  0,  1,  1,  2,  1,  1,  1,  2,  1,  1,\n         2,  2,  1,  0],\n       [ 0,  1,  0,  0,  1,  0,  0,  1,  1,  0,  1,  0,  0,  1,  1,  1,\n         1,  1,  1,  0],\n       [ 0,  0,  0,  0,  0,  0,  0,  0,  0,  0,  1,  0,  0,  0,  0,  1,\n         0,  1,  1,  0],\n       [ 0,  0,  0,  0,  0,  0,  0,  0,  0,  0,  0,  0,  0,  0,  0,  0,\n         0,  1,  0,  0],\n       [ 0,  0,  0,  0,  0,  0,  0,  0,  0,  0,  0,  0,  0,  0,  0,  0,\n         0,  1,  0,  0],\n       [ 0,  0,  0,  0,  0,  0,  0,  0,  0,  0,  0,  0,  0,  0,  0,  0,\n         0,  0,  0,  0],\n       [ 0,  0,  0,  0,  0,  0,  0,  0,  0,  0,  0,  0,  0,  0,  0,  0,\n         0,  0,  0,  0]])"
     },
     "execution_count": 108,
     "metadata": {},
     "output_type": "execute_result"
    }
   ],
   "source": [
    "M"
   ],
   "metadata": {
    "collapsed": false,
    "pycharm": {
     "name": "#%%\n"
    }
   }
  },
  {
   "cell_type": "code",
   "execution_count": 109,
   "outputs": [
    {
     "data": {
      "text/plain": "<Figure size 432x288 with 1 Axes>",
      "image/png": "[encoded data removed]"
     },
     "metadata": {
      "needs_background": "light"
     },
     "output_type": "display_data"
    }
   ],
   "source": [
    "plt.imshow(M, cmap='hot', interpolation='nearest')\n",
    "plt.show()"
   ],
   "metadata": {
    "collapsed": false,
    "pycharm": {
     "name": "#%%\n"
    }
   }
  },
  {
   "cell_type": "code",
   "execution_count": null,
   "outputs": [],
   "source": [],
   "metadata": {
    "collapsed": false,
    "pycharm": {
     "name": "#%%\n"
    }
   }
  }
 ],
 "metadata": {
  "kernelspec": {
   "display_name": "Python 3",
   "language": "python",
   "name": "python3"
  },
  "language_info": {
   "codemirror_mode": {
    "name": "ipython",
    "version": 2
   },
   "file_extension": ".py",
   "mimetype": "text/x-python",
   "name": "python",
   "nbconvert_exporter": "python",
   "pygments_lexer": "ipython2",
   "version": "2.7.6"
  }
 },
 "nbformat": 4,
 "nbformat_minor": 0
}