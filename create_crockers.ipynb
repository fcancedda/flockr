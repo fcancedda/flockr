{
 "cells": [
  {
   "cell_type": "code",
   "execution_count": 1,
   "outputs": [
    {
     "data": {
      "text/plain": "           Download_grp            SPECIES_NAME     cnt\nSPECIES_ID                                             \n1250                  3  American White Pelican  175409",
      "text/html": "<div>\n<style scoped>\n    .dataframe tbody tr th:only-of-type {\n        vertical-align: middle;\n    }\n\n    .dataframe tbody tr th {\n        vertical-align: top;\n    }\n\n    .dataframe thead th {\n        text-align: right;\n    }\n</style>\n<table border=\"1\" class=\"dataframe\">\n  <thead>\n    <tr style=\"text-align: right;\">\n      <th></th>\n      <th>Download_grp</th>\n      <th>SPECIES_NAME</th>\n      <th>cnt</th>\n    </tr>\n    <tr>\n      <th>SPECIES_ID</th>\n      <th></th>\n      <th></th>\n      <th></th>\n    </tr>\n  </thead>\n  <tbody>\n    <tr>\n      <th>1250</th>\n      <td>3</td>\n      <td>American White Pelican</td>\n      <td>175409</td>\n    </tr>\n  </tbody>\n</table>\n</div>"
     },
     "metadata": {},
     "output_type": "display_data"
    }
   ],
   "source": [
    "# import pandas as pd\n",
    "# import numpy as np\n",
    "from sklearn.neighbors import KDTree\n",
    "from scipy import stats\n",
    "from data_loader import *\n",
    "# American Goldfinch\n",
    "data = Data(bird_name='Pelican', group_n=3)"
   ],
   "metadata": {
    "collapsed": false,
    "pycharm": {
     "name": "#%%\n"
    }
   }
  },
  {
   "cell_type": "code",
   "execution_count": 61,
   "outputs": [
    {
     "data": {
      "text/plain": "           Download_grp            SPECIES_NAME     cnt\nSPECIES_ID                                             \n821                   3        Laysan Albatross  563701\n3320                  3      Sharp-shinned Hawk  549751\n810                   3  Black-footed Albatross  293583\n3370                  3         Red-tailed Hawk  254269\n1260                  3           Brown Pelican  252076\n...                 ...                     ...     ...\n8509                  3           Royal Penguin       1\n962                   3     Buller's Shearwater       1\n830                   3  Yellow-nosed Albatross       1\n987                   3   Juan Fernandez Petrel       1\n90                    3             Arctic Loon       1\n\n[146 rows x 3 columns]",
      "text/html": "<div>\n<style scoped>\n    .dataframe tbody tr th:only-of-type {\n        vertical-align: middle;\n    }\n\n    .dataframe tbody tr th {\n        vertical-align: top;\n    }\n\n    .dataframe thead th {\n        text-align: right;\n    }\n</style>\n<table border=\"1\" class=\"dataframe\">\n  <thead>\n    <tr style=\"text-align: right;\">\n      <th></th>\n      <th>Download_grp</th>\n      <th>SPECIES_NAME</th>\n      <th>cnt</th>\n    </tr>\n    <tr>\n      <th>SPECIES_ID</th>\n      <th></th>\n      <th></th>\n      <th></th>\n    </tr>\n  </thead>\n  <tbody>\n    <tr>\n      <th>821</th>\n      <td>3</td>\n      <td>Laysan Albatross</td>\n      <td>563701</td>\n    </tr>\n    <tr>\n      <th>3320</th>\n      <td>3</td>\n      <td>Sharp-shinned Hawk</td>\n      <td>549751</td>\n    </tr>\n    <tr>\n      <th>810</th>\n      <td>3</td>\n      <td>Black-footed Albatross</td>\n      <td>293583</td>\n    </tr>\n    <tr>\n      <th>3370</th>\n      <td>3</td>\n      <td>Red-tailed Hawk</td>\n      <td>254269</td>\n    </tr>\n    <tr>\n      <th>1260</th>\n      <td>3</td>\n      <td>Brown Pelican</td>\n      <td>252076</td>\n    </tr>\n    <tr>\n      <th>...</th>\n      <td>...</td>\n      <td>...</td>\n      <td>...</td>\n    </tr>\n    <tr>\n      <th>8509</th>\n      <td>3</td>\n      <td>Royal Penguin</td>\n      <td>1</td>\n    </tr>\n    <tr>\n      <th>962</th>\n      <td>3</td>\n      <td>Buller's Shearwater</td>\n      <td>1</td>\n    </tr>\n    <tr>\n      <th>830</th>\n      <td>3</td>\n      <td>Yellow-nosed Albatross</td>\n      <td>1</td>\n    </tr>\n    <tr>\n      <th>987</th>\n      <td>3</td>\n      <td>Juan Fernandez Petrel</td>\n      <td>1</td>\n    </tr>\n    <tr>\n      <th>90</th>\n      <td>3</td>\n      <td>Arctic Loon</td>\n      <td>1</td>\n    </tr>\n  </tbody>\n</table>\n<p>146 rows × 3 columns</p>\n</div>"
     },
     "execution_count": 61,
     "metadata": {},
     "output_type": "execute_result"
    }
   ],
   "source": [
    "data.birds"
   ],
   "metadata": {
    "collapsed": false,
    "pycharm": {
     "name": "#%%\n"
    }
   }
  },
  {
   "cell_type": "code",
   "execution_count": 108,
   "outputs": [
    {
     "data": {
      "text/plain": "                    band event       lat        lon    id source\nt                                                               \n1987-07-29  B09346640626     B  52.25000 -123.08333  1250      B\n1987-07-29  B09346640706     B  52.25000 -123.08333  1250      B\n1987-07-29  B09346640784     B  52.25000 -123.08333  1250      B\n1987-07-29  B09346640860     B  52.25000 -123.08333  1250      B\n1987-07-29  B09346640949     B  52.25000 -123.08333  1250      B\n...                  ...   ...       ...        ...   ...    ...\n1987-07-14  B99446083913     B  39.91667 -119.58333  1250      B\n1987-07-14  B99446083929     B  39.91667 -119.58333  1250      B\n1987-07-14  B99446083999     B  39.91667 -119.58333  1250      B\n1987-02-17  B99446239749     E  38.25000  -95.75000  1250      E\n1987-11-09  B99446832089     E  45.58333  -95.75000  1250      E\n\n[1722 rows x 6 columns]",
      "text/html": "<div>\n<style scoped>\n    .dataframe tbody tr th:only-of-type {\n        vertical-align: middle;\n    }\n\n    .dataframe tbody tr th {\n        vertical-align: top;\n    }\n\n    .dataframe thead th {\n        text-align: right;\n    }\n</style>\n<table border=\"1\" class=\"dataframe\">\n  <thead>\n    <tr style=\"text-align: right;\">\n      <th></th>\n      <th>band</th>\n      <th>event</th>\n      <th>lat</th>\n      <th>lon</th>\n      <th>id</th>\n      <th>source</th>\n    </tr>\n    <tr>\n      <th>t</th>\n      <th></th>\n      <th></th>\n      <th></th>\n      <th></th>\n      <th></th>\n      <th></th>\n    </tr>\n  </thead>\n  <tbody>\n    <tr>\n      <th>1987-07-29</th>\n      <td>B09346640626</td>\n      <td>B</td>\n      <td>52.25000</td>\n      <td>-123.08333</td>\n      <td>1250</td>\n      <td>B</td>\n    </tr>\n    <tr>\n      <th>1987-07-29</th>\n      <td>B09346640706</td>\n      <td>B</td>\n      <td>52.25000</td>\n      <td>-123.08333</td>\n      <td>1250</td>\n      <td>B</td>\n    </tr>\n    <tr>\n      <th>1987-07-29</th>\n      <td>B09346640784</td>\n      <td>B</td>\n      <td>52.25000</td>\n      <td>-123.08333</td>\n      <td>1250</td>\n      <td>B</td>\n    </tr>\n    <tr>\n      <th>1987-07-29</th>\n      <td>B09346640860</td>\n      <td>B</td>\n      <td>52.25000</td>\n      <td>-123.08333</td>\n      <td>1250</td>\n      <td>B</td>\n    </tr>\n    <tr>\n      <th>1987-07-29</th>\n      <td>B09346640949</td>\n      <td>B</td>\n      <td>52.25000</td>\n      <td>-123.08333</td>\n      <td>1250</td>\n      <td>B</td>\n    </tr>\n    <tr>\n      <th>...</th>\n      <td>...</td>\n      <td>...</td>\n      <td>...</td>\n      <td>...</td>\n      <td>...</td>\n      <td>...</td>\n    </tr>\n    <tr>\n      <th>1987-07-14</th>\n      <td>B99446083913</td>\n      <td>B</td>\n      <td>39.91667</td>\n      <td>-119.58333</td>\n      <td>1250</td>\n      <td>B</td>\n    </tr>\n    <tr>\n      <th>1987-07-14</th>\n      <td>B99446083929</td>\n      <td>B</td>\n      <td>39.91667</td>\n      <td>-119.58333</td>\n      <td>1250</td>\n      <td>B</td>\n    </tr>\n    <tr>\n      <th>1987-07-14</th>\n      <td>B99446083999</td>\n      <td>B</td>\n      <td>39.91667</td>\n      <td>-119.58333</td>\n      <td>1250</td>\n      <td>B</td>\n    </tr>\n    <tr>\n      <th>1987-02-17</th>\n      <td>B99446239749</td>\n      <td>E</td>\n      <td>38.25000</td>\n      <td>-95.75000</td>\n      <td>1250</td>\n      <td>E</td>\n    </tr>\n    <tr>\n      <th>1987-11-09</th>\n      <td>B99446832089</td>\n      <td>E</td>\n      <td>45.58333</td>\n      <td>-95.75000</td>\n      <td>1250</td>\n      <td>E</td>\n    </tr>\n  </tbody>\n</table>\n<p>1722 rows × 6 columns</p>\n</div>"
     },
     "metadata": {},
     "output_type": "display_data"
    }
   ],
   "source": [
    "df = data.bird[data.bird.index.year == 1987]\n",
    "display(df)"
   ],
   "metadata": {
    "collapsed": false,
    "pycharm": {
     "name": "#%%\n"
    }
   }
  },
  {
   "cell_type": "code",
   "execution_count": null,
   "outputs": [],
   "source": [
    "# plot_sightings(data.bird,frame='Season')\n",
    "create_animation(data.bird, by_season=True)"
   ],
   "metadata": {
    "collapsed": false,
    "pycharm": {
     "name": "#%%\n",
     "is_executing": true
    }
   }
  },
  {
   "cell_type": "code",
   "execution_count": 63,
   "outputs": [],
   "source": [
    "def compute_rank():\n",
    "    intervals = [1, 7], [2, 9], [3, 11], [5, 10], [5, 9]\n",
    "    display(intervals)\n",
    "    ranks = {}\n",
    "    # for eta in np.arange(0,2000, 10):\n",
    "    for eta in np.arange(0,20, 4):\n",
    "        display(eta)\n",
    "        for interval in intervals:\n",
    "            i, j = interval\n",
    "            # i = 4\n",
    "            # j = 8\n",
    "            if i <= eta and j >= eta+4:\n",
    "                if eta in ranks:\n",
    "                    ranks[eta] += 1\n",
    "                else:\n",
    "                    ranks[eta] = 1\n",
    "\n",
    "    display(ranks)"
   ],
   "metadata": {
    "collapsed": false,
    "pycharm": {
     "name": "#%%\n"
    }
   }
  },
  {
   "cell_type": "code",
   "execution_count": 64,
   "outputs": [],
   "source": [
    "create_animation(df)\n",
    "def render_densmap(bird, center, year, month):\n",
    "    fig = px.density_mapbox(bird, lat='lat', lon='lon', radius=4,\n",
    "                            center=center, zoom=2,\n",
    "                            mapbox_style=\"stamen-terrain\")\n",
    "    fig.write_image(\"anim/fig_{}_{}.png\".format(year, month))"
   ],
   "metadata": {
    "collapsed": false,
    "pycharm": {
     "name": "#%%\n"
    }
   }
  },
  {
   "cell_type": "code",
   "execution_count": 5,
   "outputs": [],
   "source": [
    "# plot_sightings(data.bird, frame='Season')\n",
    "#\n",
    "# winter = df[df.index.month.isin([12, 1, 2])]\n",
    "# spring = df[df.index.month.isin([3, 4, 5])]\n",
    "# summer = df[df.index.month.isin([6, 7, 8])]\n",
    "# fall = df[df.index.month.isin([9, 10, 11])]"
   ],
   "metadata": {
    "collapsed": false,
    "pycharm": {
     "name": "#%%\n"
    }
   }
  },
  {
   "cell_type": "code",
   "execution_count": 14,
   "outputs": [],
   "source": [
    "jan = df[df.index.month==1]\n",
    "aug = df[df.index.month==8]"
   ],
   "metadata": {
    "collapsed": false,
    "pycharm": {
     "name": "#%%\n"
    }
   }
  },
  {
   "cell_type": "code",
   "execution_count": 4,
   "outputs": [
    {
     "data": {
      "text/plain": "           Download_grp          SPECIES_NAME      cnt\nSPECIES_ID                                            \n5290                 10    American Goldfinch  1593352\n5190                 10           House Finch   984044\n4950                 10  Brown-headed Cowbird   881683\n4980                 10  Red-winged Blackbird   827611\n5170                 10          Purple Finch   789410\n...                 ...                   ...      ...\n5046                 10    Hispaniolan Oriole        2\n5161                 10      Common Rosefinch        2\n7940                 10         Oahu Alauahio        2\n8090                 10          Red Avadavat        1\n7760                 10                    Ou        1\n\n[109 rows x 3 columns]",
      "text/html": "<div>\n<style scoped>\n    .dataframe tbody tr th:only-of-type {\n        vertical-align: middle;\n    }\n\n    .dataframe tbody tr th {\n        vertical-align: top;\n    }\n\n    .dataframe thead th {\n        text-align: right;\n    }\n</style>\n<table border=\"1\" class=\"dataframe\">\n  <thead>\n    <tr style=\"text-align: right;\">\n      <th></th>\n      <th>Download_grp</th>\n      <th>SPECIES_NAME</th>\n      <th>cnt</th>\n    </tr>\n    <tr>\n      <th>SPECIES_ID</th>\n      <th></th>\n      <th></th>\n      <th></th>\n    </tr>\n  </thead>\n  <tbody>\n    <tr>\n      <th>5290</th>\n      <td>10</td>\n      <td>American Goldfinch</td>\n      <td>1593352</td>\n    </tr>\n    <tr>\n      <th>5190</th>\n      <td>10</td>\n      <td>House Finch</td>\n      <td>984044</td>\n    </tr>\n    <tr>\n      <th>4950</th>\n      <td>10</td>\n      <td>Brown-headed Cowbird</td>\n      <td>881683</td>\n    </tr>\n    <tr>\n      <th>4980</th>\n      <td>10</td>\n      <td>Red-winged Blackbird</td>\n      <td>827611</td>\n    </tr>\n    <tr>\n      <th>5170</th>\n      <td>10</td>\n      <td>Purple Finch</td>\n      <td>789410</td>\n    </tr>\n    <tr>\n      <th>...</th>\n      <td>...</td>\n      <td>...</td>\n      <td>...</td>\n    </tr>\n    <tr>\n      <th>5046</th>\n      <td>10</td>\n      <td>Hispaniolan Oriole</td>\n      <td>2</td>\n    </tr>\n    <tr>\n      <th>5161</th>\n      <td>10</td>\n      <td>Common Rosefinch</td>\n      <td>2</td>\n    </tr>\n    <tr>\n      <th>7940</th>\n      <td>10</td>\n      <td>Oahu Alauahio</td>\n      <td>2</td>\n    </tr>\n    <tr>\n      <th>8090</th>\n      <td>10</td>\n      <td>Red Avadavat</td>\n      <td>1</td>\n    </tr>\n    <tr>\n      <th>7760</th>\n      <td>10</td>\n      <td>Ou</td>\n      <td>1</td>\n    </tr>\n  </tbody>\n</table>\n<p>109 rows × 3 columns</p>\n</div>"
     },
     "execution_count": 4,
     "metadata": {},
     "output_type": "execute_result"
    }
   ],
   "source": [
    "data.birds"
   ],
   "metadata": {
    "collapsed": false,
    "pycharm": {
     "name": "#%%\n"
    }
   }
  },
  {
   "cell_type": "code",
   "execution_count": 104,
   "outputs": [
    {
     "name": "stdout",
     "output_type": "stream",
     "text": [
      "[3 3 1 2 1 1 1 2 1 1]\n",
      "[array([3, 0, 1])]\n"
     ]
    },
    {
     "data": {
      "text/plain": "array([[0.5488135 , 0.71518937, 0.60276338]])"
     },
     "execution_count": 104,
     "metadata": {},
     "output_type": "execute_result"
    }
   ],
   "source": [
    "import numpy as np\n",
    "from sklearn.neighbors import KDTree\n",
    "\n",
    "rng = np.random.RandomState(0)\n",
    "X = rng.random_sample((10, 3))  # 10 points in 3 dimensions\n",
    "tree = KDTree(X, leaf_size=2)\n",
    "print(tree.query_radius(X, r=0.3, count_only=True))\n",
    "\n",
    "ind = tree.query_radius(X[:1], r=0.3)\n",
    "print(ind)  # indices of neighbors within distance 0.3\n",
    "X[:1]"
   ],
   "metadata": {
    "collapsed": false,
    "pycharm": {
     "name": "#%%\n"
    }
   }
  },
  {
   "cell_type": "code",
   "execution_count": 13,
   "outputs": [
    {
     "name": "stderr",
     "output_type": "stream",
     "text": [
      "/Users/franciscocancedda/PycharmProjects/flockr/venv2/lib/python3.9/site-packages/geopandas/_compat.py:111: UserWarning:\n",
      "\n",
      "The Shapely GEOS version (3.10.2-CAPI-1.16.0) is incompatible with the GEOS version PyGEOS was compiled with (3.10.1-CAPI-1.16.0). Conversions between both will be slow.\n",
      "\n"
     ]
    }
   ],
   "source": [
    "import pysal as ps\n",
    "import geoplot as gplt\n",
    "import geoplot.crs as gcrs\n",
    "import geopandas as gpd\n",
    "import matplotlib.pyplot as plt\n",
    "from libpysal.weights.contiguity import Queen\n",
    "from libpysal import examples\n",
    "import pandas as pd\n",
    "import os\n",
    "import splot\n",
    "from legendgram import legendgram\n",
    "import geopandas as gpd\n",
    "import pysal as ps\n",
    "import matplotlib.pyplot as plt\n",
    "import palettable.matplotlib as mplpal\n",
    "import libpysal\n",
    "from legendgram import legendgram\n",
    "import palettable.matplotlib as palmpl\n",
    "import scipy.stats\n"
   ],
   "metadata": {
    "collapsed": false,
    "pycharm": {
     "name": "#%%\n"
    }
   }
  },
  {
   "cell_type": "code",
   "execution_count": 2,
   "outputs": [
    {
     "data": {
      "text/plain": "'starting pers comp'"
     },
     "metadata": {},
     "output_type": "display_data"
    },
    {
     "ename": "IndexError",
     "evalue": "boolean index did not match indexed array along dimension 2; dimension is 2096 but corresponding boolean dimension is 3",
     "output_type": "error",
     "traceback": [
      "\u001B[0;31m---------------------------------------------------------------------------\u001B[0m",
      "\u001B[0;31mIndexError\u001B[0m                                Traceback (most recent call last)",
      "Input \u001B[0;32mIn [2]\u001B[0m, in \u001B[0;36m<cell line: 102>\u001B[0;34m()\u001B[0m\n\u001B[1;32m     94\u001B[0m     fig\u001B[38;5;241m.\u001B[39mupdate_layout(legend\u001B[38;5;241m=\u001B[39m\u001B[38;5;28mdict\u001B[39m(\n\u001B[1;32m     95\u001B[0m         yanchor\u001B[38;5;241m=\u001B[39m\u001B[38;5;124m\"\u001B[39m\u001B[38;5;124mtop\u001B[39m\u001B[38;5;124m\"\u001B[39m,\n\u001B[1;32m     96\u001B[0m         y\u001B[38;5;241m=\u001B[39m\u001B[38;5;241m0.99\u001B[39m,\n\u001B[1;32m     97\u001B[0m         xanchor\u001B[38;5;241m=\u001B[39m\u001B[38;5;124m\"\u001B[39m\u001B[38;5;124mleft\u001B[39m\u001B[38;5;124m\"\u001B[39m,\n\u001B[1;32m     98\u001B[0m         x\u001B[38;5;241m=\u001B[39m\u001B[38;5;241m0.01\u001B[39m\n\u001B[1;32m     99\u001B[0m     ))\n\u001B[1;32m    100\u001B[0m     fig\u001B[38;5;241m.\u001B[39mwrite_image(\u001B[38;5;124m\"\u001B[39m\u001B[38;5;124manim/fig_\u001B[39m\u001B[38;5;132;01m{}\u001B[39;00m\u001B[38;5;124m_\u001B[39m\u001B[38;5;132;01m{}\u001B[39;00m\u001B[38;5;124m_\u001B[39m\u001B[38;5;132;01m{}\u001B[39;00m\u001B[38;5;124m.png\u001B[39m\u001B[38;5;124m\"\u001B[39m\u001B[38;5;241m.\u001B[39mformat(year, month, by))\n\u001B[0;32m--> 102\u001B[0m \u001B[43mcreate_animation\u001B[49m\u001B[43m(\u001B[49m\u001B[43mdata\u001B[49m\u001B[38;5;241;43m.\u001B[39;49m\u001B[43mbird\u001B[49m\u001B[43m,\u001B[49m\u001B[43m \u001B[49m\u001B[43mremove_noise\u001B[49m\u001B[38;5;241;43m=\u001B[39;49m\u001B[38;5;28;43;01mFalse\u001B[39;49;00m\u001B[43m)\u001B[49m\n",
      "Input \u001B[0;32mIn [2]\u001B[0m, in \u001B[0;36mcreate_animation\u001B[0;34m(bird, remove_noise, by_season)\u001B[0m\n\u001B[1;32m     61\u001B[0m     \u001B[38;5;66;03m# rips = ripser(X)\u001B[39;00m\n\u001B[1;32m     62\u001B[0m     \u001B[38;5;66;03m# plot_diagrams(rips['dgms'], show=True)\u001B[39;00m\n\u001B[1;32m     63\u001B[0m display(\u001B[38;5;124m'\u001B[39m\u001B[38;5;124mstarting pers comp\u001B[39m\u001B[38;5;124m'\u001B[39m)\n\u001B[0;32m---> 64\u001B[0m fig \u001B[38;5;241m=\u001B[39m \u001B[43mplot_diagram\u001B[49m\u001B[43m(\u001B[49m\u001B[43mpersistence\u001B[49m\u001B[38;5;241;43m.\u001B[39;49m\u001B[43mfit_transform\u001B[49m\u001B[43m(\u001B[49m\u001B[43mX\u001B[49m\u001B[43m)\u001B[49m\u001B[43m)\u001B[49m\n\u001B[1;32m     65\u001B[0m display(\u001B[38;5;124m'\u001B[39m\u001B[38;5;124mpers comp finished\u001B[39m\u001B[38;5;124m'\u001B[39m)\n\u001B[1;32m     66\u001B[0m fig\u001B[38;5;241m.\u001B[39mwrite_image(\u001B[38;5;124m'\u001B[39m\u001B[38;5;124manim/rips_\u001B[39m\u001B[38;5;132;01m{}\u001B[39;00m\u001B[38;5;124m_\u001B[39m\u001B[38;5;132;01m{}\u001B[39;00m\u001B[38;5;124m'\u001B[39m\u001B[38;5;241m.\u001B[39mformat(year))\n",
      "File \u001B[0;32m~/PycharmProjects/flockr/plotting.py:198\u001B[0m, in \u001B[0;36mplot_diagram\u001B[0;34m(diagram, homology_dimensions)\u001B[0m\n\u001B[1;32m    196\u001B[0m \u001B[38;5;28;01mfor\u001B[39;00m i, dimension \u001B[38;5;129;01min\u001B[39;00m \u001B[38;5;28menumerate\u001B[39m(homology_dimensions):\n\u001B[1;32m    197\u001B[0m     name \u001B[38;5;241m=\u001B[39m \u001B[38;5;124mf\u001B[39m\u001B[38;5;124m\"\u001B[39m\u001B[38;5;124mH\u001B[39m\u001B[38;5;132;01m{\u001B[39;00m\u001B[38;5;28mint\u001B[39m(dimension)\u001B[38;5;132;01m}\u001B[39;00m\u001B[38;5;124m\"\u001B[39m\n\u001B[0;32m--> 198\u001B[0m     subdiagram \u001B[38;5;241m=\u001B[39m \u001B[43m_subdiagrams\u001B[49m\u001B[43m(\u001B[49m\u001B[43mnp\u001B[49m\u001B[38;5;241;43m.\u001B[39;49m\u001B[43masarray\u001B[49m\u001B[43m(\u001B[49m\u001B[43m[\u001B[49m\u001B[43mdiagram\u001B[49m\u001B[43m]\u001B[49m\u001B[43m)\u001B[49m\u001B[43m,\u001B[49m\u001B[43m \u001B[49m\u001B[43m[\u001B[49m\u001B[43mdimension\u001B[49m\u001B[43m]\u001B[49m\u001B[43m,\u001B[49m\u001B[43m \u001B[49m\u001B[43mremove_dim\u001B[49m\u001B[38;5;241;43m=\u001B[39;49m\u001B[38;5;28;43;01mTrue\u001B[39;49;00m\u001B[43m)\u001B[49m[\n\u001B[1;32m    199\u001B[0m         \u001B[38;5;241m0\u001B[39m\n\u001B[1;32m    200\u001B[0m     ]\n\u001B[1;32m    201\u001B[0m     diff \u001B[38;5;241m=\u001B[39m subdiagram[:, \u001B[38;5;241m1\u001B[39m] \u001B[38;5;241m!=\u001B[39m subdiagram[:, \u001B[38;5;241m0\u001B[39m]\n\u001B[1;32m    202\u001B[0m     subdiagram \u001B[38;5;241m=\u001B[39m subdiagram[diff]\n",
      "File \u001B[0;32m~/PycharmProjects/flockr/venv2/lib/python3.9/site-packages/gtda/diagrams/_utils.py:42\u001B[0m, in \u001B[0;36m_subdiagrams\u001B[0;34m(X, homology_dimensions, remove_dim)\u001B[0m\n\u001B[1;32m     39\u001B[0m             \u001B[38;5;28;01mraise\u001B[39;00m e\n\u001B[1;32m     41\u001B[0m \u001B[38;5;28;01mif\u001B[39;00m \u001B[38;5;28mlen\u001B[39m(homology_dimensions) \u001B[38;5;241m==\u001B[39m \u001B[38;5;241m1\u001B[39m:\n\u001B[0;32m---> 42\u001B[0m     Xs \u001B[38;5;241m=\u001B[39m \u001B[43m_subdiagrams_single_homology_dimension\u001B[49m\u001B[43m(\u001B[49m\u001B[43mhomology_dimensions\u001B[49m\u001B[43m[\u001B[49m\u001B[38;5;241;43m0\u001B[39;49m\u001B[43m]\u001B[49m\u001B[43m)\u001B[49m\n\u001B[1;32m     43\u001B[0m \u001B[38;5;28;01melse\u001B[39;00m:\n\u001B[1;32m     44\u001B[0m     \u001B[38;5;66;03m# np.concatenate will also create a copy\u001B[39;00m\n\u001B[1;32m     45\u001B[0m     Xs \u001B[38;5;241m=\u001B[39m np\u001B[38;5;241m.\u001B[39mconcatenate(\n\u001B[1;32m     46\u001B[0m         [_subdiagrams_single_homology_dimension(dim)\n\u001B[1;32m     47\u001B[0m          \u001B[38;5;28;01mfor\u001B[39;00m dim \u001B[38;5;129;01min\u001B[39;00m homology_dimensions],\n\u001B[1;32m     48\u001B[0m         axis\u001B[38;5;241m=\u001B[39m\u001B[38;5;241m1\u001B[39m\n\u001B[1;32m     49\u001B[0m         )\n",
      "File \u001B[0;32m~/PycharmProjects/flockr/venv2/lib/python3.9/site-packages/gtda/diagrams/_utils.py:25\u001B[0m, in \u001B[0;36m_subdiagrams.<locals>._subdiagrams_single_homology_dimension\u001B[0;34m(homology_dimension)\u001B[0m\n\u001B[1;32m     22\u001B[0m n_features_in_dim \u001B[38;5;241m=\u001B[39m np\u001B[38;5;241m.\u001B[39msum(X_0[:, \u001B[38;5;241m2\u001B[39m] \u001B[38;5;241m==\u001B[39m homology_dimension)\n\u001B[1;32m     23\u001B[0m \u001B[38;5;28;01mtry\u001B[39;00m:\n\u001B[1;32m     24\u001B[0m     \u001B[38;5;66;03m# In this case, reshape ensures copy\u001B[39;00m\n\u001B[0;32m---> 25\u001B[0m     Xs \u001B[38;5;241m=\u001B[39m \u001B[43mX\u001B[49m\u001B[43m[\u001B[49m\u001B[43mX\u001B[49m\u001B[43m[\u001B[49m\u001B[43m:\u001B[49m\u001B[43m,\u001B[49m\u001B[43m \u001B[49m\u001B[43m:\u001B[49m\u001B[43m,\u001B[49m\u001B[43m \u001B[49m\u001B[38;5;241;43m2\u001B[39;49m\u001B[43m]\u001B[49m\u001B[43m \u001B[49m\u001B[38;5;241;43m==\u001B[39;49m\u001B[43m \u001B[49m\u001B[43mhomology_dimension\u001B[49m\u001B[43m]\u001B[49m\u001B[38;5;241m.\u001B[39m\\\n\u001B[1;32m     26\u001B[0m         reshape(n_samples, n_features_in_dim, \u001B[38;5;241m3\u001B[39m)\n\u001B[1;32m     27\u001B[0m     \u001B[38;5;28;01mreturn\u001B[39;00m Xs\n\u001B[1;32m     28\u001B[0m \u001B[38;5;28;01mexcept\u001B[39;00m \u001B[38;5;167;01mValueError\u001B[39;00m \u001B[38;5;28;01mas\u001B[39;00m e:\n",
      "\u001B[0;31mIndexError\u001B[0m: boolean index did not match indexed array along dimension 2; dimension is 2096 but corresponding boolean dimension is 3"
     ]
    }
   ],
   "source": [
    "seasonDict = {\n",
    "    1: 'Winter',\n",
    "    2: 'Spring',\n",
    "    3: 'Summer',\n",
    "    4: 'Fall'\n",
    "}\n",
    "\n",
    "# from ripser import ripser\n",
    "# from persim import plot_diagrams\n",
    "from gtda.homology import VietorisRipsPersistence\n",
    "from plotting import plot_diagram\n",
    "homology_dimensions = [0]\n",
    "\n",
    "persistence = VietorisRipsPersistence(\n",
    "    metric=\"euclidean\", homology_dimensions=homology_dimensions, n_jobs=1\n",
    ")\n",
    "\n",
    "pd.options.mode.chained_assignment = None  # default='warn'\n",
    "def create_animation(bird, remove_noise=True, by_season=True):\n",
    "    center = dict(lat=bird.lat.median(), lon=bird.lon.median())\n",
    "    bird['season'] = bird.index.month % 12 // 3 + 1\n",
    "\n",
    "    for year in [1970, 1980, 1990, 2000, 2010]:\n",
    "        decade = bird[((bird.index.year >= year) & (bird.index.year < year + 10))]\n",
    "        label = str(year)[2:] + 's '\n",
    "        decade.insert(2, 'decade', label, True)\n",
    "        dfs = []\n",
    "        if by_season:\n",
    "            decade = decade[((decade.season == 1) | (decade.season == 3))]\n",
    "            if remove_noise:\n",
    "                # coords = decade[['lat', 'lon']]\n",
    "                # tree = KDTree(coords, leaf_size=3)\n",
    "                # decade.loc[:, 'kd'] = tree.query_radius(coords, r=0.3, count_only=True)\n",
    "\n",
    "                for i, df in decade.groupby(by=[decade.season]):\n",
    "                    positions = np.vstack([df.lat.values, df.lon.values])\n",
    "\n",
    "                    kernel = stats.gaussian_kde(positions)\n",
    "                    dens = kernel(positions)\n",
    "                    max_val = dens.max()\n",
    "                    display(max_val)\n",
    "                    dens = [True if i > max_val - max_val*.3 else False for i in dens]\n",
    "                    df = df[dens]\n",
    "                    df.decade = df.decade + seasonDict[i]\n",
    "                    df.season = seasonDict[i]\n",
    "                    dfs.append(df)\n",
    "                    render_densmap(pd.concat(dfs), center, year, i, by='season')\n",
    "            else:\n",
    "                X = []\n",
    "                for i, df in decade.groupby(by=[decade.season]):\n",
    "                    # display(df)\n",
    "                    df.decade = df.decade + seasonDict[i]\n",
    "                    df.season = seasonDict[i]\n",
    "                    dfs.append(df)\n",
    "                    render_densmap(pd.concat(dfs), center, year, i, by='season')\n",
    "                    df['t'] = df.index - df.index.min()\n",
    "                    df.t = df.t.astype(int)*1.15741e-14\n",
    "                    # X = np.vstack([df.lat.values, df.lon.values, df.t.values])\n",
    "                    # display(X)\n",
    "                    X.append(df[['lat', 'lon', 't']].values)\n",
    "                    # rips = ripser(X)\n",
    "                    # plot_diagrams(rips['dgms'], show=True)\n",
    "                display('starting pers comp')\n",
    "                fig = plot_diagram(persistence.fit_transform(X))\n",
    "                display('pers comp finished')\n",
    "                fig.write_image('anim/rips_{}_{}'.format(year))\n",
    "\n",
    "        else:\n",
    "            for month in range(1, 13):\n",
    "                df = decade[decade.index.month == month]\n",
    "                df.decade = df.decade + monthDict[month]\n",
    "                df['month'] = monthDict[month]\n",
    "                dfs.append(df)\n",
    "\n",
    "                render_densmap(pd.concat(dfs).sort_values(by='month'), center, year, month)\n",
    "        display('{} completed'.format(label))\n",
    "    step = 'season' if by_season else 'month'\n",
    "    noise = 'denoised' if remove_noise else ''\n",
    "    subprocess.run([\"convert\", \"-delay\", \"100\", \"anim/*{}.png\".format(step), \"anim/out_{}_{}.gif\".format(step, noise)])\n",
    "    subprocess.run([\"convert\", \"-delay\", \"100\", \"anim/rips*\", \"anim/rips.gif\"])\n",
    "\n",
    "\n",
    "def render_densmap(bird, center, year, month, by='month'):\n",
    "    fig = px.scatter_mapbox(\n",
    "        bird,\n",
    "        lat='lat', lon='lon',\n",
    "        center=center,\n",
    "        zoom=1,\n",
    "        color=by,\n",
    "        mapbox_style=\"stamen-terrain\",\n",
    "        hover_name='decade',\n",
    "        title=str(year)[2:] + 's '\n",
    "    )\n",
    "    fig.update_layout(legend=dict(\n",
    "        yanchor=\"top\",\n",
    "        y=0.99,\n",
    "        xanchor=\"left\",\n",
    "        x=0.01\n",
    "    ))\n",
    "    fig.write_image(\"anim/fig_{}_{}_{}.png\".format(year, month, by))\n",
    "\n",
    "create_animation(data.bird, remove_noise=False)"
   ],
   "metadata": {
    "collapsed": false,
    "pycharm": {
     "name": "#%%\n"
    }
   }
  },
  {
   "cell_type": "code",
   "execution_count": null,
   "outputs": [],
   "source": [
    "import ripser"
   ],
   "metadata": {
    "collapsed": false,
    "pycharm": {
     "name": "#%%\n"
    }
   }
  }
 ],
 "metadata": {
  "kernelspec": {
   "display_name": "Python 3",
   "language": "python",
   "name": "python3"
  },
  "language_info": {
   "codemirror_mode": {
    "name": "ipython",
    "version": 2
   },
   "file_extension": ".py",
   "mimetype": "text/x-python",
   "name": "python",
   "nbconvert_exporter": "python",
   "pygments_lexer": "ipython2",
   "version": "2.7.6"
  }
 },
 "nbformat": 4,
 "nbformat_minor": 0
}